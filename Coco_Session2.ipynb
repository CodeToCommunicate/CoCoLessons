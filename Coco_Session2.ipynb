{
 "cells": [
  {
   "cell_type": "markdown",
   "metadata": {},
   "source": [
    "# Second Session\n",
    "    \n",
    "In this notebook, we are going to learn type of variables, list, math operations, loops and conditional statements.\n",
    "\n",
    "----\n",
    "\n",
    "En este cuaderno, aprenderemos el tipo de variables, lista, operaciones matemáticas, bucles y declaraciones condicionales.\n",
    "    \n"
   ]
  },
  {
   "cell_type": "markdown",
   "metadata": {},
   "source": [
    "## Variables and data type / Variables y tipos de datos \n",
    "\n",
    "A _variable_ allows us to store a value.\n",
    "In Python, we can assign a value to a variable, using the equals sign `=`\n",
    "\n",
    "----\n",
    "\n",
    "Una _variable_ nos permite almacenar un valor en un lugar determinado. \n",
    "En Python usamos el simbolo `=` para asignar un valor a una variable.\n"
   ]
  },
  {
   "cell_type": "code",
   "execution_count": 7,
   "metadata": {},
   "outputs": [],
   "source": [
    "alumni = 15\n",
    "course_name = \"CoCo\""
   ]
  },
  {
   "cell_type": "markdown",
   "metadata": {},
   "source": [
    "The keyword `print()` is a function in Python.\n",
    "We can use it to see the value store in the variable.\n",
    "\n",
    "----\n",
    "\n",
    "`print()` es una funcion en Python, que podemos usarla para examinar el valor asisnado a una variable."
   ]
  },
  {
   "cell_type": "code",
   "execution_count": 8,
   "metadata": {},
   "outputs": [
    {
     "name": "stdout",
     "output_type": "stream",
     "text": [
      "15\n"
     ]
    }
   ],
   "source": [
    "print(alumni)"
   ]
  },
  {
   "cell_type": "code",
   "execution_count": 10,
   "metadata": {},
   "outputs": [
    {
     "name": "stdout",
     "output_type": "stream",
     "text": [
      "CoCo course has 15 alumni\n"
     ]
    }
   ],
   "source": [
    "print(course_name, \"course has\", alumni, \"alumni\")"
   ]
  },
  {
   "cell_type": "markdown",
   "metadata": {},
   "source": [
    "## Data Types / Tipos de datos\n",
    "\n",
    "There are several different data types that we will be exploring in the course. \n",
    "The data types we will be exploring are:\n",
    "* integer\n",
    "* string\n",
    "* float\n",
    "\n",
    "---\n",
    "\n",
    "Hay diferentes tipos de datos que vamos a ver en el curso, los cuales son:\n",
    "* integers (int): números enteros\n",
    "* strings (str): cadena de caracteres\n",
    "* floats (float): valores de punto flotante (representación aproximada de números reales).\n"
   ]
  },
  {
   "cell_type": "code",
   "execution_count": 11,
   "metadata": {},
   "outputs": [
    {
     "data": {
      "text/plain": [
       "int"
      ]
     },
     "execution_count": 11,
     "metadata": {},
     "output_type": "execute_result"
    }
   ],
   "source": [
    "type(alumni)"
   ]
  },
  {
   "cell_type": "code",
   "execution_count": 13,
   "metadata": {},
   "outputs": [
    {
     "data": {
      "text/plain": [
       "str"
      ]
     },
     "execution_count": 13,
     "metadata": {},
     "output_type": "execute_result"
    }
   ],
   "source": [
    "type(course_name)"
   ]
  },
  {
   "cell_type": "code",
   "execution_count": 14,
   "metadata": {},
   "outputs": [
    {
     "name": "stdout",
     "output_type": "stream",
     "text": [
      "7.5 is <class 'float'>\n"
     ]
    }
   ],
   "source": [
    "half_alumni = alumni / 2\n",
    "\n",
    "print(half_alumni, \"is\", type(half_alumni))"
   ]
  },
  {
   "cell_type": "markdown",
   "metadata": {},
   "source": [
    "If you want to concatenate two or more strings together, there are several ways to achieve this in Python. \n",
    "The simplest method is to use `+`\n",
    "\n",
    "---\n",
    "\n",
    "Si desea concatenar dos o más cadenas juntas hay varias formas de hacelo.\n",
    "La mas comun es usar `+`."
   ]
  },
  {
   "cell_type": "code",
   "execution_count": 25,
   "metadata": {},
   "outputs": [
    {
     "name": "stdout",
     "output_type": "stream",
     "text": [
      "hola mundo\n"
     ]
    }
   ],
   "source": [
    "saludo = \"hola\" + \" \" + \"mundo\"\n",
    "\n",
    "print(saludo)"
   ]
  },
  {
   "cell_type": "markdown",
   "metadata": {},
   "source": [
    "### Formative assessment\n",
    "\n",
    "What would be the difference between an integer and float data type?\n",
    "How would we convert a float into an integer?\n",
    "(Give a best guess answer)\n",
    "\n",
    "---\n",
    "\n",
    "¿Cuál sería la diferencia entre un tipo de datos entero y flotante?\n",
    "¿Cómo convertiríamos un flotante en un número entero?\n",
    "(Dar una mejor respuesta posible)"
   ]
  },
  {
   "cell_type": "code",
   "execution_count": 22,
   "metadata": {},
   "outputs": [
    {
     "name": "stdout",
     "output_type": "stream",
     "text": [
      "7.5 is <class 'float'> but 7 is <class 'int'>\n"
     ]
    }
   ],
   "source": [
    "# Solutiopn / solucion\n",
    "\n",
    "Int_alumni = int(half_alumni)\n",
    "\n",
    "print(half_alumni, \"is\", type(half_alumni), \"but\", Int_alumni, \"is\", type(Int_alumni))"
   ]
  },
  {
   "cell_type": "markdown",
   "metadata": {},
   "source": [
    "### Formative assessment\n",
    "\n",
    "What will be the output of the next cell?\n",
    "\n",
    "---\n",
    "\n",
    "¿Cual será el output de la siguiente celda?\n",
    "\n",
    "```\n",
    "channel = 100.0\n",
    "```\n",
    "\n",
    "1. int\n",
    "\n",
    "2. float\n",
    "\n",
    "3. str"
   ]
  },
  {
   "cell_type": "code",
   "execution_count": 21,
   "metadata": {},
   "outputs": [
    {
     "data": {
      "text/plain": [
       "float"
      ]
     },
     "execution_count": 21,
     "metadata": {},
     "output_type": "execute_result"
    }
   ],
   "source": [
    "# Solution / solucion\n",
    "\n",
    "channel = 100.0\n",
    "type(channel)"
   ]
  },
  {
   "cell_type": "markdown",
   "metadata": {},
   "source": [
    "## Mathematical operations / Operaciones matemáticas\n",
    "\n",
    "All of the standard calculator arithmetic operations are available between variables.\n",
    "\n",
    "We measure a certain geophysical variable at a height of 53.2 meters above sea level: \n",
    "\n",
    "---\n",
    "\n",
    "Podemos aplicar diferentes operaciones matemáticas a las variables.\n",
    "\n",
    "Medimos una determinada variable geofísica a una altura de 53.2 metros sobre el nivel del mar:"
   ]
  },
  {
   "cell_type": "code",
   "execution_count": 23,
   "metadata": {},
   "outputs": [],
   "source": [
    "sea_heigt = 53.2"
   ]
  },
  {
   "cell_type": "markdown",
   "metadata": {},
   "source": [
    "**Addition / Suma**"
   ]
  },
  {
   "cell_type": "code",
   "execution_count": 19,
   "metadata": {},
   "outputs": [
    {
     "data": {
      "text/plain": [
       "63.800000000000004"
      ]
     },
     "execution_count": 19,
     "metadata": {},
     "output_type": "execute_result"
    }
   ],
   "source": [
    "sea_heigt + 10.6"
   ]
  },
  {
   "cell_type": "code",
   "execution_count": 24,
   "metadata": {},
   "outputs": [
    {
     "data": {
      "text/plain": [
       "49.7"
      ]
     },
     "execution_count": 24,
     "metadata": {},
     "output_type": "execute_result"
    }
   ],
   "source": [
    "sea_heigt - 3.5"
   ]
  },
  {
   "cell_type": "markdown",
   "metadata": {},
   "source": [
    "**Multiplication / Multiplicación**"
   ]
  },
  {
   "cell_type": "code",
   "execution_count": 20,
   "metadata": {},
   "outputs": [
    {
     "data": {
      "text/plain": [
       "106.4"
      ]
     },
     "execution_count": 20,
     "metadata": {},
     "output_type": "execute_result"
    }
   ],
   "source": [
    "sea_heigt * 2"
   ]
  },
  {
   "cell_type": "markdown",
   "metadata": {},
   "source": [
    "**Division / División**"
   ]
  },
  {
   "cell_type": "code",
   "execution_count": 21,
   "metadata": {},
   "outputs": [
    {
     "data": {
      "text/plain": [
       "26.6"
      ]
     },
     "execution_count": 21,
     "metadata": {},
     "output_type": "execute_result"
    }
   ],
   "source": [
    "sea_heigt / 2"
   ]
  },
  {
   "cell_type": "code",
   "execution_count": 22,
   "metadata": {},
   "outputs": [
    {
     "data": {
      "text/plain": [
       "26.0"
      ]
     },
     "execution_count": 22,
     "metadata": {},
     "output_type": "execute_result"
    }
   ],
   "source": [
    "sea_heigt // 2"
   ]
  },
  {
   "cell_type": "markdown",
   "metadata": {},
   "source": [
    "**Power / Potencia**"
   ]
  },
  {
   "cell_type": "code",
   "execution_count": 28,
   "metadata": {},
   "outputs": [
    {
     "data": {
      "text/plain": [
       "2830.2400000000002"
      ]
     },
     "execution_count": 28,
     "metadata": {},
     "output_type": "execute_result"
    }
   ],
   "source": [
    "sea_heigt ** 2"
   ]
  },
  {
   "cell_type": "markdown",
   "metadata": {},
   "source": [
    "### Homework / Tarea\n",
    "\n",
    "A colleague from the United States shared with us the following temperature measurement, given in Fahrenheit:\n",
    "$$ T = 30.3 ^ \\ circ \\ text {F} $$\n",
    "\n",
    "Convert this value to degrees Celsius, knowing that:\n",
    "$$ [^ \\ circ \\ text {C}] = \\ frac {5} {9} ([^ \\ circ \\ text {F}] - 32) $$\n",
    "\n",
    "Requirements:\n",
    "\n",
    "* Assign the received data to a variable.\n",
    "* Apply the unit transformation using this variable.\n",
    "* Save the data in Celsius in another variable.\n",
    "* Use the print function to display both results.\n",
    "\n",
    "---\n",
    "\n",
    "Un colega de Estados Unidos nos ha compartido la siguiente medición de temperatura de suelo dada en Fahrenheit:\n",
    "$$ T = 30.3 ^\\circ\\text{F} $$\n",
    "\n",
    "Conviertan este valor a grados Celsius, sabiendo que:\n",
    "$$ [^\\circ\\text{C}] = \\frac{5}{9} ([^\\circ\\text{F}] - 32) $$\n",
    "\n",
    "Requerimientos:\n",
    "\n",
    "* Asignar el dato recibido a una variable.\n",
    "* Aplicar la transformación de unidades usando esta variable.\n",
    "* Guardar el dato en Celsius en otra variable.\n",
    "* Utilizar la función print para mostrar ambos resultados.\n",
    "\n"
   ]
  },
  {
   "cell_type": "code",
   "execution_count": null,
   "metadata": {},
   "outputs": [],
   "source": [
    "# Solucion\n",
    "temperatura_f = 30.3\n",
    "temperatura_c = 5 / 9 * (temperatura_f - 32)\n",
    "\n",
    "print(temperatura_c)"
   ]
  },
  {
   "cell_type": "markdown",
   "metadata": {},
   "source": [
    "## List / Listas"
   ]
  },
  {
   "cell_type": "markdown",
   "metadata": {},
   "source": [
    "Python lists are used to store a collection of data.\n",
    "\n",
    "---\n",
    "\n",
    "Las listas nos permiten guardar múltiples valores bajo una misma variable.   "
   ]
  },
  {
   "cell_type": "code",
   "execution_count": 26,
   "metadata": {},
   "outputs": [
    {
     "data": {
      "text/plain": [
       "list"
      ]
     },
     "execution_count": 26,
     "metadata": {},
     "output_type": "execute_result"
    }
   ],
   "source": [
    "impares = [1, 3, 5, 7, 9]\n",
    "\n",
    "type(impares)"
   ]
  },
  {
   "cell_type": "markdown",
   "metadata": {},
   "source": [
    "It can store heterogeneous data or you can even have list of lists\n",
    "\n",
    "---\n",
    "\n",
    "Pueden tener cualquier tipo de elementos hasta listas."
   ]
  },
  {
   "cell_type": "code",
   "execution_count": 27,
   "metadata": {},
   "outputs": [
    {
     "name": "stdout",
     "output_type": "stream",
     "text": [
      "['agua', 20.1, 52] [[1, 2, 3], 3.0, 'hielo']\n"
     ]
    }
   ],
   "source": [
    "list_heterogeneous = [\"agua\", 20.1, 52]\n",
    "\n",
    "anidadas = [[1, 2, 3], 3.0, \"hielo\"]\n",
    "\n",
    "print(list_heterogeneous, anidadas)"
   ]
  },
  {
   "cell_type": "markdown",
   "metadata": {},
   "source": [
    "We can access to the values housed in a list through its indexes.\n",
    "\n",
    "---\n",
    "\n",
    "Podemos acceder a los valores alojados dentro de una lista a través de sus índices."
   ]
  },
  {
   "cell_type": "code",
   "execution_count": 29,
   "metadata": {},
   "outputs": [],
   "source": [
    "temperaturas = [10.1, 14.6, 18.3, 20.3]"
   ]
  },
  {
   "cell_type": "code",
   "execution_count": 30,
   "metadata": {},
   "outputs": [
    {
     "name": "stdout",
     "output_type": "stream",
     "text": [
      "Primer valor de temperatura: 10.1\n",
      "Segundo valor de temperatura: 14.6\n",
      "Último valor de temperatura: 20.3\n",
      "Penúltimo valor de temperatura: 18.3\n"
     ]
    }
   ],
   "source": [
    "print(\"Primer valor de temperatura:\", temperaturas[0])\n",
    "print(\"Segundo valor de temperatura:\", temperaturas[1])\n",
    "print(\"Último valor de temperatura:\", temperaturas[-1])\n",
    "print(\"Penúltimo valor de temperatura:\", temperaturas[-2])"
   ]
  },
  {
   "cell_type": "markdown",
   "metadata": {},
   "source": [
    "**Observations:**\n",
    "\n",
    "* In Python, the 0 index indicates the first element.\n",
    "* Negative indices indicate that we start counting from the last item in the list.\n",
    "* Lists have a method called `append` that allows us to add values.\n",
    "* The lists do not have a fixed length, we can change it as we need.\n",
    "\n",
    "\n",
    "The indexes also allow us to modify the values of the list.\n",
    "\n",
    "---\n",
    "\n",
    "**Observaciones**\n",
    "\n",
    "* En Python, el índice 0 indica el primer elemento.\n",
    "* Índices negativos indican que empezamos a contar desde el último elemento de la lista.\n",
    "* Las listas poseen un método llamado `append` que nos permite agregar valores.\n",
    "* Las listas no tienen una longitud fija, podemos cambiarla según lo necesitemos.\n",
    "\n",
    "\n",
    "Los índices además nos permiten modificar los valores de la lista."
   ]
  },
  {
   "cell_type": "code",
   "execution_count": 31,
   "metadata": {},
   "outputs": [
    {
     "name": "stdout",
     "output_type": "stream",
     "text": [
      "[-2.3, 14.6, 18.3, 20.3]\n"
     ]
    }
   ],
   "source": [
    "temperaturas[0] = -2.3\n",
    "\n",
    "print(temperaturas)"
   ]
  },
  {
   "cell_type": "code",
   "execution_count": 32,
   "metadata": {},
   "outputs": [
    {
     "name": "stdout",
     "output_type": "stream",
     "text": [
      "[-2.3, 14.6, 18.3, 20.3, 23.5]\n"
     ]
    }
   ],
   "source": [
    "temperaturas.append(23.5)\n",
    "\n",
    "print(temperaturas)"
   ]
  },
  {
   "cell_type": "code",
   "execution_count": 33,
   "metadata": {},
   "outputs": [
    {
     "data": {
      "text/plain": [
       "5"
      ]
     },
     "execution_count": 33,
     "metadata": {},
     "output_type": "execute_result"
    }
   ],
   "source": [
    "len(temperaturas)"
   ]
  },
  {
   "cell_type": "markdown",
   "metadata": {},
   "source": [
    "In case we want to extract a slice of the list instead of a single element, it is possible.\n",
    "\n",
    "If we want to obtain all the elements from the second to the fourth, inclusive:\n",
    "\n",
    "---\n",
    "\n",
    "En caso de que querramos extraer una porción de la lista en vez de un sólo elemento, es posible utilizar slices.\n",
    "\n",
    "Si queremos obtener todos los elementos desde el segundo hasta el cuarto, inclusive:"
   ]
  },
  {
   "cell_type": "code",
   "execution_count": 34,
   "metadata": {},
   "outputs": [
    {
     "data": {
      "text/plain": [
       "[14.6, 18.3, 20.3]"
      ]
     },
     "execution_count": 34,
     "metadata": {},
     "output_type": "execute_result"
    }
   ],
   "source": [
    "temperaturas[1:4]"
   ]
  },
  {
   "cell_type": "markdown",
   "metadata": {},
   "source": [
    "If we want to choose the first three elements:\n",
    "\n",
    "---\n",
    "\n",
    "Si queremos elegir los primeros tres elementos:"
   ]
  },
  {
   "cell_type": "code",
   "execution_count": 35,
   "metadata": {},
   "outputs": [
    {
     "data": {
      "text/plain": [
       "[-2.3, 14.6, 18.3]"
      ]
     },
     "execution_count": 35,
     "metadata": {},
     "output_type": "execute_result"
    }
   ],
   "source": [
    "temperaturas[:3]"
   ]
  },
  {
   "cell_type": "markdown",
   "metadata": {},
   "source": [
    "Similarly, if we want to get all the elements after the third element:\n",
    "\n",
    "---\n",
    "\n",
    "De manera similar, si queremos obtener todos los elementos después del tercero:"
   ]
  },
  {
   "cell_type": "code",
   "execution_count": null,
   "metadata": {},
   "outputs": [],
   "source": [
    "temperaturas[3:]"
   ]
  },
  {
   "cell_type": "markdown",
   "metadata": {},
   "source": [
    "How can we use a slice to access all its elements except the last one?\n",
    "\n",
    "---\n",
    "\n",
    "¿Cómo podemos usar un slice para acceder a todos sus elementos menos el último?"
   ]
  },
  {
   "cell_type": "code",
   "execution_count": null,
   "metadata": {},
   "outputs": [],
   "source": [
    "lista[-1]"
   ]
  },
  {
   "cell_type": "markdown",
   "metadata": {},
   "source": [
    "Can you create an empty list? / ¿Se puede crear una lista vacía?"
   ]
  },
  {
   "cell_type": "code",
   "execution_count": 38,
   "metadata": {},
   "outputs": [
    {
     "data": {
      "text/plain": [
       "[]"
      ]
     },
     "execution_count": 38,
     "metadata": {},
     "output_type": "execute_result"
    }
   ],
   "source": [
    "list = []\n",
    "\n",
    "list"
   ]
  },
  {
   "cell_type": "markdown",
   "metadata": {},
   "source": [
    "### Formative assessment\n",
    "\n",
    "What happens if we try to access item 10 of the list `[-3.0, -2.0, -1.0]`?\n",
    "\n",
    "1. Error\n",
    "\n",
    "2. -1.0\n",
    "\n",
    "3. Nothing happens\n",
    "\n",
    "---\n",
    "\n",
    "¿Qué sucede si intentamos acceder al elemento 10 de la lista `[-3.0, -2.0, -1.0]`?\n",
    "\n",
    "1. Error\n",
    "\n",
    "2. -1.0\n",
    "\n",
    "3. No pasa nada"
   ]
  },
  {
   "cell_type": "code",
   "execution_count": null,
   "metadata": {},
   "outputs": [],
   "source": [
    "# Solution / Solución\n",
    "\n",
    "lista = [-3.0, -2.0, -1.0]\n",
    "\n",
    "lista[10]"
   ]
  },
  {
   "cell_type": "markdown",
   "metadata": {
    "id": "myhpLKE9n1Cn",
    "tags": []
   },
   "source": [
    "## For loops\n",
    "\n",
    "A _for loop_ is meant to repeat specific lines of code.\n",
    "This is helpful when having to execute a block of code on a list (as an example).\n",
    "The structure of a for loop is as follows:\n",
    "\n",
    "* a loop starts with a `for` statement, followed by a counter.  \n",
    "* code within the loop is used to execute on each value within a series.\n",
    "* In Python, indensation is not decoration, they are functional.\n",
    "\n",
    "---\n",
    "\n",
    "Un _for loop_ for está destinado a repetir líneas de código específicas. Esto es útil cuando se tiene que ejecutar un bloque de código en una lista (como ejemplo).\n",
    "La estructura de un bucl es:\n",
    "\n",
    "* un bucle comienza con una declaración `for`, seguida de un contador.\n",
    "* el código dentro del bucle se utiliza para ejecutar en cada valor dentro de una serie.\n",
    "* En Python, la indenstacion no es decoracion, son funcionales."
   ]
  },
  {
   "cell_type": "code",
   "execution_count": 26,
   "metadata": {
    "id": "tkirPBffn1Co"
   },
   "outputs": [
    {
     "name": "stdout",
     "output_type": "stream",
     "text": [
      "2\n",
      "3\n",
      "4\n",
      "5\n",
      "6\n",
      "7\n"
     ]
    }
   ],
   "source": [
    "a = [1, 2, 3, 4, 5, 6]   # List which we will use to execute for loop\n",
    "\n",
    "for i in a:   #initialize for loop with counter\n",
    "    variable = i + 1   # code to be executed on the list\n",
    "    print(variable)   # printing results"
   ]
  },
  {
   "cell_type": "code",
   "execution_count": 32,
   "metadata": {},
   "outputs": [
    {
     "name": "stdout",
     "output_type": "stream",
     "text": [
      "55\n"
     ]
    }
   ],
   "source": [
    "# Let's add all the numbers from 1 to 10. \n",
    "# Sumemos todos los números del 1 al 10.\n",
    "\n",
    "suma = 0\n",
    "for i in range(10):\n",
    "    # We add a 1 to i to add from 1 to 10 and not from 0 to 9 \n",
    "    # Le añadimos un 1 a i para sumar de 1 a 10 y no de 0 a 9\n",
    "    suma = suma + (i + 1)\n",
    "\n",
    "print(suma)\n"
   ]
  },
  {
   "cell_type": "markdown",
   "metadata": {
    "id": "z48fXr7Un1Cq"
   },
   "source": [
    "## First Practice Exercise / Primer ejercicio de práctica\n",
    "\n",
    "Create a for loop for the following list that multiplies each value in list, by 2. Print the results.\n",
    "\n",
    "---\n",
    "\n",
    "Cree un ciclo for para la siguiente lista que multiplique cada valor de la lista por 2. Imprima los resultados. \n",
    "\n",
    "```\n",
    "array = [2, 4, 6, 8, 10]\n",
    "```"
   ]
  },
  {
   "cell_type": "code",
   "execution_count": 36,
   "metadata": {
    "id": "Znoxd2Hhn1Cr"
   },
   "outputs": [
    {
     "name": "stdout",
     "output_type": "stream",
     "text": [
      "4\n",
      "8\n",
      "12\n",
      "16\n",
      "20\n"
     ]
    }
   ],
   "source": [
    "# Solution / Solución\n",
    "\n",
    "array = [2 ,4 ,6 ,8 ,10]\n",
    "\n",
    "for i in array:\n",
    "    new_array = i*2\n",
    "    print(new_array)"
   ]
  },
  {
   "cell_type": "markdown",
   "metadata": {},
   "source": [
    "### Homework / Tarea\n",
    "\n",
    "Convert the following list of temperatures in Fahrenheit to Celsius with a for loop.\n",
    "\n",
    "temperatures_F = [30.3, 20.1, 46.5, 34.1, 42.3]\n",
    "\n",
    "\n",
    "_Help:_\n",
    "\n",
    "It may be useful to create an empty list where we store the temperature data in Celsius and add values to it with the append method.\n",
    "\n",
    "---\n",
    "\n",
    "Convierta la siguiente lista de temperaturas en Fahrenheit a grados Centígrados unado un for loop.\n",
    "\n",
    "temperaturas_F = [30.3, 20.1, 46.5, 34.1, 42.3]\n",
    "\n",
    "\n",
    "_Ayuda:_\n",
    "\n",
    "Quizás sea útil crear una lista vacía donde guardemos los datos de temperatura en Celsius e ir agregándole valores con el método append"
   ]
  },
  {
   "cell_type": "code",
   "execution_count": null,
   "metadata": {},
   "outputs": [],
   "source": [
    "# Solution / Solución\n",
    "\n",
    "temperaturas_F = [30.3, 20.1, 46.5, 34.1, 42.3]\n",
    "\n",
    "temperaturas_c = [5 / 9 * (temp_f - 32) for temp_f in temperaturas_F]"
   ]
  },
  {
   "cell_type": "markdown",
   "metadata": {
    "id": "deJfJcx3n1Cs"
   },
   "source": [
    "## Conditional Statements / Condicionales\n",
    "\n",
    "A conditional statement is used to handle decisions within your code.\n",
    "The purpose is to execute a piece of code so long as the condition is met. In this lecture, we will be exploring how to use the _if/else_ statement. \n",
    "\n",
    "---\n",
    "\n",
    "Una declaración condicional se usa para manejar decisiones dentro del código.\n",
    "El propósito es ejecutar un fragmento de código siempre que se cumpla la condición.\n",
    "En esta lección, exploraremos cómo usar la declaración _if/else_."
   ]
  },
  {
   "cell_type": "code",
   "execution_count": 27,
   "metadata": {
    "id": "RKbl9waJn1Ct"
   },
   "outputs": [
    {
     "name": "stdout",
     "output_type": "stream",
     "text": [
      "b is greater than a\n"
     ]
    }
   ],
   "source": [
    "a = 33\n",
    "b = 100\n",
    "\n",
    "if b > a:\n",
    "  print(\"b is greater than a\")  # b es mas grande que a\n",
    "elif a == b:\n",
    "  print(\"a and b are equal\")  # a es igual a b"
   ]
  },
  {
   "cell_type": "code",
   "execution_count": 33,
   "metadata": {},
   "outputs": [
    {
     "data": {
      "text/plain": [
       "bool"
      ]
     },
     "execution_count": 33,
     "metadata": {},
     "output_type": "execute_result"
    }
   ],
   "source": [
    "temperatura_c = -5\n",
    "\n",
    "hiela = (temperatura_c <= 0)\n",
    "\n",
    "type(hiela)"
   ]
  },
  {
   "cell_type": "markdown",
   "metadata": {},
   "source": [
    "Bools are binary variables, so, they can only store two values: True (true) or False (false).\n",
    "\n",
    "_Important:_ They are not str.\n",
    "\n",
    "---\n",
    "\n",
    "Los bools o buleanos son variables binarias, es decir, solo pueden almacenar dos valores: True (verdadero) o False (falso).\n",
    "\n",
    "_Importante:_ Un bool no es un str."
   ]
  },
  {
   "cell_type": "markdown",
   "metadata": {
    "id": "3mPpFp4Xn1Ct"
   },
   "source": [
    "### Formative assessment\n",
    "\n",
    "Build an if/else statement that prints if a variable is a float or an integer.\n",
    "\n",
    "---\n",
    "\n",
    "Cree una declaración if/else que imprima si una variable es un número flotante o un número entero.\n",
    "\n",
    "`a = 101.7`"
   ]
  },
  {
   "cell_type": "code",
   "execution_count": null,
   "metadata": {
    "id": "q6wQHJO3n1Cu"
   },
   "outputs": [],
   "source": [
    "# Solution / Solución\n",
    "\n",
    "a = 101.7\n",
    "\n",
    "if type(a) == float:\n",
    "    print('This value is a float')\n",
    "else:\n",
    "    print('This value is a string')"
   ]
  },
  {
   "cell_type": "markdown",
   "metadata": {
    "id": "YOgKNWV3n1Cu"
   },
   "source": [
    "## Homework / Tarea\n",
    "\n",
    "Using the list below (`list_values`), create a for loop that multiplies each value in the list by 2 _if_ the value is greater than 2.\n",
    "Print the values.\n",
    "\n",
    "---\n",
    "\n",
    "Usando la lista a continuación (`list_values`), cree un ciclo for que multiplique cada valor en la lista por 2 _si_ el valor es mayor que 2.\n",
    "Imprima los valores.\n",
    "\n",
    "```\n",
    "list_values = [1 ,2 ,3 ,4, 5, 6, 7]\n",
    "```"
   ]
  },
  {
   "cell_type": "code",
   "execution_count": 39,
   "metadata": {
    "id": "xrp-2_E5n1Cv"
   },
   "outputs": [
    {
     "name": "stdout",
     "output_type": "stream",
     "text": [
      "6\n",
      "8\n",
      "10\n",
      "12\n",
      "14\n"
     ]
    }
   ],
   "source": [
    "# Solution / Solución\n",
    "\n",
    "list_values = [1, 2, 3, 4, 5, 6, 7]\n",
    "\n",
    "for i in list_values:\n",
    "    if i > 2:\n",
    "        new_values = i*2\n",
    "        print(new_values)"
   ]
  },
  {
   "cell_type": "code",
   "execution_count": null,
   "metadata": {},
   "outputs": [],
   "source": []
  }
 ],
 "metadata": {
  "colab": {
   "name": "Coco_Session2.ipynb",
   "provenance": []
  },
  "kernelspec": {
   "display_name": "Python 3",
   "language": "python",
   "name": "python3"
  },
  "language_info": {
   "codemirror_mode": {
    "name": "ipython",
    "version": 3
   },
   "file_extension": ".py",
   "mimetype": "text/x-python",
   "name": "python",
   "nbconvert_exporter": "python",
   "pygments_lexer": "ipython3",
   "version": "3.8.8"
  }
 },
 "nbformat": 4,
 "nbformat_minor": 4
}
