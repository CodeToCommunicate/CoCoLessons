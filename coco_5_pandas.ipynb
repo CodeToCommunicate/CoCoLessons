{
 "cells": [
  {
   "cell_type": "markdown",
   "metadata": {},
   "source": [
    "# Pandas\n",
    "\n",
    "\n",
    "[_Pandas_](https://pandas.pydata.org/) is a Python package that provides fast, flexible, and expressive data structures designed to make working with \"relational\" or \"labeled\" data both easy and intuitive.  \n",
    "\n",
    "We will learn about:\n",
    "* How to create and store a dataframe.\n",
    "* How to open a file.\n",
    "* Some way to clean a DataFrame.\n",
    "* plots\n",
    "\n",
    "---\n",
    "\n",
    "[_Pandas_](https://pandas.pydata.org/)  es un paquete de Python que proporciona estructuras de datos rápidas, flexibles y expresivas diseñadas para que el trabajo con datos \"relacionales\" o \"etiquetados\" sea fácil e intuitivo.\n",
    "\n",
    "Vamos a aprender sobre:\n",
    "* Cómo crear y almacenar un marco de datos.\n",
    "* Cómo abrir un archivo.\n",
    "* Alguna forma de limpiar un DataFrame.\n",
    "* Gráficas."
   ]
  },
  {
   "cell_type": "markdown",
   "metadata": {},
   "source": [
    "## Import Pandas / Importar Pandas"
   ]
  },
  {
   "cell_type": "code",
   "execution_count": 1,
   "metadata": {},
   "outputs": [],
   "source": [
    "import pandas as pd"
   ]
  },
  {
   "cell_type": "markdown",
   "metadata": {},
   "source": [
    "We also import other packages that we're going use in this notebook / Tambien importamos otros paquete que usaremos en este notebook"
   ]
  },
  {
   "cell_type": "code",
   "execution_count": 2,
   "metadata": {},
   "outputs": [],
   "source": [
    "from pathlib import Path\n",
    "import matplotlib.pyplot as plt"
   ]
  },
  {
   "cell_type": "markdown",
   "metadata": {},
   "source": [
    "## How to create data? / Como crear datos?\n",
    "\n",
    "### DataFrame\n",
    "\n",
    "A DataFrame is a two-dimensional data structure, that is, the data is tabularly aligned in rows and columns. \n",
    "One way to create a DataFrame is through a dictionary.\n",
    " \n",
    "---\n",
    "\n",
    "Un DataFrame es una estructura de datos bidimensional, es decir, los datos se alinean de forma tabular en filas y columnas.\n",
    "Una forma de crear un DataFrame es a través de un diccionario."
   ]
  },
  {
   "cell_type": "code",
   "execution_count": 3,
   "metadata": {},
   "outputs": [
    {
     "name": "stdout",
     "output_type": "stream",
     "text": [
      "     Rocío       Clara   Agustina\n",
      "0  Peruana  Venezolana  Argentina\n",
      "1      USA          UK     Canada\n",
      "2       40          25         36\n"
     ]
    }
   ],
   "source": [
    "dictionary_data = {\n",
    "    \"Rocío\": [\"Peruana\", \"USA\", 40],\n",
    "    \"Clara\": [\"Venezolana\", \"UK\", 25],\n",
    "    \"Agustina\": [\"Argentina\", \"Canada\", 36]\n",
    "}    \n",
    "\n",
    "data_frame = pd.DataFrame(dictionary_data)\n",
    "\n",
    "print(data_frame)"
   ]
  },
  {
   "cell_type": "markdown",
   "metadata": {},
   "source": [
    "As we can see, the indices go in ascending order starting from 0, but this can be changed using `index` when building the dataframe.\n",
    "\n",
    "---\n",
    "\n",
    "Como vemos, los indices van en orden ascendente a partir de 0, pero esto se puede cambiar usando `index` al construir el dataframe."
   ]
  },
  {
   "cell_type": "code",
   "execution_count": 4,
   "metadata": {},
   "outputs": [
    {
     "data": {
      "text/html": [
       "<div>\n",
       "<style scoped>\n",
       "    .dataframe tbody tr th:only-of-type {\n",
       "        vertical-align: middle;\n",
       "    }\n",
       "\n",
       "    .dataframe tbody tr th {\n",
       "        vertical-align: top;\n",
       "    }\n",
       "\n",
       "    .dataframe thead th {\n",
       "        text-align: right;\n",
       "    }\n",
       "</style>\n",
       "<table border=\"1\" class=\"dataframe\">\n",
       "  <thead>\n",
       "    <tr style=\"text-align: right;\">\n",
       "      <th></th>\n",
       "      <th>Rocío</th>\n",
       "      <th>Clara</th>\n",
       "      <th>Agustina</th>\n",
       "    </tr>\n",
       "  </thead>\n",
       "  <tbody>\n",
       "    <tr>\n",
       "      <th>Paìs de origen</th>\n",
       "      <td>Peruana</td>\n",
       "      <td>Venezolana</td>\n",
       "      <td>Argentina</td>\n",
       "    </tr>\n",
       "    <tr>\n",
       "      <th>Lugar de residencia</th>\n",
       "      <td>USA</td>\n",
       "      <td>UK</td>\n",
       "      <td>Canada</td>\n",
       "    </tr>\n",
       "    <tr>\n",
       "      <th>Edad</th>\n",
       "      <td>40</td>\n",
       "      <td>25</td>\n",
       "      <td>36</td>\n",
       "    </tr>\n",
       "  </tbody>\n",
       "</table>\n",
       "</div>"
      ],
      "text/plain": [
       "                       Rocío       Clara   Agustina\n",
       "Paìs de origen       Peruana  Venezolana  Argentina\n",
       "Lugar de residencia      USA          UK     Canada\n",
       "Edad                      40          25         36"
      ]
     },
     "execution_count": 4,
     "metadata": {},
     "output_type": "execute_result"
    }
   ],
   "source": [
    "data_frame = pd.DataFrame(\n",
    "    dictionary_data, \n",
    "    index=[\"Paìs de origen\", \"Lugar de residencia\", \"Edad\"]\n",
    ")\n",
    "\n",
    "data_frame"
   ]
  },
  {
   "cell_type": "markdown",
   "metadata": {},
   "source": [
    "To save the DataFrame with `csv` / Para guardar un DadaFrame como `csv`"
   ]
  },
  {
   "cell_type": "code",
   "execution_count": 5,
   "metadata": {},
   "outputs": [],
   "source": [
    "data_frame.to_csv(\"miembros.csv\")"
   ]
  },
  {
   "cell_type": "markdown",
   "metadata": {},
   "source": [
    "See de Pandas documentation to find other methos to save a DataFrame.\n",
    "\n",
    "---\n",
    "\n",
    "Investigue la documentación de Pandas para encontrar otros metodos para guardar un DataFrame."
   ]
  },
  {
   "cell_type": "markdown",
   "metadata": {},
   "source": [
    "### Series\n",
    "\n",
    "If the DataFrame is a table, a `Series` is a \"column\" and can be created from a list.\n",
    "\n",
    "----\n",
    "\n",
    "Si el DataFrame es una tabla, una `Serie` es una \"columna\" y se puede crear a partir de una lista."
   ]
  },
  {
   "cell_type": "code",
   "execution_count": 6,
   "metadata": {},
   "outputs": [
    {
     "data": {
      "text/plain": [
       "0      0\n",
       "1     40\n",
       "2    400\n",
       "dtype: int64"
      ]
     },
     "execution_count": 6,
     "metadata": {},
     "output_type": "execute_result"
    }
   ],
   "source": [
    "col = pd.Series([0, 40, 400])\n",
    "\n",
    "col"
   ]
  },
  {
   "cell_type": "markdown",
   "metadata": {},
   "source": [
    "A `Series` is essentially a simple column of a DataFrame, so indexes can be assigned, however the Series does not have a column name but it has a general name` Name`\n",
    "\n",
    "---\n",
    "\n",
    "Una `Serie` es en esencia una columna simple de un DataFrame, así que se pueden asignar índices, sin embargo la Serie no tiene un nombre de columna sino un nombre general `Name`"
   ]
  },
  {
   "cell_type": "code",
   "execution_count": 7,
   "metadata": {},
   "outputs": [
    {
     "data": {
      "text/plain": [
       "2015       0\n",
       "2016      40\n",
       "2021     400\n",
       "Name: Numero de miembros, dtype: int64"
      ]
     },
     "execution_count": 7,
     "metadata": {},
     "output_type": "execute_result"
    }
   ],
   "source": [
    "col = pd.Series(\n",
    "    [0, 40, 400], \n",
    "    index=['2015 ', '2016', '2021'], \n",
    "    name='Numero de miembros'\n",
    ")\n",
    "\n",
    "col"
   ]
  },
  {
   "cell_type": "markdown",
   "metadata": {},
   "source": [
    "## Open a File / Abrir un archivo\n",
    "\n",
    "We are going to work with data that we have in a _.csv_ file \"comma-separated values\"\n",
    "\n",
    "---\n",
    "\n",
    "Vamos ahora a trabajar con datos que tenemos en un archivo _.csv_ \"comma-separated values\""
   ]
  },
  {
   "cell_type": "code",
   "execution_count": 8,
   "metadata": {},
   "outputs": [],
   "source": [
    "# Path to the file / Ruta al archivo\n",
    "data_folder = Path(\".\") / \"data\"\n",
    "\n",
    "# Open the file / Abrimos el archivo\n",
    "data = pd.read_csv(data_folder / \"RPC_4_lithologies_Messy.csv\")"
   ]
  },
  {
   "cell_type": "markdown",
   "metadata": {},
   "source": [
    "To have a look at the first 5 rows of DataFrame, we can use the `head` method. / Para echar un vistazo a las primeras 5 filas de DataFrame, podemos usar el método `head`."
   ]
  },
  {
   "cell_type": "code",
   "execution_count": 9,
   "metadata": {},
   "outputs": [
    {
     "data": {
      "text/html": [
       "<div>\n",
       "<style scoped>\n",
       "    .dataframe tbody tr th:only-of-type {\n",
       "        vertical-align: middle;\n",
       "    }\n",
       "\n",
       "    .dataframe tbody tr th {\n",
       "        vertical-align: top;\n",
       "    }\n",
       "\n",
       "    .dataframe thead th {\n",
       "        text-align: right;\n",
       "    }\n",
       "</style>\n",
       "<table border=\"1\" class=\"dataframe\">\n",
       "  <thead>\n",
       "    <tr style=\"text-align: right;\">\n",
       "      <th></th>\n",
       "      <th>Index</th>\n",
       "      <th>RPC</th>\n",
       "      <th>Source</th>\n",
       "      <th>Description</th>\n",
       "      <th>Lithology</th>\n",
       "      <th>Vs [km/s]</th>\n",
       "      <th>VpVs ratio</th>\n",
       "      <th>Rho [kg/m³]</th>\n",
       "    </tr>\n",
       "  </thead>\n",
       "  <tbody>\n",
       "    <tr>\n",
       "      <th>0</th>\n",
       "      <td>63</td>\n",
       "      <td>104818</td>\n",
       "      <td>RPC</td>\n",
       "      <td>KIAMICHI FORMA. 4</td>\n",
       "      <td>sandstone</td>\n",
       "      <td>1.5957</td>\n",
       "      <td>1.9086</td>\n",
       "      <td>2109.1206</td>\n",
       "    </tr>\n",
       "    <tr>\n",
       "      <th>1</th>\n",
       "      <td>64</td>\n",
       "      <td>104893</td>\n",
       "      <td>RPC</td>\n",
       "      <td>KIAMICHI REMOLD 3</td>\n",
       "      <td>sandstone</td>\n",
       "      <td>1.5171</td>\n",
       "      <td>1.9779</td>\n",
       "      <td>2090.0000</td>\n",
       "    </tr>\n",
       "    <tr>\n",
       "      <th>2</th>\n",
       "      <td>65</td>\n",
       "      <td>104652</td>\n",
       "      <td>RPC</td>\n",
       "      <td>NAVAJO ARCO 2</td>\n",
       "      <td>SANDST.</td>\n",
       "      <td>2.0415</td>\n",
       "      <td>1.6476</td>\n",
       "      <td>2131.9900</td>\n",
       "    </tr>\n",
       "    <tr>\n",
       "      <th>3</th>\n",
       "      <td>66</td>\n",
       "      <td>104752</td>\n",
       "      <td>RPC</td>\n",
       "      <td>NAVAJO ARCO REMOL 1</td>\n",
       "      <td>SANDST.</td>\n",
       "      <td>1.6062</td>\n",
       "      <td>1.9894</td>\n",
       "      <td>2184.9392</td>\n",
       "    </tr>\n",
       "    <tr>\n",
       "      <th>4</th>\n",
       "      <td>67</td>\n",
       "      <td>104598</td>\n",
       "      <td>RPC</td>\n",
       "      <td>FERRON 82-3 1677.5</td>\n",
       "      <td>sandstone</td>\n",
       "      <td>2.4486</td>\n",
       "      <td>1.7306</td>\n",
       "      <td>2472.2308</td>\n",
       "    </tr>\n",
       "  </tbody>\n",
       "</table>\n",
       "</div>"
      ],
      "text/plain": [
       "   Index     RPC Source          Description  Lithology  Vs [km/s]  \\\n",
       "0     63  104818    RPC    KIAMICHI FORMA. 4  sandstone     1.5957   \n",
       "1     64  104893    RPC    KIAMICHI REMOLD 3  sandstone     1.5171   \n",
       "2     65  104652    RPC        NAVAJO ARCO 2    SANDST.     2.0415   \n",
       "3     66  104752    RPC  NAVAJO ARCO REMOL 1    SANDST.     1.6062   \n",
       "4     67  104598    RPC   FERRON 82-3 1677.5  sandstone     2.4486   \n",
       "\n",
       "   VpVs ratio  Rho [kg/m³]  \n",
       "0      1.9086    2109.1206  \n",
       "1      1.9779    2090.0000  \n",
       "2      1.6476    2131.9900  \n",
       "3      1.9894    2184.9392  \n",
       "4      1.7306    2472.2308  "
      ]
     },
     "execution_count": 9,
     "metadata": {},
     "output_type": "execute_result"
    }
   ],
   "source": [
    "data.head()"
   ]
  },
  {
   "cell_type": "markdown",
   "metadata": {},
   "source": [
    "We use the `shape` attribute to know how big the DataFrame is. / Usamos el atributo `shape` para saber que tan grande es el DataFrame:"
   ]
  },
  {
   "cell_type": "code",
   "execution_count": 10,
   "metadata": {},
   "outputs": [
    {
     "data": {
      "text/plain": [
       "(808, 8)"
      ]
     },
     "execution_count": 10,
     "metadata": {},
     "output_type": "execute_result"
    }
   ],
   "source": [
    "data.shape"
   ]
  },
  {
   "cell_type": "markdown",
   "metadata": {},
   "source": [
    "`DataFrame.describe()` gets the summary statistics of only the columns that have numerical data.\n",
    "All other columns are ignored, unless you use the argument `include=\"all\"`.\n",
    "\n",
    "---\n",
    "\n",
    "`DataFrame.describe()` obtiene las estadísticas solo de las columnas que tienen datos numéricos.\n",
    "Todas las demás columnas se ignoran, a menos que use el argumento `include=\"all\"`."
   ]
  },
  {
   "cell_type": "code",
   "execution_count": 11,
   "metadata": {},
   "outputs": [
    {
     "data": {
      "text/html": [
       "<div>\n",
       "<style scoped>\n",
       "    .dataframe tbody tr th:only-of-type {\n",
       "        vertical-align: middle;\n",
       "    }\n",
       "\n",
       "    .dataframe tbody tr th {\n",
       "        vertical-align: top;\n",
       "    }\n",
       "\n",
       "    .dataframe thead th {\n",
       "        text-align: right;\n",
       "    }\n",
       "</style>\n",
       "<table border=\"1\" class=\"dataframe\">\n",
       "  <thead>\n",
       "    <tr style=\"text-align: right;\">\n",
       "      <th></th>\n",
       "      <th>Index</th>\n",
       "      <th>RPC</th>\n",
       "      <th>Vs [km/s]</th>\n",
       "      <th>VpVs ratio</th>\n",
       "      <th>Rho [kg/m³]</th>\n",
       "    </tr>\n",
       "  </thead>\n",
       "  <tbody>\n",
       "    <tr>\n",
       "      <th>count</th>\n",
       "      <td>808.000000</td>\n",
       "      <td>808.000000</td>\n",
       "      <td>808.000000</td>\n",
       "      <td>808.000000</td>\n",
       "      <td>760.000000</td>\n",
       "    </tr>\n",
       "    <tr>\n",
       "      <th>mean</th>\n",
       "      <td>463.107673</td>\n",
       "      <td>102277.626238</td>\n",
       "      <td>2.116353</td>\n",
       "      <td>1.887390</td>\n",
       "      <td>2319.261095</td>\n",
       "    </tr>\n",
       "    <tr>\n",
       "      <th>std</th>\n",
       "      <td>231.252250</td>\n",
       "      <td>1537.484250</td>\n",
       "      <td>0.747915</td>\n",
       "      <td>0.377769</td>\n",
       "      <td>255.732807</td>\n",
       "    </tr>\n",
       "    <tr>\n",
       "      <th>min</th>\n",
       "      <td>63.000000</td>\n",
       "      <td>100031.000000</td>\n",
       "      <td>0.441300</td>\n",
       "      <td>1.337600</td>\n",
       "      <td>1721.753500</td>\n",
       "    </tr>\n",
       "    <tr>\n",
       "      <th>25%</th>\n",
       "      <td>262.750000</td>\n",
       "      <td>101112.750000</td>\n",
       "      <td>1.527225</td>\n",
       "      <td>1.666075</td>\n",
       "      <td>2115.586925</td>\n",
       "    </tr>\n",
       "    <tr>\n",
       "      <th>50%</th>\n",
       "      <td>462.500000</td>\n",
       "      <td>102083.500000</td>\n",
       "      <td>2.202600</td>\n",
       "      <td>1.779850</td>\n",
       "      <td>2382.300000</td>\n",
       "    </tr>\n",
       "    <tr>\n",
       "      <th>75%</th>\n",
       "      <td>664.250000</td>\n",
       "      <td>103284.750000</td>\n",
       "      <td>2.733000</td>\n",
       "      <td>1.943675</td>\n",
       "      <td>2529.143800</td>\n",
       "    </tr>\n",
       "    <tr>\n",
       "      <th>max</th>\n",
       "      <td>862.000000</td>\n",
       "      <td>105090.000000</td>\n",
       "      <td>3.665000</td>\n",
       "      <td>4.707800</td>\n",
       "      <td>2823.287700</td>\n",
       "    </tr>\n",
       "  </tbody>\n",
       "</table>\n",
       "</div>"
      ],
      "text/plain": [
       "            Index            RPC   Vs [km/s]  VpVs ratio  Rho [kg/m³]\n",
       "count  808.000000     808.000000  808.000000  808.000000   760.000000\n",
       "mean   463.107673  102277.626238    2.116353    1.887390  2319.261095\n",
       "std    231.252250    1537.484250    0.747915    0.377769   255.732807\n",
       "min     63.000000  100031.000000    0.441300    1.337600  1721.753500\n",
       "25%    262.750000  101112.750000    1.527225    1.666075  2115.586925\n",
       "50%    462.500000  102083.500000    2.202600    1.779850  2382.300000\n",
       "75%    664.250000  103284.750000    2.733000    1.943675  2529.143800\n",
       "max    862.000000  105090.000000    3.665000    4.707800  2823.287700"
      ]
     },
     "execution_count": 11,
     "metadata": {},
     "output_type": "execute_result"
    }
   ],
   "source": [
    "data.describe()"
   ]
  },
  {
   "cell_type": "markdown",
   "metadata": {},
   "source": [
    "## Acceso a las columnas\n",
    "\n",
    "If we want to access the _Description_ property of the DataFrame, this notation can be used: / Si quiero acceder a la propiedad _Description_ del DataFrame se puede usar esta notación:"
   ]
  },
  {
   "cell_type": "code",
   "execution_count": 12,
   "metadata": {},
   "outputs": [
    {
     "data": {
      "text/plain": [
       "0        KIAMICHI FORMA. 4\n",
       "1        KIAMICHI REMOLD 3\n",
       "2            NAVAJO ARCO 2\n",
       "3      NAVAJO ARCO REMOL 1\n",
       "4       FERRON 82-3 1677.5\n",
       "              ...         \n",
       "803    R.PRICE 10909.5 #31\n",
       "804    R.PRICE 10916.5 #38\n",
       "805     R.PRICE 10883.5 #7\n",
       "806    R.PRICE 10913.5 #35\n",
       "807     R.PRICE 10883.5 #7\n",
       "Name: Description, Length: 808, dtype: object"
      ]
     },
     "execution_count": 12,
     "metadata": {},
     "output_type": "execute_result"
    }
   ],
   "source": [
    "data.Description"
   ]
  },
  {
   "cell_type": "code",
   "execution_count": 13,
   "metadata": {},
   "outputs": [
    {
     "data": {
      "text/plain": [
       "0        KIAMICHI FORMA. 4\n",
       "1        KIAMICHI REMOLD 3\n",
       "2            NAVAJO ARCO 2\n",
       "3      NAVAJO ARCO REMOL 1\n",
       "4       FERRON 82-3 1677.5\n",
       "              ...         \n",
       "803    R.PRICE 10909.5 #31\n",
       "804    R.PRICE 10916.5 #38\n",
       "805     R.PRICE 10883.5 #7\n",
       "806    R.PRICE 10913.5 #35\n",
       "807     R.PRICE 10883.5 #7\n",
       "Name: Description, Length: 808, dtype: object"
      ]
     },
     "execution_count": 13,
     "metadata": {},
     "output_type": "execute_result"
    }
   ],
   "source": [
    "data[\"Description\"]"
   ]
  },
  {
   "cell_type": "markdown",
   "metadata": {},
   "source": [
    "Both ways to select series from a DataFrame are valid.\n",
    "However the operator `[]` allows more flexibility in the name of the columns, being able to use reserved characters.\n",
    "For example: If we want to access to the column called `Vs [km/s]`, `data.Vs [km/s]` notation doesn't work.\n",
    "\n",
    "---\n",
    "\n",
    "Ambas son dos formas de seleccionar series de un DataFrame, ambas válidas, sin embargo el operador `[]` permite más flexibilidad en el nombre de las columnas, pudiendo usar caracteres reservados.\n",
    "Por ejemplo: si quisieramos ver le contenido de la columna llamada `Vs [km/s]`, la notación `data.Vs [km/s]` no funciona."
   ]
  },
  {
   "cell_type": "code",
   "execution_count": 14,
   "metadata": {},
   "outputs": [
    {
     "data": {
      "text/plain": [
       "0      1.5957\n",
       "1      1.5171\n",
       "2      2.0415\n",
       "3      1.6062\n",
       "4      2.4486\n",
       "        ...  \n",
       "803    2.7592\n",
       "804    3.1168\n",
       "805    2.9987\n",
       "806    2.9331\n",
       "807    2.8970\n",
       "Name: Vs [km/s], Length: 808, dtype: float64"
      ]
     },
     "execution_count": 14,
     "metadata": {},
     "output_type": "execute_result"
    }
   ],
   "source": [
    "data[\"Vs [km/s]\"]"
   ]
  },
  {
   "cell_type": "markdown",
   "metadata": {},
   "source": [
    "## Selecting values / Seleccionando valores\n",
    "\n",
    "To access a value at the position `[i, j]` of a DataFrame, we have two options, using the index or the label.\n",
    "Remember that a DataFrame provides an index as a way to identify the rows of the table; a row, then, has a position inside the table as well as a label, which uniquely identifies its entry in the DataFrame.\n",
    "\n",
    "---\n",
    "\n",
    "Para acceder a un valor en la posición `[i, j]` de un DataFrame, tenemos dos opciones,usando el indice o la etiqueta.\n",
    "Recuerde que un DataFrame proporciona un índice como una forma de identificar las filas de la tabla; una fila, entonces, tiene una posición dentro de la tabla, así como una etiqueta, que identifica de forma única su entrada en el DataFrame."
   ]
  },
  {
   "cell_type": "code",
   "execution_count": 15,
   "metadata": {},
   "outputs": [
    {
     "data": {
      "text/html": [
       "<div>\n",
       "<style scoped>\n",
       "    .dataframe tbody tr th:only-of-type {\n",
       "        vertical-align: middle;\n",
       "    }\n",
       "\n",
       "    .dataframe tbody tr th {\n",
       "        vertical-align: top;\n",
       "    }\n",
       "\n",
       "    .dataframe thead th {\n",
       "        text-align: right;\n",
       "    }\n",
       "</style>\n",
       "<table border=\"1\" class=\"dataframe\">\n",
       "  <thead>\n",
       "    <tr style=\"text-align: right;\">\n",
       "      <th></th>\n",
       "      <th>Index</th>\n",
       "      <th>RPC</th>\n",
       "      <th>Source</th>\n",
       "      <th>Description</th>\n",
       "      <th>Lithology</th>\n",
       "      <th>Vs [km/s]</th>\n",
       "      <th>VpVs ratio</th>\n",
       "      <th>Rho [kg/m³]</th>\n",
       "    </tr>\n",
       "  </thead>\n",
       "  <tbody>\n",
       "    <tr>\n",
       "      <th>0</th>\n",
       "      <td>63</td>\n",
       "      <td>104818</td>\n",
       "      <td>RPC</td>\n",
       "      <td>KIAMICHI FORMA. 4</td>\n",
       "      <td>sandstone</td>\n",
       "      <td>1.5957</td>\n",
       "      <td>1.9086</td>\n",
       "      <td>2109.1206</td>\n",
       "    </tr>\n",
       "    <tr>\n",
       "      <th>1</th>\n",
       "      <td>64</td>\n",
       "      <td>104893</td>\n",
       "      <td>RPC</td>\n",
       "      <td>KIAMICHI REMOLD 3</td>\n",
       "      <td>sandstone</td>\n",
       "      <td>1.5171</td>\n",
       "      <td>1.9779</td>\n",
       "      <td>2090.0000</td>\n",
       "    </tr>\n",
       "    <tr>\n",
       "      <th>2</th>\n",
       "      <td>65</td>\n",
       "      <td>104652</td>\n",
       "      <td>RPC</td>\n",
       "      <td>NAVAJO ARCO 2</td>\n",
       "      <td>SANDST.</td>\n",
       "      <td>2.0415</td>\n",
       "      <td>1.6476</td>\n",
       "      <td>2131.9900</td>\n",
       "    </tr>\n",
       "    <tr>\n",
       "      <th>3</th>\n",
       "      <td>66</td>\n",
       "      <td>104752</td>\n",
       "      <td>RPC</td>\n",
       "      <td>NAVAJO ARCO REMOL 1</td>\n",
       "      <td>SANDST.</td>\n",
       "      <td>1.6062</td>\n",
       "      <td>1.9894</td>\n",
       "      <td>2184.9392</td>\n",
       "    </tr>\n",
       "    <tr>\n",
       "      <th>4</th>\n",
       "      <td>67</td>\n",
       "      <td>104598</td>\n",
       "      <td>RPC</td>\n",
       "      <td>FERRON 82-3 1677.5</td>\n",
       "      <td>sandstone</td>\n",
       "      <td>2.4486</td>\n",
       "      <td>1.7306</td>\n",
       "      <td>2472.2308</td>\n",
       "    </tr>\n",
       "  </tbody>\n",
       "</table>\n",
       "</div>"
      ],
      "text/plain": [
       "   Index     RPC Source          Description  Lithology  Vs [km/s]  \\\n",
       "0     63  104818    RPC    KIAMICHI FORMA. 4  sandstone     1.5957   \n",
       "1     64  104893    RPC    KIAMICHI REMOLD 3  sandstone     1.5171   \n",
       "2     65  104652    RPC        NAVAJO ARCO 2    SANDST.     2.0415   \n",
       "3     66  104752    RPC  NAVAJO ARCO REMOL 1    SANDST.     1.6062   \n",
       "4     67  104598    RPC   FERRON 82-3 1677.5  sandstone     2.4486   \n",
       "\n",
       "   VpVs ratio  Rho [kg/m³]  \n",
       "0      1.9086    2109.1206  \n",
       "1      1.9779    2090.0000  \n",
       "2      1.6476    2131.9900  \n",
       "3      1.9894    2184.9392  \n",
       "4      1.7306    2472.2308  "
      ]
     },
     "execution_count": 15,
     "metadata": {},
     "output_type": "execute_result"
    }
   ],
   "source": [
    "data.head()"
   ]
  },
  {
   "cell_type": "markdown",
   "metadata": {},
   "source": [
    "### Using the position / Usando la posición\n",
    "\n",
    "Use `DataFrame.iloc[..., ...]` to select values by their position.\n",
    "\n",
    "---\n",
    "\n",
    "Utilice `DataFrame.iloc [..., ...]` para seleccionar valores por su posición."
   ]
  },
  {
   "cell_type": "code",
   "execution_count": 16,
   "metadata": {},
   "outputs": [
    {
     "data": {
      "text/plain": [
       "63"
      ]
     },
     "execution_count": 16,
     "metadata": {},
     "output_type": "execute_result"
    }
   ],
   "source": [
    "data.iloc[0, 0]"
   ]
  },
  {
   "cell_type": "code",
   "execution_count": 17,
   "metadata": {},
   "outputs": [
    {
     "data": {
      "text/plain": [
       "0       63\n",
       "1       64\n",
       "2       65\n",
       "3       66\n",
       "4       67\n",
       "      ... \n",
       "803    858\n",
       "804    859\n",
       "805    860\n",
       "806    861\n",
       "807    862\n",
       "Name: Index, Length: 808, dtype: int64"
      ]
     },
     "execution_count": 17,
     "metadata": {},
     "output_type": "execute_result"
    }
   ],
   "source": [
    "data.iloc[:, 0]"
   ]
  },
  {
   "cell_type": "markdown",
   "metadata": {},
   "source": [
    "We can use what we saw in the first notebook about indexes. / Podemos usar lo que vimos en el primer notebook sobre los índices."
   ]
  },
  {
   "cell_type": "markdown",
   "metadata": {},
   "source": [
    "### Using the label / Usando la etiqueta\n",
    "\n",
    "Use `DataFrame.loc[..., ...]` to select values by their label.\n",
    "\n",
    "---\n",
    "\n",
    "Use `DataFrame.loc[..., ...]` para seleccionar valores por su etiqueta."
   ]
  },
  {
   "cell_type": "code",
   "execution_count": 18,
   "metadata": {},
   "outputs": [
    {
     "data": {
      "text/plain": [
       "104585"
      ]
     },
     "execution_count": 18,
     "metadata": {},
     "output_type": "execute_result"
    }
   ],
   "source": [
    "data.loc[63, \"RPC\"]"
   ]
  },
  {
   "cell_type": "code",
   "execution_count": 19,
   "metadata": {},
   "outputs": [
    {
     "data": {
      "text/plain": [
       "63    104585\n",
       "64    104609\n",
       "65    104755\n",
       "66    104824\n",
       "67    104673\n",
       "Name: RPC, dtype: int64"
      ]
     },
     "execution_count": 19,
     "metadata": {},
     "output_type": "execute_result"
    }
   ],
   "source": [
    "data.loc[63:67, \"RPC\"]"
   ]
  },
  {
   "cell_type": "code",
   "execution_count": 20,
   "metadata": {},
   "outputs": [
    {
     "data": {
      "text/html": [
       "<div>\n",
       "<style scoped>\n",
       "    .dataframe tbody tr th:only-of-type {\n",
       "        vertical-align: middle;\n",
       "    }\n",
       "\n",
       "    .dataframe tbody tr th {\n",
       "        vertical-align: top;\n",
       "    }\n",
       "\n",
       "    .dataframe thead th {\n",
       "        text-align: right;\n",
       "    }\n",
       "</style>\n",
       "<table border=\"1\" class=\"dataframe\">\n",
       "  <thead>\n",
       "    <tr style=\"text-align: right;\">\n",
       "      <th></th>\n",
       "      <th>RPC</th>\n",
       "      <th>Source</th>\n",
       "      <th>Description</th>\n",
       "    </tr>\n",
       "  </thead>\n",
       "  <tbody>\n",
       "    <tr>\n",
       "      <th>63</th>\n",
       "      <td>104585</td>\n",
       "      <td>RPC</td>\n",
       "      <td>FERRON 82-3 1677.5</td>\n",
       "    </tr>\n",
       "    <tr>\n",
       "      <th>64</th>\n",
       "      <td>104609</td>\n",
       "      <td>RPC</td>\n",
       "      <td>FERRON 82-3 1677.5</td>\n",
       "    </tr>\n",
       "    <tr>\n",
       "      <th>65</th>\n",
       "      <td>104755</td>\n",
       "      <td>RPC</td>\n",
       "      <td>NAVAJO ARCO REMOL 1</td>\n",
       "    </tr>\n",
       "    <tr>\n",
       "      <th>66</th>\n",
       "      <td>104824</td>\n",
       "      <td>RPC</td>\n",
       "      <td>KIAMICHI FORMA. 4</td>\n",
       "    </tr>\n",
       "    <tr>\n",
       "      <th>67</th>\n",
       "      <td>104673</td>\n",
       "      <td>RPC</td>\n",
       "      <td>NAVAJO ARCO 2</td>\n",
       "    </tr>\n",
       "  </tbody>\n",
       "</table>\n",
       "</div>"
      ],
      "text/plain": [
       "       RPC Source          Description\n",
       "63  104585    RPC   FERRON 82-3 1677.5\n",
       "64  104609    RPC   FERRON 82-3 1677.5\n",
       "65  104755    RPC  NAVAJO ARCO REMOL 1\n",
       "66  104824    RPC    KIAMICHI FORMA. 4\n",
       "67  104673    RPC        NAVAJO ARCO 2"
      ]
     },
     "execution_count": 20,
     "metadata": {},
     "output_type": "execute_result"
    }
   ],
   "source": [
    "data.loc[63:67, [\"RPC\", \"Source\", \"Description\"]]"
   ]
  },
  {
   "cell_type": "markdown",
   "metadata": {},
   "source": [
    "### Conditional selection / Selección condicional\n",
    "\n",
    "We use the conditional syntax to find the data that satisfies a given condition.\n",
    "For example, we can check if there are densities greater than 2000 $kg/m^3$:\n",
    "\n",
    "---\n",
    "\n",
    "Usamos la sintaxis condicional para encontrar los datos que satisfacen una condición dada.\n",
    "Por ejemplo podemos chequear si hay densidades mayores a 2000 $kg/m^3$:"
   ]
  },
  {
   "cell_type": "code",
   "execution_count": 21,
   "metadata": {},
   "outputs": [
    {
     "data": {
      "text/plain": [
       "0      True\n",
       "1      True\n",
       "2      True\n",
       "3      True\n",
       "4      True\n",
       "       ... \n",
       "803    True\n",
       "804    True\n",
       "805    True\n",
       "806    True\n",
       "807    True\n",
       "Name: Rho [kg/m³], Length: 808, dtype: bool"
      ]
     },
     "execution_count": 21,
     "metadata": {},
     "output_type": "execute_result"
    }
   ],
   "source": [
    "data[\"Rho [kg/m³]\"] > 2000"
   ]
  },
  {
   "cell_type": "markdown",
   "metadata": {},
   "source": [
    "We want all the data where the lithology is sandstone. / Queremos todos los datos donde la litología es arenisca."
   ]
  },
  {
   "cell_type": "code",
   "execution_count": 22,
   "metadata": {},
   "outputs": [
    {
     "data": {
      "text/html": [
       "<div>\n",
       "<style scoped>\n",
       "    .dataframe tbody tr th:only-of-type {\n",
       "        vertical-align: middle;\n",
       "    }\n",
       "\n",
       "    .dataframe tbody tr th {\n",
       "        vertical-align: top;\n",
       "    }\n",
       "\n",
       "    .dataframe thead th {\n",
       "        text-align: right;\n",
       "    }\n",
       "</style>\n",
       "<table border=\"1\" class=\"dataframe\">\n",
       "  <thead>\n",
       "    <tr style=\"text-align: right;\">\n",
       "      <th></th>\n",
       "      <th>Index</th>\n",
       "      <th>RPC</th>\n",
       "      <th>Source</th>\n",
       "      <th>Description</th>\n",
       "      <th>Lithology</th>\n",
       "      <th>Vs [km/s]</th>\n",
       "      <th>VpVs ratio</th>\n",
       "      <th>Rho [kg/m³]</th>\n",
       "    </tr>\n",
       "  </thead>\n",
       "  <tbody>\n",
       "    <tr>\n",
       "      <th>0</th>\n",
       "      <td>63</td>\n",
       "      <td>104818</td>\n",
       "      <td>RPC</td>\n",
       "      <td>KIAMICHI FORMA. 4</td>\n",
       "      <td>sandstone</td>\n",
       "      <td>1.5957</td>\n",
       "      <td>1.9086</td>\n",
       "      <td>2109.1206</td>\n",
       "    </tr>\n",
       "    <tr>\n",
       "      <th>1</th>\n",
       "      <td>64</td>\n",
       "      <td>104893</td>\n",
       "      <td>RPC</td>\n",
       "      <td>KIAMICHI REMOLD 3</td>\n",
       "      <td>sandstone</td>\n",
       "      <td>1.5171</td>\n",
       "      <td>1.9779</td>\n",
       "      <td>2090.0000</td>\n",
       "    </tr>\n",
       "    <tr>\n",
       "      <th>4</th>\n",
       "      <td>67</td>\n",
       "      <td>104598</td>\n",
       "      <td>RPC</td>\n",
       "      <td>FERRON 82-3 1677.5</td>\n",
       "      <td>sandstone</td>\n",
       "      <td>2.4486</td>\n",
       "      <td>1.7306</td>\n",
       "      <td>2472.2308</td>\n",
       "    </tr>\n",
       "    <tr>\n",
       "      <th>5</th>\n",
       "      <td>68</td>\n",
       "      <td>104601</td>\n",
       "      <td>RPC</td>\n",
       "      <td>FERRON 82-3 1677.5</td>\n",
       "      <td>sandstone</td>\n",
       "      <td>2.4387</td>\n",
       "      <td>1.7711</td>\n",
       "      <td>2458.9597</td>\n",
       "    </tr>\n",
       "    <tr>\n",
       "      <th>6</th>\n",
       "      <td>69</td>\n",
       "      <td>104617</td>\n",
       "      <td>RPC</td>\n",
       "      <td>FERRON 82-3 1677.5</td>\n",
       "      <td>sandstone</td>\n",
       "      <td>2.7267</td>\n",
       "      <td>1.6624</td>\n",
       "      <td>2397.1364</td>\n",
       "    </tr>\n",
       "    <tr>\n",
       "      <th>...</th>\n",
       "      <td>...</td>\n",
       "      <td>...</td>\n",
       "      <td>...</td>\n",
       "      <td>...</td>\n",
       "      <td>...</td>\n",
       "      <td>...</td>\n",
       "      <td>...</td>\n",
       "      <td>...</td>\n",
       "    </tr>\n",
       "    <tr>\n",
       "      <th>191</th>\n",
       "      <td>252</td>\n",
       "      <td>104578</td>\n",
       "      <td>RPC</td>\n",
       "      <td>FERRON 82-3 1677.5</td>\n",
       "      <td>sandstone</td>\n",
       "      <td>2.4009</td>\n",
       "      <td>1.6154</td>\n",
       "      <td>2468.3633</td>\n",
       "    </tr>\n",
       "    <tr>\n",
       "      <th>192</th>\n",
       "      <td>253</td>\n",
       "      <td>104849</td>\n",
       "      <td>RPC</td>\n",
       "      <td>KIAMICHI REMOLD 2</td>\n",
       "      <td>sandstone</td>\n",
       "      <td>2.4060</td>\n",
       "      <td>1.6056</td>\n",
       "      <td>2109.8846</td>\n",
       "    </tr>\n",
       "    <tr>\n",
       "      <th>193</th>\n",
       "      <td>254</td>\n",
       "      <td>104589</td>\n",
       "      <td>RPC</td>\n",
       "      <td>FERRON 82-3 1677.5</td>\n",
       "      <td>sandstone</td>\n",
       "      <td>2.7450</td>\n",
       "      <td>1.5734</td>\n",
       "      <td>2425.2311</td>\n",
       "    </tr>\n",
       "    <tr>\n",
       "      <th>195</th>\n",
       "      <td>256</td>\n",
       "      <td>104640</td>\n",
       "      <td>RPC</td>\n",
       "      <td>FERRON 82-3 1677.5</td>\n",
       "      <td>sandstone</td>\n",
       "      <td>2.8365</td>\n",
       "      <td>1.6011</td>\n",
       "      <td>2364.6583</td>\n",
       "    </tr>\n",
       "    <tr>\n",
       "      <th>199</th>\n",
       "      <td>260</td>\n",
       "      <td>104599</td>\n",
       "      <td>RPC</td>\n",
       "      <td>FERRON 82-3 1677.5</td>\n",
       "      <td>sandstone</td>\n",
       "      <td>2.4315</td>\n",
       "      <td>1.7368</td>\n",
       "      <td>2467.0000</td>\n",
       "    </tr>\n",
       "  </tbody>\n",
       "</table>\n",
       "<p>110 rows × 8 columns</p>\n",
       "</div>"
      ],
      "text/plain": [
       "     Index     RPC Source         Description  Lithology  Vs [km/s]  \\\n",
       "0       63  104818    RPC   KIAMICHI FORMA. 4  sandstone     1.5957   \n",
       "1       64  104893    RPC   KIAMICHI REMOLD 3  sandstone     1.5171   \n",
       "4       67  104598    RPC  FERRON 82-3 1677.5  sandstone     2.4486   \n",
       "5       68  104601    RPC  FERRON 82-3 1677.5  sandstone     2.4387   \n",
       "6       69  104617    RPC  FERRON 82-3 1677.5  sandstone     2.7267   \n",
       "..     ...     ...    ...                 ...        ...        ...   \n",
       "191    252  104578    RPC  FERRON 82-3 1677.5  sandstone     2.4009   \n",
       "192    253  104849    RPC   KIAMICHI REMOLD 2  sandstone     2.4060   \n",
       "193    254  104589    RPC  FERRON 82-3 1677.5  sandstone     2.7450   \n",
       "195    256  104640    RPC  FERRON 82-3 1677.5  sandstone     2.8365   \n",
       "199    260  104599    RPC  FERRON 82-3 1677.5  sandstone     2.4315   \n",
       "\n",
       "     VpVs ratio  Rho [kg/m³]  \n",
       "0        1.9086    2109.1206  \n",
       "1        1.9779    2090.0000  \n",
       "4        1.7306    2472.2308  \n",
       "5        1.7711    2458.9597  \n",
       "6        1.6624    2397.1364  \n",
       "..          ...          ...  \n",
       "191      1.6154    2468.3633  \n",
       "192      1.6056    2109.8846  \n",
       "193      1.5734    2425.2311  \n",
       "195      1.6011    2364.6583  \n",
       "199      1.7368    2467.0000  \n",
       "\n",
       "[110 rows x 8 columns]"
      ]
     },
     "execution_count": 22,
     "metadata": {},
     "output_type": "execute_result"
    }
   ],
   "source": [
    "data[data.Lithology==\"sandstone\"]"
   ]
  },
  {
   "cell_type": "markdown",
   "metadata": {},
   "source": [
    "## Cleaning our data using Pandas / Limpiando nuestra data usando Pandas\n",
    "\n",
    "The DataFrame loaded before is a smaller dataset of lab data (Vp, Vs, Rho) for 800 samples from the _Rock Property Catalog_, which has some problems like:\n",
    "* repeated rows\n",
    "* missing data\n",
    "* different nomenclature\n",
    "* redundant information, etc.\n",
    "\n",
    "So, before doing any plot or analysis of the DataFrame data, we need to examine the data and fix the this.\n",
    "\n",
    "---\n",
    "\n",
    "El DataFrame cargado antes es un conjunto mas pequeño de datos de laboratorio (Vp, Vs, Rho) para 800 muestras de un _Catalogo de Propiedades de las Rocas_. \n",
    "Éste tiene algunos problemas como:\n",
    "* filas repetidas\n",
    "* datos faltantes\n",
    "* nomenclatura diferente\n",
    "* información redundante, etc. \n",
    "\n",
    "Entonces, antes de realizar cualquier grafica o analisis de los datos del DataFrame, necesitamos examinar los datos y arreglar los problemas mencionados."
   ]
  },
  {
   "cell_type": "code",
   "execution_count": 23,
   "metadata": {},
   "outputs": [
    {
     "name": "stdout",
     "output_type": "stream",
     "text": [
      "<class 'pandas.core.frame.DataFrame'>\n",
      "RangeIndex: 808 entries, 0 to 807\n",
      "Data columns (total 8 columns):\n",
      " #   Column       Non-Null Count  Dtype  \n",
      "---  ------       --------------  -----  \n",
      " 0   Index        808 non-null    int64  \n",
      " 1   RPC          808 non-null    int64  \n",
      " 2   Source       808 non-null    object \n",
      " 3   Description  808 non-null    object \n",
      " 4   Lithology    808 non-null    object \n",
      " 5   Vs [km/s]    808 non-null    float64\n",
      " 6   VpVs ratio   808 non-null    float64\n",
      " 7   Rho [kg/m³]  760 non-null    float64\n",
      "dtypes: float64(3), int64(2), object(3)\n",
      "memory usage: 50.6+ KB\n"
     ]
    }
   ],
   "source": [
    "# Reload the DataFrame again to avoid errors / Recargamos otra vez el DataFrame para no tener errores\n",
    "data = pd.read_csv(data_folder / \"RPC_4_lithologies_Messy.csv\")\n",
    "\n",
    "data.info()"
   ]
  },
  {
   "cell_type": "code",
   "execution_count": 24,
   "metadata": {},
   "outputs": [
    {
     "data": {
      "text/plain": [
       "(808, 8)"
      ]
     },
     "execution_count": 24,
     "metadata": {},
     "output_type": "execute_result"
    }
   ],
   "source": [
    "data.shape"
   ]
  },
  {
   "cell_type": "markdown",
   "metadata": {},
   "source": [
    "### Finding _null_ values in our DataFrame / Encontrando valores _null_ en nuestro DataFrame\n",
    "\n",
    "We use the `isnull` method, which returns a Boolean object of the same size as the DataFrame that indicates if the values are _NaN_.\n",
    "`any` returns _True_ if any element of the iterable is true.\n",
    "If the iterable is empty, return _False_. \n",
    "\n",
    "---\n",
    "\n",
    "Usamos el método `isnull` que devuelve un objeto booleano del mismo tamaño del DataFrame que indica si los valores son _NaN_.\n",
    "`any` devuelve _True_ si algún elemento del iterable es verdadero.\n",
    "Si el iterable está vacío, devuelve _False_."
   ]
  },
  {
   "cell_type": "code",
   "execution_count": 25,
   "metadata": {},
   "outputs": [
    {
     "data": {
      "text/plain": [
       "True"
      ]
     },
     "execution_count": 25,
     "metadata": {},
     "output_type": "execute_result"
    }
   ],
   "source": [
    "data.isnull().values.any()"
   ]
  },
  {
   "cell_type": "markdown",
   "metadata": {},
   "source": [
    "Now, we make a fast plot to check this. / Ahora, hacemos una gráfica rápida para chequear lo mensionado."
   ]
  },
  {
   "cell_type": "code",
   "execution_count": 26,
   "metadata": {},
   "outputs": [
    {
     "data": {
      "image/png": "[encoded data removed]",
      "text/plain": [
       "<Figure size 1080x360 with 4 Axes>"
      ]
     },
     "metadata": {
      "needs_background": "light"
     },
     "output_type": "display_data"
    }
   ],
   "source": [
    "names = [\"RPC\", \"Vs [km/s]\", \"VpVs ratio\", \"Rho [kg/m³]\"]\n",
    "\n",
    "fig, axes = plt.subplots(nrows=2, ncols=2, sharex=True, figsize=(15, 5))\n",
    "axes = axes.flatten()\n",
    "\n",
    "for name, i in zip(names, range(axes.size)):\n",
    "    data[name].plot(ax=axes[i])\n",
    "    axes[i].set_title(name)\n",
    "plt.show()"
   ]
  },
  {
   "cell_type": "markdown",
   "metadata": {},
   "source": [
    "The density column has NaN values, so we will use the `dropna` method to remove the row which only has NaN values.\n",
    "\n",
    "---\n",
    "\n",
    "La columna de densidad tiene valores de NaN, por lo que usaremos el método `dropna` para eliminar la fila que solo tiene valores de NaN."
   ]
  },
  {
   "cell_type": "code",
   "execution_count": 27,
   "metadata": {},
   "outputs": [
    {
     "data": {
      "text/plain": [
       "(760, 8)"
      ]
     },
     "execution_count": 27,
     "metadata": {},
     "output_type": "execute_result"
    }
   ],
   "source": [
    "data = data.dropna()\n",
    "\n",
    "data.shape"
   ]
  },
  {
   "cell_type": "markdown",
   "metadata": {},
   "source": [
    "We've removed 48 rows, so the DataFrame has 760 rows. / Hemos eliminado 48 filas, por lo que el DataFrame tiene 760 filas."
   ]
  },
  {
   "cell_type": "markdown",
   "metadata": {},
   "source": [
    "### Remove duplicates rows\n",
    "\n",
    "Now, we will find and remove the duplicates rows using `duplicated()`. / Ahora vamos a encontrar y eliminar la filas repetidas usando `duplicated()`."
   ]
  },
  {
   "cell_type": "code",
   "execution_count": 28,
   "metadata": {},
   "outputs": [
    {
     "data": {
      "text/html": [
       "<div>\n",
       "<style scoped>\n",
       "    .dataframe tbody tr th:only-of-type {\n",
       "        vertical-align: middle;\n",
       "    }\n",
       "\n",
       "    .dataframe tbody tr th {\n",
       "        vertical-align: top;\n",
       "    }\n",
       "\n",
       "    .dataframe thead th {\n",
       "        text-align: right;\n",
       "    }\n",
       "</style>\n",
       "<table border=\"1\" class=\"dataframe\">\n",
       "  <thead>\n",
       "    <tr style=\"text-align: right;\">\n",
       "      <th></th>\n",
       "      <th>Index</th>\n",
       "      <th>RPC</th>\n",
       "      <th>Source</th>\n",
       "      <th>Description</th>\n",
       "      <th>Lithology</th>\n",
       "      <th>Vs [km/s]</th>\n",
       "      <th>VpVs ratio</th>\n",
       "      <th>Rho [kg/m³]</th>\n",
       "    </tr>\n",
       "  </thead>\n",
       "  <tbody>\n",
       "    <tr>\n",
       "      <th>77</th>\n",
       "      <td>139</td>\n",
       "      <td>104646</td>\n",
       "      <td>RPC</td>\n",
       "      <td>NAVAJO ARCO 2</td>\n",
       "      <td>SANDST.</td>\n",
       "      <td>1.8489</td>\n",
       "      <td>1.6602</td>\n",
       "      <td>2210.1729</td>\n",
       "    </tr>\n",
       "    <tr>\n",
       "      <th>139</th>\n",
       "      <td>200</td>\n",
       "      <td>104703</td>\n",
       "      <td>RPC</td>\n",
       "      <td>NAVAJO ARCO 3</td>\n",
       "      <td>SANDST.</td>\n",
       "      <td>2.1426</td>\n",
       "      <td>1.7459</td>\n",
       "      <td>2096.0000</td>\n",
       "    </tr>\n",
       "    <tr>\n",
       "      <th>378</th>\n",
       "      <td>438</td>\n",
       "      <td>100066</td>\n",
       "      <td>RPC</td>\n",
       "      <td>Hard shale</td>\n",
       "      <td>shale</td>\n",
       "      <td>2.4267</td>\n",
       "      <td>1.6081</td>\n",
       "      <td>2642.6244</td>\n",
       "    </tr>\n",
       "    <tr>\n",
       "      <th>384</th>\n",
       "      <td>443</td>\n",
       "      <td>101009</td>\n",
       "      <td>RPC</td>\n",
       "      <td>Gray Shale</td>\n",
       "      <td>shale</td>\n",
       "      <td>2.2070</td>\n",
       "      <td>1.3899</td>\n",
       "      <td>2664.8891</td>\n",
       "    </tr>\n",
       "    <tr>\n",
       "      <th>669</th>\n",
       "      <td>727</td>\n",
       "      <td>102283</td>\n",
       "      <td>RPC</td>\n",
       "      <td>R.PRICE 10928.5 #50</td>\n",
       "      <td>dolomite</td>\n",
       "      <td>2.6050</td>\n",
       "      <td>1.7128</td>\n",
       "      <td>2300.8000</td>\n",
       "    </tr>\n",
       "    <tr>\n",
       "      <th>677</th>\n",
       "      <td>734</td>\n",
       "      <td>102289</td>\n",
       "      <td>RPC</td>\n",
       "      <td>R.PRICE 10928.5 #50</td>\n",
       "      <td>dolomite</td>\n",
       "      <td>2.3655</td>\n",
       "      <td>1.6921</td>\n",
       "      <td>2331.2000</td>\n",
       "    </tr>\n",
       "    <tr>\n",
       "      <th>679</th>\n",
       "      <td>735</td>\n",
       "      <td>102169</td>\n",
       "      <td>RPC</td>\n",
       "      <td>R.PRICE 10908.5 #30</td>\n",
       "      <td>dolomite</td>\n",
       "      <td>2.6575</td>\n",
       "      <td>1.8272</td>\n",
       "      <td>2415.0000</td>\n",
       "    </tr>\n",
       "    <tr>\n",
       "      <th>720</th>\n",
       "      <td>775</td>\n",
       "      <td>102214</td>\n",
       "      <td>RPC</td>\n",
       "      <td>R.PRICE 10913.5 #35</td>\n",
       "      <td>dolomite</td>\n",
       "      <td>2.9757</td>\n",
       "      <td>1.8412</td>\n",
       "      <td>2473.4000</td>\n",
       "    </tr>\n",
       "  </tbody>\n",
       "</table>\n",
       "</div>"
      ],
      "text/plain": [
       "     Index     RPC Source          Description Lithology  Vs [km/s]  \\\n",
       "77     139  104646    RPC        NAVAJO ARCO 2   SANDST.     1.8489   \n",
       "139    200  104703    RPC        NAVAJO ARCO 3   SANDST.     2.1426   \n",
       "378    438  100066    RPC           Hard shale     shale     2.4267   \n",
       "384    443  101009    RPC           Gray Shale     shale     2.2070   \n",
       "669    727  102283    RPC  R.PRICE 10928.5 #50  dolomite     2.6050   \n",
       "677    734  102289    RPC  R.PRICE 10928.5 #50  dolomite     2.3655   \n",
       "679    735  102169    RPC  R.PRICE 10908.5 #30  dolomite     2.6575   \n",
       "720    775  102214    RPC  R.PRICE 10913.5 #35  dolomite     2.9757   \n",
       "\n",
       "     VpVs ratio  Rho [kg/m³]  \n",
       "77       1.6602    2210.1729  \n",
       "139      1.7459    2096.0000  \n",
       "378      1.6081    2642.6244  \n",
       "384      1.3899    2664.8891  \n",
       "669      1.7128    2300.8000  \n",
       "677      1.6921    2331.2000  \n",
       "679      1.8272    2415.0000  \n",
       "720      1.8412    2473.4000  "
      ]
     },
     "execution_count": 28,
     "metadata": {},
     "output_type": "execute_result"
    }
   ],
   "source": [
    "# Select duplicate rows except first occurrence based on all columns.\n",
    "# Selecciona filas duplicadas excepto la primera aparición basada en todas las columnas\n",
    "\n",
    "data[data.duplicated()]"
   ]
  },
  {
   "cell_type": "code",
   "execution_count": 29,
   "metadata": {},
   "outputs": [
    {
     "data": {
      "text/plain": [
       "(752, 8)"
      ]
     },
     "execution_count": 29,
     "metadata": {},
     "output_type": "execute_result"
    }
   ],
   "source": [
    "# Remove the duplicated rows / Eliminamos las filas duplicadas\n",
    "data = data.drop_duplicates()\n",
    "\n",
    "data.shape"
   ]
  },
  {
   "cell_type": "markdown",
   "metadata": {},
   "source": [
    "We've removed 8 rows, so the DataFrame has 752 rows. / Hemos eliminado 8 filas, por lo que el DataFrame tiene 752 filas."
   ]
  },
  {
   "cell_type": "code",
   "execution_count": 30,
   "metadata": {},
   "outputs": [
    {
     "data": {
      "text/plain": [
       "Index          False\n",
       "RPC            False\n",
       "Source         False\n",
       "Description    False\n",
       "Lithology      False\n",
       "Vs [km/s]      False\n",
       "VpVs ratio     False\n",
       "Rho [kg/m³]    False\n",
       "dtype: bool"
      ]
     },
     "execution_count": 30,
     "metadata": {},
     "output_type": "execute_result"
    }
   ],
   "source": [
    "# Check that it does not have repeating rows / Comprueba que no tenga filas repetidas \n",
    "\n",
    "data[data.duplicated()].any()"
   ]
  },
  {
   "cell_type": "markdown",
   "metadata": {},
   "source": [
    "### Fixing values / Corriginedo valores\n",
    "\n",
    "We need to fix some lithology names.\n",
    "We will change _SANDST._ for _sandstone_.\n",
    "To do that, we use the `replace` method.\n",
    "\n",
    "---\n",
    "\n",
    "Necesitamos arreglar algunos nombres de litología.\n",
    "Cambiaremos _SANDST._ por _sandstone_.\n",
    "Para ello usamos el metodo `replace`."
   ]
  },
  {
   "cell_type": "code",
   "execution_count": 31,
   "metadata": {},
   "outputs": [
    {
     "data": {
      "text/html": [
       "<div>\n",
       "<style scoped>\n",
       "    .dataframe tbody tr th:only-of-type {\n",
       "        vertical-align: middle;\n",
       "    }\n",
       "\n",
       "    .dataframe tbody tr th {\n",
       "        vertical-align: top;\n",
       "    }\n",
       "\n",
       "    .dataframe thead th {\n",
       "        text-align: right;\n",
       "    }\n",
       "</style>\n",
       "<table border=\"1\" class=\"dataframe\">\n",
       "  <thead>\n",
       "    <tr style=\"text-align: right;\">\n",
       "      <th></th>\n",
       "      <th>Index</th>\n",
       "      <th>RPC</th>\n",
       "      <th>Source</th>\n",
       "      <th>Description</th>\n",
       "      <th>Lithology</th>\n",
       "      <th>Vs [km/s]</th>\n",
       "      <th>VpVs ratio</th>\n",
       "      <th>Rho [kg/m³]</th>\n",
       "    </tr>\n",
       "  </thead>\n",
       "  <tbody>\n",
       "    <tr>\n",
       "      <th>0</th>\n",
       "      <td>63</td>\n",
       "      <td>104818</td>\n",
       "      <td>RPC</td>\n",
       "      <td>KIAMICHI FORMA. 4</td>\n",
       "      <td>sandstone</td>\n",
       "      <td>1.5957</td>\n",
       "      <td>1.9086</td>\n",
       "      <td>2109.1206</td>\n",
       "    </tr>\n",
       "    <tr>\n",
       "      <th>1</th>\n",
       "      <td>64</td>\n",
       "      <td>104893</td>\n",
       "      <td>RPC</td>\n",
       "      <td>KIAMICHI REMOLD 3</td>\n",
       "      <td>sandstone</td>\n",
       "      <td>1.5171</td>\n",
       "      <td>1.9779</td>\n",
       "      <td>2090.0000</td>\n",
       "    </tr>\n",
       "    <tr>\n",
       "      <th>2</th>\n",
       "      <td>65</td>\n",
       "      <td>104652</td>\n",
       "      <td>RPC</td>\n",
       "      <td>NAVAJO ARCO 2</td>\n",
       "      <td>SANDST.</td>\n",
       "      <td>2.0415</td>\n",
       "      <td>1.6476</td>\n",
       "      <td>2131.9900</td>\n",
       "    </tr>\n",
       "    <tr>\n",
       "      <th>3</th>\n",
       "      <td>66</td>\n",
       "      <td>104752</td>\n",
       "      <td>RPC</td>\n",
       "      <td>NAVAJO ARCO REMOL 1</td>\n",
       "      <td>SANDST.</td>\n",
       "      <td>1.6062</td>\n",
       "      <td>1.9894</td>\n",
       "      <td>2184.9392</td>\n",
       "    </tr>\n",
       "    <tr>\n",
       "      <th>4</th>\n",
       "      <td>67</td>\n",
       "      <td>104598</td>\n",
       "      <td>RPC</td>\n",
       "      <td>FERRON 82-3 1677.5</td>\n",
       "      <td>sandstone</td>\n",
       "      <td>2.4486</td>\n",
       "      <td>1.7306</td>\n",
       "      <td>2472.2308</td>\n",
       "    </tr>\n",
       "  </tbody>\n",
       "</table>\n",
       "</div>"
      ],
      "text/plain": [
       "   Index     RPC Source          Description  Lithology  Vs [km/s]  \\\n",
       "0     63  104818    RPC    KIAMICHI FORMA. 4  sandstone     1.5957   \n",
       "1     64  104893    RPC    KIAMICHI REMOLD 3  sandstone     1.5171   \n",
       "2     65  104652    RPC        NAVAJO ARCO 2    SANDST.     2.0415   \n",
       "3     66  104752    RPC  NAVAJO ARCO REMOL 1    SANDST.     1.6062   \n",
       "4     67  104598    RPC   FERRON 82-3 1677.5  sandstone     2.4486   \n",
       "\n",
       "   VpVs ratio  Rho [kg/m³]  \n",
       "0      1.9086    2109.1206  \n",
       "1      1.9779    2090.0000  \n",
       "2      1.6476    2131.9900  \n",
       "3      1.9894    2184.9392  \n",
       "4      1.7306    2472.2308  "
      ]
     },
     "execution_count": 31,
     "metadata": {},
     "output_type": "execute_result"
    }
   ],
   "source": [
    "data.head()"
   ]
  },
  {
   "cell_type": "code",
   "execution_count": 32,
   "metadata": {},
   "outputs": [
    {
     "data": {
      "text/html": [
       "<div>\n",
       "<style scoped>\n",
       "    .dataframe tbody tr th:only-of-type {\n",
       "        vertical-align: middle;\n",
       "    }\n",
       "\n",
       "    .dataframe tbody tr th {\n",
       "        vertical-align: top;\n",
       "    }\n",
       "\n",
       "    .dataframe thead th {\n",
       "        text-align: right;\n",
       "    }\n",
       "</style>\n",
       "<table border=\"1\" class=\"dataframe\">\n",
       "  <thead>\n",
       "    <tr style=\"text-align: right;\">\n",
       "      <th></th>\n",
       "      <th>Index</th>\n",
       "      <th>RPC</th>\n",
       "      <th>Source</th>\n",
       "      <th>Description</th>\n",
       "      <th>Lithology</th>\n",
       "      <th>Vs [km/s]</th>\n",
       "      <th>VpVs ratio</th>\n",
       "      <th>Rho [kg/m³]</th>\n",
       "    </tr>\n",
       "  </thead>\n",
       "  <tbody>\n",
       "    <tr>\n",
       "      <th>0</th>\n",
       "      <td>63</td>\n",
       "      <td>104818</td>\n",
       "      <td>RPC</td>\n",
       "      <td>KIAMICHI FORMA. 4</td>\n",
       "      <td>sandstone</td>\n",
       "      <td>1.5957</td>\n",
       "      <td>1.9086</td>\n",
       "      <td>2109.1206</td>\n",
       "    </tr>\n",
       "    <tr>\n",
       "      <th>1</th>\n",
       "      <td>64</td>\n",
       "      <td>104893</td>\n",
       "      <td>RPC</td>\n",
       "      <td>KIAMICHI REMOLD 3</td>\n",
       "      <td>sandstone</td>\n",
       "      <td>1.5171</td>\n",
       "      <td>1.9779</td>\n",
       "      <td>2090.0000</td>\n",
       "    </tr>\n",
       "    <tr>\n",
       "      <th>2</th>\n",
       "      <td>65</td>\n",
       "      <td>104652</td>\n",
       "      <td>RPC</td>\n",
       "      <td>NAVAJO ARCO 2</td>\n",
       "      <td>sandstone</td>\n",
       "      <td>2.0415</td>\n",
       "      <td>1.6476</td>\n",
       "      <td>2131.9900</td>\n",
       "    </tr>\n",
       "    <tr>\n",
       "      <th>3</th>\n",
       "      <td>66</td>\n",
       "      <td>104752</td>\n",
       "      <td>RPC</td>\n",
       "      <td>NAVAJO ARCO REMOL 1</td>\n",
       "      <td>sandstone</td>\n",
       "      <td>1.6062</td>\n",
       "      <td>1.9894</td>\n",
       "      <td>2184.9392</td>\n",
       "    </tr>\n",
       "    <tr>\n",
       "      <th>4</th>\n",
       "      <td>67</td>\n",
       "      <td>104598</td>\n",
       "      <td>RPC</td>\n",
       "      <td>FERRON 82-3 1677.5</td>\n",
       "      <td>sandstone</td>\n",
       "      <td>2.4486</td>\n",
       "      <td>1.7306</td>\n",
       "      <td>2472.2308</td>\n",
       "    </tr>\n",
       "  </tbody>\n",
       "</table>\n",
       "</div>"
      ],
      "text/plain": [
       "   Index     RPC Source          Description  Lithology  Vs [km/s]  \\\n",
       "0     63  104818    RPC    KIAMICHI FORMA. 4  sandstone     1.5957   \n",
       "1     64  104893    RPC    KIAMICHI REMOLD 3  sandstone     1.5171   \n",
       "2     65  104652    RPC        NAVAJO ARCO 2  sandstone     2.0415   \n",
       "3     66  104752    RPC  NAVAJO ARCO REMOL 1  sandstone     1.6062   \n",
       "4     67  104598    RPC   FERRON 82-3 1677.5  sandstone     2.4486   \n",
       "\n",
       "   VpVs ratio  Rho [kg/m³]  \n",
       "0      1.9086    2109.1206  \n",
       "1      1.9779    2090.0000  \n",
       "2      1.6476    2131.9900  \n",
       "3      1.9894    2184.9392  \n",
       "4      1.7306    2472.2308  "
      ]
     },
     "execution_count": 32,
     "metadata": {},
     "output_type": "execute_result"
    }
   ],
   "source": [
    "data.Lithology = data.Lithology.replace(\"SANDST.\", \"sandstone\")\n",
    "\n",
    "data.head()"
   ]
  },
  {
   "cell_type": "markdown",
   "metadata": {},
   "source": [
    "### Adding a column / Agregando una columna\n",
    "\n",
    "The DataFrame doesn't have the value of _Vp_.\n",
    "So, we are going to calculate and add it to the DataFrame as a new column.\n",
    "\n",
    "---\n",
    "\n",
    "El DataFrame no tiene el valor de _Vp_.\n",
    "Entonces, nosotros vamos a calcularlo y agregarlo en el DataFrame como una nueva columna.\n",
    "\n",
    "\n",
    "$$ V_p V_s ratio = \\frac{V_p}{V_s} $$"
   ]
  },
  {
   "cell_type": "code",
   "execution_count": 33,
   "metadata": {},
   "outputs": [
    {
     "data": {
      "text/html": [
       "<div>\n",
       "<style scoped>\n",
       "    .dataframe tbody tr th:only-of-type {\n",
       "        vertical-align: middle;\n",
       "    }\n",
       "\n",
       "    .dataframe tbody tr th {\n",
       "        vertical-align: top;\n",
       "    }\n",
       "\n",
       "    .dataframe thead th {\n",
       "        text-align: right;\n",
       "    }\n",
       "</style>\n",
       "<table border=\"1\" class=\"dataframe\">\n",
       "  <thead>\n",
       "    <tr style=\"text-align: right;\">\n",
       "      <th></th>\n",
       "      <th>Index</th>\n",
       "      <th>RPC</th>\n",
       "      <th>Source</th>\n",
       "      <th>Description</th>\n",
       "      <th>Lithology</th>\n",
       "      <th>Vs [km/s]</th>\n",
       "      <th>VpVs ratio</th>\n",
       "      <th>Rho [kg/m³]</th>\n",
       "      <th>Vp [km/s]</th>\n",
       "    </tr>\n",
       "  </thead>\n",
       "  <tbody>\n",
       "    <tr>\n",
       "      <th>0</th>\n",
       "      <td>63</td>\n",
       "      <td>104818</td>\n",
       "      <td>RPC</td>\n",
       "      <td>KIAMICHI FORMA. 4</td>\n",
       "      <td>sandstone</td>\n",
       "      <td>1.5957</td>\n",
       "      <td>1.9086</td>\n",
       "      <td>2109.1206</td>\n",
       "      <td>1.196089</td>\n",
       "    </tr>\n",
       "    <tr>\n",
       "      <th>1</th>\n",
       "      <td>64</td>\n",
       "      <td>104893</td>\n",
       "      <td>RPC</td>\n",
       "      <td>KIAMICHI REMOLD 3</td>\n",
       "      <td>sandstone</td>\n",
       "      <td>1.5171</td>\n",
       "      <td>1.9779</td>\n",
       "      <td>2090.0000</td>\n",
       "      <td>1.303737</td>\n",
       "    </tr>\n",
       "    <tr>\n",
       "      <th>2</th>\n",
       "      <td>65</td>\n",
       "      <td>104652</td>\n",
       "      <td>RPC</td>\n",
       "      <td>NAVAJO ARCO 2</td>\n",
       "      <td>sandstone</td>\n",
       "      <td>2.0415</td>\n",
       "      <td>1.6476</td>\n",
       "      <td>2131.9900</td>\n",
       "      <td>0.807054</td>\n",
       "    </tr>\n",
       "    <tr>\n",
       "      <th>3</th>\n",
       "      <td>66</td>\n",
       "      <td>104752</td>\n",
       "      <td>RPC</td>\n",
       "      <td>NAVAJO ARCO REMOL 1</td>\n",
       "      <td>sandstone</td>\n",
       "      <td>1.6062</td>\n",
       "      <td>1.9894</td>\n",
       "      <td>2184.9392</td>\n",
       "      <td>1.238576</td>\n",
       "    </tr>\n",
       "    <tr>\n",
       "      <th>4</th>\n",
       "      <td>67</td>\n",
       "      <td>104598</td>\n",
       "      <td>RPC</td>\n",
       "      <td>FERRON 82-3 1677.5</td>\n",
       "      <td>sandstone</td>\n",
       "      <td>2.4486</td>\n",
       "      <td>1.7306</td>\n",
       "      <td>2472.2308</td>\n",
       "      <td>0.706771</td>\n",
       "    </tr>\n",
       "  </tbody>\n",
       "</table>\n",
       "</div>"
      ],
      "text/plain": [
       "   Index     RPC Source          Description  Lithology  Vs [km/s]  \\\n",
       "0     63  104818    RPC    KIAMICHI FORMA. 4  sandstone     1.5957   \n",
       "1     64  104893    RPC    KIAMICHI REMOLD 3  sandstone     1.5171   \n",
       "2     65  104652    RPC        NAVAJO ARCO 2  sandstone     2.0415   \n",
       "3     66  104752    RPC  NAVAJO ARCO REMOL 1  sandstone     1.6062   \n",
       "4     67  104598    RPC   FERRON 82-3 1677.5  sandstone     2.4486   \n",
       "\n",
       "   VpVs ratio  Rho [kg/m³]  Vp [km/s]  \n",
       "0      1.9086    2109.1206   1.196089  \n",
       "1      1.9779    2090.0000   1.303737  \n",
       "2      1.6476    2131.9900   0.807054  \n",
       "3      1.9894    2184.9392   1.238576  \n",
       "4      1.7306    2472.2308   0.706771  "
      ]
     },
     "execution_count": 33,
     "metadata": {},
     "output_type": "execute_result"
    }
   ],
   "source": [
    "data[\"Vp [km/s]\"] = data[\"VpVs ratio\"] / data[\"Vs [km/s]\"]\n",
    "\n",
    "data.head()"
   ]
  },
  {
   "cell_type": "markdown",
   "metadata": {},
   "source": [
    "### Removing columns / Eliminando columnas\n",
    "\n",
    "We are going to remove from the DataFrame the columns that are not relevant: `Index,  Description y VpVs ratio`  \n",
    "For that, use the `drop` method.\n",
    "\n",
    "---\n",
    "\n",
    "Vamos a eliminar del DataFrame las columnas que no sean relevantes: `Index, Description y VpVs ratio`.\n",
    "Para ello uso el metodo `drop`."
   ]
  },
  {
   "cell_type": "code",
   "execution_count": 34,
   "metadata": {},
   "outputs": [
    {
     "data": {
      "text/html": [
       "<div>\n",
       "<style scoped>\n",
       "    .dataframe tbody tr th:only-of-type {\n",
       "        vertical-align: middle;\n",
       "    }\n",
       "\n",
       "    .dataframe tbody tr th {\n",
       "        vertical-align: top;\n",
       "    }\n",
       "\n",
       "    .dataframe thead th {\n",
       "        text-align: right;\n",
       "    }\n",
       "</style>\n",
       "<table border=\"1\" class=\"dataframe\">\n",
       "  <thead>\n",
       "    <tr style=\"text-align: right;\">\n",
       "      <th></th>\n",
       "      <th>RPC</th>\n",
       "      <th>Source</th>\n",
       "      <th>Lithology</th>\n",
       "      <th>Vs [km/s]</th>\n",
       "      <th>Rho [kg/m³]</th>\n",
       "      <th>Vp [km/s]</th>\n",
       "    </tr>\n",
       "  </thead>\n",
       "  <tbody>\n",
       "    <tr>\n",
       "      <th>0</th>\n",
       "      <td>104818</td>\n",
       "      <td>RPC</td>\n",
       "      <td>sandstone</td>\n",
       "      <td>1.5957</td>\n",
       "      <td>2109.1206</td>\n",
       "      <td>1.196089</td>\n",
       "    </tr>\n",
       "    <tr>\n",
       "      <th>1</th>\n",
       "      <td>104893</td>\n",
       "      <td>RPC</td>\n",
       "      <td>sandstone</td>\n",
       "      <td>1.5171</td>\n",
       "      <td>2090.0000</td>\n",
       "      <td>1.303737</td>\n",
       "    </tr>\n",
       "    <tr>\n",
       "      <th>2</th>\n",
       "      <td>104652</td>\n",
       "      <td>RPC</td>\n",
       "      <td>sandstone</td>\n",
       "      <td>2.0415</td>\n",
       "      <td>2131.9900</td>\n",
       "      <td>0.807054</td>\n",
       "    </tr>\n",
       "    <tr>\n",
       "      <th>3</th>\n",
       "      <td>104752</td>\n",
       "      <td>RPC</td>\n",
       "      <td>sandstone</td>\n",
       "      <td>1.6062</td>\n",
       "      <td>2184.9392</td>\n",
       "      <td>1.238576</td>\n",
       "    </tr>\n",
       "    <tr>\n",
       "      <th>4</th>\n",
       "      <td>104598</td>\n",
       "      <td>RPC</td>\n",
       "      <td>sandstone</td>\n",
       "      <td>2.4486</td>\n",
       "      <td>2472.2308</td>\n",
       "      <td>0.706771</td>\n",
       "    </tr>\n",
       "    <tr>\n",
       "      <th>...</th>\n",
       "      <td>...</td>\n",
       "      <td>...</td>\n",
       "      <td>...</td>\n",
       "      <td>...</td>\n",
       "      <td>...</td>\n",
       "      <td>...</td>\n",
       "    </tr>\n",
       "    <tr>\n",
       "      <th>803</th>\n",
       "      <td>102178</td>\n",
       "      <td>RPC</td>\n",
       "      <td>dolomite</td>\n",
       "      <td>2.7592</td>\n",
       "      <td>2414.0000</td>\n",
       "      <td>0.607640</td>\n",
       "    </tr>\n",
       "    <tr>\n",
       "      <th>804</th>\n",
       "      <td>102225</td>\n",
       "      <td>RPC</td>\n",
       "      <td>dolomite</td>\n",
       "      <td>3.1168</td>\n",
       "      <td>2475.7000</td>\n",
       "      <td>0.560639</td>\n",
       "    </tr>\n",
       "    <tr>\n",
       "      <th>805</th>\n",
       "      <td>102088</td>\n",
       "      <td>RPC</td>\n",
       "      <td>dolomite</td>\n",
       "      <td>2.9987</td>\n",
       "      <td>2521.1000</td>\n",
       "      <td>0.605662</td>\n",
       "    </tr>\n",
       "    <tr>\n",
       "      <th>806</th>\n",
       "      <td>102213</td>\n",
       "      <td>RPC</td>\n",
       "      <td>dolomite</td>\n",
       "      <td>2.9331</td>\n",
       "      <td>2470.8000</td>\n",
       "      <td>0.621629</td>\n",
       "    </tr>\n",
       "    <tr>\n",
       "      <th>807</th>\n",
       "      <td>102086</td>\n",
       "      <td>RPC</td>\n",
       "      <td>dolomite</td>\n",
       "      <td>2.8970</td>\n",
       "      <td>2549.2000</td>\n",
       "      <td>0.637211</td>\n",
       "    </tr>\n",
       "  </tbody>\n",
       "</table>\n",
       "<p>752 rows × 6 columns</p>\n",
       "</div>"
      ],
      "text/plain": [
       "        RPC Source  Lithology  Vs [km/s]  Rho [kg/m³]  Vp [km/s]\n",
       "0    104818    RPC  sandstone     1.5957    2109.1206   1.196089\n",
       "1    104893    RPC  sandstone     1.5171    2090.0000   1.303737\n",
       "2    104652    RPC  sandstone     2.0415    2131.9900   0.807054\n",
       "3    104752    RPC  sandstone     1.6062    2184.9392   1.238576\n",
       "4    104598    RPC  sandstone     2.4486    2472.2308   0.706771\n",
       "..      ...    ...        ...        ...          ...        ...\n",
       "803  102178    RPC   dolomite     2.7592    2414.0000   0.607640\n",
       "804  102225    RPC   dolomite     3.1168    2475.7000   0.560639\n",
       "805  102088    RPC   dolomite     2.9987    2521.1000   0.605662\n",
       "806  102213    RPC   dolomite     2.9331    2470.8000   0.621629\n",
       "807  102086    RPC   dolomite     2.8970    2549.2000   0.637211\n",
       "\n",
       "[752 rows x 6 columns]"
      ]
     },
     "execution_count": 34,
     "metadata": {},
     "output_type": "execute_result"
    }
   ],
   "source": [
    "data.drop([\"Index\", \"Description\", \"VpVs ratio\"], axis=1, inplace=True)\n",
    "\n",
    "data"
   ]
  },
  {
   "cell_type": "markdown",
   "metadata": {},
   "source": [
    "### Plotting our DataFrame / Graficando nuestro DataFrame\n",
    "\n",
    "We are going to plot _Vp & Vs_ and the _density_ according to the different types of lithology of our DataFrame.\n",
    "\n",
    "Let's see how many types of lithology there are. \n",
    "`value_counts` returns a Series containing counts of unique rows in the DataFrame.\n",
    "\n",
    "---\n",
    "\n",
    "Vamos a graficar _Vp & Vs_ y la _densidad_ según los diferentes tipos de litología de nuestro DataFrame.\n",
    "\n",
    "Veamos cuántos tipos de litología hay.\n",
    "`value_counts` devuelve una serie que contiene recuentos de cuantas veces aparace un valor en el DataFrame."
   ]
  },
  {
   "cell_type": "code",
   "execution_count": 35,
   "metadata": {},
   "outputs": [
    {
     "data": {
      "text/plain": [
       "sandstone    200\n",
       "shale        200\n",
       "dolomite     200\n",
       "limestone    152\n",
       "Name: Lithology, dtype: int64"
      ]
     },
     "execution_count": 35,
     "metadata": {},
     "output_type": "execute_result"
    }
   ],
   "source": [
    "data.Lithology.value_counts()"
   ]
  },
  {
   "cell_type": "markdown",
   "metadata": {},
   "source": [
    "Let's group our data according to  the 4 types of lithology using `groupby`. / Agrupemos nuestros datos según los 4 tipos de litología usando `groupby`."
   ]
  },
  {
   "cell_type": "code",
   "execution_count": 36,
   "metadata": {},
   "outputs": [
    {
     "name": "stdout",
     "output_type": "stream",
     "text": [
      "dolomite         RPC Source Lithology  Vs [km/s]  Rho [kg/m³]  Vp [km/s]\n",
      "604  102242    RPC  dolomite     2.5558       2318.2   0.652946\n",
      "605  102096    RPC  dolomite     3.4449       2705.9   0.481030\n",
      "606  102196    RPC  dolomite     2.8412       2435.4   0.601506\n",
      "607  102071    RPC  dolomite     3.0348       2573.3   0.541452\n",
      "608  102089    RPC  dolomite     3.0709       2560.0   0.587971\n",
      "..      ...    ...       ...        ...          ...        ...\n",
      "803  102178    RPC  dolomite     2.7592       2414.0   0.607640\n",
      "804  102225    RPC  dolomite     3.1168       2475.7   0.560639\n",
      "805  102088    RPC  dolomite     2.9987       2521.1   0.605662\n",
      "806  102213    RPC  dolomite     2.9331       2470.8   0.621629\n",
      "807  102086    RPC  dolomite     2.8970       2549.2   0.637211\n",
      "\n",
      "[200 rows x 6 columns]\n",
      "limestone         RPC Source  Lithology  Vs [km/s]  Rho [kg/m³]  Vp [km/s]\n",
      "404  100145    RPC  limestone     1.8190    2442.3054   0.999175\n",
      "405  100146    RPC  limestone     1.8190    2462.3277   0.999175\n",
      "406  101422    RPC  limestone     0.4413    2112.0846  10.556991\n",
      "407  101423    RPC  limestone     0.4413    2121.2965  10.668026\n",
      "408  101486    RPC  limestone     0.7320    1830.9624   3.776913\n",
      "..      ...    ...        ...        ...          ...        ...\n",
      "551  101783    RPC  limestone     1.3671    2101.2318   1.618316\n",
      "552  101784    RPC  limestone     1.3993    2135.4726   1.594154\n",
      "553  101820    RPC  limestone     1.2054    2090.4700   1.851999\n",
      "554  101823    RPC  limestone     1.5715    2160.5141   1.163729\n",
      "555  101824    RPC  limestone     1.7438    2160.7635   1.033605\n",
      "\n",
      "[152 rows x 6 columns]\n",
      "sandstone         RPC Source  Lithology  Vs [km/s]  Rho [kg/m³]  Vp [km/s]\n",
      "0    104818    RPC  sandstone     1.5957    2109.1206   1.196089\n",
      "1    104893    RPC  sandstone     1.5171    2090.0000   1.303737\n",
      "2    104652    RPC  sandstone     2.0415    2131.9900   0.807054\n",
      "3    104752    RPC  sandstone     1.6062    2184.9392   1.238576\n",
      "4    104598    RPC  sandstone     2.4486    2472.2308   0.706771\n",
      "..      ...    ...        ...        ...          ...        ...\n",
      "197  104710    RPC  sandstone     2.6480    2116.2235   0.537387\n",
      "198  104682    RPC  sandstone     2.0709    2185.7369   0.830122\n",
      "199  104599    RPC  sandstone     2.4315    2467.0000   0.714292\n",
      "200  104693    RPC  sandstone     2.1555    2121.2656   0.777035\n",
      "201  104751    RPC  sandstone     1.4754    2200.6200   1.392097\n",
      "\n",
      "[200 rows x 6 columns]\n",
      "shale         RPC Source Lithology  Vs [km/s]  Rho [kg/m³]  Vp [km/s]\n",
      "202  101023    RPC     shale     2.9573    2716.6386   0.566429\n",
      "203  100978    RPC     shale     2.3180    2695.5085   0.641070\n",
      "204  100993    RPC     shale     2.2185    2561.0159   0.712689\n",
      "205  101048    RPC     shale     1.6333    2564.4067   1.120370\n",
      "206  100417    RPC     shale     2.2210    2419.4478   0.738316\n",
      "..      ...    ...       ...        ...          ...        ...\n",
      "399  101113    RPC     shale     3.0540    2781.6913   0.564702\n",
      "400  100424    RPC     shale     2.3290    2421.7737   0.651868\n",
      "401  100992    RPC     shale     2.8455    2667.2169   0.628923\n",
      "402  100044    RPC     shale     1.6677    2570.0527   1.195419\n",
      "403  100975    RPC     shale     2.7873    2521.5015   0.653500\n",
      "\n",
      "[200 rows x 6 columns]\n"
     ]
    }
   ],
   "source": [
    "liths = data.groupby('Lithology')\n",
    "\n",
    "for name, group in liths:\n",
    "    print(name, group)"
   ]
  },
  {
   "cell_type": "markdown",
   "metadata": {},
   "source": [
    "**Plot _Vs & Vp_ / Grafico _Vs & Vp_**"
   ]
  },
  {
   "cell_type": "code",
   "execution_count": 37,
   "metadata": {},
   "outputs": [
    {
     "data": {
      "image/png": "[encoded data removed]",
      "text/plain": [
       "<Figure size 720x360 with 1 Axes>"
      ]
     },
     "metadata": {
      "needs_background": "light"
     },
     "output_type": "display_data"
    }
   ],
   "source": [
    "fig, ax = plt.subplots(figsize=(10, 5))\n",
    "\n",
    "for name, group in liths:\n",
    "    ax.plot(\n",
    "        group[\"Vs [km/s]\"], \n",
    "        group[\"Vp [km/s]\"], \n",
    "        marker='o', \n",
    "        linestyle='',\n",
    "        ms=6, \n",
    "        label=name, \n",
    "        alpha=0.5       # transparency / trasparencia\n",
    "    )\n",
    "\n",
    "ax.legend(loc=1)\n",
    "\n",
    "plt.xlabel('$V_\\mathrm{P}\\ [km/s]$', size=12)\n",
    "plt.ylabel('$V_\\mathrm{S}\\ [km/s]$', size=12)\n",
    "plt.show()"
   ]
  },
  {
   "cell_type": "markdown",
   "metadata": {},
   "source": [
    "**Plot the _density_ / Grafico la _densidad_**"
   ]
  },
  {
   "cell_type": "code",
   "execution_count": 38,
   "metadata": {},
   "outputs": [
    {
     "data": {
      "image/png": "[encoded data removed]",
      "text/plain": [
       "<Figure size 720x360 with 1 Axes>"
      ]
     },
     "metadata": {
      "needs_background": "light"
     },
     "output_type": "display_data"
    }
   ],
   "source": [
    "fig, ax = plt.subplots(figsize=(10, 5))\n",
    "for name, group in liths:\n",
    "    plt.hist(\n",
    "        group[\"Rho [kg/m³]\"], \n",
    "        histtype='bar', \n",
    "        stacked=True, \n",
    "        rwidth=0.8, \n",
    "        alpha=0.8, \n",
    "        label=name\n",
    "    )\n",
    "    \n",
    "plt.legend()\n",
    "plt.xlabel('$\\\\rho\\ [g/m^3]$', size=12)\n",
    "plt.show()"
   ]
  },
  {
   "cell_type": "markdown",
   "metadata": {},
   "source": [
    "## Homework\n",
    "\n",
    "In this oportunity, we share with you a DataFrame with the bathymetry and gravity disturbance profile of the island of Oahu in Hawaii.\n",
    "\n",
    "**Steps:**\n",
    "1. Load the file.\n",
    "2. Clean the DataFrame, so check if the DataFrame has:\n",
    "    * nans values and remove them.\n",
    "    * duplicate rows and remove them.\n",
    "    * any other problems like out of range values and remove them.\n",
    "3. Plot the _gravity disturbance & distance_ and the _bathimetry & distance_ using `subplot`.\n",
    "   Make the plot as if you were going to put it in an article. \n",
    "\n",
    "---\n",
    "\n",
    "En esta oportunidad, compartimos contigo un DataFrame con el perfil de batimetría y perturbación de la gravedad de la isla de Oahu en Hawaii.\n",
    "\n",
    "**Pasos:**\n",
    "1. Cargue el archivo.\n",
    "2. Limpie el DataFrame verificando si el DataFrame tiene:\n",
    "    * valores nans y elimínelos.\n",
    "    * filas duplicadas y eliminarlas.\n",
    "    * cualquier otro problema como valores fuera de rango y elimínelos.\n",
    "3. Grafique la _gravity disturbance & distance_ y _bathimetry & distance_ usando `subplot`.\n",
    "   Haga las graficas como si fuera a ponerla en un artículo.\n",
    "\n",
    "\n",
    "### Bonus track\n",
    "\n",
    "We can see from the bathymetry profile that there is a long-wavelength component (almost a gaussian shape) right around the islands.\n",
    "This is due to the _thermal swell_ of the hotspot and not part of the flexure response of the oceanic lithosphere.\n",
    "The swell is isostatically compensanted, as seen in the gravity disturbance.\n",
    "We'll fit a gaussian curve to the profile data and remove it from our observations to obtain a residual.\n",
    "\n",
    "**Steps:**\n",
    "1. Define the gaussian function:\n",
    "   $$ h_{gauss} (x) = h_{0} + G \\exp \\left(-\\dfrac{(x - x_0)^2}{\\sigma^2}\\right) $$\n",
    "    \n",
    "2.  Estimate the parameters of this function ($h_0$, $G$, $x_0$, $\\sigma$). You can start with ($h_0$, $G$, $x_0$, $\\sigma$) = (hawaii.distance_km, h0=-5.5, G=1.5, x0=1300, sigma=450).\n",
    "3. Calculate the thermal swell.\n",
    "4. Calculate a residual topography and store it in our original `DataFrame`.\n",
    "   $$ residual = topography_{km} - swell$$\n",
    "5. Make the plot using `subplot` as if you were going to put it in an article. \n",
    "\n",
    "---\n",
    "\n",
    "Podemos ver en el perfil de batimetría que hay un componente de longitud de onda larga (casi una forma gaussiana) alrededor de las islas.\n",
    "Esto se debe al _oleaje térmico_ del hotspot y no es parte de la respuesta de flexión de la litosfera oceánica.\n",
    "El oleaje se compensa isostáticamente, como se ve en la perturbación de la gravedad.\n",
    "Ajustaremos una curva gaussiana a los datos del perfil y la eliminaremos de nuestras observaciones para obtener un residuo.\n",
    "\n",
    "**Pasos:**\n",
    "1. Defina la función gaussiana:\n",
    "   $$h_{gauss} (x) = h_{0} + G \\exp \\left(-\\dfrac{(x - x_0)^2}{\\sigma^2}\\right)$$\n",
    "    \n",
    "2. Estime los parámetros de esta función (($h_0$, $G$, $x_0$, $\\sigma$). Puede comenzar con $h_0$, $G$, $x_0$, $\\sigma$) = (hawaii.distance_km, h0=-5.5, G=1.5, x0=1300, sigma=450).\n",
    "3. Calcule el oleaje térmico.\n",
    "4. Calcule una topografía residual y guárdela en el `DataFrame` original.\n",
    "   $$ residual = topografia_ {km} - swell $$\n",
    "5. Grafique los resultados usando `subplot` como si fueras a ponerla en un artículo."
   ]
  },
  {
   "cell_type": "markdown",
   "metadata": {},
   "source": [
    "## Extra material to keep learning / Material extra para seguir aprendiendo\n",
    "\n",
    "**Pandas** is very powerful and has many more functionalities. Check out their documentation and tutorials to learn much more.\n",
    "\n",
    "---\n",
    "\n",
    "**Pandas** es muy potente y tiene muchas mas funcionalidades. Revise su documentación y tutoriales para aprender mucho mas. \n",
    "\n",
    "* [Pandas documentation](https://pandas.pydata.org/docs/getting_started/index.html)\n",
    "* [Intro to Python by GeoLatinas](https://github.com/GeoLatinas/Intro-to-python)\n",
    "* [Pandas: Python Data Analysis Library](https://johnfoster.pge.utexas.edu/numerical-methods-book/ScientificPython_Pandas.html)\n",
    "\n",
    "\n",
    "**Other interesting libraries / Otras librerias interesantes**\n",
    "\n",
    "If you got here and you want to continue learning python libraries that can help you with your studies or research in earth science, we leave you some libraries that could be useful fot you:\n",
    "\n",
    "---\n",
    "\n",
    "Si llegaste hasta acá y querés seguir aprendiendo paquetes que puedan ayudarte a tus estudios o investigaciones en ciencia de la tierra, te dejamos algunas librerías que podrían serte útiles:\n",
    "\n",
    "* [Xarray](https://xarray.pydata.org/en/stable/) introduces labels in the form of dimensions, coordinates and attributes on top of raw NumPy-like arrays, which allows for a more intuitive, more concise, and less error-prone developer experience. \n",
    "  It is inspired by and borrows heavily from pandas.\n",
    "  It is particularly tailored to working with netCDF files, which were the source of xarray’s data model, and integrates tightly with dask for parallel computing.\n",
    "  \n",
    "* [PyGMT](https://www.pygmt.org/dev/) is a library for processing geospatial and geophysical data and making publication quality maps and figures. \n",
    "  It provides a Pythonic interface for the Generic Mapping Tools (GMT), a command-line program widely used in the Earth Sciences.\n",
    "  \n",
    "* [pyproj](https://pyproj4.github.io/pyproj/stable/) is a python interface to [PROJ](https://proj.org/) (cartographic projections and coordinate transformations library).\n",
    "\n",
    "* [Seaborn](https://seaborn.pydata.org/) is a data visualization library based on matplotlib. \n",
    "  It provides a high-level interface for drawing attractive and informative statistical graphics.\n"
   ]
  },
  {
   "cell_type": "code",
   "execution_count": null,
   "metadata": {},
   "outputs": [],
   "source": []
  }
 ],
 "metadata": {
  "kernelspec": {
   "display_name": "Python 3 (ipykernel)",
   "language": "python",
   "name": "python3"
  },
  "language_info": {
   "codemirror_mode": {
    "name": "ipython",
    "version": 3
   },
   "file_extension": ".py",
   "mimetype": "text/x-python",
   "name": "python",
   "nbconvert_exporter": "python",
   "pygments_lexer": "ipython3",
   "version": "3.9.7"
  },
  "toc-autonumbering": true
 },
 "nbformat": 4,
 "nbformat_minor": 4
}
