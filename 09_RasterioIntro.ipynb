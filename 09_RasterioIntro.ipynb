{
 "cells": [
  {
   "cell_type": "markdown",
   "id": "2e4f4b78",
   "metadata": {},
   "source": [
    "<img src=\"media/coco-banner.jpg\">"
   ]
  },
  {
   "cell_type": "markdown",
   "id": "87c8a275",
   "metadata": {},
   "source": [
    "## Rasterio\n",
    "\n",
    "[ Rasterio ](https://rasterio.readthedocs.io/en/latest/) is a popular python library used to import and manipulate different types of raster files. When rasters are imported into python using Rasterio, it is imported as a numpy 2D array. We will be working with an image and manipulate it a bit for today's class. We will learn how to: \n",
    "* import a raster file\n",
    "* manipulate the data\n",
    "* visualize the data\n",
    "* export data with geographic information\n",
    "\n",
    "\n",
    "Let's start by importing some elevation data. The steps to import data are as follows: \n",
    "* use Pathlib to connect to the file path"
   ]
  },
  {
   "cell_type": "code",
   "execution_count": 2,
   "id": "02cda01e",
   "metadata": {},
   "outputs": [],
   "source": [
    "from pathlib import Path"
   ]
  },
  {
   "cell_type": "markdown",
   "id": "fcebb9c5",
   "metadata": {},
   "source": [
    "Let's start by creating a 2-D array using numpy!"
   ]
  },
  {
   "cell_type": "code",
   "execution_count": 9,
   "id": "39a25243",
   "metadata": {},
   "outputs": [
    {
     "name": "stdout",
     "output_type": "stream",
     "text": [
      "data/30n120w_20101117_gmted_mea300.tif\n"
     ]
    }
   ],
   "source": [
    "US_DEM = Path(\".\")/ \"data\" / \"30n120w_20101117_gmted_mea300.tif\""
   ]
  },
  {
   "cell_type": "markdown",
   "id": "26bafae4",
   "metadata": {},
   "source": [
    "Now, let's read in the data with rasterio!"
   ]
  },
  {
   "cell_type": "code",
   "execution_count": 10,
   "id": "864b5582",
   "metadata": {},
   "outputs": [],
   "source": [
    "import rasterio as rio"
   ]
  },
  {
   "cell_type": "code",
   "execution_count": null,
   "id": "633a0ed4",
   "metadata": {},
   "outputs": [],
   "source": []
  }
 ],
 "metadata": {
  "kernelspec": {
   "display_name": "Python 3 (ipykernel)",
   "language": "python",
   "name": "python3"
  },
  "language_info": {
   "codemirror_mode": {
    "name": "ipython",
    "version": 3
   },
   "file_extension": ".py",
   "mimetype": "text/x-python",
   "name": "python",
   "nbconvert_exporter": "python",
   "pygments_lexer": "ipython3",
   "version": "3.8.13"
  }
 },
 "nbformat": 4,
 "nbformat_minor": 5
}
