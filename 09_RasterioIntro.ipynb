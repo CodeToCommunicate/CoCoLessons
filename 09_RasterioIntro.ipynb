{
 "cells": [
  {
   "cell_type": "markdown",
   "id": "30ab8977",
   "metadata": {},
   "source": [
    "<img src=\"media/coco-banner.jpg\">"
   ]
  },
  {
   "cell_type": "markdown",
   "id": "79c621f9",
   "metadata": {},
   "source": [
    "## Rasterio\n",
    "\n",
    "[ Rasterio ](https://rasterio.readthedocs.io/en/latest/) is a popular python library used to import and manipulate different types of raster files. When rasters are imported into python using Rasterio, it is imported as a numpy 2D array. Rasterio works with [ GDAL ](https://gdal.org/) dependencies to be able to read in different types of raster data. We will be working with an image and manipulate it a bit for today's class. We will learn how to: \n",
    "* import a raster file\n",
    "* manipulate the data\n",
    "* visualize the data\n",
    "* export data with geographic information\n",
    "\n",
    "\n",
    "Let's start by importing some elevation data. The steps to import data are as follows: \n",
    "* use Pathlib to connect to the file path\n",
    "---\n",
    "[ Rasterio ](https://rasterio.readthedocs.io/en/latest/) es una libreria  de python que se utiliza para importar y manipular diferentes tipos de archivos raster. Cuando se importan a python usando Rasterio, se importan como una matriz numpy 2D. Rasterio trabaja con dependencias [ GDAL ](https://gdal.org/) para poder leer en diferentes tipos de datos raster. Trabajaremos con una imagen y la manipularemos un poco para la clase de hoy. Aprenderemos a:\n",
    "* importar un archivo raster\n",
    "* manipular los datos\n",
    "* visualizar los datos\n",
    "* exportar datos con información geográfica\n",
    "\n",
    "\n",
    "Comencemos importando algunos datos de elevación. Los pasos para importar datos son los siguientes: \n",
    "* use Pathlib para conectarse a la ruta del archivo"
   ]
  },
  {
   "cell_type": "code",
   "execution_count": 22,
   "id": "a56c17d5",
   "metadata": {},
   "outputs": [],
   "source": [
    "from pathlib import Path"
   ]
  },
  {
   "cell_type": "code",
   "execution_count": null,
   "id": "01c692be",
   "metadata": {},
   "outputs": [],
   "source": [
    "US_DEM = Path(\".\")/ \"data\" / \"30n120w_20101117_gmted_mea300.tif\""
   ]
  },
  {
   "cell_type": "markdown",
   "id": "dc875f27",
   "metadata": {},
   "source": [
    "This DEM was downloaded from the [ USGS EarthExplorer ](https://earthexplorer.usgs.gov/). Now, let's read in the data with rasterio! We can use rasterio to read in the tif file to see what type of data we have available.\n",
    "\n",
    "---\n",
    "\n",
    "Este archivo fue descargado usando el [ USGS EarthExplorer ](https://earthexplorer.usgs.gov/). ¡Ahora, vamos a leer los datos con rasterio! Podemos usar rasterio para leer en el archivo tif para ver qué tipo de datos tenemos disponibles."
   ]
  },
  {
   "cell_type": "code",
   "execution_count": null,
   "id": "4f6dbb4a",
   "metadata": {},
   "outputs": [],
   "source": [
    "import rasterio as rio\n",
    "import matplotlib.pyplot as plt\n",
    "import numpy as np"
   ]
  },
  {
   "cell_type": "code",
   "execution_count": null,
   "id": "4ce5ffef",
   "metadata": {},
   "outputs": [],
   "source": [
    "dataset = rio.open(US_DEM) #let's see what's in this dataset"
   ]
  },
  {
   "cell_type": "markdown",
   "id": "56a5f61a",
   "metadata": {},
   "source": [
    "Here's a few commands you should know when working with rasterio:\n",
    "* file.count - provides the number of bands in the dataset\n",
    "* file.shape - returns the shape of the raster file\n",
    "* file.bounds - bounding box for the dataset\n",
    "* file.transform - provides an affine transformation matrix (this will be important when saving a raster)\n",
    "* file.crs - provides the coordinate reference system of the dataset\n",
    "\n",
    "Let's look at these commands!\n",
    "\n",
    "---\n",
    "\n",
    "Aquí hay algunos comandos que debe saber al trabajar con rasterio:\n",
    "* file.count: mirar el número de bandas en el conjunto de datos\n",
    "* file.shape - devuelve la forma del archivo raster\n",
    "* file.bounds - cuadro delimitador para el conjunto de datos\n",
    "* file.transform: proporciona una matriz de transformación afín (esto será importante al guardar un ráster)\n",
    "* file.crs: proporciona el sistema de referencia de coordenadas del conjunto de datos\n",
    "\n",
    "¡Veamos estos comandos!"
   ]
  },
  {
   "cell_type": "code",
   "execution_count": null,
   "id": "51ee4db0",
   "metadata": {},
   "outputs": [],
   "source": [
    "print(dataset.count) #provides number of bands / proporciona número de bandas"
   ]
  },
  {
   "cell_type": "code",
   "execution_count": null,
   "id": "4e149941",
   "metadata": {},
   "outputs": [],
   "source": [
    "print(dataset.shape) #shape of dataset / forma del conjunto de datos"
   ]
  },
  {
   "cell_type": "code",
   "execution_count": null,
   "id": "c8cc8fc0",
   "metadata": {},
   "outputs": [],
   "source": [
    "print(dataset.bounds) #bounding box of dataset / cuadro delimitador de conjunto de datos"
   ]
  },
  {
   "cell_type": "code",
   "execution_count": null,
   "id": "3c72ef4b",
   "metadata": {},
   "outputs": [],
   "source": [
    "print(dataset.transform) #affine transformation matrix. "
   ]
  },
  {
   "cell_type": "code",
   "execution_count": null,
   "id": "ebef6e7e",
   "metadata": {},
   "outputs": [],
   "source": [
    "print(dataset.crs)"
   ]
  },
  {
   "cell_type": "markdown",
   "id": "27615eee",
   "metadata": {},
   "source": [
    "Let's start exploring the dataset! | Vamos a ver que tenemos en el archivo"
   ]
  },
  {
   "cell_type": "code",
   "execution_count": null,
   "id": "cc761afe",
   "metadata": {},
   "outputs": [],
   "source": [
    "band1 = dataset.read(1) #you can change the value based on what band you want to read\n",
    "plt.imshow(band1)\n",
    "plt.colorbar()"
   ]
  },
  {
   "cell_type": "markdown",
   "id": "29c87a64",
   "metadata": {},
   "source": [
    "### Formative Assessment 1\n",
    "What do you think will be the datatype for the variable named \"band1\"?\n",
    "* raster\n",
    "* float\n",
    "* integer\n",
    "* array\n",
    "\n",
    "---\n",
    "\n",
    "¿Cuál cree que será el tipo de datos para la variable llamada \"band1\"?\n",
    "* raster\n",
    "* float\n",
    "* integer\n",
    "* array"
   ]
  },
  {
   "cell_type": "code",
   "execution_count": null,
   "id": "8ecb667a",
   "metadata": {},
   "outputs": [],
   "source": [
    "### check the datatype here! \n"
   ]
  },
  {
   "cell_type": "markdown",
   "id": "b50f809d",
   "metadata": {},
   "source": [
    "Using numpy, we can work with the data and save our new raster. First, let's zoom in to the point with the highest elevations on the map. \n",
    "\n",
    "---\n",
    "\n",
    "Usando numpy, podemos trabajar con los datos y guardar nuestro nuevo ráster. Primero, acerquemos el punto con las elevaciones más altas en el mapa."
   ]
  },
  {
   "cell_type": "code",
   "execution_count": null,
   "id": "6c5d82a1",
   "metadata": {},
   "outputs": [],
   "source": [
    "zoom = band1[1000:1500,1500:2000]\n",
    "plt.imshow(zoom)\n",
    "plt.colorbar()"
   ]
  },
  {
   "cell_type": "markdown",
   "id": "5f7316c0",
   "metadata": {},
   "source": [
    "## Practice exercise: (5 minutes)\n",
    "### Using the variable named band1, zoom in to a different region of the DEM. I will then pick on a few of you to share your screen and show us your zoomed in figure.  \n"
   ]
  },
  {
   "cell_type": "markdown",
   "id": "89dbe714",
   "metadata": {},
   "source": [
    "We can also mask areas of interest based on the values in the array. In the following example, we will be replacing values of interest with nan values to mask specific areas in our image that are associate with those values.\n",
    "\n",
    "---\n",
    "\n",
    "También podemos enmascarar áreas de interés según los valores de la matriz. En el siguiente ejemplo, reemplazaremos valores de interés con valores nan para enmascarar áreas específicas en nuestra imagen que están asociadas con esos valores."
   ]
  },
  {
   "cell_type": "code",
   "execution_count": null,
   "id": "62556847",
   "metadata": {},
   "outputs": [],
   "source": [
    "zoom = np.where(zoom>3500, np.nan, zoom)\n",
    "plt.imshow(zoom)"
   ]
  },
  {
   "cell_type": "markdown",
   "id": "f4b21eaa",
   "metadata": {},
   "source": [
    "Now let's save our manipulated and zoomed in raster file! Note: because this raster is smaller than our original raster, we will need to change the affine matrix to account for this change. \n",
    "\n",
    "---\n",
    "\n",
    "¡Ahora guardemos nuestro archivo ráster manipulado y ampliado! Nota: debido a que este ráster es más pequeño que nuestro ráster original, necesitaremos cambiar la matriz afín para tener en cuenta este cambio."
   ]
  },
  {
   "cell_type": "code",
   "execution_count": null,
   "id": "96385582",
   "metadata": {},
   "outputs": [],
   "source": [
    "from rasterio.transform import Affine\n",
    "print(dataset.transform)\n",
    "\n",
    "x = np.linspace(0,499,500)\n",
    "y = np.linspace(0,499,500)\n",
    "\n",
    "\n",
    "res = dataset.transform[0]\n",
    "transform = Affine.translation(x[0] - res / 2, y[0] - res / 2) * Affine.scale(res, res)\n",
    "\n",
    "\n",
    "with rio.open(\n",
    "    'data/new.tif',\n",
    "    'w',\n",
    "    driver='GTiff',\n",
    "    height=zoom.shape[0],\n",
    "    width=zoom.shape[1],\n",
    "    count=1,\n",
    "    dtype=zoom.dtype,\n",
    "    crs='EPSG:4326',\n",
    "    transform=transform,\n",
    ") as dst:\n",
    "    dst.write(zoom, 1)\n"
   ]
  },
  {
   "cell_type": "code",
   "execution_count": null,
   "id": "3e3c8563",
   "metadata": {},
   "outputs": [],
   "source": [
    "OurData = Path(\".\")/ \"data\" / \"new.tif\""
   ]
  },
  {
   "cell_type": "code",
   "execution_count": null,
   "id": "d131965a",
   "metadata": {},
   "outputs": [],
   "source": [
    "test = rio.open(OurData)\n",
    "newBand = test.read(1)\n",
    "plt.imshow(newBand)\n",
    "plt.colorbar()"
   ]
  },
  {
   "cell_type": "markdown",
   "id": "19279d1d",
   "metadata": {},
   "source": [
    "## Windowed reads\n",
    "Sometimes we have very large raster datasets which makes it computationally expensive to read in. We can use the [ windowed reads ](https://rasterio.readthedocs.io/en/latest/topics/windowed-rw.html) function which only reads in part of the dataset!\n",
    "\n",
    "---\n",
    "\n",
    "A veces tenemos conjuntos de datos ráster muy grandes, lo que hace que la lectura sea computacionalmente costosa. Podemos usar la función [lecturas en ventana] (https://rasterio.readthedocs.io/en/latest/topics/windowed-rw.html) que solo lee en parte del conjunto de datos!"
   ]
  },
  {
   "cell_type": "code",
   "execution_count": null,
   "id": "9b592e01",
   "metadata": {},
   "outputs": [],
   "source": [
    "from rasterio.windows import Window\n",
    "with rio.open('data/new.tif') as src:\n",
    "    w = src.read(1, window=Window(0, 0, 100, 100))\n",
    "    plt.imshow(w)"
   ]
  },
  {
   "cell_type": "markdown",
   "id": "c0cfd052",
   "metadata": {},
   "source": [
    "# Xarray\n",
    "\n",
    "[_Xarray_](https://docs.xarray.dev/) is a Python package that makes working with labelled multi-dimensional arrays (like stacks of images) in Python simple, efficient, and fun. It has extensions for specific domains, for example the [Rioxarray](https://corteva.github.io/rioxarray) adds functionality for geospatial raster data. The name \"RIO\" comes from \"RasterIO\"(Input/Output), because the extension makes use of yet another great open source package [RasterIO](https://rasterio.readthedocs.io).   \n",
    "\n",
    "We will learn about:\n",
    "* How to open a satellite image ([Landsat Collection 2](https://planetarycomputer.microsoft.com/dataset/landsat-c2-l2))\n",
    "* How to extract quantitative data from geospatial coordinates\n",
    "* How to make different plots\n",
    "* How to save an image for GIS software like [QGIS](https://www.qgis.org/)\n",
    "* How to scale analysis with *lots* of images using [Microsoft's Planetary Computer](https://planetarycomputer.microsoft.com/)\n",
    "\n",
    "---\n",
    "\n",
    "Xarray hace que trabajar con datos n-dimensionales (conjuntos de imagenes) sea sencillo, eficaz, y divertido! Tiene extenciones para varios dominios cientificos, por ejemplo Rioxarray aggrega funciones para trabajar con datos cuadriculares geospaciales (imagenes de satellite) comun en geociencias. El nombre 'RIO' viene de \"RasterIO\" (IO = Input/Output), porque la extencion utiliza otro paquete libre en Python: RasterIO.\n",
    "\n",
    "Vamos a aprender:\n",
    "* Abrir imagenes satelitales (Landsat Collection 2)\n",
    "* Extraer datos cuantativos segun coordenates geospaciales\n",
    "* Crear graficas analyticas\n",
    "* Guardar un imagen para otro software como QGIS\n",
    "* Empezar a analysis conjuntos de imagenes con Microsoft Planetary Computer\n",
    "\n",
    "![Xarray Diagram](https://docs.xarray.dev/en/stable/_images/dataset-diagram.png)"
   ]
  },
  {
   "cell_type": "markdown",
   "id": "06db9a70",
   "metadata": {},
   "source": [
    "## Import Xarray | Importar Xarrray"
   ]
  },
  {
   "cell_type": "code",
   "execution_count": null,
   "id": "dab2e95e",
   "metadata": {},
   "outputs": [],
   "source": [
    "import xarray as xr\n",
    "import rioxarray as rxr"
   ]
  },
  {
   "cell_type": "markdown",
   "id": "8a6cdfba",
   "metadata": {},
   "source": [
    "Using the raster file we have been working with, we will quickly import it with xarray:"
   ]
  },
  {
   "cell_type": "code",
   "execution_count": null,
   "id": "1673b57e",
   "metadata": {},
   "outputs": [],
   "source": [
    "US_DEM = xr.open_dataarray('data/30n120w_20101117_gmted_mea300.tif', \n",
    "                       engine='rasterio',\n",
    "                      )\n",
    "US_DEM"
   ]
  },
  {
   "cell_type": "markdown",
   "id": "241bcb56",
   "metadata": {},
   "source": [
    "We must specifiy `engine='rasterio'` to use the RioXarray extension, which recognizes file formats like [Geotiff (.tif)](https://gdal.org/drivers/raster/index.html). Note the returned data object is a 3 dimensional DataArray ('band', 'y', 'x').\n",
    "\n",
    "---\n",
    "\n",
    "Usamos `engine='rasterio'` para utilizar la extension RioXarray, la cual tiene funciones para leer formatos geospaciales."
   ]
  },
  {
   "cell_type": "code",
   "execution_count": null,
   "id": "ad73922c",
   "metadata": {},
   "outputs": [],
   "source": [
    "#same workflow with xarray\n",
    "\n",
    "da = xr.open_dataarray(US_DEM, engine='rasterio').squeeze()\n",
    "zoom = da.isel(y=slice(1000,1500), x=slice(1500,2000))\n",
    "zoom = zoom.where(zoom <= 3500) #only keep these elevations\n",
    "plt.imshow(zoom)\n",
    "zoom.rio.to_raster('zoomed.tif')"
   ]
  },
  {
   "cell_type": "markdown",
   "id": "6678692e",
   "metadata": {},
   "source": [
    "Now let's look at importing data using the planetary computer. We import other packages that we're going use in this notebook | También importamos otros paquete que usaremos en este notebook."
   ]
  },
  {
   "cell_type": "code",
   "execution_count": null,
   "id": "181ae2fd",
   "metadata": {},
   "outputs": [],
   "source": [
    "import requests\n",
    "import os\n",
    "\n",
    "import planetary_computer \n",
    "import geopandas as gpd\n",
    "import pystac_client\n",
    "import odc.stac"
   ]
  },
  {
   "cell_type": "markdown",
   "id": "bbc91ffb",
   "metadata": {},
   "source": [
    "Do not worry about understanding the following cell, you can come back to it later. It creates a local copy of an image that we will use for this tutorial\n",
    "\n",
    "---\n",
    "\n",
    "No es necesario revisar la celula siguiente, puedes volver a estudiarlo despues. El Codigo crea un archivo de la imagen que usaremos."
   ]
  },
  {
   "cell_type": "code",
   "execution_count": null,
   "id": "b4e008e6",
   "metadata": {},
   "outputs": [],
   "source": [
    "# Example Raster from https://planetarycomputer.microsoft.com/dataset/landsat-c2-l2#Example-Notebook\n",
    "tif_url = 'https://landsateuwest.blob.core.windows.net/landsat-c2/level-2/standard/oli-tirs/2021/046/027/LC08_L2SP_046027_20210725_20210803_02_T1/LC08_L2SP_046027_20210725_20210803_02_T1_SR_B5.TIF'\n",
    "output = './data/LC08_L2SP_046027_20210725_20210803_02_T1_SR_B5_OV2.tif'\n",
    "\n",
    "def save_local_copy(tif, output):\n",
    "    \"\"\" Save low resolution geotiff from planetary computer for tutorial \"\"\"\n",
    "    \n",
    "    URL = f'https://planetarycomputer.microsoft.com/api/sas/v1/sign?href={tif}'\n",
    "    response = requests.get(URL).json()\n",
    "    signed_url = response['href'] # also \"msft:expiry\" (45min if anonymous request)\n",
    "    \n",
    "    if not os.path.exists(output):\n",
    "        da = xr.open_dataarray(signed_url, \n",
    "                               engine='rasterio',\n",
    "                               open_kwargs=dict(overview_level=2)\n",
    "                              )\n",
    "        da.rio.to_raster(output)\n",
    "        \n",
    "\n",
    "save_local_copy(tif_url, output)"
   ]
  },
  {
   "cell_type": "markdown",
   "id": "1bbc7de4",
   "metadata": {},
   "source": [
    "☝️ Many remote sensing datasets require authentication to access (NASA uses [\"Earth Data Login\"](https://urs.earthdata.nasa.gov). Microsoft's Planetary Computer uses an [API to sign URLs](https://planetarycomputer.microsoft.com/docs/concepts/sas/) given time-limited access. This is why we create a `signed_url` above. Note we stored a local copy for convenience (LC08_L2SP_046027_20210725_20210803_02_T1_SR_B5_OV2.tif), but Xarray can also read files directly from URLs! \n",
    "\n",
    "---\n",
    "\n",
    "Muchos archivos de imagenes satelitales requiren que obtengas permiso para bajar datoes (NASA utiliza \"Earth Data Login\", Microsoft Planetary Computer utiliza un API para creare vinculos valido por un tiempo limitado. Por eso arriba creamos un `singed_url`. Ojo: Guardamos una copia del archivo (LC08_L2SP_046027_20210725_20210803_02_T1_SR_B5_OV2.tif), pero Xarray tambien puede leer directamente del URL:"
   ]
  },
  {
   "cell_type": "markdown",
   "id": "5c71f48f",
   "metadata": {},
   "source": [
    "## How to read data? | ¿Cómo abrir datos?\n",
    "\n",
    "### DataArray\n",
    "\n",
    "A _DataArray_ is a N-dimensional data structure. Commonly with geospatial data we have a cube with 3 dimensions: x,y,time. But you could add even more dimensions like 'depth', 'band', 'polarization', 'experiment number',  etc. Xarray provides nice HTML-representations of it's data objects when you're using a Jupyter Notebook:\n",
    " \n",
    "---\n",
    "\n",
    "_DataArray_ es una representacion de datos regulares con N-dimeniones. Frequentamente en geociences tenemos 3 dimensions: x,y,tiempo. A veces hay aun más dimensiones: 'profundidad', 'banda', 'polarizacion', etc. En Jupyter Notebooks Xarray te demuestra una representacion grafica conveniente de este objecto:"
   ]
  },
  {
   "cell_type": "code",
   "execution_count": null,
   "id": "42e103b3",
   "metadata": {},
   "outputs": [],
   "source": [
    "da = xr.open_dataarray('./data/LC08_L2SP_046027_20210725_20210803_02_T1_SR_B5_OV2.tif', \n",
    "                       engine='rasterio',\n",
    "                      )\n",
    "da"
   ]
  },
  {
   "cell_type": "code",
   "execution_count": null,
   "id": "e36a7066",
   "metadata": {},
   "outputs": [],
   "source": [
    "da.plot();"
   ]
  },
  {
   "cell_type": "markdown",
   "id": "8fc9fb77",
   "metadata": {},
   "source": [
    "The `spatial_ref` coordinate has Coordinate Reference System (CRS) Information. This dataset is 'Universal Tranverse Mercator (UTM)'. Rioxarray has methods that can be accessed via the `.rio` attribute, for example to display the CRS (https://epsg.io/32610)"
   ]
  },
  {
   "cell_type": "code",
   "execution_count": null,
   "id": "44c100d9",
   "metadata": {},
   "outputs": [],
   "source": [
    "da.crs"
   ]
  },
  {
   "cell_type": "code",
   "execution_count": null,
   "id": "9d74d967",
   "metadata": {},
   "outputs": [],
   "source": [
    "da.rio.resolution() #Units?"
   ]
  },
  {
   "cell_type": "code",
   "execution_count": null,
   "id": "d226838e",
   "metadata": {},
   "outputs": [],
   "source": [
    "# reproject to lon/lat\n",
    "daLL = da.rio.reproject('EPSG:4326')\n",
    "daLL"
   ]
  },
  {
   "cell_type": "markdown",
   "id": "6a0204bd",
   "metadata": {},
   "source": [
    "Note: the dimensions have the same names ('x','y'). But now the coordinate *values* are 'longitude', 'latitude' instead of 'easting' and 'northing'. Also because we've reprojected the orginal data onto a new grid, the total size of the array has changed from (987, 972) to (802, 1171)"
   ]
  },
  {
   "cell_type": "code",
   "execution_count": null,
   "id": "3c94d5ee",
   "metadata": {},
   "outputs": [],
   "source": [
    "daLL.plot();"
   ]
  },
  {
   "cell_type": "markdown",
   "id": "0a7bbba8",
   "metadata": {},
   "source": [
    "## Sampling | Leer valores\n",
    "\n",
    "Xarray uses sampling based on either real-world coordinates (`.sel`) or row/col (`.isel`). This is similar to Pandas  `loc` or `.iloc` !\n",
    "\n",
    "---\n",
    "\n",
    "Xarray puede leer valores de los pixels con indices del coordinates geograficas (`.sel`) o fila, columna del matriz (`.isel`), similar a Pandas `.loc` y `iloc`"
   ]
  },
  {
   "cell_type": "code",
   "execution_count": null,
   "id": "f1432d0e",
   "metadata": {},
   "outputs": [],
   "source": [
    "daLL.sel(y=47.0, x=-122.0, method='nearest') # Return a DataArray"
   ]
  },
  {
   "cell_type": "code",
   "execution_count": null,
   "id": "82ac129f",
   "metadata": {},
   "outputs": [],
   "source": [
    "daLL.sel(y=47.0, x=-122.0, method='nearest').data # Return a numpy Array"
   ]
  },
  {
   "cell_type": "code",
   "execution_count": null,
   "id": "2a8ada55",
   "metadata": {},
   "outputs": [],
   "source": [
    "# Zoom in on Mt Rainier\n",
    "daLL.sel(y=slice(47.0, 46.7), x=slice(-122.0, -121.5)).plot();"
   ]
  },
  {
   "cell_type": "code",
   "execution_count": null,
   "id": "0b0e7e77",
   "metadata": {},
   "outputs": [],
   "source": [
    "# Extract a profile (best in UTM for x-axis in meters)\n",
    "da.sel(y=5.2e6, method='nearest').plot();"
   ]
  },
  {
   "cell_type": "markdown",
   "id": "e7dd0286",
   "metadata": {},
   "source": [
    "## Save a copy | Guardar archivo\n",
    "\n",
    "Let's say we want to save a copy of our cropped image to use later or in a different program like QGIS, Rioxarray allows us to write to various formats. Geotiff is the default:\n",
    "\n",
    "---\n",
    "\n",
    "Si queremos guardar una copia de la imagen cortado para usar luego o abrir en software different como QGIS, Rioxarray nos permite escribe formatos diferentes. Geotiff por defecto:"
   ]
  },
  {
   "cell_type": "code",
   "execution_count": null,
   "id": "ee834eea",
   "metadata": {},
   "outputs": [],
   "source": [
    "daCrop = daLL.sel(y=slice(47.0, 46.7), x=slice(-122.0, -121.5))\n",
    "daCrop.rio.to_raster('mt_rainier.tif')"
   ]
  },
  {
   "cell_type": "code",
   "execution_count": null,
   "id": "5132f7d9",
   "metadata": {},
   "outputs": [],
   "source": [
    "xr.open_dataarray('mt_rainier.tif', engine='rasterio').plot();"
   ]
  },
  {
   "cell_type": "markdown",
   "id": "06ecc870",
   "metadata": {},
   "source": [
    "## Homework\n",
    "\n",
    "Please make an account to explore the [ planetary computer ](https://planetarycomputer.microsoft.com/account/request). After creating an account, download data of your choice that you can read in to python, using Rasterio / Xarray. Manipulate the data with numpy and save the imagery as a GeoTiff. I'm excited to see what you come up with! \n",
    "\n",
    "---\n",
    "\n",
    "Cree una cuenta para explorar el [ planetary computer ](https://planetarycomputer.microsoft.com/account/request). Después de crear una cuenta, descargue los datos de su elección que pueda leer en python, usando Rasterio/Xarray. Manipule los datos con numpy y guarde las imágenes como GeoTiff. ¡Estoy emocionado de ver lo que se te ocurre!\n"
   ]
  }
 ],
 "metadata": {
  "kernelspec": {
   "display_name": "Python 3 (ipykernel)",
   "language": "python",
   "name": "python3"
  },
  "language_info": {
   "codemirror_mode": {
    "name": "ipython",
    "version": 3
   },
   "file_extension": ".py",
   "mimetype": "text/x-python",
   "name": "python",
   "nbconvert_exporter": "python",
   "pygments_lexer": "ipython3",
   "version": "3.8.13"
  }
 },
 "nbformat": 4,
 "nbformat_minor": 5
}
