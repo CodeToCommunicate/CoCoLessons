{
 "cells": [
  {
   "cell_type": "markdown",
   "metadata": {},
   "source": [
    "<img src=\"media/coco-banner.jpg\">"
   ]
  },
  {
   "cell_type": "markdown",
   "metadata": {
    "tags": []
   },
   "source": [
    "# Pandas\n",
    "\n",
    "[_Pandas_](https://pandas.pydata.org/) is a Python package that provides fast, flexible, and expressive data structures designed to make working with \"relational\" or \"labeled\" data both easy and intuitive.  \n",
    "\n",
    "We will learn about:\n",
    "* How to create and store a DataFrame.\n",
    "* How to open a file.\n",
    "* Some ways to work with a DataFrame.\n",
    "* Plots\n",
    "\n",
    "---\n",
    "\n",
    "[_Pandas_](https://pandas.pydata.org/)  es un paquete de Python que proporciona estructuras de datos rápidas y flexibles diseñadas para que el trabajo con datos \"relacionales\" o \"etiquetados\" sea fácil e intuitivo.\n",
    "\n",
    "Vamos a aprender sobre:\n",
    "* Cómo crear y almacenar un DataFrame.\n",
    "* Cómo abrir un archivo.\n",
    "* Alguna formas para trabajar con un DataFrame.\n",
    "* Graficar"
   ]
  },
  {
   "cell_type": "markdown",
   "metadata": {},
   "source": [
    "## Import Pandas | Importar Pandas"
   ]
  },
  {
   "cell_type": "code",
   "execution_count": 1,
   "metadata": {},
   "outputs": [],
   "source": [
    "import pandas as pd"
   ]
  },
  {
   "cell_type": "markdown",
   "metadata": {},
   "source": [
    "We also import other packages that we're going use in this notebook | También importamos otros paquete que usaremos en este notebook."
   ]
  },
  {
   "cell_type": "code",
   "execution_count": 2,
   "metadata": {},
   "outputs": [],
   "source": [
    "from pathlib import Path\n",
    "import matplotlib.pyplot as plt"
   ]
  },
  {
   "cell_type": "markdown",
   "metadata": {},
   "source": [
    "## How to create data? | ¿Cómo crear datos?\n",
    "\n",
    "### DataFrame\n",
    "\n",
    "A _DataFrame_ is a two-dimensional data structure, that is, the data is tabular aligned in rows and columns. \n",
    "One way to create a DataFrame is through a dictionary.\n",
    " \n",
    "---\n",
    "\n",
    "Un _DataFrame_ es una estructura de datos bidimensional, es decir, los datos tienen un formato tabular en filas y columnas.\n",
    "Una forma de crear un DataFrame es a través de un diccionario."
   ]
  },
  {
   "cell_type": "code",
   "execution_count": 3,
   "metadata": {},
   "outputs": [
    {
     "name": "stdout",
     "output_type": "stream",
     "text": [
      "     Rocío       Clara   Agustina\n",
      "0  Peruana  Venezolana  Argentina\n",
      "1      USA          UK     Canada\n",
      "2       40          25         36\n"
     ]
    }
   ],
   "source": [
    "dictionary_data = {\n",
    "    \"Rocío\": [\"Peruana\", \"USA\", 40],\n",
    "    \"Clara\": [\"Venezolana\", \"UK\", 25],\n",
    "    \"Agustina\": [\"Argentina\", \"Canada\", 36]\n",
    "}    \n",
    "\n",
    "data_frame = pd.DataFrame(dictionary_data)\n",
    "\n",
    "print(data_frame)"
   ]
  },
  {
   "cell_type": "markdown",
   "metadata": {},
   "source": [
    "As we can see, the indices go in ascending order starting from 0, but this can be changed using `index` when building the dataframe.\n",
    "\n",
    "---\n",
    "\n",
    "Como vemos, los indices van en orden ascendente a partir de 0, pero esto se puede cambiar usando `index` al construir el dataframe."
   ]
  },
  {
   "cell_type": "code",
   "execution_count": 4,
   "metadata": {},
   "outputs": [
    {
     "data": {
      "text/html": [
       "<div>\n",
       "<style scoped>\n",
       "    .dataframe tbody tr th:only-of-type {\n",
       "        vertical-align: middle;\n",
       "    }\n",
       "\n",
       "    .dataframe tbody tr th {\n",
       "        vertical-align: top;\n",
       "    }\n",
       "\n",
       "    .dataframe thead th {\n",
       "        text-align: right;\n",
       "    }\n",
       "</style>\n",
       "<table border=\"1\" class=\"dataframe\">\n",
       "  <thead>\n",
       "    <tr style=\"text-align: right;\">\n",
       "      <th></th>\n",
       "      <th>Rocío</th>\n",
       "      <th>Clara</th>\n",
       "      <th>Agustina</th>\n",
       "    </tr>\n",
       "  </thead>\n",
       "  <tbody>\n",
       "    <tr>\n",
       "      <th>Paìs de origen</th>\n",
       "      <td>Peruana</td>\n",
       "      <td>Venezolana</td>\n",
       "      <td>Argentina</td>\n",
       "    </tr>\n",
       "    <tr>\n",
       "      <th>Lugar de residencia</th>\n",
       "      <td>USA</td>\n",
       "      <td>UK</td>\n",
       "      <td>Canada</td>\n",
       "    </tr>\n",
       "    <tr>\n",
       "      <th>Edad</th>\n",
       "      <td>40</td>\n",
       "      <td>25</td>\n",
       "      <td>36</td>\n",
       "    </tr>\n",
       "  </tbody>\n",
       "</table>\n",
       "</div>"
      ],
      "text/plain": [
       "                       Rocío       Clara   Agustina\n",
       "Paìs de origen       Peruana  Venezolana  Argentina\n",
       "Lugar de residencia      USA          UK     Canada\n",
       "Edad                      40          25         36"
      ]
     },
     "execution_count": 4,
     "metadata": {},
     "output_type": "execute_result"
    }
   ],
   "source": [
    "data_frame = pd.DataFrame(\n",
    "    dictionary_data, \n",
    "    index=[\"Paìs de origen\", \"Lugar de residencia\", \"Edad\"]\n",
    ")\n",
    "\n",
    "data_frame"
   ]
  },
  {
   "cell_type": "markdown",
   "metadata": {},
   "source": [
    "To save the DataFrame as `csv`: | Para guardar un DadaFrame como `csv`:"
   ]
  },
  {
   "cell_type": "code",
   "execution_count": 5,
   "metadata": {},
   "outputs": [],
   "source": [
    "data_frame.to_csv(\"miembros.csv\")"
   ]
  },
  {
   "cell_type": "markdown",
   "metadata": {},
   "source": [
    "See the Pandas documentation to find other methods to save a DataFrame.\n",
    "\n",
    "---\n",
    "\n",
    "Investigue la documentación de Pandas para encontrar otros métodos para guardar un DataFrame."
   ]
  },
  {
   "cell_type": "markdown",
   "metadata": {
    "tags": []
   },
   "source": [
    "### Series\n",
    "\n",
    "If the DataFrame is a table, a `Series` is a \"column\" and can be created from a list.\n",
    "\n",
    "----\n",
    "\n",
    "Si el DataFrame es una tabla, una `Serie` es una \"columna\" y se puede crear a partir de una lista."
   ]
  },
  {
   "cell_type": "code",
   "execution_count": 6,
   "metadata": {},
   "outputs": [
    {
     "data": {
      "text/plain": [
       "0      0\n",
       "1     40\n",
       "2    400\n",
       "dtype: int64"
      ]
     },
     "execution_count": 6,
     "metadata": {},
     "output_type": "execute_result"
    }
   ],
   "source": [
    "col = pd.Series([0, 40, 400])\n",
    "\n",
    "col"
   ]
  },
  {
   "cell_type": "markdown",
   "metadata": {},
   "source": [
    "A `Series` is essentially a simple column of a DataFrame, so indexes can be assigned, however the Series does not have a column name but it has a general name` Name`\n",
    "\n",
    "---\n",
    "\n",
    "Una `Serie` es en esencia una columna simple de un DataFrame, así que se pueden asignar índices, sin embargo la Serie no tiene un nombre de columna sino un nombre general `Name`"
   ]
  },
  {
   "cell_type": "code",
   "execution_count": 7,
   "metadata": {},
   "outputs": [
    {
     "data": {
      "text/plain": [
       "2015       0\n",
       "2016      40\n",
       "2021     400\n",
       "Name: Numero de miembros, dtype: int64"
      ]
     },
     "execution_count": 7,
     "metadata": {},
     "output_type": "execute_result"
    }
   ],
   "source": [
    "col = pd.Series(\n",
    "    [0, 40, 400], \n",
    "    index=['2015 ', '2016', '2021'], \n",
    "    name='Numero de miembros'\n",
    ")\n",
    "\n",
    "col"
   ]
  },
  {
   "cell_type": "markdown",
   "metadata": {},
   "source": [
    "## Open a File | Abrir un archivo\n",
    "\n",
    "We are going to work with a dataset from the [Rock Property Catalog (RPC)](https://dataunderground.org/gl/dataset/rock-property-catalog), available as _.csv_ file \"comma-separated values\" \n",
    "\n",
    "---\n",
    "\n",
    "Vamos a trabajar con un dataset proveniente de un [Catálogo de Propiedades de Rocas (RPC)](https://dataunderground.org/gl/dataset/rock-property-catalog), el cual se encuentra en un archivo _.csv_ \"comma-separated values\""
   ]
  },
  {
   "cell_type": "code",
   "execution_count": 8,
   "metadata": {},
   "outputs": [],
   "source": [
    "# Path to the file | Ruta al archivo\n",
    "\n",
    "data_folder = Path(\".\") / \"data\""
   ]
  },
  {
   "cell_type": "code",
   "execution_count": 9,
   "metadata": {},
   "outputs": [],
   "source": [
    "# Open the file | Abrimos el archivo\n",
    "\n",
    "data = pd.read_csv(data_folder / \"RPC_4_lithologies_Messy.csv\")"
   ]
  },
  {
   "cell_type": "markdown",
   "metadata": {},
   "source": [
    "To have a look at the first 5 rows of a DataFrame, we can use the `head` method.\n",
    "\n",
    "---\n",
    "\n",
    "Para echar un vistazo a las primeras 5 filas de DataFrame, podemos usar el método `head`."
   ]
  },
  {
   "cell_type": "code",
   "execution_count": 10,
   "metadata": {},
   "outputs": [
    {
     "data": {
      "text/html": [
       "<div>\n",
       "<style scoped>\n",
       "    .dataframe tbody tr th:only-of-type {\n",
       "        vertical-align: middle;\n",
       "    }\n",
       "\n",
       "    .dataframe tbody tr th {\n",
       "        vertical-align: top;\n",
       "    }\n",
       "\n",
       "    .dataframe thead th {\n",
       "        text-align: right;\n",
       "    }\n",
       "</style>\n",
       "<table border=\"1\" class=\"dataframe\">\n",
       "  <thead>\n",
       "    <tr style=\"text-align: right;\">\n",
       "      <th></th>\n",
       "      <th>RPC</th>\n",
       "      <th>Source</th>\n",
       "      <th>Description</th>\n",
       "      <th>Lithology</th>\n",
       "      <th>Vs [km/s]</th>\n",
       "      <th>VpVs ratio</th>\n",
       "      <th>Rho [kg/m³]</th>\n",
       "    </tr>\n",
       "  </thead>\n",
       "  <tbody>\n",
       "    <tr>\n",
       "      <th>0</th>\n",
       "      <td>104818</td>\n",
       "      <td>RPC</td>\n",
       "      <td>KIAMICHI FORMA. 4</td>\n",
       "      <td>sandstone</td>\n",
       "      <td>1.5957</td>\n",
       "      <td>1.9086</td>\n",
       "      <td>2109.1206</td>\n",
       "    </tr>\n",
       "    <tr>\n",
       "      <th>1</th>\n",
       "      <td>104893</td>\n",
       "      <td>RPC</td>\n",
       "      <td>KIAMICHI REMOLD 3</td>\n",
       "      <td>sandstone</td>\n",
       "      <td>1.5171</td>\n",
       "      <td>1.9779</td>\n",
       "      <td>2090.0000</td>\n",
       "    </tr>\n",
       "    <tr>\n",
       "      <th>2</th>\n",
       "      <td>104652</td>\n",
       "      <td>RPC</td>\n",
       "      <td>NAVAJO ARCO 2</td>\n",
       "      <td>SANDST.</td>\n",
       "      <td>2.0415</td>\n",
       "      <td>1.6476</td>\n",
       "      <td>2131.9900</td>\n",
       "    </tr>\n",
       "    <tr>\n",
       "      <th>3</th>\n",
       "      <td>104752</td>\n",
       "      <td>RPC</td>\n",
       "      <td>NAVAJO ARCO REMOL 1</td>\n",
       "      <td>SANDST.</td>\n",
       "      <td>1.6062</td>\n",
       "      <td>1.9894</td>\n",
       "      <td>2184.9392</td>\n",
       "    </tr>\n",
       "    <tr>\n",
       "      <th>4</th>\n",
       "      <td>104598</td>\n",
       "      <td>RPC</td>\n",
       "      <td>FERRON 82-3 1677.5</td>\n",
       "      <td>sandstone</td>\n",
       "      <td>2.4486</td>\n",
       "      <td>1.7306</td>\n",
       "      <td>2472.2308</td>\n",
       "    </tr>\n",
       "  </tbody>\n",
       "</table>\n",
       "</div>"
      ],
      "text/plain": [
       "      RPC Source          Description  Lithology  Vs [km/s]  VpVs ratio  \\\n",
       "0  104818    RPC    KIAMICHI FORMA. 4  sandstone     1.5957      1.9086   \n",
       "1  104893    RPC    KIAMICHI REMOLD 3  sandstone     1.5171      1.9779   \n",
       "2  104652    RPC        NAVAJO ARCO 2    SANDST.     2.0415      1.6476   \n",
       "3  104752    RPC  NAVAJO ARCO REMOL 1    SANDST.     1.6062      1.9894   \n",
       "4  104598    RPC   FERRON 82-3 1677.5  sandstone     2.4486      1.7306   \n",
       "\n",
       "   Rho [kg/m³]  \n",
       "0    2109.1206  \n",
       "1    2090.0000  \n",
       "2    2131.9900  \n",
       "3    2184.9392  \n",
       "4    2472.2308  "
      ]
     },
     "execution_count": 10,
     "metadata": {},
     "output_type": "execute_result"
    }
   ],
   "source": [
    "data.head()"
   ]
  },
  {
   "cell_type": "code",
   "execution_count": 11,
   "metadata": {},
   "outputs": [
    {
     "data": {
      "text/html": [
       "<div>\n",
       "<style scoped>\n",
       "    .dataframe tbody tr th:only-of-type {\n",
       "        vertical-align: middle;\n",
       "    }\n",
       "\n",
       "    .dataframe tbody tr th {\n",
       "        vertical-align: top;\n",
       "    }\n",
       "\n",
       "    .dataframe thead th {\n",
       "        text-align: right;\n",
       "    }\n",
       "</style>\n",
       "<table border=\"1\" class=\"dataframe\">\n",
       "  <thead>\n",
       "    <tr style=\"text-align: right;\">\n",
       "      <th></th>\n",
       "      <th>RPC</th>\n",
       "      <th>Source</th>\n",
       "      <th>Description</th>\n",
       "      <th>Lithology</th>\n",
       "      <th>Vs [km/s]</th>\n",
       "      <th>VpVs ratio</th>\n",
       "      <th>Rho [kg/m³]</th>\n",
       "    </tr>\n",
       "  </thead>\n",
       "  <tbody>\n",
       "    <tr>\n",
       "      <th>0</th>\n",
       "      <td>104818</td>\n",
       "      <td>RPC</td>\n",
       "      <td>KIAMICHI FORMA. 4</td>\n",
       "      <td>sandstone</td>\n",
       "      <td>1.5957</td>\n",
       "      <td>1.9086</td>\n",
       "      <td>2109.1206</td>\n",
       "    </tr>\n",
       "    <tr>\n",
       "      <th>1</th>\n",
       "      <td>104893</td>\n",
       "      <td>RPC</td>\n",
       "      <td>KIAMICHI REMOLD 3</td>\n",
       "      <td>sandstone</td>\n",
       "      <td>1.5171</td>\n",
       "      <td>1.9779</td>\n",
       "      <td>2090.0000</td>\n",
       "    </tr>\n",
       "    <tr>\n",
       "      <th>2</th>\n",
       "      <td>104652</td>\n",
       "      <td>RPC</td>\n",
       "      <td>NAVAJO ARCO 2</td>\n",
       "      <td>SANDST.</td>\n",
       "      <td>2.0415</td>\n",
       "      <td>1.6476</td>\n",
       "      <td>2131.9900</td>\n",
       "    </tr>\n",
       "    <tr>\n",
       "      <th>3</th>\n",
       "      <td>104752</td>\n",
       "      <td>RPC</td>\n",
       "      <td>NAVAJO ARCO REMOL 1</td>\n",
       "      <td>SANDST.</td>\n",
       "      <td>1.6062</td>\n",
       "      <td>1.9894</td>\n",
       "      <td>2184.9392</td>\n",
       "    </tr>\n",
       "    <tr>\n",
       "      <th>4</th>\n",
       "      <td>104598</td>\n",
       "      <td>RPC</td>\n",
       "      <td>FERRON 82-3 1677.5</td>\n",
       "      <td>sandstone</td>\n",
       "      <td>2.4486</td>\n",
       "      <td>1.7306</td>\n",
       "      <td>2472.2308</td>\n",
       "    </tr>\n",
       "    <tr>\n",
       "      <th>5</th>\n",
       "      <td>104601</td>\n",
       "      <td>RPC</td>\n",
       "      <td>FERRON 82-3 1677.5</td>\n",
       "      <td>sandstone</td>\n",
       "      <td>2.4387</td>\n",
       "      <td>1.7711</td>\n",
       "      <td>2458.9597</td>\n",
       "    </tr>\n",
       "    <tr>\n",
       "      <th>6</th>\n",
       "      <td>104617</td>\n",
       "      <td>RPC</td>\n",
       "      <td>FERRON 82-3 1677.5</td>\n",
       "      <td>sandstone</td>\n",
       "      <td>2.7267</td>\n",
       "      <td>1.6624</td>\n",
       "      <td>2397.1364</td>\n",
       "    </tr>\n",
       "    <tr>\n",
       "      <th>7</th>\n",
       "      <td>104700</td>\n",
       "      <td>RPC</td>\n",
       "      <td>NAVAJO ARCO 3</td>\n",
       "      <td>SANDST.</td>\n",
       "      <td>2.0850</td>\n",
       "      <td>1.6971</td>\n",
       "      <td>2047.3621</td>\n",
       "    </tr>\n",
       "    <tr>\n",
       "      <th>8</th>\n",
       "      <td>104674</td>\n",
       "      <td>RPC</td>\n",
       "      <td>NAVAJO ARCO 2</td>\n",
       "      <td>SANDST.</td>\n",
       "      <td>2.0154</td>\n",
       "      <td>1.7489</td>\n",
       "      <td>2210.5288</td>\n",
       "    </tr>\n",
       "    <tr>\n",
       "      <th>9</th>\n",
       "      <td>104678</td>\n",
       "      <td>RPC</td>\n",
       "      <td>NAVAJO ARCO 2</td>\n",
       "      <td>SANDST.</td>\n",
       "      <td>2.0808</td>\n",
       "      <td>1.7134</td>\n",
       "      <td>2141.6202</td>\n",
       "    </tr>\n",
       "    <tr>\n",
       "      <th>10</th>\n",
       "      <td>104657</td>\n",
       "      <td>RPC</td>\n",
       "      <td>NAVAJO ARCO 2</td>\n",
       "      <td>SANDST.</td>\n",
       "      <td>2.1177</td>\n",
       "      <td>1.6257</td>\n",
       "      <td>2194.5844</td>\n",
       "    </tr>\n",
       "    <tr>\n",
       "      <th>11</th>\n",
       "      <td>104845</td>\n",
       "      <td>RPC</td>\n",
       "      <td>KIAMICHI FORMA. 1</td>\n",
       "      <td>sandstone</td>\n",
       "      <td>1.9608</td>\n",
       "      <td>1.7096</td>\n",
       "      <td>2080.5501</td>\n",
       "    </tr>\n",
       "    <tr>\n",
       "      <th>12</th>\n",
       "      <td>104666</td>\n",
       "      <td>RPC</td>\n",
       "      <td>NAVAJO ARCO 2</td>\n",
       "      <td>SANDST.</td>\n",
       "      <td>1.8192</td>\n",
       "      <td>1.8361</td>\n",
       "      <td>2158.1718</td>\n",
       "    </tr>\n",
       "    <tr>\n",
       "      <th>13</th>\n",
       "      <td>104649</td>\n",
       "      <td>RPC</td>\n",
       "      <td>NAVAJO ARCO 2</td>\n",
       "      <td>SANDST.</td>\n",
       "      <td>2.0928</td>\n",
       "      <td>1.5859</td>\n",
       "      <td>2191.4937</td>\n",
       "    </tr>\n",
       "    <tr>\n",
       "      <th>14</th>\n",
       "      <td>104711</td>\n",
       "      <td>RPC</td>\n",
       "      <td>NAVAJO ARCO REMOL 3</td>\n",
       "      <td>SANDST.</td>\n",
       "      <td>2.8870</td>\n",
       "      <td>1.5213</td>\n",
       "      <td>2178.4004</td>\n",
       "    </tr>\n",
       "    <tr>\n",
       "      <th>15</th>\n",
       "      <td>104777</td>\n",
       "      <td>RPC</td>\n",
       "      <td>NAVAJO ARCO REMOL 3</td>\n",
       "      <td>SANDST.</td>\n",
       "      <td>1.7124</td>\n",
       "      <td>1.9739</td>\n",
       "      <td>2007.8981</td>\n",
       "    </tr>\n",
       "    <tr>\n",
       "      <th>16</th>\n",
       "      <td>104827</td>\n",
       "      <td>RPC</td>\n",
       "      <td>KIAMICHI FORMA. 1</td>\n",
       "      <td>sandstone</td>\n",
       "      <td>1.7580</td>\n",
       "      <td>1.7549</td>\n",
       "      <td>2115.6986</td>\n",
       "    </tr>\n",
       "    <tr>\n",
       "      <th>17</th>\n",
       "      <td>104683</td>\n",
       "      <td>RPC</td>\n",
       "      <td>NAVAJO ARCO 2</td>\n",
       "      <td>SANDST.</td>\n",
       "      <td>2.1078</td>\n",
       "      <td>1.7161</td>\n",
       "      <td>2187.0308</td>\n",
       "    </tr>\n",
       "    <tr>\n",
       "      <th>18</th>\n",
       "      <td>104712</td>\n",
       "      <td>RPC</td>\n",
       "      <td>NAVAJO ARCO REMOL 3</td>\n",
       "      <td>SANDST.</td>\n",
       "      <td>3.4550</td>\n",
       "      <td>1.5647</td>\n",
       "      <td>2115.2519</td>\n",
       "    </tr>\n",
       "    <tr>\n",
       "      <th>19</th>\n",
       "      <td>104701</td>\n",
       "      <td>RPC</td>\n",
       "      <td>NAVAJO ARCO 3</td>\n",
       "      <td>SANDST.</td>\n",
       "      <td>2.1573</td>\n",
       "      <td>1.6783</td>\n",
       "      <td>2089.8802</td>\n",
       "    </tr>\n",
       "  </tbody>\n",
       "</table>\n",
       "</div>"
      ],
      "text/plain": [
       "       RPC Source          Description  Lithology  Vs [km/s]  VpVs ratio  \\\n",
       "0   104818    RPC    KIAMICHI FORMA. 4  sandstone     1.5957      1.9086   \n",
       "1   104893    RPC    KIAMICHI REMOLD 3  sandstone     1.5171      1.9779   \n",
       "2   104652    RPC        NAVAJO ARCO 2    SANDST.     2.0415      1.6476   \n",
       "3   104752    RPC  NAVAJO ARCO REMOL 1    SANDST.     1.6062      1.9894   \n",
       "4   104598    RPC   FERRON 82-3 1677.5  sandstone     2.4486      1.7306   \n",
       "5   104601    RPC   FERRON 82-3 1677.5  sandstone     2.4387      1.7711   \n",
       "6   104617    RPC   FERRON 82-3 1677.5  sandstone     2.7267      1.6624   \n",
       "7   104700    RPC        NAVAJO ARCO 3    SANDST.     2.0850      1.6971   \n",
       "8   104674    RPC        NAVAJO ARCO 2    SANDST.     2.0154      1.7489   \n",
       "9   104678    RPC        NAVAJO ARCO 2    SANDST.     2.0808      1.7134   \n",
       "10  104657    RPC        NAVAJO ARCO 2    SANDST.     2.1177      1.6257   \n",
       "11  104845    RPC    KIAMICHI FORMA. 1  sandstone     1.9608      1.7096   \n",
       "12  104666    RPC        NAVAJO ARCO 2    SANDST.     1.8192      1.8361   \n",
       "13  104649    RPC        NAVAJO ARCO 2    SANDST.     2.0928      1.5859   \n",
       "14  104711    RPC  NAVAJO ARCO REMOL 3    SANDST.     2.8870      1.5213   \n",
       "15  104777    RPC  NAVAJO ARCO REMOL 3    SANDST.     1.7124      1.9739   \n",
       "16  104827    RPC    KIAMICHI FORMA. 1  sandstone     1.7580      1.7549   \n",
       "17  104683    RPC        NAVAJO ARCO 2    SANDST.     2.1078      1.7161   \n",
       "18  104712    RPC  NAVAJO ARCO REMOL 3    SANDST.     3.4550      1.5647   \n",
       "19  104701    RPC        NAVAJO ARCO 3    SANDST.     2.1573      1.6783   \n",
       "\n",
       "    Rho [kg/m³]  \n",
       "0     2109.1206  \n",
       "1     2090.0000  \n",
       "2     2131.9900  \n",
       "3     2184.9392  \n",
       "4     2472.2308  \n",
       "5     2458.9597  \n",
       "6     2397.1364  \n",
       "7     2047.3621  \n",
       "8     2210.5288  \n",
       "9     2141.6202  \n",
       "10    2194.5844  \n",
       "11    2080.5501  \n",
       "12    2158.1718  \n",
       "13    2191.4937  \n",
       "14    2178.4004  \n",
       "15    2007.8981  \n",
       "16    2115.6986  \n",
       "17    2187.0308  \n",
       "18    2115.2519  \n",
       "19    2089.8802  "
      ]
     },
     "execution_count": 11,
     "metadata": {},
     "output_type": "execute_result"
    }
   ],
   "source": [
    "data.head(20)"
   ]
  },
  {
   "cell_type": "markdown",
   "metadata": {
    "tags": []
   },
   "source": [
    "### Formative assessment 1\n",
    "\n",
    "What do you think the method `DataFrame.tail()` does? | ¿Qué creen que hace el método `DataFrame.tail()`?\n",
    "\n",
    "1. Show the last 5 lines\n",
    "2. Show the last 5 columns\n",
    "3. It is not a method"
   ]
  },
  {
   "cell_type": "code",
   "execution_count": 12,
   "metadata": {
    "tags": []
   },
   "outputs": [
    {
     "data": {
      "text/html": [
       "<div>\n",
       "<style scoped>\n",
       "    .dataframe tbody tr th:only-of-type {\n",
       "        vertical-align: middle;\n",
       "    }\n",
       "\n",
       "    .dataframe tbody tr th {\n",
       "        vertical-align: top;\n",
       "    }\n",
       "\n",
       "    .dataframe thead th {\n",
       "        text-align: right;\n",
       "    }\n",
       "</style>\n",
       "<table border=\"1\" class=\"dataframe\">\n",
       "  <thead>\n",
       "    <tr style=\"text-align: right;\">\n",
       "      <th></th>\n",
       "      <th>RPC</th>\n",
       "      <th>Source</th>\n",
       "      <th>Description</th>\n",
       "      <th>Lithology</th>\n",
       "      <th>Vs [km/s]</th>\n",
       "      <th>VpVs ratio</th>\n",
       "      <th>Rho [kg/m³]</th>\n",
       "    </tr>\n",
       "  </thead>\n",
       "  <tbody>\n",
       "    <tr>\n",
       "      <th>803</th>\n",
       "      <td>102178</td>\n",
       "      <td>RPC</td>\n",
       "      <td>R.PRICE 10909.5 #31</td>\n",
       "      <td>dolomite</td>\n",
       "      <td>2.7592</td>\n",
       "      <td>1.6766</td>\n",
       "      <td>2414.0</td>\n",
       "    </tr>\n",
       "    <tr>\n",
       "      <th>804</th>\n",
       "      <td>102225</td>\n",
       "      <td>RPC</td>\n",
       "      <td>R.PRICE 10916.5 #38</td>\n",
       "      <td>dolomite</td>\n",
       "      <td>3.1168</td>\n",
       "      <td>1.7474</td>\n",
       "      <td>2475.7</td>\n",
       "    </tr>\n",
       "    <tr>\n",
       "      <th>805</th>\n",
       "      <td>102088</td>\n",
       "      <td>RPC</td>\n",
       "      <td>R.PRICE 10883.5 #7</td>\n",
       "      <td>dolomite</td>\n",
       "      <td>2.9987</td>\n",
       "      <td>1.8162</td>\n",
       "      <td>2521.1</td>\n",
       "    </tr>\n",
       "    <tr>\n",
       "      <th>806</th>\n",
       "      <td>102213</td>\n",
       "      <td>RPC</td>\n",
       "      <td>R.PRICE 10913.5 #35</td>\n",
       "      <td>dolomite</td>\n",
       "      <td>2.9331</td>\n",
       "      <td>1.8233</td>\n",
       "      <td>2470.8</td>\n",
       "    </tr>\n",
       "    <tr>\n",
       "      <th>807</th>\n",
       "      <td>102086</td>\n",
       "      <td>RPC</td>\n",
       "      <td>R.PRICE 10883.5 #7</td>\n",
       "      <td>dolomite</td>\n",
       "      <td>2.8970</td>\n",
       "      <td>1.8460</td>\n",
       "      <td>2549.2</td>\n",
       "    </tr>\n",
       "  </tbody>\n",
       "</table>\n",
       "</div>"
      ],
      "text/plain": [
       "        RPC Source          Description Lithology  Vs [km/s]  VpVs ratio  \\\n",
       "803  102178    RPC  R.PRICE 10909.5 #31  dolomite     2.7592      1.6766   \n",
       "804  102225    RPC  R.PRICE 10916.5 #38  dolomite     3.1168      1.7474   \n",
       "805  102088    RPC   R.PRICE 10883.5 #7  dolomite     2.9987      1.8162   \n",
       "806  102213    RPC  R.PRICE 10913.5 #35  dolomite     2.9331      1.8233   \n",
       "807  102086    RPC   R.PRICE 10883.5 #7  dolomite     2.8970      1.8460   \n",
       "\n",
       "     Rho [kg/m³]  \n",
       "803       2414.0  \n",
       "804       2475.7  \n",
       "805       2521.1  \n",
       "806       2470.8  \n",
       "807       2549.2  "
      ]
     },
     "execution_count": 12,
     "metadata": {},
     "output_type": "execute_result"
    }
   ],
   "source": [
    "# Solution | Solución\n",
    "\n",
    "data.tail()"
   ]
  },
  {
   "cell_type": "markdown",
   "metadata": {},
   "source": [
    "We use the `shape` attribute to know how big the DataFrame is.\n",
    "\n",
    "---\n",
    "\n",
    "Usamos el atributo `shape` para saber que tan grande es el DataFrame:"
   ]
  },
  {
   "cell_type": "code",
   "execution_count": 13,
   "metadata": {},
   "outputs": [
    {
     "data": {
      "text/plain": [
       "(808, 7)"
      ]
     },
     "execution_count": 13,
     "metadata": {},
     "output_type": "execute_result"
    }
   ],
   "source": [
    "data.shape"
   ]
  },
  {
   "cell_type": "markdown",
   "metadata": {},
   "source": [
    "`DataFrame.describe()` gets the summary statistics of only the columns that have numerical data.\n",
    "All other columns are ignored, unless you use the argument `include=\"all\"`.\n",
    "\n",
    "---\n",
    "\n",
    "`DataFrame.describe()` muestra una estadística de las columnas que tienen datos numéricos.\n",
    "Todas las demás columnas se ignoran, a menos que use el argumento `include=\"all\"`."
   ]
  },
  {
   "cell_type": "code",
   "execution_count": 14,
   "metadata": {},
   "outputs": [
    {
     "data": {
      "text/html": [
       "<div>\n",
       "<style scoped>\n",
       "    .dataframe tbody tr th:only-of-type {\n",
       "        vertical-align: middle;\n",
       "    }\n",
       "\n",
       "    .dataframe tbody tr th {\n",
       "        vertical-align: top;\n",
       "    }\n",
       "\n",
       "    .dataframe thead th {\n",
       "        text-align: right;\n",
       "    }\n",
       "</style>\n",
       "<table border=\"1\" class=\"dataframe\">\n",
       "  <thead>\n",
       "    <tr style=\"text-align: right;\">\n",
       "      <th></th>\n",
       "      <th>RPC</th>\n",
       "      <th>Vs [km/s]</th>\n",
       "      <th>VpVs ratio</th>\n",
       "      <th>Rho [kg/m³]</th>\n",
       "    </tr>\n",
       "  </thead>\n",
       "  <tbody>\n",
       "    <tr>\n",
       "      <th>count</th>\n",
       "      <td>808.000000</td>\n",
       "      <td>808.000000</td>\n",
       "      <td>808.000000</td>\n",
       "      <td>760.000000</td>\n",
       "    </tr>\n",
       "    <tr>\n",
       "      <th>mean</th>\n",
       "      <td>102277.626238</td>\n",
       "      <td>2.116353</td>\n",
       "      <td>1.887390</td>\n",
       "      <td>2319.261095</td>\n",
       "    </tr>\n",
       "    <tr>\n",
       "      <th>std</th>\n",
       "      <td>1537.484250</td>\n",
       "      <td>0.747915</td>\n",
       "      <td>0.377769</td>\n",
       "      <td>255.732807</td>\n",
       "    </tr>\n",
       "    <tr>\n",
       "      <th>min</th>\n",
       "      <td>100031.000000</td>\n",
       "      <td>0.441300</td>\n",
       "      <td>1.337600</td>\n",
       "      <td>1721.753500</td>\n",
       "    </tr>\n",
       "    <tr>\n",
       "      <th>25%</th>\n",
       "      <td>101112.750000</td>\n",
       "      <td>1.527225</td>\n",
       "      <td>1.666075</td>\n",
       "      <td>2115.586925</td>\n",
       "    </tr>\n",
       "    <tr>\n",
       "      <th>50%</th>\n",
       "      <td>102083.500000</td>\n",
       "      <td>2.202600</td>\n",
       "      <td>1.779850</td>\n",
       "      <td>2382.300000</td>\n",
       "    </tr>\n",
       "    <tr>\n",
       "      <th>75%</th>\n",
       "      <td>103284.750000</td>\n",
       "      <td>2.733000</td>\n",
       "      <td>1.943675</td>\n",
       "      <td>2529.143800</td>\n",
       "    </tr>\n",
       "    <tr>\n",
       "      <th>max</th>\n",
       "      <td>105090.000000</td>\n",
       "      <td>3.665000</td>\n",
       "      <td>4.707800</td>\n",
       "      <td>2823.287700</td>\n",
       "    </tr>\n",
       "  </tbody>\n",
       "</table>\n",
       "</div>"
      ],
      "text/plain": [
       "                 RPC   Vs [km/s]  VpVs ratio  Rho [kg/m³]\n",
       "count     808.000000  808.000000  808.000000   760.000000\n",
       "mean   102277.626238    2.116353    1.887390  2319.261095\n",
       "std      1537.484250    0.747915    0.377769   255.732807\n",
       "min    100031.000000    0.441300    1.337600  1721.753500\n",
       "25%    101112.750000    1.527225    1.666075  2115.586925\n",
       "50%    102083.500000    2.202600    1.779850  2382.300000\n",
       "75%    103284.750000    2.733000    1.943675  2529.143800\n",
       "max    105090.000000    3.665000    4.707800  2823.287700"
      ]
     },
     "execution_count": 14,
     "metadata": {},
     "output_type": "execute_result"
    }
   ],
   "source": [
    "data.describe()"
   ]
  },
  {
   "cell_type": "markdown",
   "metadata": {},
   "source": [
    "`DataFrame.dtypes` shows the type of variable per column. It is recommended to review additional [documentation](https://pandas.pydata.org/docs/user_guide/text.html) and [references](https://stackoverflow.com/questions/21018654/strings-in-a-dataframe-but-dtype-is-object#:~:text=But%20for%20strings%2C%20the%20length,this%20kind%20ndarray%20is%20object.)  to understand why the \"Source\", \"Description\" and \"Lithology\" columns are presented as objects and not as strings.\n",
    "\n",
    "---\n",
    "\n",
    "`DataFrame.dtypes` muestra qué tipo de dato contiene cada columna. Se recomienda revisar [documentacion](https://pandas.pydata.org/docs/user_guide/text.html) y [referencias](https://stackoverflow.com/questions/21018654/strings-in-a-dataframe-but-dtype-is-object#:~:text=But%20for%20strings%2C%20the%20length,this%20kind%20ndarray%20is%20object.) adicionales para entender el por qué las columnas \"Source\", \"Description\" y \"Lithology\" se presentan como objetos y no como strings."
   ]
  },
  {
   "cell_type": "code",
   "execution_count": 15,
   "metadata": {},
   "outputs": [
    {
     "data": {
      "text/plain": [
       "RPC              int64\n",
       "Source          object\n",
       "Description     object\n",
       "Lithology       object\n",
       "Vs [km/s]      float64\n",
       "VpVs ratio     float64\n",
       "Rho [kg/m³]    float64\n",
       "dtype: object"
      ]
     },
     "execution_count": 15,
     "metadata": {},
     "output_type": "execute_result"
    }
   ],
   "source": [
    "data.dtypes"
   ]
  },
  {
   "cell_type": "markdown",
   "metadata": {},
   "source": [
    "## DataFrame columns\n",
    "\n",
    "If we want to access the _Description_ property of the DataFrame, this notation can be used:\n",
    "\n",
    "---\n",
    "\n",
    "Si quiero acceder a la propiedad _Description_ del DataFrame se puede usar esta notación:"
   ]
  },
  {
   "cell_type": "code",
   "execution_count": 16,
   "metadata": {},
   "outputs": [
    {
     "data": {
      "text/plain": [
       "0        KIAMICHI FORMA. 4\n",
       "1        KIAMICHI REMOLD 3\n",
       "2            NAVAJO ARCO 2\n",
       "3      NAVAJO ARCO REMOL 1\n",
       "4       FERRON 82-3 1677.5\n",
       "              ...         \n",
       "803    R.PRICE 10909.5 #31\n",
       "804    R.PRICE 10916.5 #38\n",
       "805     R.PRICE 10883.5 #7\n",
       "806    R.PRICE 10913.5 #35\n",
       "807     R.PRICE 10883.5 #7\n",
       "Name: Description, Length: 808, dtype: object"
      ]
     },
     "execution_count": 16,
     "metadata": {},
     "output_type": "execute_result"
    }
   ],
   "source": [
    "data[\"Description\"]"
   ]
  },
  {
   "cell_type": "code",
   "execution_count": 17,
   "metadata": {},
   "outputs": [
    {
     "data": {
      "text/plain": [
       "0      1.5957\n",
       "1      1.5171\n",
       "2      2.0415\n",
       "3      1.6062\n",
       "4      2.4486\n",
       "        ...  \n",
       "803    2.7592\n",
       "804    3.1168\n",
       "805    2.9987\n",
       "806    2.9331\n",
       "807    2.8970\n",
       "Name: Vs [km/s], Length: 808, dtype: float64"
      ]
     },
     "execution_count": 17,
     "metadata": {},
     "output_type": "execute_result"
    }
   ],
   "source": [
    "data[\"Vs [km/s]\"]"
   ]
  },
  {
   "cell_type": "markdown",
   "metadata": {},
   "source": [
    "## Selecting values | Seleccionando valores\n",
    "\n",
    "To access a value at the position `[i, j]` of a DataFrame, we have two options, using the index or the label.\n",
    "Remember that a DataFrame provides an index as a way to identify the rows of the table; a row, then, has a position inside the table as well as a label, which uniquely identifies its entry in the DataFrame.\n",
    "\n",
    "---\n",
    "\n",
    "Para acceder a un valor en la posición `[i, j]` de un DataFrame, tenemos dos opciones, usando el *indice o la etiqueta*.\n",
    "Recuerde que un DataFrame proporciona un índice como una forma de identificar las filas de la tabla; una fila, entonces, tiene una posición dentro de la tabla, así como una etiqueta, que identifica de forma única su entrada en el DataFrame."
   ]
  },
  {
   "cell_type": "code",
   "execution_count": 18,
   "metadata": {},
   "outputs": [
    {
     "data": {
      "text/html": [
       "<div>\n",
       "<style scoped>\n",
       "    .dataframe tbody tr th:only-of-type {\n",
       "        vertical-align: middle;\n",
       "    }\n",
       "\n",
       "    .dataframe tbody tr th {\n",
       "        vertical-align: top;\n",
       "    }\n",
       "\n",
       "    .dataframe thead th {\n",
       "        text-align: right;\n",
       "    }\n",
       "</style>\n",
       "<table border=\"1\" class=\"dataframe\">\n",
       "  <thead>\n",
       "    <tr style=\"text-align: right;\">\n",
       "      <th></th>\n",
       "      <th>RPC</th>\n",
       "      <th>Source</th>\n",
       "      <th>Description</th>\n",
       "      <th>Lithology</th>\n",
       "      <th>Vs [km/s]</th>\n",
       "      <th>VpVs ratio</th>\n",
       "      <th>Rho [kg/m³]</th>\n",
       "    </tr>\n",
       "  </thead>\n",
       "  <tbody>\n",
       "    <tr>\n",
       "      <th>0</th>\n",
       "      <td>104818</td>\n",
       "      <td>RPC</td>\n",
       "      <td>KIAMICHI FORMA. 4</td>\n",
       "      <td>sandstone</td>\n",
       "      <td>1.5957</td>\n",
       "      <td>1.9086</td>\n",
       "      <td>2109.1206</td>\n",
       "    </tr>\n",
       "    <tr>\n",
       "      <th>1</th>\n",
       "      <td>104893</td>\n",
       "      <td>RPC</td>\n",
       "      <td>KIAMICHI REMOLD 3</td>\n",
       "      <td>sandstone</td>\n",
       "      <td>1.5171</td>\n",
       "      <td>1.9779</td>\n",
       "      <td>2090.0000</td>\n",
       "    </tr>\n",
       "    <tr>\n",
       "      <th>2</th>\n",
       "      <td>104652</td>\n",
       "      <td>RPC</td>\n",
       "      <td>NAVAJO ARCO 2</td>\n",
       "      <td>SANDST.</td>\n",
       "      <td>2.0415</td>\n",
       "      <td>1.6476</td>\n",
       "      <td>2131.9900</td>\n",
       "    </tr>\n",
       "    <tr>\n",
       "      <th>3</th>\n",
       "      <td>104752</td>\n",
       "      <td>RPC</td>\n",
       "      <td>NAVAJO ARCO REMOL 1</td>\n",
       "      <td>SANDST.</td>\n",
       "      <td>1.6062</td>\n",
       "      <td>1.9894</td>\n",
       "      <td>2184.9392</td>\n",
       "    </tr>\n",
       "    <tr>\n",
       "      <th>4</th>\n",
       "      <td>104598</td>\n",
       "      <td>RPC</td>\n",
       "      <td>FERRON 82-3 1677.5</td>\n",
       "      <td>sandstone</td>\n",
       "      <td>2.4486</td>\n",
       "      <td>1.7306</td>\n",
       "      <td>2472.2308</td>\n",
       "    </tr>\n",
       "  </tbody>\n",
       "</table>\n",
       "</div>"
      ],
      "text/plain": [
       "      RPC Source          Description  Lithology  Vs [km/s]  VpVs ratio  \\\n",
       "0  104818    RPC    KIAMICHI FORMA. 4  sandstone     1.5957      1.9086   \n",
       "1  104893    RPC    KIAMICHI REMOLD 3  sandstone     1.5171      1.9779   \n",
       "2  104652    RPC        NAVAJO ARCO 2    SANDST.     2.0415      1.6476   \n",
       "3  104752    RPC  NAVAJO ARCO REMOL 1    SANDST.     1.6062      1.9894   \n",
       "4  104598    RPC   FERRON 82-3 1677.5  sandstone     2.4486      1.7306   \n",
       "\n",
       "   Rho [kg/m³]  \n",
       "0    2109.1206  \n",
       "1    2090.0000  \n",
       "2    2131.9900  \n",
       "3    2184.9392  \n",
       "4    2472.2308  "
      ]
     },
     "execution_count": 18,
     "metadata": {},
     "output_type": "execute_result"
    }
   ],
   "source": [
    "data.head()"
   ]
  },
  {
   "cell_type": "markdown",
   "metadata": {},
   "source": [
    "### Using the position | Usando la posición\n",
    "\n",
    "Use `DataFrame.iloc[..., ...]` to select values by their position.\n",
    "\n",
    "`[i, j]` The first one is the row position and the second one is the column position.\n",
    "\n",
    "---\n",
    "\n",
    "Utilice `DataFrame.iloc [..., ...]` para seleccionar valores por su posición.\n",
    "\n",
    "`[i, j]` El primero es la posición de la fila y el segundo es la posición de la columna."
   ]
  },
  {
   "cell_type": "code",
   "execution_count": 19,
   "metadata": {},
   "outputs": [
    {
     "data": {
      "text/plain": [
       "104818"
      ]
     },
     "execution_count": 19,
     "metadata": {},
     "output_type": "execute_result"
    }
   ],
   "source": [
    "# First element of the row number zero and the column index \n",
    "# Primer elemento de la fila cero y la columna index\n",
    "\n",
    "data.iloc[0, 0]"
   ]
  },
  {
   "cell_type": "code",
   "execution_count": 20,
   "metadata": {},
   "outputs": [
    {
     "data": {
      "text/plain": [
       "0      2109.1206\n",
       "1      2090.0000\n",
       "2      2131.9900\n",
       "3      2184.9392\n",
       "4      2472.2308\n",
       "         ...    \n",
       "803    2414.0000\n",
       "804    2475.7000\n",
       "805    2521.1000\n",
       "806    2470.8000\n",
       "807    2549.2000\n",
       "Name: Rho [kg/m³], Length: 808, dtype: float64"
      ]
     },
     "execution_count": 20,
     "metadata": {},
     "output_type": "execute_result"
    }
   ],
   "source": [
    "# All the rows of the las column called Rho\n",
    "# Toda las filas de la última columna llamada Rho\n",
    "\n",
    "data.iloc[:, -1]"
   ]
  },
  {
   "cell_type": "markdown",
   "metadata": {},
   "source": [
    "We can use what we saw in the first notebook about indexes. | Podemos usar lo que vimos en el primer notebook sobre los índices."
   ]
  },
  {
   "cell_type": "markdown",
   "metadata": {},
   "source": [
    "#### Formative assessment 2\n",
    "\n",
    "How can we see the values of the _Lithology_ column that are between rows 100 and 120?\n",
    "\n",
    "---\n",
    "\n",
    "¿Cómo podemos ver los valores de de la columna _Lithology_ que están entre las filas 100 y 120?\n",
    "\n",
    "1. `data.iloc[100:120]`\n",
    "2. `data.iloc[100:121, 4]`\n",
    "3. `data.iloc[100:120, 4]`\n",
    "4. `data.iloc[100:121, \"Lithology\"]`"
   ]
  },
  {
   "cell_type": "code",
   "execution_count": 21,
   "metadata": {
    "tags": []
   },
   "outputs": [
    {
     "data": {
      "text/plain": [
       "100    1.7415\n",
       "101    2.7330\n",
       "102    2.1981\n",
       "103    1.5213\n",
       "104    2.7852\n",
       "105    2.1486\n",
       "106    2.7207\n",
       "107    1.7800\n",
       "108    3.3790\n",
       "109    2.7267\n",
       "110    2.4387\n",
       "111    1.5423\n",
       "112    1.9668\n",
       "113    2.5416\n",
       "114    2.1114\n",
       "115    2.4009\n",
       "116    2.3892\n",
       "117    2.6853\n",
       "118    2.1225\n",
       "119    2.8332\n",
       "120    2.7948\n",
       "Name: Vs [km/s], dtype: float64"
      ]
     },
     "execution_count": 21,
     "metadata": {},
     "output_type": "execute_result"
    }
   ],
   "source": [
    "# Solution | Solución\n",
    "\n",
    "data.iloc[100:121, 4]"
   ]
  },
  {
   "cell_type": "markdown",
   "metadata": {},
   "source": [
    "### Using the label | Usando la etiqueta\n",
    "\n",
    "Use `DataFrame.loc[..., ...]` to select values by their label.\n",
    "\n",
    "`[index, label]` The first one is the row index and the second one is the column label.\n",
    "\n",
    "---\n",
    "\n",
    "Use `DataFrame.loc[..., ...]` para seleccionar valores por su etiqueta.\n",
    "\n",
    "`[índice, etiqueta]` El primero es el índice de la fila y el segundo es la etiqueta de la columna."
   ]
  },
  {
   "cell_type": "code",
   "execution_count": 22,
   "metadata": {},
   "outputs": [
    {
     "data": {
      "text/plain": [
       "104752"
      ]
     },
     "execution_count": 22,
     "metadata": {},
     "output_type": "execute_result"
    }
   ],
   "source": [
    "data.loc[3, \"RPC\"]"
   ]
  },
  {
   "cell_type": "code",
   "execution_count": 23,
   "metadata": {},
   "outputs": [
    {
     "data": {
      "text/plain": [
       "3     104752\n",
       "4     104598\n",
       "5     104601\n",
       "6     104617\n",
       "7     104700\n",
       "8     104674\n",
       "9     104678\n",
       "10    104657\n",
       "Name: RPC, dtype: int64"
      ]
     },
     "execution_count": 23,
     "metadata": {},
     "output_type": "execute_result"
    }
   ],
   "source": [
    "data.loc[3:10, \"RPC\"]"
   ]
  },
  {
   "cell_type": "markdown",
   "metadata": {},
   "source": [
    "#### Formative assessment 3\n",
    "\n",
    "How can we see the values of the _Lithology_ and _Rho_ columns that are between rows 100 and 120?\n",
    "\n",
    "---\n",
    "\n",
    "¿Cómo podemos ver los valores de de las columna _Lithology_ y _Rho [kg/m³]_ que están entre las filas 100 y 120?\n",
    "\n",
    "1. `data.loc[100:120]`\n",
    "2. `data.loc[100:121, [4, 7]]`\n",
    "3. `data.iloc[100:121, [\"Lithology\", \"Rho [kg/m³]\"]]`\n",
    "4. `data.loc[100:120, [\"Lithology\", \"Rho [kg/m³]\"]]`"
   ]
  },
  {
   "cell_type": "code",
   "execution_count": 24,
   "metadata": {},
   "outputs": [
    {
     "data": {
      "text/html": [
       "<div>\n",
       "<style scoped>\n",
       "    .dataframe tbody tr th:only-of-type {\n",
       "        vertical-align: middle;\n",
       "    }\n",
       "\n",
       "    .dataframe tbody tr th {\n",
       "        vertical-align: top;\n",
       "    }\n",
       "\n",
       "    .dataframe thead th {\n",
       "        text-align: right;\n",
       "    }\n",
       "</style>\n",
       "<table border=\"1\" class=\"dataframe\">\n",
       "  <thead>\n",
       "    <tr style=\"text-align: right;\">\n",
       "      <th></th>\n",
       "      <th>Lithology</th>\n",
       "      <th>Rho [kg/m³]</th>\n",
       "    </tr>\n",
       "  </thead>\n",
       "  <tbody>\n",
       "    <tr>\n",
       "      <th>100</th>\n",
       "      <td>SANDST.</td>\n",
       "      <td>2015.5767</td>\n",
       "    </tr>\n",
       "    <tr>\n",
       "      <th>101</th>\n",
       "      <td>sandstone</td>\n",
       "      <td>2351.9722</td>\n",
       "    </tr>\n",
       "    <tr>\n",
       "      <th>102</th>\n",
       "      <td>SANDST.</td>\n",
       "      <td>2197.0000</td>\n",
       "    </tr>\n",
       "    <tr>\n",
       "      <th>103</th>\n",
       "      <td>SANDST.</td>\n",
       "      <td>2060.5531</td>\n",
       "    </tr>\n",
       "    <tr>\n",
       "      <th>104</th>\n",
       "      <td>sandstone</td>\n",
       "      <td>2430.7511</td>\n",
       "    </tr>\n",
       "    <tr>\n",
       "      <th>105</th>\n",
       "      <td>SANDST.</td>\n",
       "      <td>2208.8304</td>\n",
       "    </tr>\n",
       "    <tr>\n",
       "      <th>106</th>\n",
       "      <td>sandstone</td>\n",
       "      <td>2385.2903</td>\n",
       "    </tr>\n",
       "    <tr>\n",
       "      <th>107</th>\n",
       "      <td>sandstone</td>\n",
       "      <td>2425.7601</td>\n",
       "    </tr>\n",
       "    <tr>\n",
       "      <th>108</th>\n",
       "      <td>SANDST.</td>\n",
       "      <td>2096.1722</td>\n",
       "    </tr>\n",
       "    <tr>\n",
       "      <th>109</th>\n",
       "      <td>sandstone</td>\n",
       "      <td>2457.0679</td>\n",
       "    </tr>\n",
       "    <tr>\n",
       "      <th>110</th>\n",
       "      <td>sandstone</td>\n",
       "      <td>2400.6189</td>\n",
       "    </tr>\n",
       "    <tr>\n",
       "      <th>111</th>\n",
       "      <td>sandstone</td>\n",
       "      <td>2099.4915</td>\n",
       "    </tr>\n",
       "    <tr>\n",
       "      <th>112</th>\n",
       "      <td>sandstone</td>\n",
       "      <td>2066.5739</td>\n",
       "    </tr>\n",
       "    <tr>\n",
       "      <th>113</th>\n",
       "      <td>sandstone</td>\n",
       "      <td>2403.1474</td>\n",
       "    </tr>\n",
       "    <tr>\n",
       "      <th>114</th>\n",
       "      <td>SANDST.</td>\n",
       "      <td>2133.2576</td>\n",
       "    </tr>\n",
       "    <tr>\n",
       "      <th>115</th>\n",
       "      <td>sandstone</td>\n",
       "      <td>2417.3564</td>\n",
       "    </tr>\n",
       "    <tr>\n",
       "      <th>116</th>\n",
       "      <td>sandstone</td>\n",
       "      <td>2467.3356</td>\n",
       "    </tr>\n",
       "    <tr>\n",
       "      <th>117</th>\n",
       "      <td>sandstone</td>\n",
       "      <td>2466.6559</td>\n",
       "    </tr>\n",
       "    <tr>\n",
       "      <th>118</th>\n",
       "      <td>SANDST.</td>\n",
       "      <td>2056.4048</td>\n",
       "    </tr>\n",
       "    <tr>\n",
       "      <th>119</th>\n",
       "      <td>sandstone</td>\n",
       "      <td>2356.3583</td>\n",
       "    </tr>\n",
       "    <tr>\n",
       "      <th>120</th>\n",
       "      <td>sandstone</td>\n",
       "      <td>2419.0819</td>\n",
       "    </tr>\n",
       "  </tbody>\n",
       "</table>\n",
       "</div>"
      ],
      "text/plain": [
       "     Lithology  Rho [kg/m³]\n",
       "100    SANDST.    2015.5767\n",
       "101  sandstone    2351.9722\n",
       "102    SANDST.    2197.0000\n",
       "103    SANDST.    2060.5531\n",
       "104  sandstone    2430.7511\n",
       "105    SANDST.    2208.8304\n",
       "106  sandstone    2385.2903\n",
       "107  sandstone    2425.7601\n",
       "108    SANDST.    2096.1722\n",
       "109  sandstone    2457.0679\n",
       "110  sandstone    2400.6189\n",
       "111  sandstone    2099.4915\n",
       "112  sandstone    2066.5739\n",
       "113  sandstone    2403.1474\n",
       "114    SANDST.    2133.2576\n",
       "115  sandstone    2417.3564\n",
       "116  sandstone    2467.3356\n",
       "117  sandstone    2466.6559\n",
       "118    SANDST.    2056.4048\n",
       "119  sandstone    2356.3583\n",
       "120  sandstone    2419.0819"
      ]
     },
     "execution_count": 24,
     "metadata": {},
     "output_type": "execute_result"
    }
   ],
   "source": [
    "# Solution | Solución\n",
    "data.loc[100:120, [\"Lithology\", \"Rho [kg/m³]\"]]"
   ]
  },
  {
   "cell_type": "markdown",
   "metadata": {},
   "source": [
    "### Conditional selection | Selección condicional\n",
    "\n",
    "We use the conditional syntax to find the data that satisfies a given condition.\n",
    "\n",
    "---\n",
    "\n",
    "Usamos la sintaxis condicional para encontrar los datos que satisfacen una dada condición."
   ]
  },
  {
   "cell_type": "markdown",
   "metadata": {},
   "source": [
    "For example, we can check if there are densities greater than 2000 $kg/m^3$ | Por ejemplo podemos chequear si hay densidades mayores a 2000 $kg/m^3$:"
   ]
  },
  {
   "cell_type": "code",
   "execution_count": 25,
   "metadata": {},
   "outputs": [
    {
     "data": {
      "text/plain": [
       "0      True\n",
       "1      True\n",
       "2      True\n",
       "3      True\n",
       "4      True\n",
       "       ... \n",
       "803    True\n",
       "804    True\n",
       "805    True\n",
       "806    True\n",
       "807    True\n",
       "Name: Rho [kg/m³], Length: 808, dtype: bool"
      ]
     },
     "execution_count": 25,
     "metadata": {},
     "output_type": "execute_result"
    }
   ],
   "source": [
    "data[\"Rho [kg/m³]\"] > 2000"
   ]
  },
  {
   "cell_type": "markdown",
   "metadata": {},
   "source": [
    "We want all the data where the lithology is sandstone. What would the condition be? | Queremos todos los datos donde la litología es arenisca. ¿Cómo sería la condición?"
   ]
  },
  {
   "cell_type": "code",
   "execution_count": 26,
   "metadata": {
    "tags": []
   },
   "outputs": [
    {
     "data": {
      "text/html": [
       "<div>\n",
       "<style scoped>\n",
       "    .dataframe tbody tr th:only-of-type {\n",
       "        vertical-align: middle;\n",
       "    }\n",
       "\n",
       "    .dataframe tbody tr th {\n",
       "        vertical-align: top;\n",
       "    }\n",
       "\n",
       "    .dataframe thead th {\n",
       "        text-align: right;\n",
       "    }\n",
       "</style>\n",
       "<table border=\"1\" class=\"dataframe\">\n",
       "  <thead>\n",
       "    <tr style=\"text-align: right;\">\n",
       "      <th></th>\n",
       "      <th>RPC</th>\n",
       "      <th>Source</th>\n",
       "      <th>Description</th>\n",
       "      <th>Lithology</th>\n",
       "      <th>Vs [km/s]</th>\n",
       "      <th>VpVs ratio</th>\n",
       "      <th>Rho [kg/m³]</th>\n",
       "    </tr>\n",
       "  </thead>\n",
       "  <tbody>\n",
       "    <tr>\n",
       "      <th>0</th>\n",
       "      <td>104818</td>\n",
       "      <td>RPC</td>\n",
       "      <td>KIAMICHI FORMA. 4</td>\n",
       "      <td>sandstone</td>\n",
       "      <td>1.5957</td>\n",
       "      <td>1.9086</td>\n",
       "      <td>2109.1206</td>\n",
       "    </tr>\n",
       "    <tr>\n",
       "      <th>1</th>\n",
       "      <td>104893</td>\n",
       "      <td>RPC</td>\n",
       "      <td>KIAMICHI REMOLD 3</td>\n",
       "      <td>sandstone</td>\n",
       "      <td>1.5171</td>\n",
       "      <td>1.9779</td>\n",
       "      <td>2090.0000</td>\n",
       "    </tr>\n",
       "    <tr>\n",
       "      <th>4</th>\n",
       "      <td>104598</td>\n",
       "      <td>RPC</td>\n",
       "      <td>FERRON 82-3 1677.5</td>\n",
       "      <td>sandstone</td>\n",
       "      <td>2.4486</td>\n",
       "      <td>1.7306</td>\n",
       "      <td>2472.2308</td>\n",
       "    </tr>\n",
       "    <tr>\n",
       "      <th>5</th>\n",
       "      <td>104601</td>\n",
       "      <td>RPC</td>\n",
       "      <td>FERRON 82-3 1677.5</td>\n",
       "      <td>sandstone</td>\n",
       "      <td>2.4387</td>\n",
       "      <td>1.7711</td>\n",
       "      <td>2458.9597</td>\n",
       "    </tr>\n",
       "    <tr>\n",
       "      <th>6</th>\n",
       "      <td>104617</td>\n",
       "      <td>RPC</td>\n",
       "      <td>FERRON 82-3 1677.5</td>\n",
       "      <td>sandstone</td>\n",
       "      <td>2.7267</td>\n",
       "      <td>1.6624</td>\n",
       "      <td>2397.1364</td>\n",
       "    </tr>\n",
       "    <tr>\n",
       "      <th>...</th>\n",
       "      <td>...</td>\n",
       "      <td>...</td>\n",
       "      <td>...</td>\n",
       "      <td>...</td>\n",
       "      <td>...</td>\n",
       "      <td>...</td>\n",
       "      <td>...</td>\n",
       "    </tr>\n",
       "    <tr>\n",
       "      <th>191</th>\n",
       "      <td>104578</td>\n",
       "      <td>RPC</td>\n",
       "      <td>FERRON 82-3 1677.5</td>\n",
       "      <td>sandstone</td>\n",
       "      <td>2.4009</td>\n",
       "      <td>1.6154</td>\n",
       "      <td>2468.3633</td>\n",
       "    </tr>\n",
       "    <tr>\n",
       "      <th>192</th>\n",
       "      <td>104849</td>\n",
       "      <td>RPC</td>\n",
       "      <td>KIAMICHI REMOLD 2</td>\n",
       "      <td>sandstone</td>\n",
       "      <td>2.4060</td>\n",
       "      <td>1.6056</td>\n",
       "      <td>2109.8846</td>\n",
       "    </tr>\n",
       "    <tr>\n",
       "      <th>193</th>\n",
       "      <td>104589</td>\n",
       "      <td>RPC</td>\n",
       "      <td>FERRON 82-3 1677.5</td>\n",
       "      <td>sandstone</td>\n",
       "      <td>2.7450</td>\n",
       "      <td>1.5734</td>\n",
       "      <td>2425.2311</td>\n",
       "    </tr>\n",
       "    <tr>\n",
       "      <th>195</th>\n",
       "      <td>104640</td>\n",
       "      <td>RPC</td>\n",
       "      <td>FERRON 82-3 1677.5</td>\n",
       "      <td>sandstone</td>\n",
       "      <td>2.8365</td>\n",
       "      <td>1.6011</td>\n",
       "      <td>2364.6583</td>\n",
       "    </tr>\n",
       "    <tr>\n",
       "      <th>199</th>\n",
       "      <td>104599</td>\n",
       "      <td>RPC</td>\n",
       "      <td>FERRON 82-3 1677.5</td>\n",
       "      <td>sandstone</td>\n",
       "      <td>2.4315</td>\n",
       "      <td>1.7368</td>\n",
       "      <td>2467.0000</td>\n",
       "    </tr>\n",
       "  </tbody>\n",
       "</table>\n",
       "<p>110 rows × 7 columns</p>\n",
       "</div>"
      ],
      "text/plain": [
       "        RPC Source         Description  Lithology  Vs [km/s]  VpVs ratio  \\\n",
       "0    104818    RPC   KIAMICHI FORMA. 4  sandstone     1.5957      1.9086   \n",
       "1    104893    RPC   KIAMICHI REMOLD 3  sandstone     1.5171      1.9779   \n",
       "4    104598    RPC  FERRON 82-3 1677.5  sandstone     2.4486      1.7306   \n",
       "5    104601    RPC  FERRON 82-3 1677.5  sandstone     2.4387      1.7711   \n",
       "6    104617    RPC  FERRON 82-3 1677.5  sandstone     2.7267      1.6624   \n",
       "..      ...    ...                 ...        ...        ...         ...   \n",
       "191  104578    RPC  FERRON 82-3 1677.5  sandstone     2.4009      1.6154   \n",
       "192  104849    RPC   KIAMICHI REMOLD 2  sandstone     2.4060      1.6056   \n",
       "193  104589    RPC  FERRON 82-3 1677.5  sandstone     2.7450      1.5734   \n",
       "195  104640    RPC  FERRON 82-3 1677.5  sandstone     2.8365      1.6011   \n",
       "199  104599    RPC  FERRON 82-3 1677.5  sandstone     2.4315      1.7368   \n",
       "\n",
       "     Rho [kg/m³]  \n",
       "0      2109.1206  \n",
       "1      2090.0000  \n",
       "4      2472.2308  \n",
       "5      2458.9597  \n",
       "6      2397.1364  \n",
       "..           ...  \n",
       "191    2468.3633  \n",
       "192    2109.8846  \n",
       "193    2425.2311  \n",
       "195    2364.6583  \n",
       "199    2467.0000  \n",
       "\n",
       "[110 rows x 7 columns]"
      ]
     },
     "execution_count": 26,
     "metadata": {},
     "output_type": "execute_result"
    }
   ],
   "source": [
    "condicion = data[\"Lithology\"] == \"sandstone\"\n",
    "\n",
    "data[condicion]"
   ]
  },
  {
   "cell_type": "markdown",
   "metadata": {},
   "source": [
    "## Cleaning our data using Pandas | Limpiando nuestra data usando Pandas\n",
    "\n",
    "The DataFrame loaded before is a smaller dataset of lab data (Vp, Vs, Rho) for 808 samples from the _Rock Property Catalog_, which has some problems like:\n",
    "* repeated rows\n",
    "* missing data\n",
    "* different nomenclature\n",
    "* redundant information, etc.\n",
    "\n",
    "So, before doing any plot or analysis of the DataFrame data, we need to examine the data and fix these problems.\n",
    "\n",
    "---\n",
    "\n",
    "El DataFrame cargado antes es un conjunto mas pequeño de datos de laboratorio (Vp, Vs, Rho) para 808 muestras de un _Catalogo de Propiedades de las Rocas_. \n",
    "Éste tiene algunos problemas como:\n",
    "* filas repetidas\n",
    "* datos faltantes\n",
    "* nomenclatura diferente\n",
    "* información redundante, etc. \n",
    "\n",
    "Entonces, antes de realizar cualquier gráfica o análisis de los datos del DataFrame, necesitamos examinar los datos y arreglar los problemas mencionados."
   ]
  },
  {
   "cell_type": "markdown",
   "metadata": {},
   "source": [
    "Reload the DataFrame again to avoid errors | Recargamos otra vez el DataFrame para no tener errores"
   ]
  },
  {
   "cell_type": "code",
   "execution_count": 27,
   "metadata": {},
   "outputs": [
    {
     "name": "stdout",
     "output_type": "stream",
     "text": [
      "<class 'pandas.core.frame.DataFrame'>\n",
      "RangeIndex: 808 entries, 0 to 807\n",
      "Data columns (total 7 columns):\n",
      " #   Column       Non-Null Count  Dtype  \n",
      "---  ------       --------------  -----  \n",
      " 0   RPC          808 non-null    int64  \n",
      " 1   Source       808 non-null    object \n",
      " 2   Description  808 non-null    object \n",
      " 3   Lithology    808 non-null    object \n",
      " 4   Vs [km/s]    808 non-null    float64\n",
      " 5   VpVs ratio   808 non-null    float64\n",
      " 6   Rho [kg/m³]  760 non-null    float64\n",
      "dtypes: float64(3), int64(1), object(3)\n",
      "memory usage: 44.3+ KB\n"
     ]
    }
   ],
   "source": [
    "data = pd.read_csv(data_folder/\"RPC_4_lithologies_Messy.csv\")\n",
    "\n",
    "data.info()"
   ]
  },
  {
   "cell_type": "markdown",
   "metadata": {},
   "source": [
    "### Finding _null_ values in our DataFrame | Encontrando valores _null_ en nuestro DataFrame\n",
    "\n",
    "We use the `isnull` method, which returns a _boolean object_ of the same size as the DataFrame that indicates if the values are _NaN_.\n",
    "`any` returns _True_ if any element of the iterable is true.\n",
    "If the iterable is empty, return _False_. \n",
    "\n",
    "---\n",
    "\n",
    "Usamos el método `isnull` que devuelve un _objeto booleano_ del mismo tamaño del DataFrame que indica si los valores son _NaN_.\n",
    "`any` devuelve _True_ si algún elemento del iterable es verdadero.\n",
    "Si el iterable está vacío, devuelve _False_."
   ]
  },
  {
   "cell_type": "code",
   "execution_count": 28,
   "metadata": {},
   "outputs": [
    {
     "data": {
      "text/html": [
       "<div>\n",
       "<style scoped>\n",
       "    .dataframe tbody tr th:only-of-type {\n",
       "        vertical-align: middle;\n",
       "    }\n",
       "\n",
       "    .dataframe tbody tr th {\n",
       "        vertical-align: top;\n",
       "    }\n",
       "\n",
       "    .dataframe thead th {\n",
       "        text-align: right;\n",
       "    }\n",
       "</style>\n",
       "<table border=\"1\" class=\"dataframe\">\n",
       "  <thead>\n",
       "    <tr style=\"text-align: right;\">\n",
       "      <th></th>\n",
       "      <th>RPC</th>\n",
       "      <th>Source</th>\n",
       "      <th>Description</th>\n",
       "      <th>Lithology</th>\n",
       "      <th>Vs [km/s]</th>\n",
       "      <th>VpVs ratio</th>\n",
       "      <th>Rho [kg/m³]</th>\n",
       "    </tr>\n",
       "  </thead>\n",
       "  <tbody>\n",
       "    <tr>\n",
       "      <th>0</th>\n",
       "      <td>False</td>\n",
       "      <td>False</td>\n",
       "      <td>False</td>\n",
       "      <td>False</td>\n",
       "      <td>False</td>\n",
       "      <td>False</td>\n",
       "      <td>False</td>\n",
       "    </tr>\n",
       "    <tr>\n",
       "      <th>1</th>\n",
       "      <td>False</td>\n",
       "      <td>False</td>\n",
       "      <td>False</td>\n",
       "      <td>False</td>\n",
       "      <td>False</td>\n",
       "      <td>False</td>\n",
       "      <td>False</td>\n",
       "    </tr>\n",
       "    <tr>\n",
       "      <th>2</th>\n",
       "      <td>False</td>\n",
       "      <td>False</td>\n",
       "      <td>False</td>\n",
       "      <td>False</td>\n",
       "      <td>False</td>\n",
       "      <td>False</td>\n",
       "      <td>False</td>\n",
       "    </tr>\n",
       "    <tr>\n",
       "      <th>3</th>\n",
       "      <td>False</td>\n",
       "      <td>False</td>\n",
       "      <td>False</td>\n",
       "      <td>False</td>\n",
       "      <td>False</td>\n",
       "      <td>False</td>\n",
       "      <td>False</td>\n",
       "    </tr>\n",
       "    <tr>\n",
       "      <th>4</th>\n",
       "      <td>False</td>\n",
       "      <td>False</td>\n",
       "      <td>False</td>\n",
       "      <td>False</td>\n",
       "      <td>False</td>\n",
       "      <td>False</td>\n",
       "      <td>False</td>\n",
       "    </tr>\n",
       "    <tr>\n",
       "      <th>...</th>\n",
       "      <td>...</td>\n",
       "      <td>...</td>\n",
       "      <td>...</td>\n",
       "      <td>...</td>\n",
       "      <td>...</td>\n",
       "      <td>...</td>\n",
       "      <td>...</td>\n",
       "    </tr>\n",
       "    <tr>\n",
       "      <th>803</th>\n",
       "      <td>False</td>\n",
       "      <td>False</td>\n",
       "      <td>False</td>\n",
       "      <td>False</td>\n",
       "      <td>False</td>\n",
       "      <td>False</td>\n",
       "      <td>False</td>\n",
       "    </tr>\n",
       "    <tr>\n",
       "      <th>804</th>\n",
       "      <td>False</td>\n",
       "      <td>False</td>\n",
       "      <td>False</td>\n",
       "      <td>False</td>\n",
       "      <td>False</td>\n",
       "      <td>False</td>\n",
       "      <td>False</td>\n",
       "    </tr>\n",
       "    <tr>\n",
       "      <th>805</th>\n",
       "      <td>False</td>\n",
       "      <td>False</td>\n",
       "      <td>False</td>\n",
       "      <td>False</td>\n",
       "      <td>False</td>\n",
       "      <td>False</td>\n",
       "      <td>False</td>\n",
       "    </tr>\n",
       "    <tr>\n",
       "      <th>806</th>\n",
       "      <td>False</td>\n",
       "      <td>False</td>\n",
       "      <td>False</td>\n",
       "      <td>False</td>\n",
       "      <td>False</td>\n",
       "      <td>False</td>\n",
       "      <td>False</td>\n",
       "    </tr>\n",
       "    <tr>\n",
       "      <th>807</th>\n",
       "      <td>False</td>\n",
       "      <td>False</td>\n",
       "      <td>False</td>\n",
       "      <td>False</td>\n",
       "      <td>False</td>\n",
       "      <td>False</td>\n",
       "      <td>False</td>\n",
       "    </tr>\n",
       "  </tbody>\n",
       "</table>\n",
       "<p>808 rows × 7 columns</p>\n",
       "</div>"
      ],
      "text/plain": [
       "       RPC  Source  Description  Lithology  Vs [km/s]  VpVs ratio  Rho [kg/m³]\n",
       "0    False   False        False      False      False       False        False\n",
       "1    False   False        False      False      False       False        False\n",
       "2    False   False        False      False      False       False        False\n",
       "3    False   False        False      False      False       False        False\n",
       "4    False   False        False      False      False       False        False\n",
       "..     ...     ...          ...        ...        ...         ...          ...\n",
       "803  False   False        False      False      False       False        False\n",
       "804  False   False        False      False      False       False        False\n",
       "805  False   False        False      False      False       False        False\n",
       "806  False   False        False      False      False       False        False\n",
       "807  False   False        False      False      False       False        False\n",
       "\n",
       "[808 rows x 7 columns]"
      ]
     },
     "execution_count": 28,
     "metadata": {},
     "output_type": "execute_result"
    }
   ],
   "source": [
    "data.isnull()"
   ]
  },
  {
   "cell_type": "code",
   "execution_count": 29,
   "metadata": {},
   "outputs": [
    {
     "data": {
      "text/plain": [
       "True"
      ]
     },
     "execution_count": 29,
     "metadata": {},
     "output_type": "execute_result"
    }
   ],
   "source": [
    "data.isnull().values.any()"
   ]
  },
  {
   "cell_type": "markdown",
   "metadata": {},
   "source": [
    "Now, we make a fast plot to check this. | Ahora, hacemos una gráfica rápida para chequear lo mencionado."
   ]
  },
  {
   "cell_type": "code",
   "execution_count": 30,
   "metadata": {},
   "outputs": [
    {
     "data": {
      "image/png": "[encoded data removed]",
      "text/plain": [
       "<Figure size 1500x500 with 4 Axes>"
      ]
     },
     "metadata": {},
     "output_type": "display_data"
    }
   ],
   "source": [
    "names = [\"RPC\", \"Vs [km/s]\", \"VpVs ratio\", \"Rho [kg/m³]\"]\n",
    "\n",
    "fig, axes = plt.subplots(nrows=2, ncols=2, sharex=True, figsize=(15, 5))\n",
    "\n",
    "#RPC\n",
    "data[names[0]].plot(ax=axes[0, 0])\n",
    "axes[0,0].set_title(names[0])\n",
    "\n",
    "#Vs\n",
    "data[names[1]].plot(ax=axes[0, 1])\n",
    "axes[0,1].set_title(names[1])\n",
    "\n",
    "#VpVs ratio\n",
    "data[names[2]].plot(ax=axes[1, 0])\n",
    "axes[1,0].set_title(names[2])\n",
    "\n",
    "#Rho\n",
    "data[names[3]].plot(ax=axes[1, 1])\n",
    "axes[1,1].set_title(names[1])\n",
    "plt.show()"
   ]
  },
  {
   "cell_type": "markdown",
   "metadata": {},
   "source": [
    "The density column has NaN values, so we will use the `dropna` method to remove the rows which only have NaN values.\n",
    "\n",
    "---\n",
    "\n",
    "La columna de densidad tiene valores de NaN, por lo que usaremos el método `dropna` para eliminar la fila que solo tiene valores de NaN."
   ]
  },
  {
   "cell_type": "code",
   "execution_count": 31,
   "metadata": {},
   "outputs": [
    {
     "data": {
      "text/plain": [
       "(760, 7)"
      ]
     },
     "execution_count": 31,
     "metadata": {},
     "output_type": "execute_result"
    }
   ],
   "source": [
    "data = data.dropna()\n",
    "\n",
    "data.shape"
   ]
  },
  {
   "cell_type": "markdown",
   "metadata": {},
   "source": [
    "We've removed 48 rows, so the DataFrame has 760 rows. | Hemos eliminado 48 filas, por lo que el DataFrame tiene 760 filas."
   ]
  },
  {
   "cell_type": "markdown",
   "metadata": {},
   "source": [
    "### Remove duplicates rows | Remover filas duplicadas\n",
    "\n",
    "Now, we will find and remove duplicate rows using `duplicated()`. \n",
    "\n",
    "---\n",
    "\n",
    "Ahora vamos a encontrar y eliminar la filas repetidas usando `duplicated()`."
   ]
  },
  {
   "cell_type": "markdown",
   "metadata": {},
   "source": [
    "Select duplicate rows except first occurrence based on all columns | Selecciona filas duplicadas excepto la primera aparición basada en todas las columnas."
   ]
  },
  {
   "cell_type": "code",
   "execution_count": 32,
   "metadata": {},
   "outputs": [
    {
     "data": {
      "text/html": [
       "<div>\n",
       "<style scoped>\n",
       "    .dataframe tbody tr th:only-of-type {\n",
       "        vertical-align: middle;\n",
       "    }\n",
       "\n",
       "    .dataframe tbody tr th {\n",
       "        vertical-align: top;\n",
       "    }\n",
       "\n",
       "    .dataframe thead th {\n",
       "        text-align: right;\n",
       "    }\n",
       "</style>\n",
       "<table border=\"1\" class=\"dataframe\">\n",
       "  <thead>\n",
       "    <tr style=\"text-align: right;\">\n",
       "      <th></th>\n",
       "      <th>RPC</th>\n",
       "      <th>Source</th>\n",
       "      <th>Description</th>\n",
       "      <th>Lithology</th>\n",
       "      <th>Vs [km/s]</th>\n",
       "      <th>VpVs ratio</th>\n",
       "      <th>Rho [kg/m³]</th>\n",
       "    </tr>\n",
       "  </thead>\n",
       "  <tbody>\n",
       "    <tr>\n",
       "      <th>77</th>\n",
       "      <td>104646</td>\n",
       "      <td>RPC</td>\n",
       "      <td>NAVAJO ARCO 2</td>\n",
       "      <td>SANDST.</td>\n",
       "      <td>1.8489</td>\n",
       "      <td>1.6602</td>\n",
       "      <td>2210.1729</td>\n",
       "    </tr>\n",
       "    <tr>\n",
       "      <th>139</th>\n",
       "      <td>104703</td>\n",
       "      <td>RPC</td>\n",
       "      <td>NAVAJO ARCO 3</td>\n",
       "      <td>SANDST.</td>\n",
       "      <td>2.1426</td>\n",
       "      <td>1.7459</td>\n",
       "      <td>2096.0000</td>\n",
       "    </tr>\n",
       "    <tr>\n",
       "      <th>378</th>\n",
       "      <td>100066</td>\n",
       "      <td>RPC</td>\n",
       "      <td>Hard shale</td>\n",
       "      <td>shale</td>\n",
       "      <td>2.4267</td>\n",
       "      <td>1.6081</td>\n",
       "      <td>2642.6244</td>\n",
       "    </tr>\n",
       "    <tr>\n",
       "      <th>384</th>\n",
       "      <td>101009</td>\n",
       "      <td>RPC</td>\n",
       "      <td>Gray Shale</td>\n",
       "      <td>shale</td>\n",
       "      <td>2.2070</td>\n",
       "      <td>1.3899</td>\n",
       "      <td>2664.8891</td>\n",
       "    </tr>\n",
       "    <tr>\n",
       "      <th>669</th>\n",
       "      <td>102283</td>\n",
       "      <td>RPC</td>\n",
       "      <td>R.PRICE 10928.5 #50</td>\n",
       "      <td>dolomite</td>\n",
       "      <td>2.6050</td>\n",
       "      <td>1.7128</td>\n",
       "      <td>2300.8000</td>\n",
       "    </tr>\n",
       "    <tr>\n",
       "      <th>677</th>\n",
       "      <td>102289</td>\n",
       "      <td>RPC</td>\n",
       "      <td>R.PRICE 10928.5 #50</td>\n",
       "      <td>dolomite</td>\n",
       "      <td>2.3655</td>\n",
       "      <td>1.6921</td>\n",
       "      <td>2331.2000</td>\n",
       "    </tr>\n",
       "    <tr>\n",
       "      <th>679</th>\n",
       "      <td>102169</td>\n",
       "      <td>RPC</td>\n",
       "      <td>R.PRICE 10908.5 #30</td>\n",
       "      <td>dolomite</td>\n",
       "      <td>2.6575</td>\n",
       "      <td>1.8272</td>\n",
       "      <td>2415.0000</td>\n",
       "    </tr>\n",
       "    <tr>\n",
       "      <th>720</th>\n",
       "      <td>102214</td>\n",
       "      <td>RPC</td>\n",
       "      <td>R.PRICE 10913.5 #35</td>\n",
       "      <td>dolomite</td>\n",
       "      <td>2.9757</td>\n",
       "      <td>1.8412</td>\n",
       "      <td>2473.4000</td>\n",
       "    </tr>\n",
       "  </tbody>\n",
       "</table>\n",
       "</div>"
      ],
      "text/plain": [
       "        RPC Source          Description Lithology  Vs [km/s]  VpVs ratio  \\\n",
       "77   104646    RPC        NAVAJO ARCO 2   SANDST.     1.8489      1.6602   \n",
       "139  104703    RPC        NAVAJO ARCO 3   SANDST.     2.1426      1.7459   \n",
       "378  100066    RPC           Hard shale     shale     2.4267      1.6081   \n",
       "384  101009    RPC           Gray Shale     shale     2.2070      1.3899   \n",
       "669  102283    RPC  R.PRICE 10928.5 #50  dolomite     2.6050      1.7128   \n",
       "677  102289    RPC  R.PRICE 10928.5 #50  dolomite     2.3655      1.6921   \n",
       "679  102169    RPC  R.PRICE 10908.5 #30  dolomite     2.6575      1.8272   \n",
       "720  102214    RPC  R.PRICE 10913.5 #35  dolomite     2.9757      1.8412   \n",
       "\n",
       "     Rho [kg/m³]  \n",
       "77     2210.1729  \n",
       "139    2096.0000  \n",
       "378    2642.6244  \n",
       "384    2664.8891  \n",
       "669    2300.8000  \n",
       "677    2331.2000  \n",
       "679    2415.0000  \n",
       "720    2473.4000  "
      ]
     },
     "execution_count": 32,
     "metadata": {},
     "output_type": "execute_result"
    }
   ],
   "source": [
    "data[data.duplicated()]"
   ]
  },
  {
   "cell_type": "markdown",
   "metadata": {},
   "source": [
    "Remove the duplicated rows | Eliminamos las filas duplicadas:"
   ]
  },
  {
   "cell_type": "code",
   "execution_count": 33,
   "metadata": {},
   "outputs": [
    {
     "data": {
      "text/plain": [
       "(752, 7)"
      ]
     },
     "execution_count": 33,
     "metadata": {},
     "output_type": "execute_result"
    }
   ],
   "source": [
    "data = data.drop_duplicates()\n",
    "\n",
    "data.shape"
   ]
  },
  {
   "cell_type": "markdown",
   "metadata": {},
   "source": [
    "We've removed 8 rows, so the DataFrame has 752 rows. | Hemos eliminado 8 filas, por lo que el DataFrame tiene 752 filas."
   ]
  },
  {
   "cell_type": "markdown",
   "metadata": {},
   "source": [
    "Check that it does not have repeating rows | Comprueba que no tenga filas repetidas:"
   ]
  },
  {
   "cell_type": "code",
   "execution_count": 34,
   "metadata": {},
   "outputs": [
    {
     "data": {
      "text/plain": [
       "RPC            False\n",
       "Source         False\n",
       "Description    False\n",
       "Lithology      False\n",
       "Vs [km/s]      False\n",
       "VpVs ratio     False\n",
       "Rho [kg/m³]    False\n",
       "dtype: bool"
      ]
     },
     "execution_count": 34,
     "metadata": {},
     "output_type": "execute_result"
    }
   ],
   "source": [
    "data[data.duplicated()].any()"
   ]
  },
  {
   "cell_type": "markdown",
   "metadata": {},
   "source": [
    "### Fixing values | Corrigiendo valores\n",
    "\n",
    "We need to fix some lithology names.\n",
    "We will change _SANDST._ to _sandstone_.\n",
    "To do that, we use the `replace` method.\n",
    "\n",
    "---\n",
    "\n",
    "Necesitamos arreglar algunos nombres de litología.\n",
    "Cambiaremos _SANDST._ por _sandstone_.\n",
    "Para ello usamos el metodo `replace`."
   ]
  },
  {
   "cell_type": "code",
   "execution_count": 35,
   "metadata": {},
   "outputs": [
    {
     "data": {
      "text/html": [
       "<div>\n",
       "<style scoped>\n",
       "    .dataframe tbody tr th:only-of-type {\n",
       "        vertical-align: middle;\n",
       "    }\n",
       "\n",
       "    .dataframe tbody tr th {\n",
       "        vertical-align: top;\n",
       "    }\n",
       "\n",
       "    .dataframe thead th {\n",
       "        text-align: right;\n",
       "    }\n",
       "</style>\n",
       "<table border=\"1\" class=\"dataframe\">\n",
       "  <thead>\n",
       "    <tr style=\"text-align: right;\">\n",
       "      <th></th>\n",
       "      <th>RPC</th>\n",
       "      <th>Source</th>\n",
       "      <th>Description</th>\n",
       "      <th>Lithology</th>\n",
       "      <th>Vs [km/s]</th>\n",
       "      <th>VpVs ratio</th>\n",
       "      <th>Rho [kg/m³]</th>\n",
       "    </tr>\n",
       "  </thead>\n",
       "  <tbody>\n",
       "    <tr>\n",
       "      <th>0</th>\n",
       "      <td>104818</td>\n",
       "      <td>RPC</td>\n",
       "      <td>KIAMICHI FORMA. 4</td>\n",
       "      <td>sandstone</td>\n",
       "      <td>1.5957</td>\n",
       "      <td>1.9086</td>\n",
       "      <td>2109.1206</td>\n",
       "    </tr>\n",
       "    <tr>\n",
       "      <th>1</th>\n",
       "      <td>104893</td>\n",
       "      <td>RPC</td>\n",
       "      <td>KIAMICHI REMOLD 3</td>\n",
       "      <td>sandstone</td>\n",
       "      <td>1.5171</td>\n",
       "      <td>1.9779</td>\n",
       "      <td>2090.0000</td>\n",
       "    </tr>\n",
       "    <tr>\n",
       "      <th>2</th>\n",
       "      <td>104652</td>\n",
       "      <td>RPC</td>\n",
       "      <td>NAVAJO ARCO 2</td>\n",
       "      <td>SANDST.</td>\n",
       "      <td>2.0415</td>\n",
       "      <td>1.6476</td>\n",
       "      <td>2131.9900</td>\n",
       "    </tr>\n",
       "    <tr>\n",
       "      <th>3</th>\n",
       "      <td>104752</td>\n",
       "      <td>RPC</td>\n",
       "      <td>NAVAJO ARCO REMOL 1</td>\n",
       "      <td>SANDST.</td>\n",
       "      <td>1.6062</td>\n",
       "      <td>1.9894</td>\n",
       "      <td>2184.9392</td>\n",
       "    </tr>\n",
       "    <tr>\n",
       "      <th>4</th>\n",
       "      <td>104598</td>\n",
       "      <td>RPC</td>\n",
       "      <td>FERRON 82-3 1677.5</td>\n",
       "      <td>sandstone</td>\n",
       "      <td>2.4486</td>\n",
       "      <td>1.7306</td>\n",
       "      <td>2472.2308</td>\n",
       "    </tr>\n",
       "  </tbody>\n",
       "</table>\n",
       "</div>"
      ],
      "text/plain": [
       "      RPC Source          Description  Lithology  Vs [km/s]  VpVs ratio  \\\n",
       "0  104818    RPC    KIAMICHI FORMA. 4  sandstone     1.5957      1.9086   \n",
       "1  104893    RPC    KIAMICHI REMOLD 3  sandstone     1.5171      1.9779   \n",
       "2  104652    RPC        NAVAJO ARCO 2    SANDST.     2.0415      1.6476   \n",
       "3  104752    RPC  NAVAJO ARCO REMOL 1    SANDST.     1.6062      1.9894   \n",
       "4  104598    RPC   FERRON 82-3 1677.5  sandstone     2.4486      1.7306   \n",
       "\n",
       "   Rho [kg/m³]  \n",
       "0    2109.1206  \n",
       "1    2090.0000  \n",
       "2    2131.9900  \n",
       "3    2184.9392  \n",
       "4    2472.2308  "
      ]
     },
     "execution_count": 35,
     "metadata": {},
     "output_type": "execute_result"
    }
   ],
   "source": [
    "data.head()"
   ]
  },
  {
   "cell_type": "code",
   "execution_count": 36,
   "metadata": {},
   "outputs": [
    {
     "data": {
      "text/html": [
       "<div>\n",
       "<style scoped>\n",
       "    .dataframe tbody tr th:only-of-type {\n",
       "        vertical-align: middle;\n",
       "    }\n",
       "\n",
       "    .dataframe tbody tr th {\n",
       "        vertical-align: top;\n",
       "    }\n",
       "\n",
       "    .dataframe thead th {\n",
       "        text-align: right;\n",
       "    }\n",
       "</style>\n",
       "<table border=\"1\" class=\"dataframe\">\n",
       "  <thead>\n",
       "    <tr style=\"text-align: right;\">\n",
       "      <th></th>\n",
       "      <th>RPC</th>\n",
       "      <th>Source</th>\n",
       "      <th>Description</th>\n",
       "      <th>Lithology</th>\n",
       "      <th>Vs [km/s]</th>\n",
       "      <th>VpVs ratio</th>\n",
       "      <th>Rho [kg/m³]</th>\n",
       "    </tr>\n",
       "  </thead>\n",
       "  <tbody>\n",
       "    <tr>\n",
       "      <th>0</th>\n",
       "      <td>104818</td>\n",
       "      <td>RPC</td>\n",
       "      <td>KIAMICHI FORMA. 4</td>\n",
       "      <td>sandstone</td>\n",
       "      <td>1.5957</td>\n",
       "      <td>1.9086</td>\n",
       "      <td>2109.1206</td>\n",
       "    </tr>\n",
       "    <tr>\n",
       "      <th>1</th>\n",
       "      <td>104893</td>\n",
       "      <td>RPC</td>\n",
       "      <td>KIAMICHI REMOLD 3</td>\n",
       "      <td>sandstone</td>\n",
       "      <td>1.5171</td>\n",
       "      <td>1.9779</td>\n",
       "      <td>2090.0000</td>\n",
       "    </tr>\n",
       "    <tr>\n",
       "      <th>2</th>\n",
       "      <td>104652</td>\n",
       "      <td>RPC</td>\n",
       "      <td>NAVAJO ARCO 2</td>\n",
       "      <td>sandstone</td>\n",
       "      <td>2.0415</td>\n",
       "      <td>1.6476</td>\n",
       "      <td>2131.9900</td>\n",
       "    </tr>\n",
       "    <tr>\n",
       "      <th>3</th>\n",
       "      <td>104752</td>\n",
       "      <td>RPC</td>\n",
       "      <td>NAVAJO ARCO REMOL 1</td>\n",
       "      <td>sandstone</td>\n",
       "      <td>1.6062</td>\n",
       "      <td>1.9894</td>\n",
       "      <td>2184.9392</td>\n",
       "    </tr>\n",
       "    <tr>\n",
       "      <th>4</th>\n",
       "      <td>104598</td>\n",
       "      <td>RPC</td>\n",
       "      <td>FERRON 82-3 1677.5</td>\n",
       "      <td>sandstone</td>\n",
       "      <td>2.4486</td>\n",
       "      <td>1.7306</td>\n",
       "      <td>2472.2308</td>\n",
       "    </tr>\n",
       "  </tbody>\n",
       "</table>\n",
       "</div>"
      ],
      "text/plain": [
       "      RPC Source          Description  Lithology  Vs [km/s]  VpVs ratio  \\\n",
       "0  104818    RPC    KIAMICHI FORMA. 4  sandstone     1.5957      1.9086   \n",
       "1  104893    RPC    KIAMICHI REMOLD 3  sandstone     1.5171      1.9779   \n",
       "2  104652    RPC        NAVAJO ARCO 2  sandstone     2.0415      1.6476   \n",
       "3  104752    RPC  NAVAJO ARCO REMOL 1  sandstone     1.6062      1.9894   \n",
       "4  104598    RPC   FERRON 82-3 1677.5  sandstone     2.4486      1.7306   \n",
       "\n",
       "   Rho [kg/m³]  \n",
       "0    2109.1206  \n",
       "1    2090.0000  \n",
       "2    2131.9900  \n",
       "3    2184.9392  \n",
       "4    2472.2308  "
      ]
     },
     "execution_count": 36,
     "metadata": {},
     "output_type": "execute_result"
    }
   ],
   "source": [
    "data[\"Lithology\"] = data[\"Lithology\"].replace(\"SANDST.\", \"sandstone\")\n",
    "\n",
    "data.head()"
   ]
  },
  {
   "cell_type": "markdown",
   "metadata": {},
   "source": [
    "### Adding a column | Agregando una columna\n",
    "\n",
    "The DataFrame doesn't have the value of _Vp_.\n",
    "So, we are going to calculate and add it to the DataFrame as a new column.\n",
    "\n",
    "---\n",
    "\n",
    "El DataFrame no tiene el valor de _Vp_.\n",
    "Entonces, nosotros vamos a calcularlo y agregarlo en el DataFrame como una nueva columna.\n",
    "\n",
    "\n",
    "$$ V_p V_s ratio = \\frac{V_p}{V_s} $$"
   ]
  },
  {
   "cell_type": "code",
   "execution_count": 37,
   "metadata": {},
   "outputs": [
    {
     "data": {
      "text/html": [
       "<div>\n",
       "<style scoped>\n",
       "    .dataframe tbody tr th:only-of-type {\n",
       "        vertical-align: middle;\n",
       "    }\n",
       "\n",
       "    .dataframe tbody tr th {\n",
       "        vertical-align: top;\n",
       "    }\n",
       "\n",
       "    .dataframe thead th {\n",
       "        text-align: right;\n",
       "    }\n",
       "</style>\n",
       "<table border=\"1\" class=\"dataframe\">\n",
       "  <thead>\n",
       "    <tr style=\"text-align: right;\">\n",
       "      <th></th>\n",
       "      <th>RPC</th>\n",
       "      <th>Source</th>\n",
       "      <th>Description</th>\n",
       "      <th>Lithology</th>\n",
       "      <th>Vs [km/s]</th>\n",
       "      <th>VpVs ratio</th>\n",
       "      <th>Rho [kg/m³]</th>\n",
       "      <th>Vp [km/s]</th>\n",
       "    </tr>\n",
       "  </thead>\n",
       "  <tbody>\n",
       "    <tr>\n",
       "      <th>0</th>\n",
       "      <td>104818</td>\n",
       "      <td>RPC</td>\n",
       "      <td>KIAMICHI FORMA. 4</td>\n",
       "      <td>sandstone</td>\n",
       "      <td>1.5957</td>\n",
       "      <td>1.9086</td>\n",
       "      <td>2109.1206</td>\n",
       "      <td>1.196089</td>\n",
       "    </tr>\n",
       "    <tr>\n",
       "      <th>1</th>\n",
       "      <td>104893</td>\n",
       "      <td>RPC</td>\n",
       "      <td>KIAMICHI REMOLD 3</td>\n",
       "      <td>sandstone</td>\n",
       "      <td>1.5171</td>\n",
       "      <td>1.9779</td>\n",
       "      <td>2090.0000</td>\n",
       "      <td>1.303737</td>\n",
       "    </tr>\n",
       "    <tr>\n",
       "      <th>2</th>\n",
       "      <td>104652</td>\n",
       "      <td>RPC</td>\n",
       "      <td>NAVAJO ARCO 2</td>\n",
       "      <td>sandstone</td>\n",
       "      <td>2.0415</td>\n",
       "      <td>1.6476</td>\n",
       "      <td>2131.9900</td>\n",
       "      <td>0.807054</td>\n",
       "    </tr>\n",
       "    <tr>\n",
       "      <th>3</th>\n",
       "      <td>104752</td>\n",
       "      <td>RPC</td>\n",
       "      <td>NAVAJO ARCO REMOL 1</td>\n",
       "      <td>sandstone</td>\n",
       "      <td>1.6062</td>\n",
       "      <td>1.9894</td>\n",
       "      <td>2184.9392</td>\n",
       "      <td>1.238576</td>\n",
       "    </tr>\n",
       "    <tr>\n",
       "      <th>4</th>\n",
       "      <td>104598</td>\n",
       "      <td>RPC</td>\n",
       "      <td>FERRON 82-3 1677.5</td>\n",
       "      <td>sandstone</td>\n",
       "      <td>2.4486</td>\n",
       "      <td>1.7306</td>\n",
       "      <td>2472.2308</td>\n",
       "      <td>0.706771</td>\n",
       "    </tr>\n",
       "  </tbody>\n",
       "</table>\n",
       "</div>"
      ],
      "text/plain": [
       "      RPC Source          Description  Lithology  Vs [km/s]  VpVs ratio  \\\n",
       "0  104818    RPC    KIAMICHI FORMA. 4  sandstone     1.5957      1.9086   \n",
       "1  104893    RPC    KIAMICHI REMOLD 3  sandstone     1.5171      1.9779   \n",
       "2  104652    RPC        NAVAJO ARCO 2  sandstone     2.0415      1.6476   \n",
       "3  104752    RPC  NAVAJO ARCO REMOL 1  sandstone     1.6062      1.9894   \n",
       "4  104598    RPC   FERRON 82-3 1677.5  sandstone     2.4486      1.7306   \n",
       "\n",
       "   Rho [kg/m³]  Vp [km/s]  \n",
       "0    2109.1206   1.196089  \n",
       "1    2090.0000   1.303737  \n",
       "2    2131.9900   0.807054  \n",
       "3    2184.9392   1.238576  \n",
       "4    2472.2308   0.706771  "
      ]
     },
     "execution_count": 37,
     "metadata": {},
     "output_type": "execute_result"
    }
   ],
   "source": [
    "data[\"Vp [km/s]\"] = data[\"VpVs ratio\"] / data[\"Vs [km/s]\"]\n",
    "\n",
    "data.head()"
   ]
  },
  {
   "cell_type": "markdown",
   "metadata": {},
   "source": [
    "### Removing columns | Eliminar columnas\n",
    "\n",
    "We are going to remove from the DataFrame the columns that are not relevant: _Index_,  _Description_, and _VpVs ratio_. \n",
    "For that, use the `drop` method.\n",
    "\n",
    "---\n",
    "\n",
    "Vamos a eliminar del DataFrame las columnas que no sean relevantes: _Index_, _Description_,  y _VpVs ratio_.\n",
    "Para ello uso el método `drop`."
   ]
  },
  {
   "cell_type": "code",
   "execution_count": 38,
   "metadata": {},
   "outputs": [
    {
     "data": {
      "text/html": [
       "<div>\n",
       "<style scoped>\n",
       "    .dataframe tbody tr th:only-of-type {\n",
       "        vertical-align: middle;\n",
       "    }\n",
       "\n",
       "    .dataframe tbody tr th {\n",
       "        vertical-align: top;\n",
       "    }\n",
       "\n",
       "    .dataframe thead th {\n",
       "        text-align: right;\n",
       "    }\n",
       "</style>\n",
       "<table border=\"1\" class=\"dataframe\">\n",
       "  <thead>\n",
       "    <tr style=\"text-align: right;\">\n",
       "      <th></th>\n",
       "      <th>RPC</th>\n",
       "      <th>Source</th>\n",
       "      <th>Lithology</th>\n",
       "      <th>Vs [km/s]</th>\n",
       "      <th>Rho [kg/m³]</th>\n",
       "      <th>Vp [km/s]</th>\n",
       "    </tr>\n",
       "  </thead>\n",
       "  <tbody>\n",
       "    <tr>\n",
       "      <th>0</th>\n",
       "      <td>104818</td>\n",
       "      <td>RPC</td>\n",
       "      <td>sandstone</td>\n",
       "      <td>1.5957</td>\n",
       "      <td>2109.1206</td>\n",
       "      <td>1.196089</td>\n",
       "    </tr>\n",
       "    <tr>\n",
       "      <th>1</th>\n",
       "      <td>104893</td>\n",
       "      <td>RPC</td>\n",
       "      <td>sandstone</td>\n",
       "      <td>1.5171</td>\n",
       "      <td>2090.0000</td>\n",
       "      <td>1.303737</td>\n",
       "    </tr>\n",
       "    <tr>\n",
       "      <th>2</th>\n",
       "      <td>104652</td>\n",
       "      <td>RPC</td>\n",
       "      <td>sandstone</td>\n",
       "      <td>2.0415</td>\n",
       "      <td>2131.9900</td>\n",
       "      <td>0.807054</td>\n",
       "    </tr>\n",
       "    <tr>\n",
       "      <th>3</th>\n",
       "      <td>104752</td>\n",
       "      <td>RPC</td>\n",
       "      <td>sandstone</td>\n",
       "      <td>1.6062</td>\n",
       "      <td>2184.9392</td>\n",
       "      <td>1.238576</td>\n",
       "    </tr>\n",
       "    <tr>\n",
       "      <th>4</th>\n",
       "      <td>104598</td>\n",
       "      <td>RPC</td>\n",
       "      <td>sandstone</td>\n",
       "      <td>2.4486</td>\n",
       "      <td>2472.2308</td>\n",
       "      <td>0.706771</td>\n",
       "    </tr>\n",
       "    <tr>\n",
       "      <th>...</th>\n",
       "      <td>...</td>\n",
       "      <td>...</td>\n",
       "      <td>...</td>\n",
       "      <td>...</td>\n",
       "      <td>...</td>\n",
       "      <td>...</td>\n",
       "    </tr>\n",
       "    <tr>\n",
       "      <th>803</th>\n",
       "      <td>102178</td>\n",
       "      <td>RPC</td>\n",
       "      <td>dolomite</td>\n",
       "      <td>2.7592</td>\n",
       "      <td>2414.0000</td>\n",
       "      <td>0.607640</td>\n",
       "    </tr>\n",
       "    <tr>\n",
       "      <th>804</th>\n",
       "      <td>102225</td>\n",
       "      <td>RPC</td>\n",
       "      <td>dolomite</td>\n",
       "      <td>3.1168</td>\n",
       "      <td>2475.7000</td>\n",
       "      <td>0.560639</td>\n",
       "    </tr>\n",
       "    <tr>\n",
       "      <th>805</th>\n",
       "      <td>102088</td>\n",
       "      <td>RPC</td>\n",
       "      <td>dolomite</td>\n",
       "      <td>2.9987</td>\n",
       "      <td>2521.1000</td>\n",
       "      <td>0.605662</td>\n",
       "    </tr>\n",
       "    <tr>\n",
       "      <th>806</th>\n",
       "      <td>102213</td>\n",
       "      <td>RPC</td>\n",
       "      <td>dolomite</td>\n",
       "      <td>2.9331</td>\n",
       "      <td>2470.8000</td>\n",
       "      <td>0.621629</td>\n",
       "    </tr>\n",
       "    <tr>\n",
       "      <th>807</th>\n",
       "      <td>102086</td>\n",
       "      <td>RPC</td>\n",
       "      <td>dolomite</td>\n",
       "      <td>2.8970</td>\n",
       "      <td>2549.2000</td>\n",
       "      <td>0.637211</td>\n",
       "    </tr>\n",
       "  </tbody>\n",
       "</table>\n",
       "<p>752 rows × 6 columns</p>\n",
       "</div>"
      ],
      "text/plain": [
       "        RPC Source  Lithology  Vs [km/s]  Rho [kg/m³]  Vp [km/s]\n",
       "0    104818    RPC  sandstone     1.5957    2109.1206   1.196089\n",
       "1    104893    RPC  sandstone     1.5171    2090.0000   1.303737\n",
       "2    104652    RPC  sandstone     2.0415    2131.9900   0.807054\n",
       "3    104752    RPC  sandstone     1.6062    2184.9392   1.238576\n",
       "4    104598    RPC  sandstone     2.4486    2472.2308   0.706771\n",
       "..      ...    ...        ...        ...          ...        ...\n",
       "803  102178    RPC   dolomite     2.7592    2414.0000   0.607640\n",
       "804  102225    RPC   dolomite     3.1168    2475.7000   0.560639\n",
       "805  102088    RPC   dolomite     2.9987    2521.1000   0.605662\n",
       "806  102213    RPC   dolomite     2.9331    2470.8000   0.621629\n",
       "807  102086    RPC   dolomite     2.8970    2549.2000   0.637211\n",
       "\n",
       "[752 rows x 6 columns]"
      ]
     },
     "execution_count": 38,
     "metadata": {},
     "output_type": "execute_result"
    }
   ],
   "source": [
    "data.drop([\"Description\", \"VpVs ratio\"], axis=1, inplace=True)  \n",
    "# axis=1 is because we want to drop columns, see the documentation for more details \n",
    "# inplace=True means that we don't generate a copy of the dataFrame, we do it in the same DataFrame, see the documentation for more details.\n",
    "\n",
    "data"
   ]
  },
  {
   "cell_type": "markdown",
   "metadata": {},
   "source": [
    "### Plotting our DataFrame | Graficando nuestro DataFrame\n",
    "\n",
    "We are going to plot _Vp & Vs_ and the _density_ according to the different types of lithology of our DataFrame.\n",
    "\n",
    "Let's see how many types of lithology there are. \n",
    "`value_counts` returns a Series containing counts of unique rows in the DataFrame.\n",
    "\n",
    "---\n",
    "\n",
    "Vamos a graficar _Vp & Vs_ y la _densidad_ según los diferentes tipos de litología de nuestro DataFrame.\n",
    "\n",
    "Veamos cuántos tipos de litología hay.\n",
    "`value_counts()` devuelve una serie que contiene recuentos de cuántas veces aparece un valor en el DataFrame."
   ]
  },
  {
   "cell_type": "code",
   "execution_count": 39,
   "metadata": {},
   "outputs": [
    {
     "data": {
      "text/plain": [
       "sandstone    200\n",
       "shale        200\n",
       "dolomite     200\n",
       "limestone    152\n",
       "Name: Lithology, dtype: int64"
      ]
     },
     "execution_count": 39,
     "metadata": {},
     "output_type": "execute_result"
    }
   ],
   "source": [
    "data[\"Lithology\"].value_counts()"
   ]
  },
  {
   "cell_type": "markdown",
   "metadata": {},
   "source": [
    "Let's group our data according to the four types of lithology using `groupby()`. | Agrupemos nuestros datos según los 4 tipos de litología usando `groupby()`."
   ]
  },
  {
   "cell_type": "code",
   "execution_count": 40,
   "metadata": {},
   "outputs": [
    {
     "name": "stdout",
     "output_type": "stream",
     "text": [
      "<pandas.core.groupby.generic.DataFrameGroupBy object at 0x7f18045bc710>\n"
     ]
    }
   ],
   "source": [
    "litologias = data.groupby('Lithology')\n",
    "\n",
    "print(litologias)"
   ]
  },
  {
   "cell_type": "markdown",
   "metadata": {},
   "source": [
    "Con este loop, agrupamos con base a cada diferente litología. En este caso la variable \"name\" representa el nombre del grupo y \"group\" representa el dataframe que resulta después de haber ejecutado la agrupación. \n",
    "\n",
    "---\n",
    "\n",
    "This loop groups split the data into groups based on lithology. In this case, “name” represents the group name and “group” represents the actual grouped data frame."
   ]
  },
  {
   "cell_type": "code",
   "execution_count": 41,
   "metadata": {
    "tags": []
   },
   "outputs": [
    {
     "name": "stdout",
     "output_type": "stream",
     "text": [
      "\n",
      " dolomite \n",
      " \n",
      "         RPC Source Lithology  Vs [km/s]  Rho [kg/m³]  Vp [km/s]\n",
      "604  102242    RPC  dolomite     2.5558       2318.2   0.652946\n",
      "605  102096    RPC  dolomite     3.4449       2705.9   0.481030\n",
      "606  102196    RPC  dolomite     2.8412       2435.4   0.601506\n",
      "607  102071    RPC  dolomite     3.0348       2573.3   0.541452\n",
      "608  102089    RPC  dolomite     3.0709       2560.0   0.587971\n",
      "..      ...    ...       ...        ...          ...        ...\n",
      "803  102178    RPC  dolomite     2.7592       2414.0   0.607640\n",
      "804  102225    RPC  dolomite     3.1168       2475.7   0.560639\n",
      "805  102088    RPC  dolomite     2.9987       2521.1   0.605662\n",
      "806  102213    RPC  dolomite     2.9331       2470.8   0.621629\n",
      "807  102086    RPC  dolomite     2.8970       2549.2   0.637211\n",
      "\n",
      "[200 rows x 6 columns] \n",
      " \n",
      "\n",
      "\n",
      " limestone \n",
      " \n",
      "         RPC Source  Lithology  Vs [km/s]  Rho [kg/m³]  Vp [km/s]\n",
      "404  100145    RPC  limestone     1.8190    2442.3054   0.999175\n",
      "405  100146    RPC  limestone     1.8190    2462.3277   0.999175\n",
      "406  101422    RPC  limestone     0.4413    2112.0846  10.556991\n",
      "407  101423    RPC  limestone     0.4413    2121.2965  10.668026\n",
      "408  101486    RPC  limestone     0.7320    1830.9624   3.776913\n",
      "..      ...    ...        ...        ...          ...        ...\n",
      "551  101783    RPC  limestone     1.3671    2101.2318   1.618316\n",
      "552  101784    RPC  limestone     1.3993    2135.4726   1.594154\n",
      "553  101820    RPC  limestone     1.2054    2090.4700   1.851999\n",
      "554  101823    RPC  limestone     1.5715    2160.5141   1.163729\n",
      "555  101824    RPC  limestone     1.7438    2160.7635   1.033605\n",
      "\n",
      "[152 rows x 6 columns] \n",
      " \n",
      "\n",
      "\n",
      " sandstone \n",
      " \n",
      "         RPC Source  Lithology  Vs [km/s]  Rho [kg/m³]  Vp [km/s]\n",
      "0    104818    RPC  sandstone     1.5957    2109.1206   1.196089\n",
      "1    104893    RPC  sandstone     1.5171    2090.0000   1.303737\n",
      "2    104652    RPC  sandstone     2.0415    2131.9900   0.807054\n",
      "3    104752    RPC  sandstone     1.6062    2184.9392   1.238576\n",
      "4    104598    RPC  sandstone     2.4486    2472.2308   0.706771\n",
      "..      ...    ...        ...        ...          ...        ...\n",
      "197  104710    RPC  sandstone     2.6480    2116.2235   0.537387\n",
      "198  104682    RPC  sandstone     2.0709    2185.7369   0.830122\n",
      "199  104599    RPC  sandstone     2.4315    2467.0000   0.714292\n",
      "200  104693    RPC  sandstone     2.1555    2121.2656   0.777035\n",
      "201  104751    RPC  sandstone     1.4754    2200.6200   1.392097\n",
      "\n",
      "[200 rows x 6 columns] \n",
      " \n",
      "\n",
      "\n",
      " shale \n",
      " \n",
      "         RPC Source Lithology  Vs [km/s]  Rho [kg/m³]  Vp [km/s]\n",
      "202  101023    RPC     shale     2.9573    2716.6386   0.566429\n",
      "203  100978    RPC     shale     2.3180    2695.5085   0.641070\n",
      "204  100993    RPC     shale     2.2185    2561.0159   0.712689\n",
      "205  101048    RPC     shale     1.6333    2564.4067   1.120370\n",
      "206  100417    RPC     shale     2.2210    2419.4478   0.738316\n",
      "..      ...    ...       ...        ...          ...        ...\n",
      "399  101113    RPC     shale     3.0540    2781.6913   0.564702\n",
      "400  100424    RPC     shale     2.3290    2421.7737   0.651868\n",
      "401  100992    RPC     shale     2.8455    2667.2169   0.628923\n",
      "402  100044    RPC     shale     1.6677    2570.0527   1.195419\n",
      "403  100975    RPC     shale     2.7873    2521.5015   0.653500\n",
      "\n",
      "[200 rows x 6 columns] \n",
      " \n",
      "\n"
     ]
    }
   ],
   "source": [
    "for name, group in litologias:\n",
    "    print('\\n',name,'\\n','\\n',group,'\\n','\\n')\n"
   ]
  },
  {
   "cell_type": "markdown",
   "metadata": {},
   "source": [
    "**Plot _Vs & Vp_ | Grafico _Vs & Vp_**"
   ]
  },
  {
   "cell_type": "code",
   "execution_count": 42,
   "metadata": {},
   "outputs": [
    {
     "data": {
      "image/png": "[encoded data removed]",
      "text/plain": [
       "<Figure size 1000x500 with 1 Axes>"
      ]
     },
     "metadata": {},
     "output_type": "display_data"
    }
   ],
   "source": [
    "fig = plt.figure(figsize=(10,5))\n",
    "\n",
    "for name, group in litologias:\n",
    "    plt.plot(\n",
    "        group[\"Vp [km/s]\"], \n",
    "        group[\"Vs [km/s]\"], \n",
    "        marker='o', \n",
    "        linestyle='',\n",
    "        ms=6, \n",
    "        label=name, \n",
    "        alpha=0.5       # transparency / trasparencia\n",
    "    )\n",
    "\n",
    "#ax.legend(loc=1)\n",
    "plt.legend()\n",
    "plt.xlabel('$V_\\mathrm{P}\\ [km/s]$', size=12)\n",
    "plt.ylabel('$V_\\mathrm{S}\\ [km/s]$', size=12)\n",
    "plt.show()"
   ]
  },
  {
   "cell_type": "markdown",
   "metadata": {},
   "source": [
    "**Plot the _density_ | Grafico la _densidad_**"
   ]
  },
  {
   "cell_type": "code",
   "execution_count": 43,
   "metadata": {},
   "outputs": [
    {
     "data": {
      "image/png": "[encoded data removed]",
      "text/plain": [
       "<Figure size 1000x500 with 1 Axes>"
      ]
     },
     "metadata": {},
     "output_type": "display_data"
    }
   ],
   "source": [
    "fig = plt.figure(figsize=(10,5))\n",
    "\n",
    "for name, group in litologias:\n",
    "    plt.hist(\n",
    "        group[\"Rho [kg/m³]\"], \n",
    "        histtype='bar', \n",
    "        stacked=True, \n",
    "        rwidth=0.8, \n",
    "        alpha=0.8, \n",
    "        label=name\n",
    "    )\n",
    "    \n",
    "plt.legend()\n",
    "plt.xlabel('$\\\\rho\\ [g/m^3]$', size=12)\n",
    "plt.show()"
   ]
  },
  {
   "cell_type": "markdown",
   "metadata": {},
   "source": [
    "## Homework | Tarea\n",
    "\n",
    "Before doing your homework, _create_ a notebook called `homework_pandas_python.ipynb` into your _local repository_ called `coco_coding_homework`.\n",
    "There you will _solve the activities_ proposed below.\n",
    "Then, _push_ the notebook with the solution into your _remote repository_ in your GitHub account.\n",
    "In this way, one of the trainers will be able to see your answers and give you feedback.\n",
    "\n",
    "Antes de hacer la tarea, _cree un notebook_ llamado `homework_pandas_python.ipynb` en su _repositorio local_ llamado `coco_coding_homework`.\n",
    "Allí es donde _resolverá las actividades_ propuestas a continuación.\n",
    "Luego haga un _push_ del notebook con las respuestas al _repositorio remoto_ en su cuenta de GitHub.\n",
    "De esta forma, alguno de los trainers podrá ver sus respuestas y darle una devolución de las actividades resueltas.\n",
    "\n",
    "### Main Task | Tarea principal\n",
    "\n",
    "In this opportunity, we share with you a DataFrame with the bathymetry and gravity disturbance profile of the island of Oahu in Hawaii.\n",
    "\n",
    "**Steps:**\n",
    "1. Load the file.\n",
    "2. Clean the DataFrame:\n",
    "    * Rremove NaN values if any\n",
    "    * Remove duplicate rows, if any\n",
    "    * Fix other problems like out of range values \n",
    "3. Plot the _gravity disturbance & distance_ and the _bathymetry & distance_ using `subplot`.\n",
    "   Make the plot as if you were going to use it for a scientific article. \n",
    "\n",
    "---\n",
    "\n",
    "En esta oportunidad, compartimos contigo un DataFrame con el perfil de batimetría y perturbación de la gravedad de la isla de Oahu en Hawaii.\n",
    "\n",
    "**Pasos:**\n",
    "1. Cargue el archivo.\n",
    "2. Limpie el DataFrame verificando si el DataFrame tiene:\n",
    "    * valores NaN y elimínelos.\n",
    "    * filas duplicadas y eliminarlas.\n",
    "    * cualquier otro problema como valores fuera de rango y elimínelos.\n",
    "3. Grafique la _gravity disturbance & distance_ y _bathimetry & distance_ usando `subplot`.\n",
    "   Haga las gráficas como si fuera a ponerla en un artículo.\n",
    "\n",
    "\n",
    "### Bonus track\n",
    "\n",
    "We can see from the bathymetry profile that there is a long-wavelength component (almost a gaussian shape) right around the islands.\n",
    "This is due to the _thermal swell_ of the hotspot and not part of the flexure response of the oceanic lithosphere.\n",
    "The swell is isostatically compensated, as seen in the gravity disturbance.\n",
    "We'll fit a gaussian curve to the profile data and remove it from our observations to obtain a residual.\n",
    "\n",
    "**Steps:**\n",
    "1. Define the gaussian function:\n",
    "   $$ h_{gauss} (x) = h_{0} + G \\exp \\left(-\\dfrac{(x - x_0)^2}{\\sigma^2}\\right) $$\n",
    "    \n",
    "2.  Estimate the parameters of this function ($h_0$, $G$, $x_0$, $\\sigma$). You can start with ($h_0$, $G$, $x_0$, $\\sigma$) = (hawaii.distance_km, h0=-5.5, G=1.5, x0=1300, sigma=450).\n",
    "3. Calculate the thermal swell.\n",
    "4. Calculate a residual topography and store it in our original `DataFrame`.\n",
    "   $$ residual = topography_{km} - swell$$\n",
    "5. Make the plot using `subplot` as if you were going to put it in an article. \n",
    "\n",
    "---\n",
    "\n",
    "Podemos ver en el perfil de batimetría que hay un componente de longitud de onda larga (casi una forma gaussiana) alrededor de las islas.\n",
    "Esto se debe al _oleaje térmico_ del hotspot y no es parte de la respuesta de flexión de la litosfera oceánica.\n",
    "El oleaje se compensa isostáticamente, como se ve en la perturbación de la gravedad.\n",
    "Ajustaremos una curva gaussiana a los datos del perfil y la eliminaremos de nuestras observaciones para obtener un residuo.\n",
    "\n",
    "**Pasos:**\n",
    "1. Defina la función gaussiana:\n",
    "   $$h_{gauss} (x) = h_{0} + G \\exp \\left(-\\dfrac{(x - x_0)^2}{\\sigma^2}\\right)$$\n",
    "    \n",
    "2. Estime los parámetros de esta función (($h_0$, $G$, $x_0$, $\\sigma$). Puede comenzar con $h_0$, $G$, $x_0$, $\\sigma$) = (hawaii.distance_km, h0=-5.5, G=1.5, x0=1300, sigma=450).\n",
    "3. Calcule el oleaje térmico.\n",
    "4. Calcule una topografía residual y guárdela en el `DataFrame` original.\n",
    "   $$ residual = topografia_ {km} - swell $$\n",
    "5. Grafique los resultados usando `subplot` como si fueras a ponerla en un artículo."
   ]
  },
  {
   "cell_type": "markdown",
   "metadata": {},
   "source": [
    "## Extra material to keep learning | Material extra para seguir aprendiendo\n",
    "\n",
    "**Pandas** is very powerful and has many more functionalities. Check out their documentation and tutorials to learn much more.\n",
    "\n",
    "---\n",
    "\n",
    "**Pandas** es muy potente y tiene muchas mas funcionalidades. Revise su documentación y tutoriales para aprender mucho mas. \n",
    "\n",
    "* [Pandas documentation](https://pandas.pydata.org/docs/getting_started/index.html)\n",
    "* [Intro to Python by GeoLatinas](https://github.com/GeoLatinas/Intro-to-python)\n",
    "* [Pandas: Python Data Analysis Library](https://johnfoster.pge.utexas.edu/numerical-methods-book/ScientificPython_Pandas.html)\n",
    "\n",
    "\n",
    "### Other interesting libraries | Otras librerías interesantes\n",
    "\n",
    "If you got here and you want to continue learning Python libraries that can help you with your studies or research in earth science, we leave you some libraries that could be useful for you:\n",
    "\n",
    "---\n",
    "\n",
    "Si llegaste hasta acá y quieres seguir aprendiendo paquetes que puedan ayudarte a tus estudios o investigaciones en ciencia de la tierra, te dejamos algunas librerías que podrían serte útiles:\n",
    "\n",
    "* [Xarray](https://xarray.pydata.org/en/stable/) introduces labels in the form of dimensions, coordinates and attributes on top of raw NumPy-like arrays, which allows for a more intuitive, more concise, and less error-prone developer experience. \n",
    "  It is inspired by and borrows heavily from pandas.\n",
    "  It is particularly tailored to working with netCDF files, which were the source of xarray’s data model, and integrates tightly with dask for parallel computing.\n",
    "  \n",
    "* [PyGMT](https://www.pygmt.org/dev/) is a library for processing geospatial and geophysical data and making publication quality maps and figures. \n",
    "  It provides a Pythonic interface for the Generic Mapping Tools (GMT), a command-line program widely used in the Earth Sciences.\n",
    "  \n",
    "* [pyproj](https://pyproj4.github.io/pyproj/stable/) is a python interface to [PROJ](https://proj.org/) (cartographic projections and coordinate transformations library).\n",
    "\n",
    "* [Seaborn](https://seaborn.pydata.org/) is a data visualization library based on matplotlib. \n",
    "  It provides a high-level interface for drawing attractive and informative statistical graphics.\n",
    "  \n",
    "### Pandas in action | Pandas en acción\n",
    "\n",
    "* Si a ti te interesa explorar otros tipos de datasets con temáticas diferentes a Ciencias de la Tierra y seguir aprendiendo a usar Pandas, te recomendamos visitar este [repositorio](https://github.com/MGomezN/enpecyt_2017) que tiene un notebook en donde se analiza la percepción que tiene la población mexicana sobre la ciencia y la tecnología. Te proponemos que explores el notebook, apliques tus conocimientos de pandas y compares tus resultados con los del siguiente [artículo](https://letraslibres.com/ciencia-y-tecnologia/la-ciencia-esa-aterradora-desconocida/)\n",
    "* El portal \"Nuestro Mundo en Datos\" tiene la misión de hacer accesible \"datos e investigación que contribuyen a combatir los grandes problemas del mundo\". Te recomendamos en particular el dataset de [democracia](https://ourworldindata.org/democracy) que podrás descargar en .csv.\n",
    "\n",
    "---\n",
    "\n",
    "* If you are interested in exploring other types of datasets with themes other than Earth Sciences, we recommend this [repository](https://github.com/MGomezN/enpecyt_2017).The notebook analyzes the Mexican population's perception of science and technology in 2017. We encourage you to explore the notebook, apply your knowledge of Pandas and compare your results with those of the following [article](https://letraslibres.com/ciencia-y-tecnologia/la-ciencia-esa-aterradora-desconocida/).\n",
    "\n",
    "* The project \"Our World in Data\" has the mission of making accessible “research and data to make progress against the world’s largest problems”.  We particularly recommend the [democracy](https://ourworldindata.org/democracy) dataset that you can download as .csv.\n",
    "\n",
    "\n",
    "  "
   ]
  }
 ],
 "metadata": {
  "kernelspec": {
   "display_name": "Python 3 (ipykernel)",
   "language": "python",
   "name": "python3"
  },
  "language_info": {
   "codemirror_mode": {
    "name": "ipython",
    "version": 3
   },
   "file_extension": ".py",
   "mimetype": "text/x-python",
   "name": "python",
   "nbconvert_exporter": "python",
   "pygments_lexer": "ipython3",
   "version": "3.11.0"
  },
  "toc-autonumbering": true
 },
 "nbformat": 4,
 "nbformat_minor": 4
}
