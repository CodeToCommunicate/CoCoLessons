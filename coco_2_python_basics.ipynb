{
 "cells": [
  {
   "cell_type": "markdown",
   "metadata": {},
   "source": [
    "# Welcome to learning Python!\n",
    "\n",
    "These notebooks contain a mix of text and code. \n",
    "This makes it easy to experiment with code and keep documentation like this in the same place. \n",
    "You can execute each cell individually, and therefore work incrementally with your code. \n",
    "If you want to execute a cell, you can press the `►` button above when you have highlighted the cell. \n",
    "Alternatively, you can hit `Shift + Enter` to execute and progress to next cell or alternatively `Ctrl + Enter` (Windows) or `Cmd + Enter` (Mac). \n",
    "_Take your time to experiment with it if you like and don't hesitate to ask or search for things in your favorite browser._\n",
    "\n",
    "\n",
    "**In this notebook we will learn about**:\n",
    "* Variables\n",
    "* Types of data\n",
    "* Different data structures\n",
    "* Working with Numpy arrays\n",
    "\n",
    "----\n",
    "\n",
    "Estos notebooks contienen una combinación de texto y código, lo que facilita la experimentación con el código y mantiene una documentación como esta en el mismo lugar. \n",
    "En los notebooks se puede ejecutar cada celda individualmente y, por lo tanto, trabajar de forma incremental con tu código. \n",
    "Si deseas ejecutar una celda, puedes presionar el botón `►` de arriba cuando se haya resaltado la celda o presionar `Shift + Enter` para ejecutar y avanzar a la siguiente celda. Puedes usar alternativamente `Ctrl + Enter` (Windows) o `Cmd + Enter` (Mac).\n",
    "_Tómate tu tiempo para experimentar con él si quieres y no dudes en preguntar o buscar cosas en tu navegador favorito._\n",
    "\n",
    "**En este notebook aprenderemos sobre**: \n",
    "* Variables\n",
    "* Tipo de datos\n",
    "* Diferentes estructuras de datos\n",
    "* Trabajar con Numpy arrays\n"
   ]
  },
  {
   "cell_type": "markdown",
   "metadata": {},
   "source": [
    "## Variables and data type / Variables y tipos de datos \n",
    "\n",
    "A _variable_ allows us to store a value.\n",
    "In Python, we can assign a value to a variable, using the equals sign `=`.\n",
    "\n",
    "----\n",
    "\n",
    "Una _variable_ nos permite almacenar un valor en un lugar determinado. \n",
    "En Python usamos el simbolo `=` para asignar un valor a una variable."
   ]
  },
  {
   "cell_type": "code",
   "execution_count": 1,
   "metadata": {},
   "outputs": [],
   "source": [
    "alumni = 15\n",
    "course_name = \"CoCo\""
   ]
  },
  {
   "cell_type": "markdown",
   "metadata": {},
   "source": [
    "The keyword `print()` is a function in Python.\n",
    "We can use it to see the value store in the variable.\n",
    "\n",
    "----\n",
    "\n",
    "`print()` es una funcion en Python, que usamos para examinar el valor asignado a una variable."
   ]
  },
  {
   "cell_type": "code",
   "execution_count": 2,
   "metadata": {},
   "outputs": [
    {
     "name": "stdout",
     "output_type": "stream",
     "text": [
      "15\n"
     ]
    }
   ],
   "source": [
    "print(alumni)"
   ]
  },
  {
   "cell_type": "code",
   "execution_count": 3,
   "metadata": {},
   "outputs": [
    {
     "name": "stdout",
     "output_type": "stream",
     "text": [
      "CoCo course has 15 alumni\n"
     ]
    }
   ],
   "source": [
    "print(course_name, \"course has\", alumni, \"alumni\")"
   ]
  },
  {
   "cell_type": "markdown",
   "metadata": {},
   "source": [
    "Moreover, variables can easily be updated.\n",
    "Try it out below!\n",
    "\n",
    "---\n",
    "\n",
    "Además, las variables se pueden actualizar fácilmente.\n",
    "¡Probémoslo!"
   ]
  },
  {
   "cell_type": "markdown",
   "metadata": {},
   "source": [
    "**Data Types / Tipos de datos**\n",
    "\n",
    "There are several different data types that we will be exploring in the course, including:\n",
    "* integer\n",
    "* string\n",
    "* float\n",
    "\n",
    "---\n",
    "\n",
    "Hay diferentes tipos de datos que vamos a ver en el curso, los cuales son:\n",
    "* integers (int): números enteros\n",
    "* strings (str): cadena de caracteres\n",
    "* floats (float): valores de punto flotante (representación aproximada de números reales).\n"
   ]
  },
  {
   "cell_type": "code",
   "execution_count": 4,
   "metadata": {},
   "outputs": [
    {
     "data": {
      "text/plain": [
       "int"
      ]
     },
     "execution_count": 4,
     "metadata": {},
     "output_type": "execute_result"
    }
   ],
   "source": [
    "type(alumni)"
   ]
  },
  {
   "cell_type": "code",
   "execution_count": 5,
   "metadata": {},
   "outputs": [
    {
     "data": {
      "text/plain": [
       "str"
      ]
     },
     "execution_count": 5,
     "metadata": {},
     "output_type": "execute_result"
    }
   ],
   "source": [
    "type(course_name)"
   ]
  },
  {
   "cell_type": "code",
   "execution_count": 6,
   "metadata": {},
   "outputs": [
    {
     "name": "stdout",
     "output_type": "stream",
     "text": [
      "7.5 is <class 'float'>\n"
     ]
    }
   ],
   "source": [
    "half_alumni = alumni / 2\n",
    "\n",
    "print(half_alumni, \"is\", type(half_alumni))"
   ]
  },
  {
   "cell_type": "markdown",
   "metadata": {},
   "source": [
    "If you want to concatenate two or more strings, there are several ways to achieve this in Python. \n",
    "The simplest method is to use `+`\n",
    "\n",
    "---\n",
    "\n",
    "Si desea concatenar dos o más cadenas de caracteres juntas hay varias formas de hacerlo.\n",
    "La más común es usar `+`."
   ]
  },
  {
   "cell_type": "code",
   "execution_count": 7,
   "metadata": {},
   "outputs": [
    {
     "name": "stdout",
     "output_type": "stream",
     "text": [
      "hola mundo\n"
     ]
    }
   ],
   "source": [
    "saludo = \"hola\" + \" \" + \"mundo\"\n",
    "\n",
    "print(saludo)"
   ]
  },
  {
   "cell_type": "markdown",
   "metadata": {},
   "source": [
    "### Formative assessment 1\n",
    "\n",
    "What would be the difference between an integer and float data type?\n",
    "How would we convert a float into an integer?\n",
    "(Give a best guess answer)\n",
    "\n",
    "---\n",
    "\n",
    "¿Cuál sería la diferencia entre un tipo de datos entero y flotante?\n",
    "¿Cómo convertiríamos un flotante en un número entero?\n",
    "(Dar una mejor respuesta posible)"
   ]
  },
  {
   "cell_type": "code",
   "execution_count": 8,
   "metadata": {
    "collapsed": true,
    "jupyter": {
     "outputs_hidden": true,
     "source_hidden": true
    },
    "tags": []
   },
   "outputs": [
    {
     "name": "stdout",
     "output_type": "stream",
     "text": [
      "7.5 is <class 'float'> but 7 is <class 'int'>\n"
     ]
    }
   ],
   "source": [
    "# Solutiopn / solucion\n",
    "\n",
    "Int_alumni = int(half_alumni)\n",
    "\n",
    "print(half_alumni, \"is\", type(half_alumni), \n",
    "      \"but\", Int_alumni, \"is\", type(Int_alumni)\n",
    "     )"
   ]
  },
  {
   "cell_type": "markdown",
   "metadata": {
    "tags": []
   },
   "source": [
    "### Formative assessment 2\n",
    "\n",
    "What will be the output of the next cell? / ¿Cual será el output de la siguiente celda?\n",
    "\n",
    "```\n",
    "channel = 100.0\n",
    "type(channel)\n",
    "```\n",
    "\n",
    "1. int\n",
    "\n",
    "2. float\n",
    "\n",
    "3. str"
   ]
  },
  {
   "cell_type": "code",
   "execution_count": 9,
   "metadata": {
    "collapsed": true,
    "jupyter": {
     "outputs_hidden": true,
     "source_hidden": true
    },
    "tags": []
   },
   "outputs": [
    {
     "data": {
      "text/plain": [
       "float"
      ]
     },
     "execution_count": 9,
     "metadata": {},
     "output_type": "execute_result"
    }
   ],
   "source": [
    "# Solution / solucion\n",
    "\n",
    "channel = 100.0\n",
    "type(channel)"
   ]
  },
  {
   "cell_type": "markdown",
   "metadata": {
    "tags": []
   },
   "source": [
    "### Mathematical operations / Operaciones matemáticas\n",
    "\n",
    "All of the standard calculator arithmetic operations are available between variables.\n",
    "\n",
    "We measure a certain geophysical variable at a height of 53.2 meters above sea level: \n",
    "\n",
    "---\n",
    "\n",
    "Podemos aplicar diferentes operaciones aritméticas entre distintas variables.\n",
    "\n",
    "Medimos una determinada variable geofísica a una altura de 53.2 metros sobre el nivel del mar:"
   ]
  },
  {
   "cell_type": "code",
   "execution_count": 10,
   "metadata": {
    "tags": []
   },
   "outputs": [],
   "source": [
    "sea_height = 53.2"
   ]
  },
  {
   "cell_type": "code",
   "execution_count": 11,
   "metadata": {},
   "outputs": [
    {
     "data": {
      "text/plain": [
       "53.2"
      ]
     },
     "execution_count": 11,
     "metadata": {},
     "output_type": "execute_result"
    }
   ],
   "source": [
    "sea_height"
   ]
  },
  {
   "cell_type": "markdown",
   "metadata": {},
   "source": [
    "**Addition / Suma**"
   ]
  },
  {
   "cell_type": "code",
   "execution_count": 12,
   "metadata": {},
   "outputs": [
    {
     "data": {
      "text/plain": [
       "63.800000000000004"
      ]
     },
     "execution_count": 12,
     "metadata": {},
     "output_type": "execute_result"
    }
   ],
   "source": [
    "sea_height + 10.6"
   ]
  },
  {
   "cell_type": "code",
   "execution_count": 13,
   "metadata": {},
   "outputs": [
    {
     "data": {
      "text/plain": [
       "49.7"
      ]
     },
     "execution_count": 13,
     "metadata": {},
     "output_type": "execute_result"
    }
   ],
   "source": [
    "sea_height - 3.5"
   ]
  },
  {
   "cell_type": "markdown",
   "metadata": {},
   "source": [
    "**Multiplication / Multiplicación**"
   ]
  },
  {
   "cell_type": "code",
   "execution_count": 14,
   "metadata": {},
   "outputs": [
    {
     "data": {
      "text/plain": [
       "106.4"
      ]
     },
     "execution_count": 14,
     "metadata": {},
     "output_type": "execute_result"
    }
   ],
   "source": [
    "sea_height * 2"
   ]
  },
  {
   "cell_type": "markdown",
   "metadata": {},
   "source": [
    "**Division / División**"
   ]
  },
  {
   "cell_type": "code",
   "execution_count": 15,
   "metadata": {},
   "outputs": [
    {
     "data": {
      "text/plain": [
       "26.6"
      ]
     },
     "execution_count": 15,
     "metadata": {},
     "output_type": "execute_result"
    }
   ],
   "source": [
    "sea_height / 2"
   ]
  },
  {
   "cell_type": "code",
   "execution_count": 16,
   "metadata": {},
   "outputs": [
    {
     "data": {
      "text/plain": [
       "26.0"
      ]
     },
     "execution_count": 16,
     "metadata": {},
     "output_type": "execute_result"
    }
   ],
   "source": [
    "sea_height // 2"
   ]
  },
  {
   "cell_type": "markdown",
   "metadata": {},
   "source": [
    "**Power / Potencia**"
   ]
  },
  {
   "cell_type": "code",
   "execution_count": 17,
   "metadata": {},
   "outputs": [
    {
     "data": {
      "text/plain": [
       "2830.2400000000002"
      ]
     },
     "execution_count": 17,
     "metadata": {},
     "output_type": "execute_result"
    }
   ],
   "source": [
    "sea_height ** 2"
   ]
  },
  {
   "cell_type": "markdown",
   "metadata": {},
   "source": [
    "## Data Structures\n",
    "\n",
    "A data structure is a term to describe a type of \"data container\". \n",
    "They are used to store multiples of variables and provide certain accessor functions to extract them from the container. \n",
    "\n",
    "---\n",
    "\n",
    "Una estructura de datos es un término para describir un tipo de \"contenedor de datos\".\n",
    "Se utilizan para almacenar múltiples variables y proporciona ciertas funciones de acceso para extraerlas del contenedor. "
   ]
  },
  {
   "cell_type": "markdown",
   "metadata": {},
   "source": [
    "### List / Listas\n",
    "\n",
    "Python lists are used to store a collection of data.\n",
    "A list is composed of comma-separated values between square brackets.\n",
    "\n",
    "---\n",
    "\n",
    "Las listas nos permiten guardar múltiples valores bajo una misma variable.\n",
    "Una lista es una lista de valores separados por comas entre corchetes.\n"
   ]
  },
  {
   "cell_type": "code",
   "execution_count": 18,
   "metadata": {},
   "outputs": [
    {
     "data": {
      "text/plain": [
       "list"
      ]
     },
     "execution_count": 18,
     "metadata": {},
     "output_type": "execute_result"
    }
   ],
   "source": [
    "impares = [1, 3, 5, 7, 9]\n",
    "\n",
    "type(impares)"
   ]
  },
  {
   "cell_type": "markdown",
   "metadata": {},
   "source": [
    "It can store heterogeneous data or you can even have lists of lists\n",
    "\n",
    "---\n",
    "\n",
    "Las listas pueden contener datos heterogéneos (diferentes tipos de variables), hasta listas."
   ]
  },
  {
   "cell_type": "code",
   "execution_count": 19,
   "metadata": {},
   "outputs": [
    {
     "name": "stdout",
     "output_type": "stream",
     "text": [
      "['agua', 20.1, 52] [[1, 2, 3], 3.0, 'hielo']\n"
     ]
    }
   ],
   "source": [
    "list_heterogeneous = [\"agua\", 20.1, 52]\n",
    "\n",
    "anidadas = [[1, 2, 3], 3.0, \"hielo\"]\n",
    "\n",
    "print(list_heterogeneous, anidadas)"
   ]
  },
  {
   "cell_type": "markdown",
   "metadata": {},
   "source": [
    "To access the first element of the list, which is a list\n",
    "\n",
    "---\n",
    "\n",
    "Accededemos al primer elemento de la lista, que es una lista."
   ]
  },
  {
   "cell_type": "code",
   "execution_count": 20,
   "metadata": {},
   "outputs": [
    {
     "data": {
      "text/plain": [
       "[1, 2, 3]"
      ]
     },
     "execution_count": 20,
     "metadata": {},
     "output_type": "execute_result"
    }
   ],
   "source": [
    "anidadas[0]"
   ]
  },
  {
   "cell_type": "markdown",
   "metadata": {},
   "source": [
    "We can access to the values housed in a list through its indices\n",
    "\n",
    "---\n",
    "\n",
    "Podemos acceder a los valores alojados dentro de una lista a través de sus índices."
   ]
  },
  {
   "cell_type": "code",
   "execution_count": 21,
   "metadata": {},
   "outputs": [],
   "source": [
    "temperaturas = [10.1, 14.6, 18.3, 20.3]"
   ]
  },
  {
   "cell_type": "code",
   "execution_count": 22,
   "metadata": {},
   "outputs": [
    {
     "data": {
      "text/plain": [
       "[10.1, 14.6, 18.3, 20.3]"
      ]
     },
     "execution_count": 22,
     "metadata": {},
     "output_type": "execute_result"
    }
   ],
   "source": [
    "temperaturas"
   ]
  },
  {
   "cell_type": "code",
   "execution_count": 23,
   "metadata": {},
   "outputs": [
    {
     "name": "stdout",
     "output_type": "stream",
     "text": [
      "Primer valor de temperatura: 10.1\n",
      "Segundo valor de temperatura: 14.6\n",
      "Último valor de temperatura: 20.3\n",
      "Penúltimo valor de temperatura: 18.3\n"
     ]
    }
   ],
   "source": [
    "print(\"Primer valor de temperatura:\", temperaturas[0])\n",
    "print(\"Segundo valor de temperatura:\", temperaturas[1])\n",
    "print(\"Último valor de temperatura:\", temperaturas[-1])\n",
    "print(\"Penúltimo valor de temperatura:\", temperaturas[-2])"
   ]
  },
  {
   "cell_type": "markdown",
   "metadata": {},
   "source": [
    "**Observations:**\n",
    "\n",
    "* In Python, the 0 index is the first element.\n",
    "* Negative indices indicate that we start counting from the last item in the list.\n",
    "* Lists have a method called `append` that allows us to add values.\n",
    "* The lists do not have a fixed length, we can change it as we need.\n",
    "\n",
    "---\n",
    "\n",
    "**Observaciones**\n",
    "\n",
    "* En Python, el índice 0 indica el primer elemento.\n",
    "* Índices negativos indican que empezamos a contar desde el último elemento de la lista.\n",
    "* Las listas poseen un método llamado `append` que nos permite agregar valores.\n",
    "* Las listas no tienen una longitud fija, podemos cambiarla según lo necesitemos."
   ]
  },
  {
   "cell_type": "markdown",
   "metadata": {},
   "source": [
    "The indices also allow us to modify the values of the list\n",
    "\n",
    "---\n",
    "\n",
    "Los índices además nos permiten modificar los valores de la lista."
   ]
  },
  {
   "cell_type": "code",
   "execution_count": 24,
   "metadata": {},
   "outputs": [
    {
     "name": "stdout",
     "output_type": "stream",
     "text": [
      "Temperature before:  [10.1, 14.6, 18.3, 20.3]\n",
      "Temperature after: [-2.3, 14.6, 18.3, 20.3]\n"
     ]
    }
   ],
   "source": [
    "print(\"Temperature before: \", temperaturas)\n",
    "temperaturas[0] = -2.3\n",
    "\n",
    "print(\"Temperature after:\", temperaturas)"
   ]
  },
  {
   "cell_type": "code",
   "execution_count": 25,
   "metadata": {},
   "outputs": [
    {
     "name": "stdout",
     "output_type": "stream",
     "text": [
      "[-2.3, 14.6, 18.3, 20.3, 23.5]\n"
     ]
    }
   ],
   "source": [
    "temperaturas.append(23.5)\n",
    "\n",
    "print(temperaturas)"
   ]
  },
  {
   "cell_type": "markdown",
   "metadata": {},
   "source": [
    "We use `len` to find out how many values are in a list.\n",
    "\n",
    "---\n",
    "\n",
    "Usamos la función `len` para ver cuántos elementos tiene una lista."
   ]
  },
  {
   "cell_type": "code",
   "execution_count": 26,
   "metadata": {},
   "outputs": [
    {
     "data": {
      "text/plain": [
       "5"
      ]
     },
     "execution_count": 26,
     "metadata": {},
     "output_type": "execute_result"
    }
   ],
   "source": [
    "len(temperaturas)"
   ]
  },
  {
   "cell_type": "markdown",
   "metadata": {},
   "source": [
    "In case we want to extract a _slice of the list_ instead of a single element, it is possible.\n",
    "If we want to obtain all the elements from the second to the fourth, without including the fourth one:\n",
    "\n",
    "---\n",
    "\n",
    "En caso de que querramos _extraer una porción_ de la lista en vez de un sólo elemento, es posible utilizar _slices_ o _porciones_.\n",
    "Si queremos obtener todos los elementos desde el segundo hasta el cuarto, sin incluir:"
   ]
  },
  {
   "cell_type": "code",
   "execution_count": 27,
   "metadata": {},
   "outputs": [
    {
     "data": {
      "text/plain": [
       "[14.6, 18.3, 20.3]"
      ]
     },
     "execution_count": 27,
     "metadata": {},
     "output_type": "execute_result"
    }
   ],
   "source": [
    "temperaturas[1:4]"
   ]
  },
  {
   "cell_type": "markdown",
   "metadata": {},
   "source": [
    "If we want to choose the first three elements\n",
    "\n",
    "---\n",
    "\n",
    "Si queremos elegir los primeros tres elementos:"
   ]
  },
  {
   "cell_type": "code",
   "execution_count": 28,
   "metadata": {},
   "outputs": [
    {
     "data": {
      "text/plain": [
       "[-2.3, 14.6, 18.3]"
      ]
     },
     "execution_count": 28,
     "metadata": {},
     "output_type": "execute_result"
    }
   ],
   "source": [
    "temperaturas[:3]"
   ]
  },
  {
   "cell_type": "markdown",
   "metadata": {},
   "source": [
    "Similarly, if we want to get all the elements after the third element\n",
    "\n",
    "---\n",
    "\n",
    "De manera similar, si queremos obtener todos los elementos después del tercero:"
   ]
  },
  {
   "cell_type": "code",
   "execution_count": 29,
   "metadata": {},
   "outputs": [
    {
     "data": {
      "text/plain": [
       "[20.3, 23.5]"
      ]
     },
     "execution_count": 29,
     "metadata": {},
     "output_type": "execute_result"
    }
   ],
   "source": [
    "temperaturas[3:]"
   ]
  },
  {
   "cell_type": "markdown",
   "metadata": {},
   "source": [
    "How can we use a slice to access all its elements except the last one?\n",
    "\n",
    "---\n",
    "\n",
    "¿Cómo podemos usar un _slice_ para acceder a todos sus elementos menos el último?"
   ]
  },
  {
   "cell_type": "code",
   "execution_count": 30,
   "metadata": {},
   "outputs": [
    {
     "data": {
      "text/plain": [
       "[-2.3, 14.6, 18.3, 20.3]"
      ]
     },
     "execution_count": 30,
     "metadata": {},
     "output_type": "execute_result"
    }
   ],
   "source": [
    "temperaturas[:-1]"
   ]
  },
  {
   "cell_type": "markdown",
   "metadata": {},
   "source": [
    "We can concatenate lists using `+`\n",
    "\n",
    "---\n",
    "\n",
    "Podemos concatenar listas usando `+`."
   ]
  },
  {
   "cell_type": "code",
   "execution_count": 31,
   "metadata": {},
   "outputs": [
    {
     "data": {
      "text/plain": [
       "[1, 2, 3, 4, 5, 6]"
      ]
     },
     "execution_count": 31,
     "metadata": {},
     "output_type": "execute_result"
    }
   ],
   "source": [
    "[1, 2, 3] + [4, 5, 6]"
   ]
  },
  {
   "cell_type": "markdown",
   "metadata": {},
   "source": [
    "**Can you create an empty list?**\n",
    "\n",
    "---\n",
    "\n",
    "**¿Se puede crear una lista vacía?**"
   ]
  },
  {
   "cell_type": "code",
   "execution_count": 32,
   "metadata": {
    "collapsed": true,
    "jupyter": {
     "outputs_hidden": true,
     "source_hidden": true
    },
    "tags": []
   },
   "outputs": [
    {
     "data": {
      "text/plain": [
       "[]"
      ]
     },
     "execution_count": 32,
     "metadata": {},
     "output_type": "execute_result"
    }
   ],
   "source": [
    "lista_vacia = []\n",
    "\n",
    "lista_vacia"
   ]
  },
  {
   "cell_type": "markdown",
   "metadata": {},
   "source": [
    "### Formative assessment 3\n",
    "\n",
    "Lets define a list `my_list = [-3.0, -2.0, -1.0]`. What happens if I try to get the element with index 3 of the list, i.e. `my_list[3]`?\n",
    "\n",
    "1. We get an Error\n",
    "\n",
    "2. We get `-1.0`\n",
    "\n",
    "3. We get `-3.0`\n",
    "\n",
    "---\n",
    "\n",
    "Definamos una lista `mi_lista = [-3.0, -2.0, -1.0]`. ¿Qué sucede si intentamos acceder al elemento con índice 3 de la lista, es decir `mi_lista[3]`?\n",
    "\n",
    "1. Obtenemos un Error\n",
    "\n",
    "2. Obtenemos `-1.0`\n",
    "\n",
    "3. Obtenemos `-3.0`"
   ]
  },
  {
   "cell_type": "code",
   "execution_count": 4,
   "metadata": {
    "collapsed": true,
    "jupyter": {
     "outputs_hidden": true,
     "source_hidden": true
    },
    "tags": []
   },
   "outputs": [
    {
     "ename": "IndexError",
     "evalue": "list index out of range",
     "output_type": "error",
     "traceback": [
      "\u001b[0;31m---------------------------------------------------------------------------\u001b[0m",
      "\u001b[0;31mIndexError\u001b[0m                                Traceback (most recent call last)",
      "\u001b[0;32m/var/folders/j4/ybdgngv506vb75dxj7pxnn580000gn/T/ipykernel_906/1375842092.py\u001b[0m in \u001b[0;36m<module>\u001b[0;34m\u001b[0m\n\u001b[1;32m      3\u001b[0m \u001b[0mlista\u001b[0m \u001b[0;34m=\u001b[0m \u001b[0;34m[\u001b[0m\u001b[0;34m-\u001b[0m\u001b[0;36m3.0\u001b[0m\u001b[0;34m,\u001b[0m \u001b[0;34m-\u001b[0m\u001b[0;36m2.0\u001b[0m\u001b[0;34m,\u001b[0m \u001b[0;34m-\u001b[0m\u001b[0;36m1.0\u001b[0m\u001b[0;34m]\u001b[0m\u001b[0;34m\u001b[0m\u001b[0;34m\u001b[0m\u001b[0m\n\u001b[1;32m      4\u001b[0m \u001b[0;34m\u001b[0m\u001b[0m\n\u001b[0;32m----> 5\u001b[0;31m \u001b[0mlista\u001b[0m\u001b[0;34m[\u001b[0m\u001b[0;36m3\u001b[0m\u001b[0;34m]\u001b[0m\u001b[0;34m\u001b[0m\u001b[0;34m\u001b[0m\u001b[0m\n\u001b[0m",
      "\u001b[0;31mIndexError\u001b[0m: list index out of range"
     ]
    }
   ],
   "source": [
    "# Solution / Solución\n",
    "\n",
    "lista = [-3.0, -2.0, -1.0]\n",
    "\n",
    "lista[10]"
   ]
  },
  {
   "cell_type": "markdown",
   "metadata": {},
   "source": [
    "### Tuple / Tupla\n",
    "\n",
    "Tuples are like a list, but immutables. \n",
    "If you have data that you want to store in a structure, but you know it will not be changed, tuples can be more efficient.\n",
    "\n",
    "---\n",
    "\n",
    "Las tuplas son como una lista, pero inmutables.\n",
    "Si tiene datos que desea almacenar en una estructura, pero sabe que no se cambiarán, las tuplas pueden ser más eficientes para su almacenamiento."
   ]
  },
  {
   "cell_type": "code",
   "execution_count": 5,
   "metadata": {},
   "outputs": [],
   "source": [
    "tuple = (2, 3.4, \"March\")"
   ]
  },
  {
   "cell_type": "code",
   "execution_count": 6,
   "metadata": {},
   "outputs": [
    {
     "data": {
      "text/plain": [
       "'March'"
      ]
     },
     "execution_count": 6,
     "metadata": {},
     "output_type": "execute_result"
    }
   ],
   "source": [
    "tuple[2]"
   ]
  },
  {
   "cell_type": "markdown",
   "metadata": {},
   "source": [
    "### Dictionary / Diccionario\n",
    "\n",
    "Dictionaries are a way to efficiently store and retrieve data values by a _keyword_.\n",
    "A dictionary is formed of value-key pairs, separated by commas, enclosed in curly brackets `{}`.\n",
    "The key and the value are separated by a colon `:`, i.e. `key: value`.\n",
    "\n",
    "---\n",
    "\n",
    "Los diccionarios nos permiten almacenar cualquier tipo de datos identificandolos por una _palabra clave_.\n",
    "Un diccionario está formado por pares de valores y claves, separados por comas, encerrados entre corchetes `{}`.\n",
    "La clave y el valor están separados por dos puntos `:`, es decir, `clave: valor`."
   ]
  },
  {
   "cell_type": "code",
   "execution_count": 36,
   "metadata": {},
   "outputs": [
    {
     "name": "stdout",
     "output_type": "stream",
     "text": [
      "{'numerical': 1, 'alphabetical': 'abc'}\n"
     ]
    }
   ],
   "source": [
    "my_dict = {'numerical' : 1, 'alphabetical': 'abc'}\n",
    "\n",
    "print(my_dict)"
   ]
  },
  {
   "cell_type": "markdown",
   "metadata": {},
   "source": [
    "We can access values using the keys between square brackets. / Podemos acceder a los valores usando las claves entre corchetes."
   ]
  },
  {
   "cell_type": "code",
   "execution_count": 37,
   "metadata": {},
   "outputs": [
    {
     "data": {
      "text/plain": [
       "1"
      ]
     },
     "execution_count": 37,
     "metadata": {},
     "output_type": "execute_result"
    }
   ],
   "source": [
    "my_dict['numerical']"
   ]
  },
  {
   "cell_type": "code",
   "execution_count": 38,
   "metadata": {},
   "outputs": [
    {
     "data": {
      "text/plain": [
       "'abc'"
      ]
     },
     "execution_count": 38,
     "metadata": {},
     "output_type": "execute_result"
    }
   ],
   "source": [
    "my_dict.get(\"alphabetical\")"
   ]
  },
  {
   "cell_type": "code",
   "execution_count": 39,
   "metadata": {},
   "outputs": [
    {
     "data": {
      "text/plain": [
       "dict_keys(['numerical', 'alphabetical'])"
      ]
     },
     "execution_count": 39,
     "metadata": {},
     "output_type": "execute_result"
    }
   ],
   "source": [
    "my_dict.keys()"
   ]
  },
  {
   "cell_type": "markdown",
   "metadata": {},
   "source": [
    "Keys are immutables (i.e. can't be changed) but values can be updated.\n",
    "\n",
    "---\n",
    "\n",
    "Las claves son inmutables (es decir, no se pueden cambiar) pero los valores se pueden actualizar."
   ]
  },
  {
   "cell_type": "code",
   "execution_count": 40,
   "metadata": {},
   "outputs": [],
   "source": [
    "my_dict['numerical'] = 5"
   ]
  },
  {
   "cell_type": "markdown",
   "metadata": {},
   "source": [
    "We can also add new key-value pairs / También podemos agregar nuevos pares clave-valor."
   ]
  },
  {
   "cell_type": "code",
   "execution_count": 41,
   "metadata": {},
   "outputs": [
    {
     "name": "stdout",
     "output_type": "stream",
     "text": [
      "{'numerical': 5, 'alphabetical': 'abc', 'binary': 1010001}\n"
     ]
    }
   ],
   "source": [
    "my_dict['binary'] = 1010001\n",
    "\n",
    "print (my_dict)"
   ]
  },
  {
   "cell_type": "markdown",
   "metadata": {},
   "source": [
    "## Python Libraries / Librerias de Python\n",
    "\n",
    "One of the advantages of using Python to process data is the ability to use libraries.\n",
    "Libraries are **collections of modules** that contain functions to be used by other programs (for example, our notebooks and scripts). \n",
    "These functions usually save us a lot of time when performing certain tasks, since we do not need to write our own code to carry them out.\n",
    "\n",
    "In addition, libraries are usually developed following best practices:\n",
    "* Well designed code.\n",
    "* They use version drivers.\n",
    "* They have automated tests.\n",
    "* Extensive documentation.\n",
    "* Developed by a community.\n",
    "\n",
    "In this opportunity, we will learn about **[Numpy](https://numpy.org/)**, which is one of the most used libraries when it comes to scientific computing. \n",
    "\n",
    "----\n",
    "\n",
    "Una de las ventajas de usar Python para procesar datos es la posibilidad de usar librerías. \n",
    "Las librerías son **colecciones de módulos** que contienen funciones para ser usadas por otros programas (por ejemplo, nuestros notebooks y scripts).\n",
    "Estas funciones suelen ahorrarnos mucho tiempo a la hora de realizar determinadas tareas, ya que no necesitamos escribir nuestro propio código para llevarlas a cabo.\n",
    "\n",
    "Además, las librerías suelen están desarrolladas siguiendo las mejores prácticas:\n",
    "* Código bien diseñado.\n",
    "* Utilizan controladores de versiones.\n",
    "* Poseen testeos automatizados.\n",
    "* Documentación extensiva.\n",
    "* Desarrolladas por una comunidad.\n",
    "\n",
    "En esta oportunidad vamos a explorar la libreria de **[Numpy](https://numpy.org/)**, una de las más utilizadas a la hora de realizar computación científica."
   ]
  },
  {
   "cell_type": "markdown",
   "metadata": {},
   "source": [
    "### Importing Numpy | Importando Numpy\n",
    "\n",
    "In order to make use of the libraries, we first need to import them\n",
    "\n",
    "---\n",
    "\n",
    "Para poder hacer uso de las librerías, primero necesitamos importarlas."
   ]
  },
  {
   "cell_type": "code",
   "execution_count": 6,
   "metadata": {
    "id": "6aJg7_-_o_xw"
   },
   "outputs": [],
   "source": [
    "import numpy as np"
   ]
  },
  {
   "cell_type": "markdown",
   "metadata": {
    "id": "IDjAU8Rro_xy"
   },
   "source": [
    "This allows us to access the modules and functions of the library\n",
    "\n",
    "---\n",
    "\n",
    "Esto nos permite acceder a los módulos y funciones de la librería. "
   ]
  },
  {
   "cell_type": "code",
   "execution_count": 44,
   "metadata": {
    "id": "REieQiW7o_x1",
    "outputId": "30d6e2e5-0747-4201-fbf3-c30a3f6f270a"
   },
   "outputs": [
    {
     "data": {
      "text/plain": [
       "array([1, 2, 3, 4])"
      ]
     },
     "execution_count": 44,
     "metadata": {},
     "output_type": "execute_result"
    }
   ],
   "source": [
    "np.array([1, 2, 3, 4])"
   ]
  },
  {
   "cell_type": "markdown",
   "metadata": {
    "id": "v_Vbal7Xo_x4"
   },
   "source": [
    "### Numpy Arrays\n",
    "\n",
    "NumPy introduces a new type of variable, the `numpy.array`.\n",
    "Like lists, they allow you to store many values under a single variable:\n",
    "\n",
    "---\n",
    "\n",
    "NumPy introduce un nuevo tipo de variable, los `numpy.arrays` (o arreglos, en español).\n",
    "Al igual que las listas, permiten guardar muchos valores bajo una única variable:"
   ]
  },
  {
   "cell_type": "code",
   "execution_count": 45,
   "metadata": {
    "id": "KjdrXUPPo_x5"
   },
   "outputs": [
    {
     "name": "stdout",
     "output_type": "stream",
     "text": [
      "[2.  4.  6.  8.3 4.  5. ]\n"
     ]
    },
    {
     "data": {
      "text/plain": [
       "numpy.ndarray"
      ]
     },
     "execution_count": 45,
     "metadata": {},
     "output_type": "execute_result"
    }
   ],
   "source": [
    "array_1d = np.array([2, 4, 6, 8.3, 4, 5])\n",
    "\n",
    "print(array_1d)\n",
    "\n",
    "type(array_1d)"
   ]
  },
  {
   "cell_type": "markdown",
   "metadata": {
    "id": "hPfcrHBmo_x7"
   },
   "source": [
    "We can use indexes as we did with lists\n",
    "\n",
    "---\n",
    "\n",
    "Podemos usar los índices como lo hacíamos con las listas:"
   ]
  },
  {
   "cell_type": "code",
   "execution_count": 46,
   "metadata": {
    "id": "OuB4PQT8o_x7",
    "outputId": "b95b59c4-bb1b-48bc-c5b9-bede10228b5a"
   },
   "outputs": [
    {
     "data": {
      "text/plain": [
       "2.0"
      ]
     },
     "execution_count": 46,
     "metadata": {},
     "output_type": "execute_result"
    }
   ],
   "source": [
    "array_1d[0]"
   ]
  },
  {
   "cell_type": "code",
   "execution_count": 47,
   "metadata": {
    "id": "Y4Be8SYko_x8",
    "outputId": "9f8cd0d0-944e-4b98-9c68-220fffc424ad"
   },
   "outputs": [
    {
     "data": {
      "text/plain": [
       "array([6. , 8.3, 4. , 5. ])"
      ]
     },
     "execution_count": 47,
     "metadata": {},
     "output_type": "execute_result"
    }
   ],
   "source": [
    "array_1d[2:]"
   ]
  },
  {
   "cell_type": "markdown",
   "metadata": {},
   "source": [
    "**What are the advantages and disadvantages of using `arrays`?**\n",
    "\n",
    "* Arrays have a fixed size. Once created, we cannot add or remove values from it.\n",
    "* Arrays store a single type of variables (floats or ints).\n",
    "* They have a more efficient management of memory.\n",
    "* All the operations we perform with _NumPy_ are faster than using _forloops_ and _lists_.\n",
    "\n",
    "----\n",
    "\n",
    "**¿Cuáles son las ventajas y desventajas de usar `arrays`?**\n",
    "\n",
    "* Los arrays tienen tamaño fijo. Una vez creados, no le podemos agregar o quitar valores.\n",
    "* Los arrays almacenan un único tipo de variables (floats o ints).\n",
    "* Tienen un manejo mas eficiente de la memoria.\n",
    "* Todas las operaciones que realicemos con _NumPy_ son más rápidas que usar _forloops_ y _listas_.\n"
   ]
  },
  {
   "cell_type": "markdown",
   "metadata": {},
   "source": [
    "### Array operations / Operaciones con arrays\n",
    "\n",
    "Another advantage of using arrays is that many mathematical operations can be performed very easily.\n",
    "For example, let's go back to the values of distance in inches.\n",
    "\n",
    "----\n",
    "\n",
    "Otra ventaja de usar arrays es que muchas operaciones matemáticas pueden realizarse muy fácilmente.\n",
    "Por ejemplo, retomemos los valores de distancia medidas en pulgadas\n"
   ]
  },
  {
   "cell_type": "code",
   "execution_count": 48,
   "metadata": {},
   "outputs": [
    {
     "name": "stdout",
     "output_type": "stream",
     "text": [
      "[10.   24.5  90.    6.75 90.7  80.  ]\n"
     ]
    }
   ],
   "source": [
    "inches = [10, 24.5, 90, 6.75, 90.7, 80]\n",
    "\n",
    "# Convert the list into an array / Convertimos la lista en un array:\n",
    "inches = np.array(inches)\n",
    "\n",
    "print(inches)"
   ]
  },
  {
   "cell_type": "markdown",
   "metadata": {},
   "source": [
    "Convert to meters\n",
    "\n",
    "---\n",
    "\n",
    "Convertimos a metros:"
   ]
  },
  {
   "cell_type": "code",
   "execution_count": 49,
   "metadata": {},
   "outputs": [
    {
     "name": "stdout",
     "output_type": "stream",
     "text": [
      "[0.254   0.6223  2.286   0.17145 2.30378 2.032  ]\n"
     ]
    }
   ],
   "source": [
    "meters = inches * 25.4e-3 \n",
    "\n",
    "print(meters)"
   ]
  },
  {
   "cell_type": "markdown",
   "metadata": {},
   "source": [
    "Add 10 meters \n",
    "\n",
    "---\n",
    "\n",
    "Le sumo 10 metros:"
   ]
  },
  {
   "cell_type": "code",
   "execution_count": 50,
   "metadata": {},
   "outputs": [
    {
     "data": {
      "text/plain": [
       "array([10.254  , 10.6223 , 12.286  , 10.17145, 12.30378, 12.032  ])"
      ]
     },
     "execution_count": 50,
     "metadata": {},
     "output_type": "execute_result"
    }
   ],
   "source": [
    "meters + 10"
   ]
  },
  {
   "cell_type": "markdown",
   "metadata": {},
   "source": [
    "It is also possible to operate with other arrays as long as they have the same shape.\n",
    "\n",
    "---\n",
    "\n",
    "También es posible operar con otros arreglos siempre y cuando tengan la misma forma."
   ]
  },
  {
   "cell_type": "code",
   "execution_count": 51,
   "metadata": {},
   "outputs": [
    {
     "name": "stdout",
     "output_type": "stream",
     "text": [
      "[100. 200. 120.  98.  65.   3.] [2 1 3 4 9 5]\n"
     ]
    }
   ],
   "source": [
    "precios = np.array([100, 200, 120, 98, 65, 3], dtype=float)\n",
    "cantidades = np.array([2, 1, 3, 4, 9, 5])\n",
    "\n",
    "print(precios, cantidades)"
   ]
  },
  {
   "cell_type": "code",
   "execution_count": 52,
   "metadata": {},
   "outputs": [
    {
     "name": "stdout",
     "output_type": "stream",
     "text": [
      "[200. 200. 360. 392. 585.  15.]\n"
     ]
    }
   ],
   "source": [
    "costos = precios * cantidades\n",
    "\n",
    "print(costos)"
   ]
  },
  {
   "cell_type": "code",
   "execution_count": 53,
   "metadata": {},
   "outputs": [
    {
     "name": "stdout",
     "output_type": "stream",
     "text": [
      "1752.0\n"
     ]
    }
   ],
   "source": [
    "total = np.sum(costos)\n",
    "\n",
    "print(total)"
   ]
  },
  {
   "cell_type": "code",
   "execution_count": 54,
   "metadata": {},
   "outputs": [
    {
     "ename": "ValueError",
     "evalue": "operands could not be broadcast together with shapes (3,) (2,) ",
     "output_type": "error",
     "traceback": [
      "\u001b[0;31m---------------------------------------------------------------------------\u001b[0m",
      "\u001b[0;31mValueError\u001b[0m                                Traceback (most recent call last)",
      "\u001b[0;32m/tmp/ipykernel_3624/3362793231.py\u001b[0m in \u001b[0;36m<module>\u001b[0;34m\u001b[0m\n\u001b[1;32m      2\u001b[0m \u001b[0mb\u001b[0m \u001b[0;34m=\u001b[0m \u001b[0mnp\u001b[0m\u001b[0;34m.\u001b[0m\u001b[0marray\u001b[0m\u001b[0;34m(\u001b[0m\u001b[0;34m[\u001b[0m\u001b[0;36m4\u001b[0m\u001b[0;34m,\u001b[0m \u001b[0;36m5\u001b[0m\u001b[0;34m]\u001b[0m\u001b[0;34m)\u001b[0m\u001b[0;34m\u001b[0m\u001b[0;34m\u001b[0m\u001b[0m\n\u001b[1;32m      3\u001b[0m \u001b[0;34m\u001b[0m\u001b[0m\n\u001b[0;32m----> 4\u001b[0;31m \u001b[0ma\u001b[0m \u001b[0;34m+\u001b[0m \u001b[0mb\u001b[0m\u001b[0;34m\u001b[0m\u001b[0;34m\u001b[0m\u001b[0m\n\u001b[0m",
      "\u001b[0;31mValueError\u001b[0m: operands could not be broadcast together with shapes (3,) (2,) "
     ]
    }
   ],
   "source": [
    "a = np.array([1, 2, 3])\n",
    "b = np.array([4, 5])\n",
    "\n",
    "a + b"
   ]
  },
  {
   "cell_type": "markdown",
   "metadata": {},
   "source": [
    "### Multidimensional arrays / Arrays multidimensionales\n",
    "\n",
    "It is possible to define multidimensional arrays.\n",
    "For example, a 2D array would look like an matrix:\n",
    "\n",
    "----\n",
    "\n",
    "Es posible definir arreglos multidimensionales.\n",
    "Por ejemplo, un arreglo 2D se vería como una matriz:"
   ]
  },
  {
   "cell_type": "code",
   "execution_count": 55,
   "metadata": {},
   "outputs": [
    {
     "name": "stdout",
     "output_type": "stream",
     "text": [
      "[[1 2 3]\n",
      " [4 5 6]]\n"
     ]
    }
   ],
   "source": [
    "array_2d = np.array([[1, 2, 3], [4, 5, 6]])\n",
    "\n",
    "print(array_2d)\n"
   ]
  },
  {
   "cell_type": "code",
   "execution_count": 56,
   "metadata": {},
   "outputs": [
    {
     "data": {
      "text/plain": [
       "(2, 3)"
      ]
     },
     "execution_count": 56,
     "metadata": {},
     "output_type": "execute_result"
    }
   ],
   "source": [
    "array_2d.shape"
   ]
  },
  {
   "cell_type": "code",
   "execution_count": 57,
   "metadata": {},
   "outputs": [
    {
     "data": {
      "text/plain": [
       "tuple"
      ]
     },
     "execution_count": 57,
     "metadata": {},
     "output_type": "execute_result"
    }
   ],
   "source": [
    "type(array_2d.shape)"
   ]
  },
  {
   "cell_type": "markdown",
   "metadata": {},
   "source": [
    "We can access each element of a 2D array through its indexes\n",
    "\n",
    "---\n",
    "\n",
    "Podemos acceder a cada elemento de un arreglo 2D a través de sus índices:"
   ]
  },
  {
   "cell_type": "code",
   "execution_count": 58,
   "metadata": {},
   "outputs": [
    {
     "data": {
      "text/plain": [
       "2"
      ]
     },
     "execution_count": 58,
     "metadata": {},
     "output_type": "execute_result"
    }
   ],
   "source": [
    "array_2d[0, 1]"
   ]
  },
  {
   "cell_type": "markdown",
   "metadata": {},
   "source": [
    "We can extract a portion of the array\n",
    "\n",
    "---\n",
    "\n",
    "Podemos extraer una porción del array:"
   ]
  },
  {
   "cell_type": "code",
   "execution_count": 59,
   "metadata": {},
   "outputs": [
    {
     "data": {
      "text/plain": [
       "array([2, 5])"
      ]
     },
     "execution_count": 59,
     "metadata": {},
     "output_type": "execute_result"
    }
   ],
   "source": [
    "array_2d[:, 1]"
   ]
  },
  {
   "cell_type": "markdown",
   "metadata": {},
   "source": [
    "### Some Numpy functions / Algunas funciones de Numpy\n",
    "\n",
    "Every time we make use of the functions of a library, it is advisable to read its documentation\n",
    "\n",
    "---\n",
    "\n",
    "Cada vez que hagamos uso de las funciones de una librería, es recomendable leer su documentación."
   ]
  },
  {
   "cell_type": "code",
   "execution_count": 7,
   "metadata": {},
   "outputs": [],
   "source": [
    "np.mean?"
   ]
  },
  {
   "cell_type": "code",
   "execution_count": 60,
   "metadata": {},
   "outputs": [
    {
     "name": "stdout",
     "output_type": "stream",
     "text": [
      "[2.  4.  6.  8.3 4.  5. ]\n",
      "Mean: 4.883333333333334 Standard deviation: 1.9497150788997066 Max: 8.3 Min: 2.0 Square root: [1.41421356 2.         2.44948974 2.88097206 2.         2.23606798]\n"
     ]
    }
   ],
   "source": [
    "print(array_1d)\n",
    "\n",
    "print(\n",
    "    \"Mean:\", np.mean(array_1d),\n",
    "    \"Standard deviation:\", np.std(array_1d),\n",
    "    \"Max:\", np.max(array_1d),\n",
    "    \"Min:\", np.min(array_1d),\n",
    "    \"Square root:\", np.sqrt(array_1d)\n",
    "     )"
   ]
  },
  {
   "cell_type": "markdown",
   "metadata": {},
   "source": [
    "## Homework / Tarea"
   ]
  },
  {
   "cell_type": "markdown",
   "metadata": {},
   "source": [
    "### 1° Task\n",
    "\n",
    "A colleague from the United States shared with us the following temperature measurement, given in Fahrenheit:\n",
    "\n",
    "$$\n",
    "T = 30.3^\\circ \\text{F}\n",
    "$$\n",
    "\n",
    "Convert this value to degrees Celsius, knowing that:\n",
    "$$[^\\circ \\text{C}] = \\frac{5}{9} ([^\\circ \\text{F}] - 32) $$ \n",
    "\n",
    "Requirements:\n",
    "\n",
    "* Assign the received data to a variable.\n",
    "* Apply the unit transformation using this variable.\n",
    "* Save the data in Celsius in another variable.\n",
    "* Use the print function to display both results.\n",
    "\n",
    "---\n",
    "\n",
    "Un colega de Estados Unidos nos ha compartido la siguiente medición de temperatura de suelo dada en Fahrenheit:\n",
    "$$ T = 30.3 ^\\circ\\text{F} $$\n",
    "\n",
    "Conviertan este valor a grados Celsius, sabiendo que:\n",
    "$$ [^\\circ\\text{C}] = \\frac{5}{9} ([^\\circ\\text{F}] - 32) $$\n",
    "\n",
    "Requerimientos:\n",
    "\n",
    "* Asignar el dato recibido a una variable.\n",
    "* Aplicar la transformación de unidades usando esta variable.\n",
    "* Guardar el dato en Celsius en otra variable.\n",
    "* Utilizar la función print para mostrar ambos resultados.\n",
    "\n"
   ]
  },
  {
   "cell_type": "markdown",
   "metadata": {
    "tags": []
   },
   "source": [
    "### 2° Task\n",
    "\n",
    "Now, convert the following list of temperatures in Fahrenheit to Celsius.\n",
    "\n",
    "temperatures_F = [30.3, 20.1, 46.5, 34.1, 42.3]\n",
    "\n",
    "---\n",
    "\n",
    "Ahora, convierta la siguiente lista de temperaturas en Fahrenheit a grados Centígrados unado un for loop.\n",
    "\n",
    "temperaturas_F = [30.3, 20.1, 46.5, 34.1, 42.3]"
   ]
  },
  {
   "cell_type": "markdown",
   "metadata": {},
   "source": [
    "### 3° Task\n",
    "\n",
    "Given the array: `([1, 2, 3, 4, 5, 6, 7, 8, 9, 10, 11, 12, 13, 14, 15, 16])`, investigate the `numpy` library documentation for reshape the array to be 4x4.\n",
    "\n",
    "----\n",
    "\n",
    "Dado el array: `([ 1, 2, 3, 4, 5, 6, 7, 8, 9, 10, 11, 12, 13, 14, 15, 16])` investigue la documentacion de la libreria `numpy` para \"reshape\" o reformular el array para que sea de 4x4.\n"
   ]
  },
  {
   "cell_type": "markdown",
   "metadata": {},
   "source": [
    "### 4° Task\n",
    "\n",
    "`Numpy` allows us to apply mathematical functions.\n",
    "\n",
    "Calculate the sine and cosine of the angles 0, 30, 45, 60 and 90 given in degrees:\n",
    "1. Create an array with the angles in degrees.\n",
    "2. Convert the angles to radians.\n",
    "3. Calculate the sine and cosine of these angles and store them in two different arrays.\n",
    "\n",
    "_Investigate the `numpy` library to find the functions to convert the angles from degrees to radians and calculate the sine and cosine._\n",
    "\n",
    "---\n",
    "\n",
    "`Numpy` nos permite también aplicar funciones matemáticas. \n",
    "\n",
    "Calcule el seno y el coseno de los angulos: 0, 30, 45, 60 y 90 dados en grados:\n",
    "1. Cree un array con los ángulos mencionados en grados.\n",
    "2. Convierta los ángulos a radianes.\n",
    "3. Calcule el seno y el coseno de estos ángulos y guárdelos en dos arrays diferentes.\n",
    "\n",
    "_Investigue la libreria `numpy` para encontrar las funciones que permitan convertir los ángulos en grados a radianes y calcular el seno y coseno._"
   ]
  },
  {
   "cell_type": "markdown",
   "metadata": {},
   "source": [
    "### 5° Task\n",
    "\n",
    "\n",
    "**Finite differences**\n",
    "\n",
    "A common approximation for computing derivatives of functions is a finite difference approximation:\n",
    "\n",
    "$$\\frac{d}{dx} y(x) = \\frac{y(x + \\Delta x) - y(x)}{\\Delta x}$$\n",
    "\n",
    "or for discrete data\n",
    "\n",
    "$$\\frac{d}{dx} y(x_i) = \\frac{y(x_i + \\Delta x) - y(x_i)}{\\Delta x} = \\frac{y(x_{i+1}) - y(x_i)}{x_{i+1} - x_{i}}$$\n",
    "\n",
    "This operation can be accomplished using index, silce and vectorized algebraic operations.\n",
    "Try to solve it!\n",
    "\n",
    "Now, read the numpy documantation to find a function to calculate $\\frac{d}{dx} y(x_i)$.\n",
    "\n",
    "----\n",
    "\n",
    "**Diferencias finitas**\n",
    "\n",
    "Una aproximación común para calcular derivadas de funciones es una aproximación en diferencias finitas:\n",
    "\n",
    "$$\\frac{d}{dx} y(x) = \\frac{y(x + \\Delta x) - y(x)}{\\Delta x}$$\n",
    "\n",
    "o para datos discretos\n",
    "\n",
    "$$\\frac{d}{dx} y(x_i) = \\frac{y(x_i + \\Delta x) - y(x_i)}{\\Delta x} = \\frac{y(x_{i+1}) - y(x_i)}{x_{i+1} - x_{i}}$$\n",
    "\n",
    "Esta operación se puede realizar utilizando las operaciones algebraicas vectorizadas, indices y silce. \n",
    "¡Intenta calcularlo!\n",
    "\n",
    "Ahora, lea la documentación de Numpy para encontrar una función para poder calcular $\\frac{d}{dx} y(x_i)$. "
   ]
  },
  {
   "cell_type": "markdown",
   "metadata": {},
   "source": [
    "## Extra material to keep learning / Material extra para seguir aprendiendo\n",
    "\n",
    "* [How use JupyterLab by Software Carpentry](https://swcarpentry.github.io/python-novice-gapminder/01-run-quit/index.html)\n",
    "\n",
    "* [Apuntes generates de Python](https://drive.google.com/file/d/12_1yUhaGeoH7wLGqrHiSx987FMdqM_Mv/view)\n",
    "\n",
    "* [Introduction to Python1](https://johnfoster.pge.utexas.edu/numerical-methods-book/PythonIntro.html)\n",
    "\n",
    "* [Plotting and Programming in Python by Software Carpenty](https://swcarpentry.github.io/python-novice-gapminder/index.html)\n",
    "\n",
    "* [NumPy tutorials](https://numpy.org/learn/)"
   ]
  },
  {
   "cell_type": "code",
   "execution_count": null,
   "metadata": {},
   "outputs": [],
   "source": []
  }
 ],
 "metadata": {
  "colab": {
   "name": "Coco_Session2.ipynb",
   "provenance": []
  },
  "kernelspec": {
   "display_name": "Python 3 (ipykernel)",
   "language": "python",
   "name": "python3"
  },
  "language_info": {
   "codemirror_mode": {
    "name": "ipython",
    "version": 3
   },
   "file_extension": ".py",
   "mimetype": "text/x-python",
   "name": "python",
   "nbconvert_exporter": "python",
   "pygments_lexer": "ipython3",
   "version": "3.9.9"
  },
  "toc-autonumbering": true,
  "toc-showcode": false
 },
 "nbformat": 4,
 "nbformat_minor": 4
}
