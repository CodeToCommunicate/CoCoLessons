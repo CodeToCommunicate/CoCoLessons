{
 "cells": [
  {
   "cell_type": "markdown",
   "metadata": {
    "id": "X60m1L_do3pu"
   },
   "source": [
    "# Functions\n",
    "\n",
    "This week, we will be working with functions. A function is a series of instructions used to execute a specific task. This series of instructions can be saved in a separate script and called within your current working notebook. Let's start building a simple function to add two integer values."
   ]
  },
  {
   "cell_type": "code",
   "execution_count": null,
   "metadata": {
    "id": "G9aysBVVo3p9"
   },
   "outputs": [],
   "source": [
    "def addition(m,n): #this line includes the function header, the function name and the arguments\n",
    "    value = m + n #this line is meant to add the arguments (instructions that the function will follow)\n",
    "    return value #this returns the product of said followed instructions\n",
    "\n",
    "addition(5,10) #Here, we call the function based on the name and provide two arguments"
   ]
  },
  {
   "cell_type": "markdown",
   "metadata": {
    "id": "7ZpyLHQvo3qB"
   },
   "source": [
    "Functions always start with the header \"def\". Following this header is the name of the function. In the case above, we named the function, \"addition\". The name of the function is what you would used to call the function. Within the parentheses are the arguments for the function. Within the function, you create your series of instructions and use 'return' to return the final value that you want from said function. Now, we will build a more complex function."
   ]
  },
  {
   "cell_type": "markdown",
   "metadata": {
    "id": "944uwwPso3qC"
   },
   "source": [
    "## First Practice Exercise \n",
    "Create a function that meets this following criteria:\n",
    "* Name the function 'operation' that takes two arguments\n",
    "* Multiply the two arguments\n",
    "* takes the multiplied value and divides it by 2\n",
    "* take the final value and add 5. Return the final value"
   ]
  },
  {
   "cell_type": "code",
   "execution_count": null,
   "metadata": {
    "id": "45ecxcQ3o3qE"
   },
   "outputs": [],
   "source": [
    "def operation(m,n):\n",
    "    first_value = m * n\n",
    "    second_value = first_value / 2\n",
    "    third_value = second_value + 5\n",
    "    return third_value\n",
    "\n",
    "operation(5,5)"
   ]
  },
  {
   "cell_type": "markdown",
   "metadata": {
    "id": "AAlxXzd-o3qF"
   },
   "source": [
    "We can also use this return value within a print statement, for example:"
   ]
  },
  {
   "cell_type": "code",
   "execution_count": null,
   "metadata": {
    "id": "1sX-ZmGlo3qG"
   },
   "outputs": [],
   "source": [
    "print('The value this function returns, is', operation(10,2))"
   ]
  },
  {
   "cell_type": "markdown",
   "metadata": {
    "id": "2p0VIEOTo3qJ"
   },
   "source": [
    "## Second Practice Exercise\n",
    "We can save functions in separate scripts and call them within our own script to use. Here, we will do just that! We are going to build a function in this notebook, and call it in a different notebook, to use."
   ]
  },
  {
   "cell_type": "code",
   "execution_count": null,
   "metadata": {
    "id": "1f9U66kOo3qL"
   },
   "outputs": [],
   "source": [
    "def newfunction(x,y):\n",
    "    value = (x**2)+(y**2)\n",
    "    return value\n"
   ]
  },
  {
   "cell_type": "markdown",
   "metadata": {
    "id": "3oB_PckZo3qM"
   },
   "source": [
    "### At this stage, open a new notebook and import the function doing the following:\n",
    "* from (Name of your notebook where function is stored) import (function name)\n",
    "### Let us know if you are having problems. "
   ]
  },
  {
   "cell_type": "markdown",
   "metadata": {
    "id": "ula6LdiAo3qN"
   },
   "source": [
    "Quizlet time!!! (Quiz uses function in next cell)\n",
    "\n",
    "Questions:\n",
    "1) What is the name of this specific function?\n",
    "2) How many input arguments does the function take?\n",
    "3) Choose the proper way to call this function (multiple choice)\n",
    "4) How would we call this function in a different script? (multiple choice)"
   ]
  },
  {
   "cell_type": "code",
   "execution_count": null,
   "metadata": {
    "id": "y5Oz5UJVo3qP"
   },
   "outputs": [],
   "source": [
    "def test(x):\n",
    "    variable = x + 20\n",
    "    return variable\n",
    "\n",
    "test(20)"
   ]
  },
  {
   "cell_type": "markdown",
   "metadata": {
    "id": "Jg-Xszy-o3qS"
   },
   "source": [
    "## Homework\n",
    "For this second homework assignment, please create a function that does the following:\n",
    "* Name of the function is multiplication\n",
    "* Has 3 arguments (x,y,z)\n",
    "* Multiplies the three arguments\n",
    "* Returns the result\n",
    "\n",
    "Using this function, create a triple nested forloop that multiples these three lists:\n",
    "* a = [1, 2, 3, 4, 5]\n",
    "* b = [2, 3, 4, 5, 6]\n",
    "* c = [6, 7, 8, 9, 10]\n",
    "\n",
    "Print the results and explain what the nested forloop is doing. "
   ]
  },
  {
   "cell_type": "code",
   "execution_count": null,
   "metadata": {
    "id": "WftlhLzJo3qU"
   },
   "outputs": [],
   "source": [
    "def multiplication(x,y,z):\n",
    "    result = x*y*z\n",
    "    return result\n",
    "\n",
    "a = [1, 2, 3, 4, 5]\n",
    "b = [2, 3, 4, 5, 6]\n",
    "c = [6, 7, 8, 9, 10]\n",
    "\n",
    "for i in a:\n",
    "    for j in b:\n",
    "        for k in c:\n",
    "            vari=multiplication(i,j,k)\n",
    "            print(vari)"
   ]
  }
 ],
 "metadata": {
  "colab": {
   "name": "Coco_Session3.ipynb",
   "provenance": []
  },
  "kernelspec": {
   "display_name": "Python 3",
   "language": "python",
   "name": "python3"
  },
  "language_info": {
   "codemirror_mode": {
    "name": "ipython",
    "version": 3
   },
   "file_extension": ".py",
   "mimetype": "text/x-python",
   "name": "python",
   "nbconvert_exporter": "python",
   "pygments_lexer": "ipython3",
   "version": "3.7.6"
  }
 },
 "nbformat": 4,
 "nbformat_minor": 1
}
