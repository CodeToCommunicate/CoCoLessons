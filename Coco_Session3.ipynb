{
 "cells": [
  {
   "cell_type": "markdown",
   "metadata": {
    "id": "X60m1L_do3pu"
   },
   "source": [
    "# Functions Funciones\n",
    "\n",
    "This week, we will be working with functions. \n",
    "\n",
    "A **function** is a series of instructions used to execute a specific task. \n",
    "It is a way to package your code so that it is easier to reuse.\n",
    "\n",
    "----\n",
    "\n",
    "Esta semana trabajaremos con funciones.\n",
    "\n",
    "Una **función** es una serie de instrucciones que se utilizan para ejecutar una tarea específica. \n",
    "Es una forma de empaquetar su código para que sea más fácil de reutilizar.\n"
   ]
  },
  {
   "cell_type": "markdown",
   "metadata": {},
   "source": [
    "##  Built-in functions / Funciones integradas\n",
    "\n",
    "We have already seen some functions in the previous notebooks, i.e. `print()`.\n",
    "`print()` is Python's way for you to show an output you provide. \n",
    "However, there are many other useful functions that Python comes with, that are provided by other libraries, or written by you yourself to save you from repeating some code.\n",
    "\n",
    "The functions that are always available in Python can be found here:\n",
    "[https://docs.python.org/3/library/functions.html](https://docs.python.org/3/library/functions.html)\n",
    "\n",
    "---\n",
    "\n",
    "Ya hemos visto algunas funciones sin saberlo en los notebooks anteriores, por ejemplo `print ()`.\n",
    "`print ()` es la forma en que Python muestra un resultado que proporcionas.\n",
    "Sin embargo, hay muchas otras funciones útiles con las que viene Python, que son proporcionadas por otras bibliotecas o escritas por usted mismo para evitar que tenga que repetir código.\n",
    "\n",
    "Las funciones que siempre están disponibles en Python se pueden encontrar aquí:\n",
    "[https://docs.python.org/3/library/functions.html](https://docs.python.org/3/library/functions.html)\n"
   ]
  },
  {
   "cell_type": "code",
   "execution_count": 3,
   "metadata": {},
   "outputs": [
    {
     "name": "stdout",
     "output_type": "stream",
     "text": [
      "8 4\n"
     ]
    }
   ],
   "source": [
    "# Compute the length of the variable name\n",
    "name = \"Agustina\"\n",
    "lista = [1, 2, 3, 4]\n",
    "\n",
    "print(len(name), len(lista))"
   ]
  },
  {
   "cell_type": "code",
   "execution_count": 4,
   "metadata": {},
   "outputs": [
    {
     "data": {
      "text/plain": [
       "4"
      ]
     },
     "execution_count": 4,
     "metadata": {},
     "output_type": "execute_result"
    }
   ],
   "source": [
    "# Work out the maximum of list element.\n",
    "max(lista)"
   ]
  },
  {
   "cell_type": "code",
   "execution_count": 6,
   "metadata": {},
   "outputs": [
    {
     "data": {
      "text/plain": [
       "123"
      ]
     },
     "execution_count": 6,
     "metadata": {},
     "output_type": "execute_result"
    }
   ],
   "source": [
    "# Round the number 123.45 to the nearest integer.\n",
    "round(123.45)"
   ]
  },
  {
   "cell_type": "markdown",
   "metadata": {},
   "source": [
    "A **method** is a function associated to an object. \n",
    "Basically, it provides a way for an object to know functions about themselves.\n",
    "\n",
    "For example, we can change the string `s` to upper case using the `.upper()` method\n",
    "\n",
    "---\n",
    "\n",
    "Un **método** es una función asociada a un objeto.\n",
    "Básicamente, proporciona una forma para que un objeto conozca funciones sobre sí mismo.\n",
    "\n",
    "Por ejemplo, podemos cambiar la cadena `s` a mayúsculas usando el método `.upper ()`"
   ]
  },
  {
   "cell_type": "code",
   "execution_count": 14,
   "metadata": {},
   "outputs": [
    {
     "data": {
      "text/plain": [
       "'S'"
      ]
     },
     "execution_count": 14,
     "metadata": {},
     "output_type": "execute_result"
    }
   ],
   "source": [
    "s = \"s\"\n",
    "\n",
    "s.upper()"
   ]
  },
  {
   "cell_type": "markdown",
   "metadata": {},
   "source": [
    "## Writing functions / Escribiendo funciones\n",
    "\n",
    "We can define our own functions with the keyword `def` followed by the name of the function and by parentheses with the parameter(s) inside.\n",
    "\n",
    "---\n",
    "\n",
    "Podemos definir nuestras propias funciones con la palabra clave `def` seguida del nombre de la función y entre paréntesis con el (los) parámetro (s) dentro.\n"
   ]
  },
  {
   "cell_type": "code",
   "execution_count": 4,
   "metadata": {
    "id": "G9aysBVVo3p9"
   },
   "outputs": [],
   "source": [
    "def addition(m, n):\n",
    "    value = m + n \n",
    "    return value"
   ]
  },
  {
   "cell_type": "code",
   "execution_count": 5,
   "metadata": {},
   "outputs": [
    {
     "data": {
      "text/plain": [
       "15"
      ]
     },
     "execution_count": 5,
     "metadata": {},
     "output_type": "execute_result"
    }
   ],
   "source": [
    "# Here, we call the function based on the name and provide two arguments\n",
    "addition(5, 10)"
   ]
  },
  {
   "cell_type": "markdown",
   "metadata": {
    "id": "7ZpyLHQvo3qB"
   },
   "source": [
    "**Functions** always start with the header `def`. \n",
    "Following this header is *the name of the function* (`addition`), which is what you will use to call the function.\n",
    "Within the parentheses are the *arguments* (`m, n`) for the function. \n",
    "Within the function, you create your series of instructions and use `return` to return the final value that you want from said function. \n",
    "\n",
    "----\n",
    "\n",
    "**Las funciones** siempre comienzan con el encabezado `def`.\n",
    "Después de este encabezado está *el nombre de la función* (`addición`), que es lo que se usará para llamar a la función.\n",
    "Entre paréntesis están los *argumentos* (`m, n`) para la función.\n",
    "Dentro de la función, creas tu serie de instrucciones y usas `return` para devolver el valor final que deseas de dicha función."
   ]
  },
  {
   "cell_type": "code",
   "execution_count": 6,
   "metadata": {},
   "outputs": [],
   "source": [
    "def saludo(nombre):\n",
    "    print(\"Hola, \" + nombre  + \"!\")"
   ]
  },
  {
   "cell_type": "code",
   "execution_count": 7,
   "metadata": {},
   "outputs": [
    {
     "name": "stdout",
     "output_type": "stream",
     "text": [
      "Hola, Mariana!\n"
     ]
    }
   ],
   "source": [
    "saludo(\"Mariana\")"
   ]
  },
  {
   "cell_type": "markdown",
   "metadata": {},
   "source": [
    "Functions don't necessarily have to return a value. \n",
    "If they don't, they return a `None `variable (which means no value).\n",
    "\n",
    "---\n",
    "\n",
    "Las funciones no necesariamente tienen que devolver un valor.\n",
    "Si no lo hacen, devuelven una variable `None` (lo que significa que no hay valor)."
   ]
  },
  {
   "cell_type": "code",
   "execution_count": 8,
   "metadata": {},
   "outputs": [
    {
     "name": "stdout",
     "output_type": "stream",
     "text": [
      "Hola, Santi!\n"
     ]
    }
   ],
   "source": [
    "resultado = saludo(\"Santi\")"
   ]
  },
  {
   "cell_type": "code",
   "execution_count": 13,
   "metadata": {},
   "outputs": [
    {
     "name": "stdout",
     "output_type": "stream",
     "text": [
      "None\n"
     ]
    }
   ],
   "source": [
    "print(resultado)"
   ]
  },
  {
   "cell_type": "code",
   "execution_count": 14,
   "metadata": {},
   "outputs": [],
   "source": [
    "def power(x):\n",
    "    power_2 = x ** 2\n",
    "    power_3 = x ** 3\n",
    "    return power_2, power_3"
   ]
  },
  {
   "cell_type": "code",
   "execution_count": 15,
   "metadata": {},
   "outputs": [
    {
     "data": {
      "text/plain": [
       "(4, 8)"
      ]
     },
     "execution_count": 15,
     "metadata": {},
     "output_type": "execute_result"
    }
   ],
   "source": [
    "power(2)"
   ]
  },
  {
   "cell_type": "markdown",
   "metadata": {},
   "source": [
    "When returning multiple values, the functions group them into `tuples`.\n",
    "\n",
    "---\n",
    "\n",
    "Cuando se devuelven varios valores, las funciones los agrupan en `tuplas`."
   ]
  },
  {
   "cell_type": "markdown",
   "metadata": {},
   "source": [
    "## Formative assessment 1\n",
    "\n",
    "Why will this code seal give us an error?\n",
    "\n",
    "---\n",
    "\n",
    "¿Porqué esta celda de código nos dará un error?\n",
    "\n",
    "```\n",
    "def another_function\n",
    "  print(\"Syntax errors are annoying.\")\n",
    "   print(\"But at least python tells us about them!\")\n",
    "  print(\"So they are usually not too hard to fix.\")\n",
    "```\n"
   ]
  },
  {
   "cell_type": "markdown",
   "metadata": {
    "id": "944uwwPso3qC"
   },
   "source": [
    "## Formative assessment 2\n",
    "\n",
    "Create a function that meets this following criteria:\n",
    "\n",
    "* Name the function `operation` that takes two arguments.\n",
    "* Multiply the two arguments.\n",
    "* Takes the multiplied value and divides it by 2.\n",
    "* Takes the final value and add 5. \n",
    "* Return the final value.\n",
    "\n",
    "---\n",
    "\n",
    "Cree una función que cumpla con los siguientes criterios:\n",
    "\n",
    "* Que la funcion se llame \"operation\" que tenga dos argumentos.\n",
    "* Que multiplique los dos argumentos.\n",
    "* Que tome el valor multiplicado y lo divida por 2.\n",
    "* Que toma el valor final y le sume 5.\n",
    "* Que devuelva el valor final. "
   ]
  },
  {
   "cell_type": "code",
   "execution_count": null,
   "metadata": {
    "id": "45ecxcQ3o3qE",
    "jupyter": {
     "source_hidden": true
    },
    "tags": []
   },
   "outputs": [],
   "source": [
    "# Solution\n",
    "def operation(m, n):\n",
    "    first_value = m * n\n",
    "    second_value = first_value / 2\n",
    "    third_value = second_value + 5\n",
    "    return third_value\n",
    "\n",
    "operation(5,5)"
   ]
  },
  {
   "cell_type": "markdown",
   "metadata": {
    "id": "AAlxXzd-o3qF"
   },
   "source": [
    "We can also use this return value within a print statement, for example:"
   ]
  },
  {
   "cell_type": "code",
   "execution_count": null,
   "metadata": {
    "id": "1sX-ZmGlo3qG",
    "jupyter": {
     "source_hidden": true
    },
    "tags": []
   },
   "outputs": [],
   "source": [
    "print('The value this function returns, is', operation(10,2))"
   ]
  },
  {
   "cell_type": "markdown",
   "metadata": {},
   "source": [
    "## Good Practices: Documentation / Buenas Prácticas: Documentación\n",
    "\n",
    "Many times we write functions with the intention of reusing them in the future. \n",
    "That is why it is important to add a documentation detailing what performs the function, if you have to take special care, etc.\n",
    "\n",
    "---\n",
    "\n",
    "Muchas veces escribimos funciones con la intención de reutilizarlas en el futuro. Es por eso que es importante agregarles una documentación detallando qué realiza la función, si hay que tener cuidados especiales, etc."
   ]
  },
  {
   "cell_type": "code",
   "execution_count": 17,
   "metadata": {},
   "outputs": [],
   "source": [
    "def addition(x, y):\n",
    "    \"\"\"\n",
    "    It adds two arguments.\n",
    "    \n",
    "    Parameters\n",
    "    ----------\n",
    "    x: float or array\n",
    "        First adding.\n",
    "    y: foat or array\n",
    "       Second adding. \n",
    "    \n",
    "    Returns\n",
    "    -------\n",
    "    value: float or array\n",
    "        addition result.\n",
    "    \"\"\"\n",
    "    value = x + y\n",
    "    return value\n",
    "    "
   ]
  },
  {
   "cell_type": "code",
   "execution_count": 19,
   "metadata": {},
   "outputs": [
    {
     "data": {
      "text/plain": [
       "\u001b[0;31mSignature:\u001b[0m \u001b[0maddition\u001b[0m\u001b[0;34m(\u001b[0m\u001b[0mx\u001b[0m\u001b[0;34m,\u001b[0m \u001b[0my\u001b[0m\u001b[0;34m)\u001b[0m\u001b[0;34m\u001b[0m\u001b[0;34m\u001b[0m\u001b[0m\n",
       "\u001b[0;31mDocstring:\u001b[0m\n",
       "It adds two arguments.\n",
       "\n",
       "Parameters\n",
       "----------\n",
       "x: float or array\n",
       "    First adding.\n",
       "y: foat or array\n",
       "   Second adding. \n",
       "\n",
       "Returns\n",
       "-------\n",
       "value: float or array\n",
       "    addition result.\n",
       "\u001b[0;31mFile:\u001b[0m      /tmp/ipykernel_39297/969179932.py\n",
       "\u001b[0;31mType:\u001b[0m      function\n"
      ]
     },
     "metadata": {},
     "output_type": "display_data"
    }
   ],
   "source": [
    "addition?"
   ]
  },
  {
   "cell_type": "markdown",
   "metadata": {},
   "source": [
    "## Type of Arguments / Tipo de Argumentos\n",
    "\n",
    "Arguments are those values that the function takes as input to carry out its tasks. \n",
    "\n",
    "There are different types of arguments for a function.\n",
    "The ones we've seen so far are **positional arguments**, which are required and their values are assigned by their position. \n",
    "That is, the function expects us to pass values for those arguments every time we call it and assigns the values to internal variables based on the position in which we pass them.\n",
    "\n",
    "----\n",
    "\n",
    "Los argumentos son aquellos valores que la función toma como entrada para llevar a cabo sus tareas.\n",
    "\n",
    "Existen diferentes tipos de argumentos para una función.\n",
    "Los que vimos hasta ahora son **argumentos posicionales**, que son obligatorios y sus valores son asignados por su posición.\n",
    "Es decir, la función espera que le pasemos valores para esos argumentos cada vez que la llamamos y asigna los valores a variables internas en función de la posición en la que los pasamos."
   ]
  },
  {
   "cell_type": "code",
   "execution_count": 20,
   "metadata": {},
   "outputs": [],
   "source": [
    "def division(y, x):\n",
    "    return y / x"
   ]
  },
  {
   "cell_type": "code",
   "execution_count": 21,
   "metadata": {},
   "outputs": [
    {
     "ename": "TypeError",
     "evalue": "division() missing 2 required positional arguments: 'y' and 'x'",
     "output_type": "error",
     "traceback": [
      "\u001b[0;31m---------------------------------------------------------------------------\u001b[0m",
      "\u001b[0;31mTypeError\u001b[0m                                 Traceback (most recent call last)",
      "\u001b[0;32m/tmp/ipykernel_39297/1351349687.py\u001b[0m in \u001b[0;36m<module>\u001b[0;34m\u001b[0m\n\u001b[0;32m----> 1\u001b[0;31m \u001b[0mdivision\u001b[0m\u001b[0;34m(\u001b[0m\u001b[0;34m)\u001b[0m\u001b[0;34m\u001b[0m\u001b[0;34m\u001b[0m\u001b[0m\n\u001b[0m",
      "\u001b[0;31mTypeError\u001b[0m: division() missing 2 required positional arguments: 'y' and 'x'"
     ]
    }
   ],
   "source": [
    "division()"
   ]
  },
  {
   "cell_type": "code",
   "execution_count": 22,
   "metadata": {},
   "outputs": [
    {
     "name": "stdout",
     "output_type": "stream",
     "text": [
      "0.3333333333333333\n",
      "3.0\n"
     ]
    }
   ],
   "source": [
    "print(division(4, 12))\n",
    "print(division(12, 4))"
   ]
  },
  {
   "cell_type": "markdown",
   "metadata": {},
   "source": [
    "However, there are other types of arguments, the **default arguments**.\n",
    "These are optional, but by not specifying them they assume a default value. \n",
    "We can identify them since in the definition of the functions they are accompanied by a `=` and a default value.\n",
    "\n",
    "----\n",
    "\n",
    "Sin embargo existen otro tipo de argumentos, los **argumentos default**.\n",
    "Estos son opcionales, pero al no especificarlos asumen un valor por default. \n",
    "Podemos identificarlos ya que en la definición de las funciones están acompañados de un `=` y un valor por defecto."
   ]
  },
  {
   "cell_type": "code",
   "execution_count": 23,
   "metadata": {},
   "outputs": [],
   "source": [
    "def power(x, power=2):\n",
    "    return x**power"
   ]
  },
  {
   "cell_type": "code",
   "execution_count": 24,
   "metadata": {},
   "outputs": [
    {
     "data": {
      "text/plain": [
       "9"
      ]
     },
     "execution_count": 24,
     "metadata": {},
     "output_type": "execute_result"
    }
   ],
   "source": [
    "power(3)"
   ]
  },
  {
   "cell_type": "code",
   "execution_count": 27,
   "metadata": {},
   "outputs": [
    {
     "name": "stdout",
     "output_type": "stream",
     "text": [
      "8\n",
      "8\n"
     ]
    }
   ],
   "source": [
    "print(power(2, 3))\n",
    "print(power(2, power=3))"
   ]
  },
  {
   "cell_type": "markdown",
   "metadata": {
    "id": "2p0VIEOTo3qJ"
   },
   "source": [
    "## First Practice Exercise / Primer ejercicio de práctica\n",
    "\n",
    "We can save functions in separate scripts and call them within our own script to use. **Here, we will do just that!**\n",
    "\n",
    "We are going to build a function in this notebook called `pythagoras`, and call it in a different notebook, to use.\n",
    "\n",
    "\n",
    "1. Write the function in this notebook.\n",
    "```\n",
    "def pythagoras(x, y):\n",
    "    h2 = ((x ** 2) + (y ** 2))\n",
    "    h = h2 ** (1/2)\n",
    "    return h\n",
    "```\n",
    "\n",
    "2. Open a new notebook and import the function doing the following:\n",
    "    ```\n",
    "    from (Name of your notebook where function is stored) import (function name)\n",
    "    ```\n",
    "\n",
    "    Now, run the function.\n",
    "\n",
    "**Let us know if you are having problems.** \n",
    "\n",
    "---\n",
    "\n",
    "Podemos guardar funciones en scripts separados y llamarlas dentro de nuestro notebook cuando necesitemos para usarlas. \n",
    "**¡Aquí, haremos precisamente eso!**\n",
    "\n",
    "Vamos a construir una función en este cuaderno llamada `pythagoras`, y la llamaremos en un cuaderno diferente para usar.\n",
    "\n",
    "1. Escriba la funcion en este notebook.\n",
    "```\n",
    "def pythagoras (x, y):\n",
    "     h2 = ((x ** 2) + (y ** 2))\n",
    "     h = h2 ** (1/2)\n",
    "     return h\n",
    "```\n",
    "\n",
    "2. Abra un nuevo notebook e importe la función por medio del sigiente código:\n",
    "    ```\n",
    "    from (Nombre de su cuaderno donde está almacenada la función) import (nombre de la función)\n",
    "    ```\n",
    "\n",
    "    Ahora, ejecute la función.\n",
    "\n",
    "** Háganos saber si tiene problemas.**"
   ]
  },
  {
   "cell_type": "code",
   "execution_count": 35,
   "metadata": {
    "id": "1f9U66kOo3qL",
    "tags": []
   },
   "outputs": [],
   "source": [
    "# Solution\n",
    "def pythagoras(x, y):\n",
    "    h2 = ((x ** 2) + (y ** 2))\n",
    "    h = h2 ** (1/2)\n",
    "    return h"
   ]
  },
  {
   "cell_type": "code",
   "execution_count": 36,
   "metadata": {},
   "outputs": [
    {
     "data": {
      "text/plain": [
       "2.23606797749979"
      ]
     },
     "execution_count": 36,
     "metadata": {},
     "output_type": "execute_result"
    }
   ],
   "source": [
    "pythagoras(2, 1)"
   ]
  },
  {
   "cell_type": "markdown",
   "metadata": {
    "id": "Jg-Xszy-o3qS"
   },
   "source": [
    "## Homework\n",
    "\n",
    "### 1° Task\n",
    "\n",
    "Create a function that does the following:\n",
    "* Name of the function is `multiplication``.\n",
    "* Has 3 arguments (x,y,z).\n",
    "* Multiplies the three arguments.\n",
    "* Returns the result.\n",
    "\n",
    "Using this function, create a triple nested forloop that multiples these three lists:\n",
    "* a = [1, 2, 3, 4, 5]\n",
    "* b = [2, 3, 4, 5, 6]\n",
    "* c = [6, 7, 8, 9, 10]\n",
    "\n",
    "Print the results and explain what the nested forloop is doing. \n",
    "\n",
    "---\n",
    "\n",
    "Cree una función que haga lo siguiente:\n",
    "* El nombre de la función es multiplicación.\n",
    "* Tiene 3 argumentos `(x, y, z).`\n",
    "* Multiplica los tres argumentos.\n",
    "* Devuelve el resultado.\n",
    "\n",
    "Con esta función, cree un `forloop` anidado que multiplique estas tres listas:\n",
    "* a = [1, 2, 3, 4, 5]\n",
    "* b = [2, 3, 4, 5, 6]\n",
    "* c = [6, 7, 8, 9, 10]\n",
    "\n",
    "Imprima los resultados y explique qué está haciendo el forloop anidado."
   ]
  },
  {
   "cell_type": "code",
   "execution_count": null,
   "metadata": {
    "id": "WftlhLzJo3qU",
    "tags": []
   },
   "outputs": [],
   "source": [
    "def multiplication(x,y,z):\n",
    "    result = x*y*z\n",
    "    return result\n",
    "\n",
    "a = [1, 2, 3, 4, 5]\n",
    "b = [2, 3, 4, 5, 6]\n",
    "c = [6, 7, 8, 9, 10]\n",
    "\n",
    "for i in a:\n",
    "    for j in b:\n",
    "        for k in c:\n",
    "            vari=multiplication(i,j,k)\n",
    "            print(vari)"
   ]
  },
  {
   "cell_type": "markdown",
   "metadata": {},
   "source": [
    "## Extra material to keep learning / Material extra para seguir aprendiendo\n",
    "\n",
    "* [Apuntes generates de Python](https://drive.google.com/file/d/12_1yUhaGeoH7wLGqrHiSx987FMdqM_Mv/view)\n",
    "* [Introduction to Python - Lesson 1](https://johnfoster.pge.utexas.edu/numerical-methods-book/PythonIntro.html)\n",
    "* [Plotting and Programming in Python by Software Carpenty](https://swcarpentry.github.io/python-novice-gapminder/index.html) (lessons 16)\n",
    "* [Programming with Python by Software Carpenty](https://swcarpentry.github.io/python-novice-inflammation/index.html) (lesson 8)"
   ]
  }
 ],
 "metadata": {
  "colab": {
   "name": "Coco_Session3.ipynb",
   "provenance": []
  },
  "kernelspec": {
   "display_name": "Python 3 (ipykernel)",
   "language": "python",
   "name": "python3"
  },
  "language_info": {
   "codemirror_mode": {
    "name": "ipython",
    "version": 3
   },
   "file_extension": ".py",
   "mimetype": "text/x-python",
   "name": "python",
   "nbconvert_exporter": "python",
   "pygments_lexer": "ipython3",
   "version": "3.9.2"
  }
 },
 "nbformat": 4,
 "nbformat_minor": 4
}
