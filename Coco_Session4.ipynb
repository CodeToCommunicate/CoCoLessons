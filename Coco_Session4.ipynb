{
 "cells": [
  {
   "cell_type": "markdown",
   "metadata": {
    "id": "hZvcjEzgo_xr"
   },
   "source": [
    "# Python Libraries / Librerias de Python\n",
    "\n",
    "One of the advantages of using Python to process data is the ability to use libraries.\n",
    "Libraries are **collections of modules** that contain functions to be used by other programs (for example, our notebooks and scripts). \n",
    "These functions usually save us a lot of time when performing certain tasks, since we do not need to write our own code to carry them out.\n",
    "\n",
    "In addition, libraries are usually developed following best practices:\n",
    "* Well designed code.\n",
    "* They use version drivers.\n",
    "* They have automated tests.\n",
    "* Extensive documentation.\n",
    "* Developed by a community.\n",
    "\n",
    "----\n",
    "\n",
    "Una de las ventajas de usar Python para procesar datos es la posibilidad de usar librerías. \n",
    "Las librerías son **colecciones de módulos** que contienen funciones para ser usadas por otros programas (por ejemplo, nuestros notebooks y scripts).\n",
    "Estas funciones suelen ahorrarnos mucho tiempo a la hora de realizar determinadas tareas, ya que no necesitamos escribir nuestro propio código para llevarlas a cabo.\n",
    "\n",
    "Además, las librerías suelen están desarrolladas siguiendo las mejores prácticas:\n",
    "* Código bien diseñado.\n",
    "* Utilizan controladores de versiones.\n",
    "* Poseen testeos automatizados.\n",
    "* Documentación extensiva.\n",
    "* Desarrolladas por una comunidad."
   ]
  },
  {
   "cell_type": "markdown",
   "metadata": {},
   "source": [
    "## Numpy\n",
    "\n",
    "[Numpy](https://numpy.org/) is one of the most used libraries when it comes to scientific computing. \n",
    "\n",
    "----\n",
    "\n",
    "[Numpy](https://numpy.org/) es una de las librerías más utilizadas a la hora de realizar computación científica."
   ]
  },
  {
   "cell_type": "markdown",
   "metadata": {
    "id": "XELzJsN3o_xv"
   },
   "source": [
    "### Importing Numpy\n",
    "\n",
    "In order to make use of the libraries, we first need to import them.\n",
    "\n",
    "----\n",
    "\n",
    "Para poder hacer uso de las librerías, primero necesitamos importarlas."
   ]
  },
  {
   "cell_type": "code",
   "execution_count": 2,
   "metadata": {
    "id": "6aJg7_-_o_xw"
   },
   "outputs": [],
   "source": [
    "import numpy"
   ]
  },
  {
   "cell_type": "markdown",
   "metadata": {
    "id": "IDjAU8Rro_xy"
   },
   "source": [
    "This allows us to access the modules and functions of the library. \n",
    "For example, Numpy offers us a function to calculate the mean of a series of values:\n",
    "\n",
    "---\n",
    "\n",
    "Esto nos permite acceder a los módulos y funciones de la librería. \n",
    "Por ejemplo, Numpy nos ofrece una función para calcular la media de una serie de valores:"
   ]
  },
  {
   "cell_type": "code",
   "execution_count": 3,
   "metadata": {
    "id": "lqrN7Rq8o_x0"
   },
   "outputs": [
    {
     "data": {
      "text/plain": [
       "2.5"
      ]
     },
     "execution_count": 3,
     "metadata": {},
     "output_type": "execute_result"
    }
   ],
   "source": [
    "numpy.mean([1, 2, 3, 4])"
   ]
  },
  {
   "cell_type": "markdown",
   "metadata": {
    "id": "cRcK6vJMo_x0"
   },
   "source": [
    "Many times it is tedious to write the entire library name every time we want to use its functions or modules. \n",
    "One option is to import them under an alias. \n",
    "For example, NumPy is usually imported under the name `np`.\n",
    "\n",
    "----\n",
    "\n",
    "Muchas veces resulta tedioso escribir todo el nombre de la librería cada vez que queremos usar sus funciones o módulos. \n",
    "Una opción es importarlas bajo un alias. \n",
    "Por ejemplo, NumPy se suele importar bajo el nombre `np`."
   ]
  },
  {
   "cell_type": "code",
   "execution_count": 4,
   "metadata": {
    "id": "REieQiW7o_x1",
    "outputId": "30d6e2e5-0747-4201-fbf3-c30a3f6f270a"
   },
   "outputs": [
    {
     "data": {
      "text/plain": [
       "2.5"
      ]
     },
     "execution_count": 4,
     "metadata": {},
     "output_type": "execute_result"
    }
   ],
   "source": [
    "import numpy as np\n",
    "\n",
    "np.mean([1, 2, 3, 4])"
   ]
  },
  {
   "cell_type": "markdown",
   "metadata": {
    "id": "v_Vbal7Xo_x4"
   },
   "source": [
    "### Numpy Arrays\n",
    "\n",
    "NumPy introduces a new type of variable, the `numpy.array`.\n",
    "\n",
    "Like lists, they allow you to store many values under a single variable:\n",
    "\n",
    "---\n",
    "\n",
    "NumPy introduce un nuevo tipo de variable, los `numpy.arrays` (o arreglos, en español).\n",
    "\n",
    "Al igual que las listas, permiten guardar muchos valores bajo una única variable:"
   ]
  },
  {
   "cell_type": "code",
   "execution_count": 6,
   "metadata": {
    "id": "KjdrXUPPo_x5"
   },
   "outputs": [
    {
     "name": "stdout",
     "output_type": "stream",
     "text": [
      "[2 4 6 8]\n"
     ]
    },
    {
     "data": {
      "text/plain": [
       "numpy.ndarray"
      ]
     },
     "execution_count": 6,
     "metadata": {},
     "output_type": "execute_result"
    }
   ],
   "source": [
    "evens = np.array([2, 4, 6, 8])\n",
    "print(evens)\n",
    "type(evens)"
   ]
  },
  {
   "cell_type": "code",
   "execution_count": 7,
   "metadata": {
    "id": "yYcDQah8o_x6",
    "outputId": "1b1e9659-5dd3-4b04-c6f1-1691edd2dc37"
   },
   "outputs": [
    {
     "name": "stdout",
     "output_type": "stream",
     "text": [
      "[10.1 14.6 18.3 20.3]\n"
     ]
    }
   ],
   "source": [
    "temperature = np.array([10.1, 14.6, 18.3, 20.3])\n",
    "print(temperature)"
   ]
  },
  {
   "cell_type": "markdown",
   "metadata": {
    "id": "hPfcrHBmo_x7"
   },
   "source": [
    "We can use indexes as we did with lists / Podemos usar los índices como lo hacíamos con las listas:"
   ]
  },
  {
   "cell_type": "code",
   "execution_count": 8,
   "metadata": {
    "id": "OuB4PQT8o_x7",
    "outputId": "b95b59c4-bb1b-48bc-c5b9-bede10228b5a"
   },
   "outputs": [
    {
     "data": {
      "text/plain": [
       "10.1"
      ]
     },
     "execution_count": 8,
     "metadata": {},
     "output_type": "execute_result"
    }
   ],
   "source": [
    "temperature[0]"
   ]
  },
  {
   "cell_type": "code",
   "execution_count": 9,
   "metadata": {
    "id": "Y4Be8SYko_x8",
    "outputId": "9f8cd0d0-944e-4b98-9c68-220fffc424ad"
   },
   "outputs": [
    {
     "data": {
      "text/plain": [
       "array([18.3, 20.3])"
      ]
     },
     "execution_count": 9,
     "metadata": {},
     "output_type": "execute_result"
    }
   ],
   "source": [
    "temperature[2:]"
   ]
  },
  {
   "cell_type": "markdown",
   "metadata": {},
   "source": [
    "**What are the advantages and disadvantages of using `arrays`?**\n",
    "\n",
    "* Arrays have a fixed size. Once created, we cannot add or remove values from it.\n",
    "* Arrays store a single type of variables (floats or ints).\n",
    "* They have a more efficient management of memory.\n",
    "* All the operations we perform with _NumPy_ are faster than using _forloops_ and _lists_.\n",
    "\n",
    "----\n",
    "\n",
    "**¿Cuáles son las ventajas y desventajas de usar `arrays`?**\n",
    "\n",
    "* Los arrays tienen tamaño fijo. Una vez creados, no le podemos agregar o quitar valores.\n",
    "* Los arrays almacenan un único tipo de variables (floats o ints).\n",
    "* Tienen un manejo mas eficiente de la memoria.\n",
    "* Todas las operaciones que realicemos con _NumPy_ son más rápidas que usar _forloops_ y _lists_.\n"
   ]
  },
  {
   "cell_type": "markdown",
   "metadata": {},
   "source": [
    "### Some Numpy functions / Algunas funciones de Numpy\n",
    "\n",
    "Every time we make use of the functions of a library, it is advisable to read its documentation.\n",
    "\n",
    "---\n",
    "\n",
    "Cada vez que hagamos uso de las funciones de una librería, es recomendable leer su documentación."
   ]
  },
  {
   "cell_type": "code",
   "execution_count": 16,
   "metadata": {},
   "outputs": [
    {
     "name": "stdout",
     "output_type": "stream",
     "text": [
      "[10.1 14.6 18.3 20.3]\n",
      "Mean: 15.825 Standard deviation: 3.886756359742659 Max: 20.3 Min: 10.1\n"
     ]
    }
   ],
   "source": [
    "print(temperature)\n",
    "\n",
    "print(\n",
    "    \"Mean:\", np.mean(temperature),\n",
    "    \"Standard deviation:\", np.std(temperature),\n",
    "    \"Max:\", np.max(temperature),\n",
    "    \"Min:\", np.min(temperature)\n",
    "     )"
   ]
  },
  {
   "cell_type": "markdown",
   "metadata": {
    "id": "cfuZlGuno_x8"
   },
   "source": [
    "### First Exercise\n",
    "\n",
    "Using the temperature array above, index values to only include 10.1, 14.6 and 18.3."
   ]
  },
  {
   "cell_type": "code",
   "execution_count": null,
   "metadata": {
    "id": "PIJv4OS7o_x9",
    "outputId": "440d30db-16a7-46f4-9aa9-8f2ced40124d"
   },
   "outputs": [
    {
     "data": {
      "text/plain": [
       "array([10.1, 14.6, 18.3])"
      ]
     },
     "execution_count": 12,
     "metadata": {},
     "output_type": "execute_result"
    }
   ],
   "source": [
    "temperature[0:3]"
   ]
  },
  {
   "cell_type": "markdown",
   "metadata": {
    "id": "hVs8g7JIo_x9"
   },
   "source": [
    "Note, we can also do mathematical operations on arrays. For example we can convert arrays from inches to centimeters:"
   ]
  },
  {
   "cell_type": "code",
   "execution_count": null,
   "metadata": {
    "id": "lzorDNPyo_x-",
    "outputId": "bd20bfad-4d0a-44c1-ee4a-00ff65ccf903"
   },
   "outputs": [
    {
     "name": "stdout",
     "output_type": "stream",
     "text": [
      "[ 2.54  5.08  7.62 10.16 12.7  15.24 17.78]\n"
     ]
    }
   ],
   "source": [
    "inches = [1,2,3,4,5,6,7]\n",
    "inches = np.array(inches)\n",
    "centimeters = inches * 2.54 #2.54 centimeters per inch\n",
    "print(centimeters)"
   ]
  },
  {
   "cell_type": "markdown",
   "metadata": {
    "id": "fF9NHzxjo_yA"
   },
   "source": [
    "## Libraries: Pandas\n",
    "Tha pandas library provides tools to create, import and edit dataframes within python. In this exercise, we will be going over how to create and store a dataframe. One way to create a dataframe is through a dictionary. Before we create the dataframe, we need to import the pandas package: \n"
   ]
  },
  {
   "cell_type": "code",
   "execution_count": null,
   "metadata": {
    "id": "PJVUjXh0o_yA"
   },
   "outputs": [],
   "source": [
    "import pandas as pd"
   ]
  },
  {
   "cell_type": "code",
   "execution_count": null,
   "metadata": {
    "id": "pBoDX0Two_yB",
    "outputId": "bbe18378-ea02-436a-80bd-fc9790f1f5f6"
   },
   "outputs": [
    {
     "name": "stdout",
     "output_type": "stream",
     "text": [
      "   First Column  Second Column\n",
      "0             1             10\n",
      "1             2             11\n",
      "2             3             12\n",
      "3             4             13\n",
      "4             5             14\n"
     ]
    }
   ],
   "source": [
    "Dictionary_Example = {'First Column': [1,2,3,4,5], 'Second Column': [10,11,12,13,14]}\n",
    "df=pd.DataFrame(Dictionary_Example)\n",
    "print(df)"
   ]
  },
  {
   "cell_type": "markdown",
   "metadata": {
    "id": "mZ38rsgdo_yC"
   },
   "source": [
    "## For pandas, should we import a da"
   ]
  },
  {
   "cell_type": "code",
   "execution_count": null,
   "metadata": {
    "id": "JL4z7K27o_yC"
   },
   "outputs": [],
   "source": []
  }
 ],
 "metadata": {
  "colab": {
   "name": "Coco_Session4.ipynb",
   "provenance": []
  },
  "kernelspec": {
   "display_name": "Python 3 (ipykernel)",
   "language": "python",
   "name": "python3"
  },
  "language_info": {
   "codemirror_mode": {
    "name": "ipython",
    "version": 3
   },
   "file_extension": ".py",
   "mimetype": "text/x-python",
   "name": "python",
   "nbconvert_exporter": "python",
   "pygments_lexer": "ipython3",
   "version": "3.9.2"
  },
  "toc-autonumbering": true
 },
 "nbformat": 4,
 "nbformat_minor": 4
}
