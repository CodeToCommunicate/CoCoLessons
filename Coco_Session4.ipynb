{
 "cells": [
  {
   "cell_type": "markdown",
   "metadata": {
    "id": "hZvcjEzgo_xr"
   },
   "source": [
    "# Python Libraries / Librerias de Python\n",
    "\n",
    "One of the advantages of using Python to process data is the ability to use libraries.\n",
    "Libraries are **collections of modules** that contain functions to be used by other programs (for example, our notebooks and scripts). \n",
    "These functions usually save us a lot of time when performing certain tasks, since we do not need to write our own code to carry them out.\n",
    "\n",
    "In addition, libraries are usually developed following best practices:\n",
    "* Well designed code.\n",
    "* They use version drivers.\n",
    "* They have automated tests.\n",
    "* Extensive documentation.\n",
    "* Developed by a community.\n",
    "\n",
    "----\n",
    "\n",
    "Una de las ventajas de usar Python para procesar datos es la posibilidad de usar librerías. \n",
    "Las librerías son **colecciones de módulos** que contienen funciones para ser usadas por otros programas (por ejemplo, nuestros notebooks y scripts).\n",
    "Estas funciones suelen ahorrarnos mucho tiempo a la hora de realizar determinadas tareas, ya que no necesitamos escribir nuestro propio código para llevarlas a cabo.\n",
    "\n",
    "Además, las librerías suelen están desarrolladas siguiendo las mejores prácticas:\n",
    "* Código bien diseñado.\n",
    "* Utilizan controladores de versiones.\n",
    "* Poseen testeos automatizados.\n",
    "* Documentación extensiva.\n",
    "* Desarrolladas por una comunidad."
   ]
  },
  {
   "cell_type": "markdown",
   "metadata": {},
   "source": [
    "## Numpy\n",
    "\n",
    "[Numpy](https://numpy.org/) is one of the most used libraries when it comes to scientific computing. \n",
    "\n",
    "----\n",
    "\n",
    "[Numpy](https://numpy.org/) es una de las librerías más utilizadas a la hora de realizar computación científica."
   ]
  },
  {
   "cell_type": "markdown",
   "metadata": {
    "id": "XELzJsN3o_xv"
   },
   "source": [
    "### Importing Numpy\n",
    "\n",
    "In order to make use of the libraries, we first need to import them.\n",
    "\n",
    "----\n",
    "\n",
    "Para poder hacer uso de las librerías, primero necesitamos importarlas."
   ]
  },
  {
   "cell_type": "code",
   "execution_count": 1,
   "metadata": {
    "id": "6aJg7_-_o_xw"
   },
   "outputs": [],
   "source": [
    "import numpy"
   ]
  },
  {
   "cell_type": "markdown",
   "metadata": {
    "id": "IDjAU8Rro_xy"
   },
   "source": [
    "This allows us to access the modules and functions of the library. \n",
    "For example, Numpy offers us a function to calculate the mean of a series of values:\n",
    "\n",
    "---\n",
    "\n",
    "Esto nos permite acceder a los módulos y funciones de la librería. \n",
    "Por ejemplo, Numpy nos ofrece una función para calcular la media de una serie de valores:"
   ]
  },
  {
   "cell_type": "code",
   "execution_count": 2,
   "metadata": {
    "id": "lqrN7Rq8o_x0"
   },
   "outputs": [
    {
     "data": {
      "text/plain": [
       "2.5"
      ]
     },
     "execution_count": 2,
     "metadata": {},
     "output_type": "execute_result"
    }
   ],
   "source": [
    "numpy.mean([1, 2, 3, 4])"
   ]
  },
  {
   "cell_type": "markdown",
   "metadata": {
    "id": "cRcK6vJMo_x0"
   },
   "source": [
    "Many times it is tedious to write the entire library name every time we want to use its functions or modules. \n",
    "One option is to import them under an alias. \n",
    "For example, NumPy is usually imported under the name `np`.\n",
    "\n",
    "----\n",
    "\n",
    "Muchas veces resulta tedioso escribir todo el nombre de la librería cada vez que queremos usar sus funciones o módulos. \n",
    "Una opción es importarlas bajo un alias. \n",
    "Por ejemplo, NumPy se suele importar bajo el nombre `np`."
   ]
  },
  {
   "cell_type": "code",
   "execution_count": 3,
   "metadata": {
    "id": "REieQiW7o_x1",
    "outputId": "30d6e2e5-0747-4201-fbf3-c30a3f6f270a"
   },
   "outputs": [
    {
     "data": {
      "text/plain": [
       "2.5"
      ]
     },
     "execution_count": 3,
     "metadata": {},
     "output_type": "execute_result"
    }
   ],
   "source": [
    "import numpy as np\n",
    "\n",
    "np.mean([1, 2, 3, 4])"
   ]
  },
  {
   "cell_type": "markdown",
   "metadata": {
    "id": "v_Vbal7Xo_x4"
   },
   "source": [
    "### Numpy Arrays\n",
    "\n",
    "NumPy introduces a new type of variable, the `numpy.array`.\n",
    "\n",
    "Like lists, they allow you to store many values under a single variable:\n",
    "\n",
    "---\n",
    "\n",
    "NumPy introduce un nuevo tipo de variable, los `numpy.arrays` (o arreglos, en español).\n",
    "\n",
    "Al igual que las listas, permiten guardar muchos valores bajo una única variable:"
   ]
  },
  {
   "cell_type": "code",
   "execution_count": 16,
   "metadata": {
    "id": "KjdrXUPPo_x5"
   },
   "outputs": [
    {
     "name": "stdout",
     "output_type": "stream",
     "text": [
      "[2.  4.  6.  8.3 4.  5. ]\n"
     ]
    },
    {
     "data": {
      "text/plain": [
       "numpy.ndarray"
      ]
     },
     "execution_count": 16,
     "metadata": {},
     "output_type": "execute_result"
    }
   ],
   "source": [
    "array_1d = np.array([2, 4, 6, 8.3, 4, 5])\n",
    "\n",
    "print(array_1d)\n",
    "\n",
    "type(array_1d)"
   ]
  },
  {
   "cell_type": "markdown",
   "metadata": {
    "id": "hPfcrHBmo_x7"
   },
   "source": [
    "We can use indexes as we did with lists / Podemos usar los índices como lo hacíamos con las listas:"
   ]
  },
  {
   "cell_type": "code",
   "execution_count": 17,
   "metadata": {
    "id": "OuB4PQT8o_x7",
    "outputId": "b95b59c4-bb1b-48bc-c5b9-bede10228b5a"
   },
   "outputs": [
    {
     "data": {
      "text/plain": [
       "2.0"
      ]
     },
     "execution_count": 17,
     "metadata": {},
     "output_type": "execute_result"
    }
   ],
   "source": [
    "array_1d[0]"
   ]
  },
  {
   "cell_type": "code",
   "execution_count": 18,
   "metadata": {
    "id": "Y4Be8SYko_x8",
    "outputId": "9f8cd0d0-944e-4b98-9c68-220fffc424ad"
   },
   "outputs": [
    {
     "data": {
      "text/plain": [
       "array([6. , 8.3, 4. , 5. ])"
      ]
     },
     "execution_count": 18,
     "metadata": {},
     "output_type": "execute_result"
    }
   ],
   "source": [
    "array_1d[2:]"
   ]
  },
  {
   "cell_type": "markdown",
   "metadata": {},
   "source": [
    "**What are the advantages and disadvantages of using `arrays`?**\n",
    "\n",
    "* Arrays have a fixed size. Once created, we cannot add or remove values from it.\n",
    "* Arrays store a single type of variables (floats or ints).\n",
    "* They have a more efficient management of memory.\n",
    "* All the operations we perform with _NumPy_ are faster than using _forloops_ and _lists_.\n",
    "\n",
    "----\n",
    "\n",
    "**¿Cuáles son las ventajas y desventajas de usar `arrays`?**\n",
    "\n",
    "* Los arrays tienen tamaño fijo. Una vez creados, no le podemos agregar o quitar valores.\n",
    "* Los arrays almacenan un único tipo de variables (floats o ints).\n",
    "* Tienen un manejo mas eficiente de la memoria.\n",
    "* Todas las operaciones que realicemos con _NumPy_ son más rápidas que usar _forloops_ y _lists_.\n"
   ]
  },
  {
   "cell_type": "markdown",
   "metadata": {},
   "source": [
    "### Array operations / Operaciones con arrays\n",
    "\n",
    "Another advantage of using arrays is that many mathematical operations can be performed very easily.\n",
    "\n",
    "For example, let's go back to the temperature values received in Fahrenheit.\n",
    "\n",
    "----\n",
    "\n",
    "Otra ventaja de usar arrays es que muchas operaciones matemáticas pueden realizarse muy facilmente.\n",
    "\n",
    "Por ejemplo, retomemos los valores de temperatura recibidos en Farenheit.\n"
   ]
  },
  {
   "cell_type": "code",
   "execution_count": 8,
   "metadata": {},
   "outputs": [
    {
     "name": "stdout",
     "output_type": "stream",
     "text": [
      "[30.3 20.1 46.5 34.1 42.3]\n"
     ]
    }
   ],
   "source": [
    "temperaturas_F = [30.3, 20.1, 46.5, 34.1, 42.3]\n",
    "\n",
    "# Convert the list into an array / Convertimos la lista en un array:\n",
    "temperaturas_F = np.array(temperaturas_F)\n",
    "\n",
    "print(temperaturas_F)"
   ]
  },
  {
   "cell_type": "markdown",
   "metadata": {},
   "source": [
    "Convert to Celsius / Convertimos a grados Celsius:"
   ]
  },
  {
   "cell_type": "code",
   "execution_count": 9,
   "metadata": {},
   "outputs": [
    {
     "name": "stdout",
     "output_type": "stream",
     "text": [
      "[-0.94444444 -6.61111111  8.05555556  1.16666667  5.72222222]\n"
     ]
    }
   ],
   "source": [
    "temperaturas_C = (temperaturas_F - 32) * 5 / 9\n",
    "\n",
    "print(temperaturas_C)"
   ]
  },
  {
   "cell_type": "markdown",
   "metadata": {},
   "source": [
    "It is also possible to operate with other matrices as long as they have the same shape.\n",
    "\n",
    "---\n",
    "\n",
    "También es posible operar con otras matrices siempre y cuando tengan la misma forma."
   ]
  },
  {
   "cell_type": "code",
   "execution_count": 10,
   "metadata": {},
   "outputs": [
    {
     "name": "stdout",
     "output_type": "stream",
     "text": [
      "[100. 200. 120.  98.  65.   3.] [2 1 3 4 9 5]\n"
     ]
    }
   ],
   "source": [
    "precios = np.array([100, 200, 120, 98, 65, 3], dtype=float)\n",
    "cantidades = np.array([2, 1, 3, 4, 9, 5])\n",
    "\n",
    "print(precios, cantidades)"
   ]
  },
  {
   "cell_type": "code",
   "execution_count": 11,
   "metadata": {},
   "outputs": [
    {
     "name": "stdout",
     "output_type": "stream",
     "text": [
      "[200. 200. 360. 392. 585.  15.]\n"
     ]
    }
   ],
   "source": [
    "costos = precios * cantidades\n",
    "\n",
    "print(costos)"
   ]
  },
  {
   "cell_type": "code",
   "execution_count": 12,
   "metadata": {},
   "outputs": [
    {
     "name": "stdout",
     "output_type": "stream",
     "text": [
      "1752.0\n"
     ]
    }
   ],
   "source": [
    "total = np.sum(costos)\n",
    "\n",
    "print(total)"
   ]
  },
  {
   "cell_type": "code",
   "execution_count": 13,
   "metadata": {},
   "outputs": [
    {
     "ename": "ValueError",
     "evalue": "operands could not be broadcast together with shapes (3,) (2,) ",
     "output_type": "error",
     "traceback": [
      "\u001b[0;31m---------------------------------------------------------------------------\u001b[0m",
      "\u001b[0;31mValueError\u001b[0m                                Traceback (most recent call last)",
      "\u001b[0;32m/tmp/ipykernel_11154/3362793231.py\u001b[0m in \u001b[0;36m<module>\u001b[0;34m\u001b[0m\n\u001b[1;32m      2\u001b[0m \u001b[0mb\u001b[0m \u001b[0;34m=\u001b[0m \u001b[0mnp\u001b[0m\u001b[0;34m.\u001b[0m\u001b[0marray\u001b[0m\u001b[0;34m(\u001b[0m\u001b[0;34m[\u001b[0m\u001b[0;36m4\u001b[0m\u001b[0;34m,\u001b[0m \u001b[0;36m5\u001b[0m\u001b[0;34m]\u001b[0m\u001b[0;34m)\u001b[0m\u001b[0;34m\u001b[0m\u001b[0;34m\u001b[0m\u001b[0m\n\u001b[1;32m      3\u001b[0m \u001b[0;34m\u001b[0m\u001b[0m\n\u001b[0;32m----> 4\u001b[0;31m \u001b[0ma\u001b[0m \u001b[0;34m+\u001b[0m \u001b[0mb\u001b[0m\u001b[0;34m\u001b[0m\u001b[0;34m\u001b[0m\u001b[0m\n\u001b[0m",
      "\u001b[0;31mValueError\u001b[0m: operands could not be broadcast together with shapes (3,) (2,) "
     ]
    }
   ],
   "source": [
    "a = np.array([1, 2, 3])\n",
    "b = np.array([4, 5])\n",
    "\n",
    "a + b"
   ]
  },
  {
   "cell_type": "markdown",
   "metadata": {},
   "source": [
    "### Multidimensional arrays / Arrays multidimensionales\n",
    "\n",
    "It is possible to define multidimensional arrays.\n",
    "For example, a 2D array would look like an array:\n",
    "\n",
    "----\n",
    "\n",
    "Es posible definir arreglos multidimensionales.\n",
    "Por ejemplo, un arreglo 2D se vería como una matriz:"
   ]
  },
  {
   "cell_type": "code",
   "execution_count": 19,
   "metadata": {},
   "outputs": [
    {
     "name": "stdout",
     "output_type": "stream",
     "text": [
      "[[1 2 3]\n",
      " [4 5 6]]\n"
     ]
    }
   ],
   "source": [
    "array_2d = np.array([[1, 2, 3], [4, 5, 6]])\n",
    "\n",
    "print(array_2d)\n"
   ]
  },
  {
   "cell_type": "code",
   "execution_count": 20,
   "metadata": {},
   "outputs": [
    {
     "data": {
      "text/plain": [
       "(2, 3)"
      ]
     },
     "execution_count": 20,
     "metadata": {},
     "output_type": "execute_result"
    }
   ],
   "source": [
    "array_2d.shape"
   ]
  },
  {
   "cell_type": "code",
   "execution_count": 21,
   "metadata": {},
   "outputs": [
    {
     "data": {
      "text/plain": [
       "tuple"
      ]
     },
     "execution_count": 21,
     "metadata": {},
     "output_type": "execute_result"
    }
   ],
   "source": [
    "type(array_2d.shape)"
   ]
  },
  {
   "cell_type": "markdown",
   "metadata": {},
   "source": [
    "We can access each element of a 2D array through its indexes / Podemos acceder a cada elemento de un arreglo 2D a través de sus índices:"
   ]
  },
  {
   "cell_type": "code",
   "execution_count": 22,
   "metadata": {},
   "outputs": [
    {
     "data": {
      "text/plain": [
       "2"
      ]
     },
     "execution_count": 22,
     "metadata": {},
     "output_type": "execute_result"
    }
   ],
   "source": [
    "array_2d[0, 1]"
   ]
  },
  {
   "cell_type": "markdown",
   "metadata": {},
   "source": [
    "We can extract a portion of the array / Podemos extraer una porción del array:"
   ]
  },
  {
   "cell_type": "code",
   "execution_count": 23,
   "metadata": {},
   "outputs": [
    {
     "data": {
      "text/plain": [
       "array([2, 5])"
      ]
     },
     "execution_count": 23,
     "metadata": {},
     "output_type": "execute_result"
    }
   ],
   "source": [
    "array_2d[:, 1]"
   ]
  },
  {
   "cell_type": "markdown",
   "metadata": {},
   "source": [
    "### Some Numpy functions / Algunas funciones de Numpy\n",
    "\n",
    "Every time we make use of the functions of a library, it is advisable to read its documentation.\n",
    "\n",
    "---\n",
    "\n",
    "Cada vez que hagamos uso de las funciones de una librería, es recomendable leer su documentación."
   ]
  },
  {
   "cell_type": "code",
   "execution_count": 27,
   "metadata": {},
   "outputs": [
    {
     "name": "stdout",
     "output_type": "stream",
     "text": [
      "[2.  4.  6.  8.3 4.  5. ]\n",
      "Mean: 4.883333333333334 Standard deviation: 1.9497150788997066 Max: 8.3 Min: 2.0 Square root: [1.41421356 2.         2.44948974 2.88097206 2.         2.23606798]\n"
     ]
    }
   ],
   "source": [
    "print(array_1d)\n",
    "\n",
    "print(\n",
    "    \"Mean:\", np.mean(array_1d),\n",
    "    \"Standard deviation:\", np.std(array_1d),\n",
    "    \"Max:\", np.max(array_1d),\n",
    "    \"Min:\", np.min(array_1d),\n",
    "    \"Square root:\", np.sqrt(array_1d)\n",
    "     )"
   ]
  },
  {
   "cell_type": "markdown",
   "metadata": {},
   "source": [
    "### Homework \n",
    "\n",
    "**1° Task**\n",
    "\n",
    "Given the array: `([1, 2, 3, 4, 5, 6, 7, 8, 9, 10, 11, 12, 13, 14, 15, 16])`, investigate the `numpy` library for reshape the array to be 4x4.\n",
    "\n",
    "----\n",
    "\n",
    "Dado el array: `([ 1, 2, 3, 4, 5, 6, 7, 8, 9, 10, 11, 12, 13, 14, 15, 16])` investigue la libreria `numpy` para para reshape el array para que sea de 4x4.\n"
   ]
  },
  {
   "cell_type": "code",
   "execution_count": 28,
   "metadata": {},
   "outputs": [
    {
     "data": {
      "text/plain": [
       "array([[ 1,  2,  3,  4],\n",
       "       [ 5,  6,  7,  8],\n",
       "       [ 9, 10, 11, 12],\n",
       "       [13, 14, 15, 16]])"
      ]
     },
     "execution_count": 28,
     "metadata": {},
     "output_type": "execute_result"
    }
   ],
   "source": [
    "# Solution \n",
    "datos = np.array([ 1, 2, 3, 4, 5, 6, 7, 8, 9, 10, 11, 12, 13, 14, 15, 16])\n",
    "np.reshape(datos, (4, 4))"
   ]
  },
  {
   "cell_type": "markdown",
   "metadata": {},
   "source": [
    "**2° Task**\n",
    "\n",
    "`Numpy` allows us to apply mathematical functions.\n",
    "\n",
    "Calculate the sine and cosine of the angles 0, 30, 45, 60 and 90 given in degrees:\n",
    "1. Create an array with the angles in degrees.\n",
    "2. Convert the angles to radians.\n",
    "3. Calculate the sine and cosine of these angles and store them in two different arrays.\n",
    "\n",
    "_Investigate the `numpy` library to find the functions to convert the angles from degrees to radians and calculate the sine and cosine._\n",
    "\n",
    "---\n",
    "\n",
    "`Numpy` nos permite también aplicar funciones matemáticas. \n",
    "\n",
    "Calcule el seno y el coseno de los angulos: 0, 30, 45, 60 y 90 dados en grados:\n",
    "1. Cree un array con los ángulos mencionados en grados.\n",
    "2. Convierta los ángulos a radianes.\n",
    "3. Calcule el seno y el coseno de estos ángulos y guárdelos en dos arrays diferentes.\n",
    "\n",
    "_Investigue la libreria `numpy` para encontrar las funciones que permitan convertir los ángulos en grados a radianes y calcular el seno y coseno._"
   ]
  },
  {
   "cell_type": "code",
   "execution_count": null,
   "metadata": {},
   "outputs": [],
   "source": [
    "# Solution\n",
    "\n",
    "angulos_deg = np.array([0, 30, 45, 60, 90])\n",
    "angulos_rad = np.radians(angulos_deg)\n",
    "cosenos = np.cos(angulos_rad)\n",
    "senos = np.sin(angulos_rad)"
   ]
  },
  {
   "cell_type": "markdown",
   "metadata": {
    "id": "fF9NHzxjo_yA"
   },
   "source": [
    "## Pandas\n",
    "\n",
    "\n",
    "[Pandas](https://pandas.pydata.org/) is a widely-used Python library for statistics, particularly on tabular data.\n",
    "It borrows many features from R’s dataframes and It is posible to read a Comma Separated Values (CSV) data file.\n",
    "So, pandas library provides tools to create, import and edit dataframes within python\n",
    "\n",
    "----\n",
    "\n",
    "[Pandas] (https://pandas.pydata.org/) es una biblioteca de Python ampliamente utilizada para estadísticas, particularmente en datos tabulares.\n",
    "Toma prestadas muchas características de los marcos de datos de R y es posible leer un archivo de datos de valores separados por comas (CSV).\n",
    "Entonces, la biblioteca de pandas proporciona herramientas para crear, importar y editar marcos de datos dentro de Python"
   ]
  },
  {
   "cell_type": "markdown",
   "metadata": {},
   "source": [
    "To import the pandas library / Para importar la libreria de pandas:"
   ]
  },
  {
   "cell_type": "code",
   "execution_count": 29,
   "metadata": {
    "id": "PJVUjXh0o_yA"
   },
   "outputs": [],
   "source": [
    "import pandas as pd"
   ]
  },
  {
   "cell_type": "markdown",
   "metadata": {},
   "source": [
    "### Create data / Creando datos\n",
    "\n",
    "One way to create a dataframe is through a _dictionary_ / Una forma de crear un marco de datos es a través de un diccionario."
   ]
  },
  {
   "cell_type": "code",
   "execution_count": 32,
   "metadata": {
    "id": "pBoDX0Two_yB",
    "outputId": "bbe18378-ea02-436a-80bd-fc9790f1f5f6"
   },
   "outputs": [
    {
     "name": "stdout",
     "output_type": "stream",
     "text": [
      "{'Rocío': ['Soy Peruana', 'Vivo en USA.'], 'Clara': ['Soy venezolana', 'Vivo en UK.'], 'Mara': ['Soy Argentina', 'Vivo en Brasil']}\n"
     ]
    }
   ],
   "source": [
    "diccionario_geolatinas = {\n",
    "    \"Rocío\": [\"Soy Peruana\", \"Vivo en USA.\"], \n",
    "    \"Clara\": [\"Soy venezolana\", \"Vivo en UK.\"],\n",
    "    \"Mara\": [\"Soy Argentina\", \"Vivo en Brasil\"]  \n",
    "}\n",
    "\n",
    "print(diccionario_geolatinas)"
   ]
  },
  {
   "cell_type": "code",
   "execution_count": 33,
   "metadata": {},
   "outputs": [
    {
     "data": {
      "text/html": [
       "<div>\n",
       "<style scoped>\n",
       "    .dataframe tbody tr th:only-of-type {\n",
       "        vertical-align: middle;\n",
       "    }\n",
       "\n",
       "    .dataframe tbody tr th {\n",
       "        vertical-align: top;\n",
       "    }\n",
       "\n",
       "    .dataframe thead th {\n",
       "        text-align: right;\n",
       "    }\n",
       "</style>\n",
       "<table border=\"1\" class=\"dataframe\">\n",
       "  <thead>\n",
       "    <tr style=\"text-align: right;\">\n",
       "      <th></th>\n",
       "      <th>Rocío</th>\n",
       "      <th>Clara</th>\n",
       "      <th>Mara</th>\n",
       "    </tr>\n",
       "  </thead>\n",
       "  <tbody>\n",
       "    <tr>\n",
       "      <th>0</th>\n",
       "      <td>Soy Peruana</td>\n",
       "      <td>Soy venezolana</td>\n",
       "      <td>Soy Argentina</td>\n",
       "    </tr>\n",
       "    <tr>\n",
       "      <th>1</th>\n",
       "      <td>Vivo en USA.</td>\n",
       "      <td>Vivo en UK.</td>\n",
       "      <td>Vivo en Brasil</td>\n",
       "    </tr>\n",
       "  </tbody>\n",
       "</table>\n",
       "</div>"
      ],
      "text/plain": [
       "          Rocío           Clara            Mara\n",
       "0   Soy Peruana  Soy venezolana   Soy Argentina\n",
       "1  Vivo en USA.     Vivo en UK.  Vivo en Brasil"
      ]
     },
     "execution_count": 33,
     "metadata": {},
     "output_type": "execute_result"
    }
   ],
   "source": [
    "pd.DataFrame(diccionario_geolatinas )\n"
   ]
  },
  {
   "cell_type": "code",
   "execution_count": 37,
   "metadata": {},
   "outputs": [
    {
     "data": {
      "text/html": [
       "<div>\n",
       "<style scoped>\n",
       "    .dataframe tbody tr th:only-of-type {\n",
       "        vertical-align: middle;\n",
       "    }\n",
       "\n",
       "    .dataframe tbody tr th {\n",
       "        vertical-align: top;\n",
       "    }\n",
       "\n",
       "    .dataframe thead th {\n",
       "        text-align: right;\n",
       "    }\n",
       "</style>\n",
       "<table border=\"1\" class=\"dataframe\">\n",
       "  <thead>\n",
       "    <tr style=\"text-align: right;\">\n",
       "      <th></th>\n",
       "      <th>Rocío</th>\n",
       "      <th>Clara</th>\n",
       "      <th>Mara</th>\n",
       "    </tr>\n",
       "  </thead>\n",
       "  <tbody>\n",
       "    <tr>\n",
       "      <th>Paìs de origen</th>\n",
       "      <td>Soy Peruana</td>\n",
       "      <td>Soy venezolana</td>\n",
       "      <td>Soy Argentina</td>\n",
       "    </tr>\n",
       "    <tr>\n",
       "      <th>Lugar de residencia</th>\n",
       "      <td>Vivo en USA.</td>\n",
       "      <td>Vivo en UK.</td>\n",
       "      <td>Vivo en Brasil</td>\n",
       "    </tr>\n",
       "  </tbody>\n",
       "</table>\n",
       "</div>"
      ],
      "text/plain": [
       "                            Rocío           Clara            Mara\n",
       "Paìs de origen        Soy Peruana  Soy venezolana   Soy Argentina\n",
       "Lugar de residencia  Vivo en USA.     Vivo en UK.  Vivo en Brasil"
      ]
     },
     "execution_count": 37,
     "metadata": {},
     "output_type": "execute_result"
    }
   ],
   "source": [
    "pd.DataFrame(\n",
    "    diccionario_geolatinas,\n",
    "    index=[\"Paìs de origen\", \"Lugar de residencia\"]\n",
    ")"
   ]
  },
  {
   "cell_type": "code",
   "execution_count": null,
   "metadata": {},
   "outputs": [],
   "source": []
  },
  {
   "cell_type": "markdown",
   "metadata": {},
   "source": [
    "### Reading data files /\n",
    "\n",
    "We are going to work with data in a .csv file. \n",
    "` pd.read_csv()` function allows us to load the file.\n",
    "\n",
    "----\n",
    "\n",
    "Vamos a trabajar con datos que estan en un archivo .csv.\n",
    "La función ` pd.read_csv()` permite abrir el archivo."
   ]
  },
  {
   "cell_type": "code",
   "execution_count": 48,
   "metadata": {},
   "outputs": [],
   "source": [
    "wine_reviews_file = \"data/winemag-data-130k-v2.csv\"\n",
    "wine_reviews = pd.read_csv(wine_reviews_file)"
   ]
  },
  {
   "cell_type": "markdown",
   "metadata": {},
   "source": [
    "We use the shape attribute to know how big the DataFrame is / Usamos el atributo shape para saber que tan grande es el DataFrame:"
   ]
  },
  {
   "cell_type": "code",
   "execution_count": 49,
   "metadata": {},
   "outputs": [
    {
     "data": {
      "text/plain": [
       "(129971, 14)"
      ]
     },
     "execution_count": 49,
     "metadata": {},
     "output_type": "execute_result"
    }
   ],
   "source": [
    "wine_reviews.shape"
   ]
  },
  {
   "cell_type": "markdown",
   "metadata": {},
   "source": [
    "We use the `head` attribute to know how big the DataFrame is / Usamos el atributo `head` para saber que tan grande es el DataFrame:"
   ]
  },
  {
   "cell_type": "code",
   "execution_count": 50,
   "metadata": {},
   "outputs": [
    {
     "data": {
      "text/html": [
       "<div>\n",
       "<style scoped>\n",
       "    .dataframe tbody tr th:only-of-type {\n",
       "        vertical-align: middle;\n",
       "    }\n",
       "\n",
       "    .dataframe tbody tr th {\n",
       "        vertical-align: top;\n",
       "    }\n",
       "\n",
       "    .dataframe thead th {\n",
       "        text-align: right;\n",
       "    }\n",
       "</style>\n",
       "<table border=\"1\" class=\"dataframe\">\n",
       "  <thead>\n",
       "    <tr style=\"text-align: right;\">\n",
       "      <th></th>\n",
       "      <th>Unnamed: 0</th>\n",
       "      <th>country</th>\n",
       "      <th>description</th>\n",
       "      <th>designation</th>\n",
       "      <th>points</th>\n",
       "      <th>price</th>\n",
       "      <th>province</th>\n",
       "      <th>region_1</th>\n",
       "      <th>region_2</th>\n",
       "      <th>taster_name</th>\n",
       "      <th>taster_twitter_handle</th>\n",
       "      <th>title</th>\n",
       "      <th>variety</th>\n",
       "      <th>winery</th>\n",
       "    </tr>\n",
       "  </thead>\n",
       "  <tbody>\n",
       "    <tr>\n",
       "      <th>0</th>\n",
       "      <td>0</td>\n",
       "      <td>Italy</td>\n",
       "      <td>Aromas include tropical fruit, broom, brimston...</td>\n",
       "      <td>Vulkà Bianco</td>\n",
       "      <td>87</td>\n",
       "      <td>NaN</td>\n",
       "      <td>Sicily &amp; Sardinia</td>\n",
       "      <td>Etna</td>\n",
       "      <td>NaN</td>\n",
       "      <td>Kerin O’Keefe</td>\n",
       "      <td>@kerinokeefe</td>\n",
       "      <td>Nicosia 2013 Vulkà Bianco  (Etna)</td>\n",
       "      <td>White Blend</td>\n",
       "      <td>Nicosia</td>\n",
       "    </tr>\n",
       "    <tr>\n",
       "      <th>1</th>\n",
       "      <td>1</td>\n",
       "      <td>Portugal</td>\n",
       "      <td>This is ripe and fruity, a wine that is smooth...</td>\n",
       "      <td>Avidagos</td>\n",
       "      <td>87</td>\n",
       "      <td>15.0</td>\n",
       "      <td>Douro</td>\n",
       "      <td>NaN</td>\n",
       "      <td>NaN</td>\n",
       "      <td>Roger Voss</td>\n",
       "      <td>@vossroger</td>\n",
       "      <td>Quinta dos Avidagos 2011 Avidagos Red (Douro)</td>\n",
       "      <td>Portuguese Red</td>\n",
       "      <td>Quinta dos Avidagos</td>\n",
       "    </tr>\n",
       "    <tr>\n",
       "      <th>2</th>\n",
       "      <td>2</td>\n",
       "      <td>US</td>\n",
       "      <td>Tart and snappy, the flavors of lime flesh and...</td>\n",
       "      <td>NaN</td>\n",
       "      <td>87</td>\n",
       "      <td>14.0</td>\n",
       "      <td>Oregon</td>\n",
       "      <td>Willamette Valley</td>\n",
       "      <td>Willamette Valley</td>\n",
       "      <td>Paul Gregutt</td>\n",
       "      <td>@paulgwine</td>\n",
       "      <td>Rainstorm 2013 Pinot Gris (Willamette Valley)</td>\n",
       "      <td>Pinot Gris</td>\n",
       "      <td>Rainstorm</td>\n",
       "    </tr>\n",
       "    <tr>\n",
       "      <th>3</th>\n",
       "      <td>3</td>\n",
       "      <td>US</td>\n",
       "      <td>Pineapple rind, lemon pith and orange blossom ...</td>\n",
       "      <td>Reserve Late Harvest</td>\n",
       "      <td>87</td>\n",
       "      <td>13.0</td>\n",
       "      <td>Michigan</td>\n",
       "      <td>Lake Michigan Shore</td>\n",
       "      <td>NaN</td>\n",
       "      <td>Alexander Peartree</td>\n",
       "      <td>NaN</td>\n",
       "      <td>St. Julian 2013 Reserve Late Harvest Riesling ...</td>\n",
       "      <td>Riesling</td>\n",
       "      <td>St. Julian</td>\n",
       "    </tr>\n",
       "    <tr>\n",
       "      <th>4</th>\n",
       "      <td>4</td>\n",
       "      <td>US</td>\n",
       "      <td>Much like the regular bottling from 2012, this...</td>\n",
       "      <td>Vintner's Reserve Wild Child Block</td>\n",
       "      <td>87</td>\n",
       "      <td>65.0</td>\n",
       "      <td>Oregon</td>\n",
       "      <td>Willamette Valley</td>\n",
       "      <td>Willamette Valley</td>\n",
       "      <td>Paul Gregutt</td>\n",
       "      <td>@paulgwine</td>\n",
       "      <td>Sweet Cheeks 2012 Vintner's Reserve Wild Child...</td>\n",
       "      <td>Pinot Noir</td>\n",
       "      <td>Sweet Cheeks</td>\n",
       "    </tr>\n",
       "    <tr>\n",
       "      <th>5</th>\n",
       "      <td>5</td>\n",
       "      <td>Spain</td>\n",
       "      <td>Blackberry and raspberry aromas show a typical...</td>\n",
       "      <td>Ars In Vitro</td>\n",
       "      <td>87</td>\n",
       "      <td>15.0</td>\n",
       "      <td>Northern Spain</td>\n",
       "      <td>Navarra</td>\n",
       "      <td>NaN</td>\n",
       "      <td>Michael Schachner</td>\n",
       "      <td>@wineschach</td>\n",
       "      <td>Tandem 2011 Ars In Vitro Tempranillo-Merlot (N...</td>\n",
       "      <td>Tempranillo-Merlot</td>\n",
       "      <td>Tandem</td>\n",
       "    </tr>\n",
       "    <tr>\n",
       "      <th>6</th>\n",
       "      <td>6</td>\n",
       "      <td>Italy</td>\n",
       "      <td>Here's a bright, informal red that opens with ...</td>\n",
       "      <td>Belsito</td>\n",
       "      <td>87</td>\n",
       "      <td>16.0</td>\n",
       "      <td>Sicily &amp; Sardinia</td>\n",
       "      <td>Vittoria</td>\n",
       "      <td>NaN</td>\n",
       "      <td>Kerin O’Keefe</td>\n",
       "      <td>@kerinokeefe</td>\n",
       "      <td>Terre di Giurfo 2013 Belsito Frappato (Vittoria)</td>\n",
       "      <td>Frappato</td>\n",
       "      <td>Terre di Giurfo</td>\n",
       "    </tr>\n",
       "    <tr>\n",
       "      <th>7</th>\n",
       "      <td>7</td>\n",
       "      <td>France</td>\n",
       "      <td>This dry and restrained wine offers spice in p...</td>\n",
       "      <td>NaN</td>\n",
       "      <td>87</td>\n",
       "      <td>24.0</td>\n",
       "      <td>Alsace</td>\n",
       "      <td>Alsace</td>\n",
       "      <td>NaN</td>\n",
       "      <td>Roger Voss</td>\n",
       "      <td>@vossroger</td>\n",
       "      <td>Trimbach 2012 Gewurztraminer (Alsace)</td>\n",
       "      <td>Gewürztraminer</td>\n",
       "      <td>Trimbach</td>\n",
       "    </tr>\n",
       "    <tr>\n",
       "      <th>8</th>\n",
       "      <td>8</td>\n",
       "      <td>Germany</td>\n",
       "      <td>Savory dried thyme notes accent sunnier flavor...</td>\n",
       "      <td>Shine</td>\n",
       "      <td>87</td>\n",
       "      <td>12.0</td>\n",
       "      <td>Rheinhessen</td>\n",
       "      <td>NaN</td>\n",
       "      <td>NaN</td>\n",
       "      <td>Anna Lee C. Iijima</td>\n",
       "      <td>NaN</td>\n",
       "      <td>Heinz Eifel 2013 Shine Gewürztraminer (Rheinhe...</td>\n",
       "      <td>Gewürztraminer</td>\n",
       "      <td>Heinz Eifel</td>\n",
       "    </tr>\n",
       "    <tr>\n",
       "      <th>9</th>\n",
       "      <td>9</td>\n",
       "      <td>France</td>\n",
       "      <td>This has great depth of flavor with its fresh ...</td>\n",
       "      <td>Les Natures</td>\n",
       "      <td>87</td>\n",
       "      <td>27.0</td>\n",
       "      <td>Alsace</td>\n",
       "      <td>Alsace</td>\n",
       "      <td>NaN</td>\n",
       "      <td>Roger Voss</td>\n",
       "      <td>@vossroger</td>\n",
       "      <td>Jean-Baptiste Adam 2012 Les Natures Pinot Gris...</td>\n",
       "      <td>Pinot Gris</td>\n",
       "      <td>Jean-Baptiste Adam</td>\n",
       "    </tr>\n",
       "  </tbody>\n",
       "</table>\n",
       "</div>"
      ],
      "text/plain": [
       "   Unnamed: 0   country                                        description  \\\n",
       "0           0     Italy  Aromas include tropical fruit, broom, brimston...   \n",
       "1           1  Portugal  This is ripe and fruity, a wine that is smooth...   \n",
       "2           2        US  Tart and snappy, the flavors of lime flesh and...   \n",
       "3           3        US  Pineapple rind, lemon pith and orange blossom ...   \n",
       "4           4        US  Much like the regular bottling from 2012, this...   \n",
       "5           5     Spain  Blackberry and raspberry aromas show a typical...   \n",
       "6           6     Italy  Here's a bright, informal red that opens with ...   \n",
       "7           7    France  This dry and restrained wine offers spice in p...   \n",
       "8           8   Germany  Savory dried thyme notes accent sunnier flavor...   \n",
       "9           9    France  This has great depth of flavor with its fresh ...   \n",
       "\n",
       "                          designation  points  price           province  \\\n",
       "0                        Vulkà Bianco      87    NaN  Sicily & Sardinia   \n",
       "1                            Avidagos      87   15.0              Douro   \n",
       "2                                 NaN      87   14.0             Oregon   \n",
       "3                Reserve Late Harvest      87   13.0           Michigan   \n",
       "4  Vintner's Reserve Wild Child Block      87   65.0             Oregon   \n",
       "5                        Ars In Vitro      87   15.0     Northern Spain   \n",
       "6                             Belsito      87   16.0  Sicily & Sardinia   \n",
       "7                                 NaN      87   24.0             Alsace   \n",
       "8                               Shine      87   12.0        Rheinhessen   \n",
       "9                         Les Natures      87   27.0             Alsace   \n",
       "\n",
       "              region_1           region_2         taster_name  \\\n",
       "0                 Etna                NaN       Kerin O’Keefe   \n",
       "1                  NaN                NaN          Roger Voss   \n",
       "2    Willamette Valley  Willamette Valley        Paul Gregutt   \n",
       "3  Lake Michigan Shore                NaN  Alexander Peartree   \n",
       "4    Willamette Valley  Willamette Valley        Paul Gregutt   \n",
       "5              Navarra                NaN   Michael Schachner   \n",
       "6             Vittoria                NaN       Kerin O’Keefe   \n",
       "7               Alsace                NaN          Roger Voss   \n",
       "8                  NaN                NaN  Anna Lee C. Iijima   \n",
       "9               Alsace                NaN          Roger Voss   \n",
       "\n",
       "  taster_twitter_handle                                              title  \\\n",
       "0          @kerinokeefe                  Nicosia 2013 Vulkà Bianco  (Etna)   \n",
       "1            @vossroger      Quinta dos Avidagos 2011 Avidagos Red (Douro)   \n",
       "2           @paulgwine       Rainstorm 2013 Pinot Gris (Willamette Valley)   \n",
       "3                   NaN  St. Julian 2013 Reserve Late Harvest Riesling ...   \n",
       "4           @paulgwine   Sweet Cheeks 2012 Vintner's Reserve Wild Child...   \n",
       "5           @wineschach  Tandem 2011 Ars In Vitro Tempranillo-Merlot (N...   \n",
       "6          @kerinokeefe   Terre di Giurfo 2013 Belsito Frappato (Vittoria)   \n",
       "7            @vossroger              Trimbach 2012 Gewurztraminer (Alsace)   \n",
       "8                   NaN  Heinz Eifel 2013 Shine Gewürztraminer (Rheinhe...   \n",
       "9            @vossroger  Jean-Baptiste Adam 2012 Les Natures Pinot Gris...   \n",
       "\n",
       "              variety               winery  \n",
       "0         White Blend              Nicosia  \n",
       "1      Portuguese Red  Quinta dos Avidagos  \n",
       "2          Pinot Gris            Rainstorm  \n",
       "3            Riesling           St. Julian  \n",
       "4          Pinot Noir         Sweet Cheeks  \n",
       "5  Tempranillo-Merlot               Tandem  \n",
       "6            Frappato      Terre di Giurfo  \n",
       "7      Gewürztraminer             Trimbach  \n",
       "8      Gewürztraminer          Heinz Eifel  \n",
       "9          Pinot Gris   Jean-Baptiste Adam  "
      ]
     },
     "execution_count": 50,
     "metadata": {},
     "output_type": "execute_result"
    }
   ],
   "source": [
    "wine_reviews.head(10)"
   ]
  }
 ],
 "metadata": {
  "colab": {
   "name": "Coco_Session4.ipynb",
   "provenance": []
  },
  "kernelspec": {
   "display_name": "Python 3 (ipykernel)",
   "language": "python",
   "name": "python3"
  },
  "language_info": {
   "codemirror_mode": {
    "name": "ipython",
    "version": 3
   },
   "file_extension": ".py",
   "mimetype": "text/x-python",
   "name": "python",
   "nbconvert_exporter": "python",
   "pygments_lexer": "ipython3",
   "version": "3.9.2"
  },
  "toc-autonumbering": true
 },
 "nbformat": 4,
 "nbformat_minor": 4
}
