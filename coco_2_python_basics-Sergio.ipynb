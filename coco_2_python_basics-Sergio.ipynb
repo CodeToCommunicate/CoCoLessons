{
 "cells": [
  {
   "cell_type": "markdown",
   "metadata": {},
   "source": [
    "# Welcome to learning Python!\n",
    "\n",
    "These notebooks contain a mix of text and code. This makes it easy to experiment with code and keep documentation like this in the same place. \n",
    "\n",
    "**In this notebook we will learn about**:\n",
    "* Variables\n",
    "* Types of data\n",
    "* Different data structures\n",
    "* Working with Numpy arrays"
   ]
  },
  {
   "cell_type": "markdown",
   "metadata": {},
   "source": [
    "## Jupyter Notebooks\n",
    "\n",
    "You can execute each cell individually, and therefore work incrementally with your code.\n",
    "\n",
    "If you want to execute a cell, you can press the `►` button above after you selected the cell. \n",
    "Alternatively, you can hit `Shift + Enter` to execute and progress to next cell or alternatively `Ctrl + Enter` (Windows) or `Cmd + Enter` (Mac)."
   ]
  },
  {
   "cell_type": "code",
   "execution_count": 1,
   "metadata": {},
   "outputs": [
    {
     "ename": "NameError",
     "evalue": "name 'gjdsfkflsdfsl' is not defined",
     "output_type": "error",
     "traceback": [
      "\u001b[0;31m---------------------------------------------------------------------------\u001b[0m",
      "\u001b[0;31mNameError\u001b[0m                                 Traceback (most recent call last)",
      "\u001b[0;32m<ipython-input-1-4248f159de92>\u001b[0m in \u001b[0;36m<module>\u001b[0;34m\u001b[0m\n\u001b[0;32m----> 1\u001b[0;31m \u001b[0mgjdsfkflsdfsl\u001b[0m\u001b[0;34m\u001b[0m\u001b[0;34m\u001b[0m\u001b[0m\n\u001b[0m",
      "\u001b[0;31mNameError\u001b[0m: name 'gjdsfkflsdfsl' is not defined"
     ]
    }
   ],
   "source": [
    "gjdsfkflsdfsl"
   ]
  },
  {
   "cell_type": "code",
   "execution_count": null,
   "metadata": {},
   "outputs": [],
   "source": [
    "bgfdgfbladlsdf"
   ]
  },
  {
   "cell_type": "code",
   "execution_count": 2,
   "metadata": {},
   "outputs": [
    {
     "data": {
      "text/plain": [
       "'run me!!!!'"
      ]
     },
     "execution_count": 2,
     "metadata": {},
     "output_type": "execute_result"
    }
   ],
   "source": [
    "\"run me!!!!\""
   ]
  },
  {
   "cell_type": "markdown",
   "metadata": {},
   "source": [
    "_Take your time to experiment with it if you like and don't hesitate to ask or search for things in your favorite browser._"
   ]
  },
  {
   "cell_type": "markdown",
   "metadata": {},
   "source": [
    "### Problem #1\n",
    "\n",
    "Find a way to make python show the text \"Hola Mundo\" and put the code in the cell below"
   ]
  },
  {
   "cell_type": "code",
   "execution_count": 3,
   "metadata": {},
   "outputs": [
    {
     "name": "stdout",
     "output_type": "stream",
     "text": [
      "Hola Mundo\n"
     ]
    }
   ],
   "source": [
    "print(\"Hola Mundo\")"
   ]
  },
  {
   "cell_type": "markdown",
   "metadata": {},
   "source": [
    "## Variables and data type\n",
    "\n",
    "A _variable_ allows us to store a value.\n",
    "In Python, we can assign a value to a variable, using the equals sign `=`."
   ]
  },
  {
   "cell_type": "code",
   "execution_count": 1,
   "metadata": {},
   "outputs": [],
   "source": [
    "alumni = 15\n",
    "course_name = \"CoCo\""
   ]
  },
  {
   "cell_type": "markdown",
   "metadata": {},
   "source": [
    "The keyword `print()` is a function in Python.\n",
    "We can use it to see the value stored in the variable."
   ]
  },
  {
   "cell_type": "code",
   "execution_count": 2,
   "metadata": {},
   "outputs": [
    {
     "name": "stdout",
     "output_type": "stream",
     "text": [
      "15\n"
     ]
    }
   ],
   "source": [
    "print(alumni)"
   ]
  },
  {
   "cell_type": "code",
   "execution_count": 3,
   "metadata": {},
   "outputs": [
    {
     "name": "stdout",
     "output_type": "stream",
     "text": [
      "CoCo course has 15 alumni\n"
     ]
    }
   ],
   "source": [
    "#a way to print in several lines of code\n",
    "print(course_name, \"course has\", alumni, \"alumni\") "
   ]
  },
  {
   "cell_type": "markdown",
   "metadata": {},
   "source": [
    "Moreover, variables can be changed. Try assinging a variable, printing it, then changed it, and print it again. Create a new cell below to do it."
   ]
  },
  {
   "cell_type": "markdown",
   "metadata": {},
   "source": [
    "**Data Types / Tipos de datos**\n",
    "\n",
    "There are several different data types that we will be exploring in the course, including:\n",
    "* integer: integers\n",
    "* string: text\n",
    "* float: real-value"
   ]
  },
  {
   "cell_type": "code",
   "execution_count": 4,
   "metadata": {},
   "outputs": [
    {
     "data": {
      "text/plain": [
       "int"
      ]
     },
     "execution_count": 4,
     "metadata": {},
     "output_type": "execute_result"
    }
   ],
   "source": [
    "type(alumni)"
   ]
  },
  {
   "cell_type": "code",
   "execution_count": 5,
   "metadata": {},
   "outputs": [
    {
     "data": {
      "text/plain": [
       "str"
      ]
     },
     "execution_count": 5,
     "metadata": {},
     "output_type": "execute_result"
    }
   ],
   "source": [
    "type(course_name)"
   ]
  },
  {
   "cell_type": "code",
   "execution_count": 6,
   "metadata": {},
   "outputs": [
    {
     "name": "stdout",
     "output_type": "stream",
     "text": [
      "7.5 is <class 'float'>\n"
     ]
    }
   ],
   "source": [
    "half_alumni = alumni / 2\n",
    "\n",
    "print(half_alumni, \"is\", type(half_alumni))"
   ]
  },
  {
   "cell_type": "markdown",
   "metadata": {},
   "source": [
    "If you want to concatenate two or more strings, there are several ways to achieve this in Python. \n",
    "The simplest method is to use `+`"
   ]
  },
  {
   "cell_type": "code",
   "execution_count": 12,
   "metadata": {},
   "outputs": [
    {
     "name": "stdout",
     "output_type": "stream",
     "text": [
      "hola mundo\n"
     ]
    }
   ],
   "source": [
    "saludo = \"hola\" + \" \" + \"mundo\"\n",
    "#Another way of doing the same thing\n",
    "saludo = \"hola mundo\"\n",
    "print(saludo)"
   ]
  },
  {
   "cell_type": "markdown",
   "metadata": {},
   "source": [
    "### Casting\n",
    "is what you call converting a value from one type into another"
   ]
  },
  {
   "cell_type": "code",
   "execution_count": 15,
   "metadata": {},
   "outputs": [
    {
     "name": "stdout",
     "output_type": "stream",
     "text": [
      "I am 26\n"
     ]
    }
   ],
   "source": [
    "#casting from integer to string\n",
    "myage=26\n",
    "myagestring=str(26)\n",
    "print(\"I am\"+\" \"+myagestring)"
   ]
  },
  {
   "cell_type": "markdown",
   "metadata": {},
   "source": [
    "### Formative assessment 1\n",
    "\n",
    "What would be the difference between an integer and float data type?\n",
    "How would we convert a float into an integer?\n",
    "(Give a best guess answer)"
   ]
  },
  {
   "cell_type": "code",
   "execution_count": 18,
   "metadata": {
    "tags": []
   },
   "outputs": [
    {
     "name": "stdout",
     "output_type": "stream",
     "text": [
      "7.5 is <class 'float'> but 7 is <class 'int'>\n"
     ]
    }
   ],
   "source": [
    "# Solution / solucion\n",
    "\n",
    "Int_alumni = int(half_alumni) # this is we casting from float to int\n",
    "\n",
    "\n",
    "print(half_alumni, \"is\", type(half_alumni),\n",
    "      \"but\", Int_alumni, \"is\", type(Int_alumni)) #print instruction"
   ]
  },
  {
   "cell_type": "markdown",
   "metadata": {
    "tags": []
   },
   "source": [
    "### Formative assessment 2\n",
    "\n",
    "What will be type of the output of the next cell?\n",
    "\n",
    "```\n",
    "channel = 100.0\n",
    "```\n",
    "\n",
    "1. int\n",
    "\n",
    "2. float\n",
    "\n",
    "3. str"
   ]
  },
  {
   "cell_type": "code",
   "execution_count": 21,
   "metadata": {
    "tags": []
   },
   "outputs": [
    {
     "data": {
      "text/plain": [
       "float"
      ]
     },
     "execution_count": 21,
     "metadata": {},
     "output_type": "execute_result"
    }
   ],
   "source": [
    "# Solution / solucion\n",
    "\n",
    "channel = 100.0\n",
    "type(channel)"
   ]
  },
  {
   "cell_type": "markdown",
   "metadata": {
    "tags": []
   },
   "source": [
    "### Mathematical operations\n",
    "\n",
    "All of the standard calculator arithmetic operations are available between variables.\n",
    "\n",
    "We measure a certain geophysical variable at a height of 53.2 meters above sea level: "
   ]
  },
  {
   "cell_type": "code",
   "execution_count": 22,
   "metadata": {
    "tags": []
   },
   "outputs": [],
   "source": [
    "sea_height = 53.2"
   ]
  },
  {
   "cell_type": "code",
   "execution_count": 23,
   "metadata": {},
   "outputs": [
    {
     "data": {
      "text/plain": [
       "53.2"
      ]
     },
     "execution_count": 23,
     "metadata": {},
     "output_type": "execute_result"
    }
   ],
   "source": [
    "sea_height"
   ]
  },
  {
   "cell_type": "markdown",
   "metadata": {},
   "source": [
    "**Addition**"
   ]
  },
  {
   "cell_type": "code",
   "execution_count": 24,
   "metadata": {},
   "outputs": [
    {
     "data": {
      "text/plain": [
       "63.800000000000004"
      ]
     },
     "execution_count": 24,
     "metadata": {},
     "output_type": "execute_result"
    }
   ],
   "source": [
    "sea_height + 10.6"
   ]
  },
  {
   "cell_type": "code",
   "execution_count": 25,
   "metadata": {},
   "outputs": [
    {
     "data": {
      "text/plain": [
       "49.7"
      ]
     },
     "execution_count": 25,
     "metadata": {},
     "output_type": "execute_result"
    }
   ],
   "source": [
    "sea_height - 3.5"
   ]
  },
  {
   "cell_type": "markdown",
   "metadata": {},
   "source": [
    "**Multiplication**"
   ]
  },
  {
   "cell_type": "code",
   "execution_count": 26,
   "metadata": {},
   "outputs": [
    {
     "data": {
      "text/plain": [
       "106.4"
      ]
     },
     "execution_count": 26,
     "metadata": {},
     "output_type": "execute_result"
    }
   ],
   "source": [
    "sea_height * 2"
   ]
  },
  {
   "cell_type": "markdown",
   "metadata": {},
   "source": [
    "**Division**"
   ]
  },
  {
   "cell_type": "code",
   "execution_count": 35,
   "metadata": {},
   "outputs": [
    {
     "data": {
      "text/plain": [
       "26.6"
      ]
     },
     "execution_count": 35,
     "metadata": {},
     "output_type": "execute_result"
    }
   ],
   "source": [
    "sea_height / 2"
   ]
  },
  {
   "cell_type": "code",
   "execution_count": 36,
   "metadata": {},
   "outputs": [
    {
     "data": {
      "text/plain": [
       "26.0"
      ]
     },
     "execution_count": 36,
     "metadata": {},
     "output_type": "execute_result"
    }
   ],
   "source": [
    "sea_height // 2"
   ]
  },
  {
   "cell_type": "code",
   "execution_count": 37,
   "metadata": {},
   "outputs": [
    {
     "data": {
      "text/plain": [
       "26"
      ]
     },
     "execution_count": 37,
     "metadata": {},
     "output_type": "execute_result"
    }
   ],
   "source": [
    "53//2"
   ]
  },
  {
   "cell_type": "markdown",
   "metadata": {},
   "source": [
    "**Power**"
   ]
  },
  {
   "cell_type": "code",
   "execution_count": 38,
   "metadata": {},
   "outputs": [
    {
     "data": {
      "text/plain": [
       "2830.2400000000002"
      ]
     },
     "execution_count": 38,
     "metadata": {},
     "output_type": "execute_result"
    }
   ],
   "source": [
    "sea_height ** 2"
   ]
  },
  {
   "cell_type": "markdown",
   "metadata": {},
   "source": [
    "### Problem 2\n",
    "The volume of water across a section of the river is given by $V=A_C\\cdot t$, where $t$ is time in minutes and $A_C$ is the cross sectional area. Find the volume of water across a section of the river with $A_C=10m^2$ at times $t=5, 15, 30, \\text{and } 60$ min."
   ]
  },
  {
   "cell_type": "code",
   "execution_count": 50,
   "metadata": {},
   "outputs": [
    {
     "name": "stdout",
     "output_type": "stream",
     "text": [
      "50\n",
      "150\n",
      "300\n",
      "600\n"
     ]
    }
   ],
   "source": [
    "time=5\n",
    "cross_sectional_area=10\n",
    "Volume=time*cross_sectional_area\n",
    "print(Volume)\n",
    "time=15\n",
    "Volume=time*cross_sectional_area\n",
    "print(Volume)\n",
    "time=30\n",
    "Volume=time*cross_sectional_area\n",
    "print(Volume)\n",
    "time=60\n",
    "Volume=time*cross_sectional_area\n",
    "print(Volume)"
   ]
  },
  {
   "cell_type": "markdown",
   "metadata": {},
   "source": [
    "## Data Structures\n",
    "\n",
    "A data structure is a term to describe a type of \"data container\". \n",
    "They are used to store multiple data of (usually) the same type and provide certain accessor functions to extract the data from the container. "
   ]
  },
  {
   "cell_type": "markdown",
   "metadata": {},
   "source": [
    "### List\n",
    "\n",
    "Python lists are used to store a collection of data.\n",
    "A list is composed of comma-separated values between square brackets."
   ]
  },
  {
   "cell_type": "code",
   "execution_count": 51,
   "metadata": {},
   "outputs": [
    {
     "data": {
      "text/plain": [
       "list"
      ]
     },
     "execution_count": 51,
     "metadata": {},
     "output_type": "execute_result"
    }
   ],
   "source": [
    "impares = [1, 3, 5, 7, 9]\n",
    "\n",
    "type(impares)"
   ]
  },
  {
   "cell_type": "markdown",
   "metadata": {},
   "source": [
    "It can store heterogeneous data or you can even have lists of lists"
   ]
  },
  {
   "cell_type": "code",
   "execution_count": 54,
   "metadata": {},
   "outputs": [
    {
     "name": "stdout",
     "output_type": "stream",
     "text": [
      "['agua', 20.1, 52]\n",
      "[[1, 2, 3], 3.0, 'hielo']\n"
     ]
    },
    {
     "data": {
      "text/plain": [
       "list"
      ]
     },
     "execution_count": 54,
     "metadata": {},
     "output_type": "execute_result"
    }
   ],
   "source": [
    "list_heterogeneous = [\"agua\", 20.1, 52]\n",
    "\n",
    "anidadas = [[1, 2, 3], 3.0, \"hielo\"]\n",
    "\n",
    "print(list_heterogeneous) \n",
    "print(anidadas)\n",
    "\n",
    "type(anidadas)"
   ]
  },
  {
   "cell_type": "markdown",
   "metadata": {},
   "source": [
    "To access the first element of the list, which is a list"
   ]
  },
  {
   "cell_type": "code",
   "execution_count": 55,
   "metadata": {},
   "outputs": [
    {
     "data": {
      "text/plain": [
       "[1, 2, 3]"
      ]
     },
     "execution_count": 55,
     "metadata": {},
     "output_type": "execute_result"
    }
   ],
   "source": [
    "anidadas[0]"
   ]
  },
  {
   "cell_type": "markdown",
   "metadata": {},
   "source": [
    "We can access to the values housed in a list through its indices"
   ]
  },
  {
   "cell_type": "code",
   "execution_count": 56,
   "metadata": {},
   "outputs": [],
   "source": [
    "temperaturas = [10.1, 14.6, 18.3, 20.3]"
   ]
  },
  {
   "cell_type": "code",
   "execution_count": 61,
   "metadata": {},
   "outputs": [
    {
     "data": {
      "text/plain": [
       "[10.1, 14.6, 18.3, 20.3]"
      ]
     },
     "execution_count": 61,
     "metadata": {},
     "output_type": "execute_result"
    }
   ],
   "source": [
    "temperaturas"
   ]
  },
  {
   "cell_type": "code",
   "execution_count": 58,
   "metadata": {},
   "outputs": [
    {
     "name": "stdout",
     "output_type": "stream",
     "text": [
      "Primer valor de temperatura: 10.1\n",
      "Segundo valor de temperatura: 14.6\n",
      "Último valor de temperatura: 20.3\n",
      "Penúltimo valor de temperatura: 18.3\n"
     ]
    }
   ],
   "source": [
    "print(\"Primer valor de temperatura:\", temperaturas[0])\n",
    "print(\"Segundo valor de temperatura:\", temperaturas[1])\n",
    "print(\"Último valor de temperatura:\", temperaturas[-1])\n",
    "print(\"Penúltimo valor de temperatura:\", temperaturas[-2])"
   ]
  },
  {
   "cell_type": "code",
   "execution_count": 69,
   "metadata": {},
   "outputs": [
    {
     "name": "stdout",
     "output_type": "stream",
     "text": [
      "20.3\n",
      "10.1\n"
     ]
    }
   ],
   "source": [
    "print(temperaturas[3])\n",
    "print(temperaturas[-4])"
   ]
  },
  {
   "cell_type": "markdown",
   "metadata": {},
   "source": [
    "**Observations:**\n",
    "\n",
    "* In Python, the 0 index is the first element.\n",
    "* Negative indices indicate that we start counting from the last item in the list.\n",
    "* Lists have a method called `append` that allows us to add values.\n",
    "* The lists do not have a fixed length, we can change it as we need."
   ]
  },
  {
   "cell_type": "markdown",
   "metadata": {},
   "source": [
    "The indices also allow us to modify the values of the list"
   ]
  },
  {
   "cell_type": "code",
   "execution_count": 70,
   "metadata": {},
   "outputs": [
    {
     "name": "stdout",
     "output_type": "stream",
     "text": [
      "Temperature before:  [10.1, 14.6, 18.3, 20.3]\n",
      "Temperature after: [-2.3, 14.6, 18.3, 20.3]\n"
     ]
    }
   ],
   "source": [
    "print(\"Temperature before: \", temperaturas)\n",
    "temperaturas[0] = -2.3\n",
    "\n",
    "print(\"Temperature after:\", temperaturas)"
   ]
  },
  {
   "cell_type": "code",
   "execution_count": 74,
   "metadata": {},
   "outputs": [
    {
     "name": "stdout",
     "output_type": "stream",
     "text": [
      "[-2.3, 14.6, 18.3, 20.3, 23.5, 23.5, 23.5, 23.5]\n"
     ]
    }
   ],
   "source": [
    "temperaturas.append(23.5)\n",
    "\n",
    "print(temperaturas)"
   ]
  },
  {
   "cell_type": "markdown",
   "metadata": {},
   "source": [
    "We use `len` to find out how many values are in a list."
   ]
  },
  {
   "cell_type": "code",
   "execution_count": 75,
   "metadata": {},
   "outputs": [
    {
     "data": {
      "text/plain": [
       "8"
      ]
     },
     "execution_count": 75,
     "metadata": {},
     "output_type": "execute_result"
    }
   ],
   "source": [
    "len(temperaturas)"
   ]
  },
  {
   "cell_type": "code",
   "execution_count": 77,
   "metadata": {},
   "outputs": [
    {
     "data": {
      "text/plain": [
       "23.5"
      ]
     },
     "execution_count": 77,
     "metadata": {},
     "output_type": "execute_result"
    }
   ],
   "source": [
    "temperaturas[len(temperaturas)-1]"
   ]
  },
  {
   "cell_type": "markdown",
   "metadata": {},
   "source": [
    "In case we want to extract a _slice of the list_ instead of a single element, it is possible.\n",
    "If we want to obtain all the elements from the second to the fourth, inclusive:"
   ]
  },
  {
   "cell_type": "code",
   "execution_count": 79,
   "metadata": {},
   "outputs": [
    {
     "data": {
      "text/plain": [
       "[14.6, 18.3, 20.3, 23.5, 23.5]"
      ]
     },
     "execution_count": 79,
     "metadata": {},
     "output_type": "execute_result"
    }
   ],
   "source": [
    "temperaturas[1:6]"
   ]
  },
  {
   "cell_type": "markdown",
   "metadata": {},
   "source": [
    "If we want to choose the first three elements"
   ]
  },
  {
   "cell_type": "code",
   "execution_count": 80,
   "metadata": {},
   "outputs": [
    {
     "data": {
      "text/plain": [
       "[-2.3, 14.6, 18.3]"
      ]
     },
     "execution_count": 80,
     "metadata": {},
     "output_type": "execute_result"
    }
   ],
   "source": [
    "temperaturas[:3]"
   ]
  },
  {
   "cell_type": "markdown",
   "metadata": {},
   "source": [
    "Similarly, if we want to get all the elements after the third element"
   ]
  },
  {
   "cell_type": "code",
   "execution_count": 81,
   "metadata": {},
   "outputs": [
    {
     "data": {
      "text/plain": [
       "[20.3, 23.5, 23.5, 23.5, 23.5]"
      ]
     },
     "execution_count": 81,
     "metadata": {},
     "output_type": "execute_result"
    }
   ],
   "source": [
    "temperaturas[3:]"
   ]
  },
  {
   "cell_type": "markdown",
   "metadata": {},
   "source": [
    "How can we use a slice to access all its elements except the last one?"
   ]
  },
  {
   "cell_type": "code",
   "execution_count": null,
   "metadata": {},
   "outputs": [],
   "source": [
    "temperaturas[:-1]"
   ]
  },
  {
   "cell_type": "markdown",
   "metadata": {},
   "source": [
    "We can concatenate lists using `+`"
   ]
  },
  {
   "cell_type": "code",
   "execution_count": 82,
   "metadata": {},
   "outputs": [
    {
     "data": {
      "text/plain": [
       "[1, 2, 3, 4, 5, 6]"
      ]
     },
     "execution_count": 82,
     "metadata": {},
     "output_type": "execute_result"
    }
   ],
   "source": [
    "[1, 2, 3] + [4, 5, 6]"
   ]
  },
  {
   "cell_type": "markdown",
   "metadata": {},
   "source": [
    "**Can you create an empty list?**"
   ]
  },
  {
   "cell_type": "code",
   "execution_count": 83,
   "metadata": {},
   "outputs": [
    {
     "data": {
      "text/plain": [
       "[]"
      ]
     },
     "execution_count": 83,
     "metadata": {},
     "output_type": "execute_result"
    }
   ],
   "source": [
    "lista_vacia = []\n",
    "\n",
    "lista_vacia"
   ]
  },
  {
   "cell_type": "code",
   "execution_count": 86,
   "metadata": {},
   "outputs": [
    {
     "name": "stdout",
     "output_type": "stream",
     "text": [
      "['Sergio', 'Pedro', 'Juan', 'Lorena']\n"
     ]
    }
   ],
   "source": [
    "lista_vacia=[]\n",
    "lista_vacia.append(\"Sergio\")\n",
    "lista_vacia.append(\"Pedro\")\n",
    "lista_vacia.append(\"Juan\")\n",
    "lista_vacia.append(\"Lorena\")\n",
    "print(lista_vacia)"
   ]
  },
  {
   "cell_type": "markdown",
   "metadata": {},
   "source": [
    "### Problem 3\n",
    "\n",
    "Create a list with 5 elements and afterwards change its entries to be on the reverse order"
   ]
  },
  {
   "cell_type": "code",
   "execution_count": null,
   "metadata": {},
   "outputs": [],
   "source": []
  },
  {
   "cell_type": "markdown",
   "metadata": {},
   "source": [
    "### Tuple\n",
    "\n",
    "Tuples are like a list of constants. \n",
    "If you have data that you want to store in a structure, but you know it will not be changed, tuples can be more efficient."
   ]
  },
  {
   "cell_type": "code",
   "execution_count": 88,
   "metadata": {},
   "outputs": [],
   "source": [
    "tuple = (2, 3.4, \"March\")"
   ]
  },
  {
   "cell_type": "code",
   "execution_count": 90,
   "metadata": {},
   "outputs": [
    {
     "ename": "TypeError",
     "evalue": "'tuple' object does not support item assignment",
     "output_type": "error",
     "traceback": [
      "\u001b[0;31m---------------------------------------------------------------------------\u001b[0m",
      "\u001b[0;31mTypeError\u001b[0m                                 Traceback (most recent call last)",
      "\u001b[0;32m<ipython-input-90-dd31b59fbd0a>\u001b[0m in \u001b[0;36m<module>\u001b[0;34m\u001b[0m\n\u001b[0;32m----> 1\u001b[0;31m \u001b[0mtuple\u001b[0m\u001b[0;34m[\u001b[0m\u001b[0;36m2\u001b[0m\u001b[0;34m]\u001b[0m\u001b[0;34m=\u001b[0m\u001b[0;34m\"may\"\u001b[0m\u001b[0;34m\u001b[0m\u001b[0;34m\u001b[0m\u001b[0m\n\u001b[0m",
      "\u001b[0;31mTypeError\u001b[0m: 'tuple' object does not support item assignment"
     ]
    }
   ],
   "source": [
    "tuple[2]=\"may\""
   ]
  },
  {
   "cell_type": "markdown",
   "metadata": {},
   "source": [
    "### Problem 4\n",
    "\n",
    "Make 2 tuples with at least 3 elements. Then put those tuples in a list (suggestion: create an empty list and use the append command)"
   ]
  },
  {
   "cell_type": "code",
   "execution_count": null,
   "metadata": {},
   "outputs": [],
   "source": []
  },
  {
   "cell_type": "markdown",
   "metadata": {},
   "source": [
    "### Dictionary\n",
    "\n",
    "Dictionaries are a way to efficiently store and retrieve data values by a _keyword_.\n",
    "A dictionary is formed of value-key pairs, separated by commas, enclosed in curly brackets `{}`.\n",
    "The key and the value are separated by a colon `:`, i.e. `key:value`."
   ]
  },
  {
   "cell_type": "code",
   "execution_count": 91,
   "metadata": {},
   "outputs": [
    {
     "name": "stdout",
     "output_type": "stream",
     "text": [
      "{'numerical': 1, 'alphabetical': 'abc'}\n"
     ]
    }
   ],
   "source": [
    "my_dict = {'numerical' : 1, 'alphabetical': 'abc'}\n",
    "\n",
    "print(my_dict)"
   ]
  },
  {
   "cell_type": "markdown",
   "metadata": {},
   "source": [
    "We can access values using the keys between square brackets."
   ]
  },
  {
   "cell_type": "code",
   "execution_count": 92,
   "metadata": {},
   "outputs": [
    {
     "data": {
      "text/plain": [
       "1"
      ]
     },
     "execution_count": 92,
     "metadata": {},
     "output_type": "execute_result"
    }
   ],
   "source": [
    "my_dict['numerical']"
   ]
  },
  {
   "cell_type": "code",
   "execution_count": 93,
   "metadata": {},
   "outputs": [
    {
     "data": {
      "text/plain": [
       "'abc'"
      ]
     },
     "execution_count": 93,
     "metadata": {},
     "output_type": "execute_result"
    }
   ],
   "source": [
    "my_dict.get(\"alphabetical\")"
   ]
  },
  {
   "cell_type": "code",
   "execution_count": 95,
   "metadata": {},
   "outputs": [
    {
     "data": {
      "text/plain": [
       "dict_keys(['numerical', 'alphabetical'])"
      ]
     },
     "execution_count": 95,
     "metadata": {},
     "output_type": "execute_result"
    }
   ],
   "source": [
    "my_dict.keys()"
   ]
  },
  {
   "cell_type": "markdown",
   "metadata": {},
   "source": [
    "Keys are immutables (i.e. can't be changed) but values can be updated."
   ]
  },
  {
   "cell_type": "code",
   "execution_count": 96,
   "metadata": {},
   "outputs": [],
   "source": [
    "my_dict['numerical'] = 5500"
   ]
  },
  {
   "cell_type": "code",
   "execution_count": 97,
   "metadata": {},
   "outputs": [
    {
     "name": "stdout",
     "output_type": "stream",
     "text": [
      "{'numerical': 5500, 'alphabetical': 'abc'}\n"
     ]
    }
   ],
   "source": [
    "print(my_dict)"
   ]
  },
  {
   "cell_type": "markdown",
   "metadata": {},
   "source": [
    "We can also add new key-value pairs"
   ]
  },
  {
   "cell_type": "code",
   "execution_count": 98,
   "metadata": {},
   "outputs": [
    {
     "name": "stdout",
     "output_type": "stream",
     "text": [
      "{'numerical': 5500, 'alphabetical': 'abc', 'binary': 1010001}\n"
     ]
    }
   ],
   "source": [
    "my_dict['binary'] = 1010001\n",
    "\n",
    "print (my_dict)"
   ]
  },
  {
   "cell_type": "markdown",
   "metadata": {},
   "source": [
    "### Problem 5\n",
    "\n",
    "Make a Dictionary and print one of its entries."
   ]
  },
  {
   "cell_type": "code",
   "execution_count": null,
   "metadata": {},
   "outputs": [],
   "source": []
  },
  {
   "cell_type": "markdown",
   "metadata": {},
   "source": [
    "### Formative assessment 3\n",
    "\n",
    "What happens if we try to access item 3 of the list `[-3.0, -2.0, -1.0]`?\n",
    "\n",
    "1. Error\n",
    "\n",
    "2. -1.0\n",
    "\n",
    "3. Nothing happens"
   ]
  },
  {
   "cell_type": "code",
   "execution_count": 4,
   "metadata": {
    "tags": []
   },
   "outputs": [
    {
     "data": {
      "text/plain": [
       "-3.0"
      ]
     },
     "execution_count": 4,
     "metadata": {},
     "output_type": "execute_result"
    }
   ],
   "source": [
    "# Solution / Solución\n",
    "\n",
    "lista = [-3.0, -2.0, -1.0]\n",
    "\n",
    "lista[-3]"
   ]
  },
  {
   "cell_type": "markdown",
   "metadata": {},
   "source": [
    "## Python Libraries\n",
    "\n",
    "One of the advantages of using Python to process data is the ability to use libraries.\n",
    "Libraries are **collections of modules** that contain functions to be used by other programs (for example, our notebooks and scripts). \n",
    "These functions usually save us a lot of time when performing certain tasks, since we do not need to write our own code to carry them out.\n",
    "\n",
    "In addition, libraries are usually developed following best practices:\n",
    "* Well designed code.\n",
    "* They use version drivers.\n",
    "* They have automated tests.\n",
    "* Extensive documentation.\n",
    "* Developed by a community.\n",
    "\n",
    "In this opportunity, we will learn about **[Numpy](https://numpy.org/)**, which is one of the most used libraries when it comes to scientific computing. "
   ]
  },
  {
   "cell_type": "markdown",
   "metadata": {},
   "source": [
    "### Importing Numpy\n",
    "\n",
    "In order to make use of the libraries, we first need to import them"
   ]
  },
  {
   "cell_type": "code",
   "execution_count": null,
   "metadata": {
    "id": "6aJg7_-_o_xw"
   },
   "outputs": [],
   "source": [
    "import numpy as np"
   ]
  },
  {
   "cell_type": "markdown",
   "metadata": {
    "id": "IDjAU8Rro_xy"
   },
   "source": [
    "This allows us to access the modules and functions of the library"
   ]
  },
  {
   "cell_type": "code",
   "execution_count": null,
   "metadata": {
    "id": "REieQiW7o_x1",
    "outputId": "30d6e2e5-0747-4201-fbf3-c30a3f6f270a"
   },
   "outputs": [],
   "source": [
    "np.array([1, 2, 3, 4])"
   ]
  },
  {
   "cell_type": "markdown",
   "metadata": {
    "id": "v_Vbal7Xo_x4"
   },
   "source": [
    "### Numpy Arrays\n",
    "\n",
    "NumPy introduces a new type of variable, the `numpy.array`.\n",
    "Like lists, they allow you to store many values under a single variable:"
   ]
  },
  {
   "cell_type": "code",
   "execution_count": null,
   "metadata": {
    "id": "KjdrXUPPo_x5"
   },
   "outputs": [],
   "source": [
    "array_1d = np.array([2, 4, 6, 8.3, 4, 5])\n",
    "\n",
    "print(array_1d)\n",
    "\n",
    "type(array_1d)"
   ]
  },
  {
   "cell_type": "markdown",
   "metadata": {
    "id": "hPfcrHBmo_x7"
   },
   "source": [
    "We can use indexes as we did with lists"
   ]
  },
  {
   "cell_type": "code",
   "execution_count": null,
   "metadata": {
    "id": "OuB4PQT8o_x7",
    "outputId": "b95b59c4-bb1b-48bc-c5b9-bede10228b5a"
   },
   "outputs": [],
   "source": [
    "array_1d[0]"
   ]
  },
  {
   "cell_type": "code",
   "execution_count": null,
   "metadata": {
    "id": "Y4Be8SYko_x8",
    "outputId": "9f8cd0d0-944e-4b98-9c68-220fffc424ad"
   },
   "outputs": [],
   "source": [
    "array_1d[2:]"
   ]
  },
  {
   "cell_type": "markdown",
   "metadata": {},
   "source": [
    "**What are the advantages and disadvantages of using `arrays`?**\n",
    "\n",
    "* Arrays have a fixed size. Once created, we cannot add or remove values from it.\n",
    "* Arrays store a single type of variables (floats or ints).\n",
    "* They have a more efficient management of memory.\n",
    "* All the operations we perform with _NumPy_ are faster than using _forloops_ and _lists_.\n"
   ]
  },
  {
   "cell_type": "markdown",
   "metadata": {},
   "source": [
    "### Array operations\n",
    "\n",
    "Another advantage of using arrays is that many mathematical operations can be performed very easily.\n",
    "For example, let's go back to the values of distance in inches.\n"
   ]
  },
  {
   "cell_type": "code",
   "execution_count": null,
   "metadata": {},
   "outputs": [],
   "source": [
    "inches = [10, 24.5, 90, 6.75, 90.7, 80]\n",
    "\n",
    "# Convert the list into an array / Convertimos la lista en un array:\n",
    "inches = np.array(inches)\n",
    "\n",
    "print(inches)"
   ]
  },
  {
   "cell_type": "markdown",
   "metadata": {},
   "source": [
    "Convert to meters"
   ]
  },
  {
   "cell_type": "code",
   "execution_count": null,
   "metadata": {},
   "outputs": [],
   "source": [
    "meters = inches * 25.4e-3 \n",
    "\n",
    "print(meters)"
   ]
  },
  {
   "cell_type": "markdown",
   "metadata": {},
   "source": [
    "Add 10 meters"
   ]
  },
  {
   "cell_type": "code",
   "execution_count": null,
   "metadata": {},
   "outputs": [],
   "source": [
    "meters + 10"
   ]
  },
  {
   "cell_type": "markdown",
   "metadata": {},
   "source": [
    "It is also possible to operate with other matrices as long as they have the same shape."
   ]
  },
  {
   "cell_type": "code",
   "execution_count": null,
   "metadata": {},
   "outputs": [],
   "source": [
    "precios = np.array([100, 200, 120, 98, 65, 3], dtype=float)\n",
    "cantidades = np.array([2, 1, 3, 4, 9, 5])\n",
    "\n",
    "print(precios, cantidades)"
   ]
  },
  {
   "cell_type": "code",
   "execution_count": null,
   "metadata": {},
   "outputs": [],
   "source": [
    "costos = precios * cantidades\n",
    "\n",
    "print(costos)"
   ]
  },
  {
   "cell_type": "code",
   "execution_count": null,
   "metadata": {},
   "outputs": [],
   "source": [
    "total = np.sum(costos)\n",
    "\n",
    "print(total)"
   ]
  },
  {
   "cell_type": "code",
   "execution_count": null,
   "metadata": {},
   "outputs": [],
   "source": [
    "a = np.array([1, 2, 3])\n",
    "b = np.array([4, 5])\n",
    "\n",
    "a + b"
   ]
  },
  {
   "cell_type": "markdown",
   "metadata": {},
   "source": [
    "### Multidimensional arrays\n",
    "\n",
    "It is possible to define multidimensional arrays.\n",
    "For example, a 2D array would look like an array:"
   ]
  },
  {
   "cell_type": "code",
   "execution_count": null,
   "metadata": {},
   "outputs": [],
   "source": [
    "array_2d = np.array([[1, 2, 3], [4, 5, 6]])\n",
    "\n",
    "print(array_2d)\n"
   ]
  },
  {
   "cell_type": "code",
   "execution_count": null,
   "metadata": {},
   "outputs": [],
   "source": [
    "array_2d.shape"
   ]
  },
  {
   "cell_type": "code",
   "execution_count": null,
   "metadata": {},
   "outputs": [],
   "source": [
    "type(array_2d.shape)"
   ]
  },
  {
   "cell_type": "markdown",
   "metadata": {},
   "source": [
    "We can access each element of a 2D array through its indexes"
   ]
  },
  {
   "cell_type": "code",
   "execution_count": null,
   "metadata": {},
   "outputs": [],
   "source": [
    "array_2d[0, 1]"
   ]
  },
  {
   "cell_type": "markdown",
   "metadata": {},
   "source": [
    "We can extract a portion of the array"
   ]
  },
  {
   "cell_type": "code",
   "execution_count": null,
   "metadata": {},
   "outputs": [],
   "source": [
    "array_2d[:, 1]"
   ]
  },
  {
   "cell_type": "markdown",
   "metadata": {},
   "source": [
    "### Some Numpy functions\n",
    "\n",
    "Every time we make use of the functions of a library, it is advisable to read its documentation"
   ]
  },
  {
   "cell_type": "code",
   "execution_count": null,
   "metadata": {},
   "outputs": [],
   "source": [
    "np.mean?"
   ]
  },
  {
   "cell_type": "code",
   "execution_count": null,
   "metadata": {},
   "outputs": [],
   "source": [
    "print(array_1d)\n",
    "\n",
    "print(\n",
    "    \"Mean:\", np.mean(array_1d),\n",
    "    \"Standard deviation:\", np.std(array_1d),\n",
    "    \"Max:\", np.max(array_1d),\n",
    "    \"Min:\", np.min(array_1d),\n",
    "    \"Square root:\", np.sqrt(array_1d)\n",
    "     )"
   ]
  },
  {
   "cell_type": "markdown",
   "metadata": {},
   "source": [
    "## Homework"
   ]
  },
  {
   "cell_type": "markdown",
   "metadata": {},
   "source": [
    "### 1° Task\n",
    "\n",
    "A colleague from the United States shared with us the following temperature measurement, given in Fahrenheit:\n",
    "\n",
    "$$\n",
    "T = 30.3^\\circ \\text{F}\n",
    "$$\n",
    "\n",
    "Convert this value to degrees Celsius, knowing that:\n",
    "$$[^\\circ \\text{C}] = \\frac{5}{9} ([^\\circ \\text{F}] - 32) $$ \n",
    "\n",
    "Requirements:\n",
    "\n",
    "* Assign the received data to a variable.\n",
    "* Apply the unit transformation using this variable.\n",
    "* Save the data in Celsius in another variable.\n",
    "* Use the print function to display both results.\n",
    "\n"
   ]
  },
  {
   "cell_type": "code",
   "execution_count": null,
   "metadata": {
    "tags": []
   },
   "outputs": [],
   "source": [
    "# Solucion\n",
    "temperatura_f = 30.3\n",
    "temperatura_c = 5 / 9 * (temperatura_f - 32)\n",
    "\n",
    "print(temperatura_c)"
   ]
  },
  {
   "cell_type": "markdown",
   "metadata": {},
   "source": [
    "### 2° Task\n",
    "\n",
    "Now, convert the following list of temperatures in Fahrenheit to Celsius.\n",
    "\n",
    "temperatures_F = [30.3, 20.1, 46.5, 34.1, 42.3]\n"
   ]
  },
  {
   "cell_type": "code",
   "execution_count": null,
   "metadata": {},
   "outputs": [],
   "source": [
    "# Solution \n",
    "\n",
    "temperaturas_f = [30.3, 20.1, 46.5, 34.1, 42.3]\n",
    "temperaturas_f = np.array(temperaturas_f)\n",
    "\n",
    "temperaturas_c = 5 / 9 * (temperaturas_f - 32)\n",
    "\n",
    "print(temperaturas_c)"
   ]
  },
  {
   "cell_type": "markdown",
   "metadata": {},
   "source": [
    "### 3° Task\n",
    "\n",
    "Given the array: `([1, 2, 3, 4, 5, 6, 7, 8, 9, 10, 11, 12, 13, 14, 15, 16])`, investigate the `numpy` library documentation for reshape the array to be 4x4.\n"
   ]
  },
  {
   "cell_type": "code",
   "execution_count": null,
   "metadata": {},
   "outputs": [],
   "source": [
    "# Solution \n",
    "datos = np.array([ 1, 2, 3, 4, 5, 6, 7, 8, 9, 10, 11, 12, 13, 14, 15, 16])\n",
    "datos_4x4 = np.reshape(datos, (4, 4))\n",
    "\n",
    "print(datos_4x4, datos_4x4.shape)"
   ]
  },
  {
   "cell_type": "markdown",
   "metadata": {},
   "source": [
    "### 4° Task\n",
    "\n",
    "`Numpy` allows us to apply mathematical functions.\n",
    "\n",
    "Calculate the sine and cosine of the angles 0, 30, 45, 60 and 90 given in degrees:\n",
    "1. Create an array with the angles in degrees.\n",
    "2. Convert the angles to radians.\n",
    "3. Calculate the sine and cosine of these angles and store them in two different arrays.\n",
    "\n",
    "_Investigate the `numpy` library to find the functions to convert the angles from degrees to radians and calculate the sine and cosine._"
   ]
  },
  {
   "cell_type": "code",
   "execution_count": null,
   "metadata": {},
   "outputs": [],
   "source": [
    "# Solution\n",
    "angulos_deg = np.array([0, 30, 45, 60, 90])\n",
    "angulos_rad = np.radians(angulos_deg)\n",
    "cosenos = np.cos(angulos_rad)\n",
    "senos = np.sin(angulos_rad)"
   ]
  },
  {
   "cell_type": "markdown",
   "metadata": {},
   "source": [
    "### 5° Task\n",
    "\n",
    "\n",
    "**Finite differences**\n",
    "\n",
    "A common approximation for computing derivatives of functions is a finite difference approximation:\n",
    "\n",
    "$$\\frac{d}{dx} y(x) = \\frac{y(x + \\Delta x) - y(x)}{\\Delta x}$$\n",
    "\n",
    "or for discrete data\n",
    "\n",
    "$$\\frac{d}{dx} y(x_i) = \\frac{y(x_i + \\Delta x) - y(x_i)}{\\Delta x} = \\frac{y(x_{i+1}) - y(x_i)}{x_{i+1} - x_{i}}$$\n",
    "\n",
    "This operation can be accomplished using index, silce and vectorized algebraic operations.\n",
    "Try to solve it!\n",
    "\n",
    "Now, read the numpy documantation to find a function to calculate $\\frac{d}{dx} y(x_i)$.\n"
   ]
  },
  {
   "cell_type": "code",
   "execution_count": null,
   "metadata": {},
   "outputs": [],
   "source": [
    "# Solution\n",
    "\n",
    "x = np.arange(0, 5, 0.5)\n",
    "y = x ** 2\n",
    "\n",
    "# Analytical Solution\n",
    "dy_dx_exact = 2 * x\n",
    "\n",
    "# Numerical Solution using index\n",
    "dy_dx = (y[1:] - y[:-1]) / (x[1:] - x[:-1])\n",
    "\n",
    "# Numerical Solution using numpy\n",
    "dy_dx_numpy = np.diff(y) / np.diff(x)\n",
    "\n",
    "# Plot \n",
    "# Is is not necesary that the student make the plot\n",
    "import matplotlib.pyplot as plt\n",
    "\n",
    "plt.plot(x, dy_dx_exact, 'o-')\n",
    "plt.plot(x[1:], dy_dx, 'o-')\n",
    "plt.plot(x[1:], dy_dx_numpy, '-', color=\"yellow\")\n",
    "plt.title(\"dy/dx\")\n",
    "plt.legend([\"Exact\", \"Numeric\", \"Numeric_numpy\"])"
   ]
  },
  {
   "cell_type": "markdown",
   "metadata": {},
   "source": [
    "## Extra material to keep learning\n",
    "* [How use JupyterLab by Software Carpentry](https://swcarpentry.github.io/python-novice-gapminder/01-run-quit/index.html)\n",
    "\n",
    "* [Apuntes generates de Python](https://drive.google.com/file/d/12_1yUhaGeoH7wLGqrHiSx987FMdqM_Mv/view)\n",
    "\n",
    "* [Introduction to Python1](https://johnfoster.pge.utexas.edu/numerical-methods-book/PythonIntro.html)\n",
    "\n",
    "* [Plotting and Programming in Python by Software Carpenty](https://swcarpentry.github.io/python-novice-gapminder/index.html)\n",
    "\n",
    "* [NumPy tutorials](https://numpy.org/learn/)"
   ]
  },
  {
   "cell_type": "code",
   "execution_count": null,
   "metadata": {},
   "outputs": [],
   "source": []
  }
 ],
 "metadata": {
  "colab": {
   "name": "Coco_Session2.ipynb",
   "provenance": []
  },
  "kernelspec": {
   "display_name": "Python 3",
   "language": "python",
   "name": "python3"
  },
  "language_info": {
   "codemirror_mode": {
    "name": "ipython",
    "version": 3
   },
   "file_extension": ".py",
   "mimetype": "text/x-python",
   "name": "python",
   "nbconvert_exporter": "python",
   "pygments_lexer": "ipython3",
   "version": "3.6.10"
  },
  "toc-autonumbering": true,
  "toc-showcode": false
 },
 "nbformat": 4,
 "nbformat_minor": 4
}
