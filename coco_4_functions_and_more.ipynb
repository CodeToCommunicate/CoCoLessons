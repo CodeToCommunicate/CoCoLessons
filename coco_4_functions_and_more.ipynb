{
 "cells": [
  {
   "cell_type": "markdown",
   "metadata": {},
   "source": [
    "# More Python / Mas de Python\n",
    "\n",
    "In this notebook we will learn about: \n",
    "* For loops\n",
    "* Conditional statements\n",
    "* Write our own functions\n",
    "\n",
    "---\n",
    "\n",
    "En este cuaderno aprenderemos sobre:\n",
    "* Iteraciones/ciclos o \"for loops\"\n",
    "* Declaraciones condicionales\n",
    "* Escribir nuestras funciones"
   ]
  },
  {
   "cell_type": "markdown",
   "metadata": {},
   "source": [
    "## For loops\n",
    "\n",
    "A for loop is meant to repeat specific lines of code. This is helpful when having to execute a block of code on a list (as an example). The structure of a for loop is as follows:\n",
    "* A loop starts with a for statement, followed by a counter.\n",
    "* Code within the loop is used to execute on each value within a series.\n",
    "* In Python, indensation is not decoration, they are functional.\n",
    "\n",
    "----\n",
    "\n",
    "Un for loop está destinado a repetir líneas de código específicas. Esto es útil cuando se tiene que ejecutar un bloque de código en una lista (como ejemplo). La estructura de un for loop es:\n",
    "* Un for loop comienza con una declaración for, seguida de un contador.\n",
    "* El código dentro del for loop se utiliza para ejecutar en cada valor dentro de una serie.\n",
    "* En Python, la indentación se usa para indicar varias funciones y no se pueden ignorar!\n"
   ]
  },
  {
   "cell_type": "markdown",
   "metadata": {},
   "source": [
    "Let's add 1 to eache element of a given list:\n",
    "\n",
    "---\n",
    "\n",
    "Tenemos una lista a la cual a cada uno de sus elemento que quiero sumar 1"
   ]
  },
  {
   "cell_type": "code",
   "execution_count": 1,
   "metadata": {},
   "outputs": [
    {
     "name": "stdout",
     "output_type": "stream",
     "text": [
      "2\n",
      "3\n",
      "4\n",
      "5\n",
      "6\n",
      "7\n"
     ]
    }
   ],
   "source": [
    "a = [1, 2, 3, 4, 5, 6]  # List which we will use to execute for loop\n",
    "\n",
    "for i in a:   #initialize for loop with counter\n",
    "    variable = i + 1   # code to be executed on the list\n",
    "    print(variable)   # printing results"
   ]
  },
  {
   "cell_type": "markdown",
   "metadata": {},
   "source": [
    "Let's add all the numbers from 1 to 10:\n",
    "\n",
    "---\n",
    "\n",
    "Sumemos todos los números del 1 al 10:"
   ]
  },
  {
   "cell_type": "code",
   "execution_count": 3,
   "metadata": {},
   "outputs": [
    {
     "name": "stdout",
     "output_type": "stream",
     "text": [
      "55\n"
     ]
    }
   ],
   "source": [
    "suma = 0\n",
    "for i in range(10):\n",
    "    # We add a 1 to i to add from 1 to 10 and not from 0 to 9 \n",
    "    # Le añadimos un 1 a i para sumar de 1 a 10 y no de 0 a 9\n",
    "    suma = suma + (i + 1)\n",
    "\n",
    "print(suma)"
   ]
  },
  {
   "cell_type": "markdown",
   "metadata": {},
   "source": [
    "`range()` returns a sequence of integers numbers that includes the start number but not the end number.\n",
    "\n",
    "---\n",
    "\n",
    "`range()` devuelve una secuencia de enteros que incluyeel numero de inicio pero no el de final\n"
   ]
  },
  {
   "cell_type": "code",
   "execution_count": 1,
   "metadata": {},
   "outputs": [
    {
     "name": "stdout",
     "output_type": "stream",
     "text": [
      "0\n",
      "1\n",
      "2\n",
      "3\n",
      "4\n",
      "5\n",
      "6\n",
      "7\n",
      "8\n",
      "9\n"
     ]
    }
   ],
   "source": [
    "for i in range(10):\n",
    "    print(i)"
   ]
  },
  {
   "cell_type": "code",
   "execution_count": 2,
   "metadata": {},
   "outputs": [
    {
     "name": "stdout",
     "output_type": "stream",
     "text": [
      "0\n",
      "2\n",
      "4\n",
      "6\n",
      "8\n",
      "10\n",
      "12\n",
      "14\n",
      "16\n",
      "18\n"
     ]
    }
   ],
   "source": [
    "for i in range(0, 20, 2): #inicio, final, step\n",
    "    print(i)"
   ]
  },
  {
   "cell_type": "markdown",
   "metadata": {
    "tags": []
   },
   "source": [
    "## Formative assessment 1\n",
    "\n",
    "Create a for loop for the following list that multiplies each value in list, by 2 and print the results.\n",
    "\n",
    "---\n",
    "\n",
    "Cree un for loop para la siguiente lista que multiplique cada valor de la lista por 2 e imprima los resultados.\n",
    "\n",
    "`array = [2, 4, 6, 8, 10]`"
   ]
  },
  {
   "cell_type": "code",
   "execution_count": 3,
   "metadata": {
    "collapsed": true,
    "jupyter": {
     "outputs_hidden": true,
     "source_hidden": true
    },
    "tags": []
   },
   "outputs": [
    {
     "name": "stdout",
     "output_type": "stream",
     "text": [
      "4\n",
      "8\n",
      "12\n",
      "16\n",
      "20\n"
     ]
    }
   ],
   "source": [
    "# Solution / Solución\n",
    "array = [2, 4, 6, 8, 10]\n",
    "\n",
    "for i in array:\n",
    "    new_array = i * 2\n",
    "    print(new_array)"
   ]
  },
  {
   "cell_type": "markdown",
   "metadata": {},
   "source": [
    "## Conditional Statements / Condicionales\n",
    "\n",
    "A conditional statement is used to handle decisions within your code. The purpose is to execute a piece of code so long as the condition is met. In this lecture, we will be exploring how to use the _if/else statement_.\n",
    "\n",
    "---\n",
    "\n",
    "Una declaración condicional se usa para manejar decisiones dentro del código. El propósito es ejecutar un fragmento de código siempre que se cumpla la condición. En esta lección, exploraremos cómo usar la _declaración if/else_."
   ]
  },
  {
   "cell_type": "markdown",
   "metadata": {},
   "source": [
    "### Booleans / Booleanos\n",
    "\n",
    "Booleans are the two constant values `True` and `False`.\n",
    "Python implements the concept of \"truthiness\", that means their numerical values are 1 and 0.\n",
    "\n",
    "`==` is an equality operator, different from `=` which is the assignment operator you used to assign variables.\n",
    "\n",
    "**Important**: They are not str.\n",
    "\n",
    "---\n",
    "\n",
    "Los booleanos son los dos valores constantes `True` (verdadero) y `False` (falso).\n",
    "Python implementa el concepto de \"veracidad\", es decir, sus valores numéricos son 1 y 0.\n",
    "\n",
    "`==` es un operador de igualdad, diferente de `=` que es el operador de asignación que usó para asignar variables.\n",
    "\n",
    "**Importante**: Un bool no es un str."
   ]
  },
  {
   "cell_type": "markdown",
   "metadata": {},
   "source": [
    "Check if the length of your name is greater than 8\n",
    "\n",
    "---\n",
    "\n",
    "Verifiquemos si el tamaño de su monbre tiene mas de 8 caracteres:"
   ]
  },
  {
   "cell_type": "code",
   "execution_count": 4,
   "metadata": {},
   "outputs": [
    {
     "data": {
      "text/plain": [
       "True"
      ]
     },
     "execution_count": 4,
     "metadata": {},
     "output_type": "execute_result"
    }
   ],
   "source": [
    "name = \"Agustina\"\n",
    "\n",
    "len(name) > 5"
   ]
  },
  {
   "cell_type": "markdown",
   "metadata": {},
   "source": [
    "We can use `and` and `or` operators with booleans in Python. \n",
    "These follow mathematical logic.\n",
    "\n",
    "---\n",
    "\n",
    "Podemos usar los operadores `and` y` or` con booleanos en Python. \n",
    "Estos siguen la lógica matemática.\n",
    "\n",
    "| A     | B     | A and B | A or B |\n",
    "| :---  | :---  | :---    | :---   |\n",
    "| True  | True  | True    | True   |\n",
    "| True  | False | False   | True   |\n",
    "| False | True  | False   | True   |\n",
    "| False | False | False   | False  |"
   ]
  },
  {
   "cell_type": "markdown",
   "metadata": {},
   "source": [
    "Check if the length of your name is greater than 5 and the length of your mentor's name is less than 8.\n",
    "\n",
    "---\n",
    "\n",
    "Comprobemos si la longitud de su nombre es superior a 5 y la longitud del nombre de su mentor es inferior a 8."
   ]
  },
  {
   "cell_type": "code",
   "execution_count": 5,
   "metadata": {},
   "outputs": [
    {
     "data": {
      "text/plain": [
       "False"
      ]
     },
     "execution_count": 5,
     "metadata": {},
     "output_type": "execute_result"
    }
   ],
   "source": [
    "(len(name) > 5) and (len(name) < 8)"
   ]
  },
  {
   "cell_type": "markdown",
   "metadata": {},
   "source": [
    "### If / elseif / else"
   ]
  },
  {
   "cell_type": "code",
   "execution_count": 6,
   "metadata": {},
   "outputs": [
    {
     "name": "stdout",
     "output_type": "stream",
     "text": [
      "You have a long name.\n"
     ]
    }
   ],
   "source": [
    "if len(name) > 6:\n",
    "    print('You have a long name.')\n",
    "else:\n",
    "    print('You have a short name.')"
   ]
  },
  {
   "cell_type": "markdown",
   "metadata": {},
   "source": [
    "**Conditional operators**\n",
    "\n",
    "* `==` for testing if two data types are equal to each other.\n",
    "* `!=` for testing if two data types are not equal to each other.\n",
    "* `>` for testing if one data type is greater than another.\n",
    "* `<` for testing if one data type is less than another.\n",
    "* `>=` for testing if one data type is greater than or equal to another.\n",
    "* `<=` for testing if one data type is less than or equal to another.\n",
    "\n",
    "---\n",
    "\n",
    "**Operadores condicionales**\n",
    "\n",
    "* `==` para probar si dos tipos de datos son iguales entre sí.\n",
    "* `!=` para probar si dos tipos de datos no son iguales entre sí.\n",
    "* `>` para probar si un tipo de datos es mayor que otro.\n",
    "* `<` para probar si un tipo de datos es menor que otro.\n",
    "* `>=` para probar si un tipo de datos es mayor o igual que otro.\n",
    "* `<=` para probar si un tipo de datos es menor o igual que otro."
   ]
  },
  {
   "cell_type": "code",
   "execution_count": 7,
   "metadata": {},
   "outputs": [
    {
     "name": "stdout",
     "output_type": "stream",
     "text": [
      "Ola de calor\n"
     ]
    }
   ],
   "source": [
    "temperatura = 40\n",
    "\n",
    "if temperatura <= 0:\n",
    "    print(\"Va a helar\")\n",
    "elif temperatura > 35:\n",
    "    print(\"Ola de calor\")\n",
    "else:\n",
    "    print(\"Temperatura normal\")"
   ]
  },
  {
   "cell_type": "markdown",
   "metadata": {},
   "source": [
    "**Formative assessment 1**\n",
    "\n",
    "Build an _if/else_ statement that prints if a variable is a float or an integer.\n",
    "\n",
    "---\n",
    "\n",
    "Cree una declaración _if/else_ que imprima si una variable es un número flotante o un número entero.\n",
    "\n",
    "`a = 101.7`"
   ]
  },
  {
   "cell_type": "code",
   "execution_count": 8,
   "metadata": {
    "collapsed": true,
    "jupyter": {
     "outputs_hidden": true,
     "source_hidden": true
    },
    "tags": []
   },
   "outputs": [
    {
     "name": "stdout",
     "output_type": "stream",
     "text": [
      "This value is a float\n"
     ]
    }
   ],
   "source": [
    "# Solution / Solución\n",
    "a = 101.7\n",
    "\n",
    "if type(a) == float:\n",
    "    print('This value is a float')\n",
    "else:\n",
    "    print('This value is a string')"
   ]
  },
  {
   "cell_type": "markdown",
   "metadata": {
    "id": "X60m1L_do3pu"
   },
   "source": [
    "## Functions Funciones\n",
    "\n",
    "A **function** is a series of instructions used to execute a specific task. \n",
    "It is a way to package your code so that it is easier to reuse.\n",
    "\n",
    "----\n",
    "\n",
    "Una **función** es una serie de instrucciones que se utilizan para ejecutar una tarea específica. \n",
    "Es una forma de empaquetar su código para que sea más fácil de reutilizar."
   ]
  },
  {
   "cell_type": "markdown",
   "metadata": {},
   "source": [
    "###  Built-in functions / Funciones integradas\n",
    "\n",
    "We have already seen some functions in the previous notebooks, i.e. `print()`, `len()`, `round()`, `type()`.\n",
    "\n",
    "However, there are many other useful  built-in functions that Python comes with.\n",
    "The functions that are always available in Python can be found here:\n",
    "[https://docs.python.org/3/library/functions.html](https://docs.python.org/3/library/functions.html)\n",
    "\n",
    "---\n",
    "\n",
    "Ya hemos visto algunas funciones sin saberlo en los notebooks anteriores, por ejemplo `print()`, `len()`, `round()`, `type()`.\n",
    "\n",
    "Sin embargo, hay muchas otras funciones útiles integradas con las que viene Python.\n",
    "\n",
    "Las funciones que siempre están disponibles en Python se pueden encontrar aquí:\n",
    "[https://docs.python.org/3/library/functions.html](https://docs.python.org/3/library/functions.html)\n"
   ]
  },
  {
   "cell_type": "code",
   "execution_count": 9,
   "metadata": {},
   "outputs": [
    {
     "name": "stdout",
     "output_type": "stream",
     "text": [
      "8 4\n"
     ]
    }
   ],
   "source": [
    "# Compute the length of the variable name\n",
    "name = \"Agustina\"\n",
    "lista = [1, 2, 3, 4]\n",
    "\n",
    "print(len(name), len(lista))"
   ]
  },
  {
   "cell_type": "code",
   "execution_count": 10,
   "metadata": {},
   "outputs": [
    {
     "data": {
      "text/plain": [
       "4"
      ]
     },
     "execution_count": 10,
     "metadata": {},
     "output_type": "execute_result"
    }
   ],
   "source": [
    "# Work out the maximum of list element.\n",
    "max(lista)"
   ]
  },
  {
   "cell_type": "code",
   "execution_count": 11,
   "metadata": {},
   "outputs": [
    {
     "data": {
      "text/plain": [
       "123"
      ]
     },
     "execution_count": 11,
     "metadata": {},
     "output_type": "execute_result"
    }
   ],
   "source": [
    "# Round the number 123.45 to the nearest integer.\n",
    "round(123.45)"
   ]
  },
  {
   "cell_type": "markdown",
   "metadata": {},
   "source": [
    "A **method** is a function associated to an object. \n",
    "Basically, it provides a way for an object to know functions about themselves.\n",
    "\n",
    "For example, we can change the string `s` to upper case using the `.upper()` method\n",
    "\n",
    "---\n",
    "\n",
    "Un **método** es una función asociada a un objeto.\n",
    "Básicamente, proporciona una forma para que un objeto conozca funciones sobre sí mismo.\n",
    "\n",
    "Por ejemplo, podemos cambiar la cadena `s` a mayúsculas usando el método `.upper ()`"
   ]
  },
  {
   "cell_type": "code",
   "execution_count": 5,
   "metadata": {},
   "outputs": [
    {
     "data": {
      "text/plain": [
       "'AGUSTINA'"
      ]
     },
     "execution_count": 5,
     "metadata": {},
     "output_type": "execute_result"
    }
   ],
   "source": [
    "name = \"Agustina\"\n",
    "\n",
    "name.upper()"
   ]
  },
  {
   "cell_type": "markdown",
   "metadata": {},
   "source": [
    "### Writing functions / Escribiendo funciones\n",
    "\n",
    "We can define our own functions with the keyword `def` followed by the name of the function and by parentheses with the parameter(s) inside.\n",
    "\n",
    "---\n",
    "\n",
    "Podemos definir nuestras propias funciones con la palabra clave `def` seguida del nombre de la función y entre paréntesis con el (los) parámetro (s) dentro.\n"
   ]
  },
  {
   "cell_type": "code",
   "execution_count": 13,
   "metadata": {
    "id": "G9aysBVVo3p9"
   },
   "outputs": [],
   "source": [
    "def addition(m, n):\n",
    "    value = m + n \n",
    "    return value"
   ]
  },
  {
   "cell_type": "code",
   "execution_count": 14,
   "metadata": {},
   "outputs": [
    {
     "data": {
      "text/plain": [
       "15"
      ]
     },
     "execution_count": 14,
     "metadata": {},
     "output_type": "execute_result"
    }
   ],
   "source": [
    "# Here, we call the function based on the name and provide two arguments\n",
    "addition(5, 10)"
   ]
  },
  {
   "cell_type": "markdown",
   "metadata": {
    "id": "7ZpyLHQvo3qB"
   },
   "source": [
    "**Functions** always start with the header `def`. \n",
    "Following this header is *the name of the function* (`addition`), which is what you will use to call the function.\n",
    "Within the parentheses are the *arguments* (`m, n`) for the function. \n",
    "Within the function, you create your series of instructions and use `return` to return the final value that you want from said function. \n",
    "\n",
    "----\n",
    "\n",
    "**Las funciones** siempre comienzan con el encabezado `def`.\n",
    "Después de este encabezado está *el nombre de la función* (`addición`), que es lo que se usará para llamar a la función.\n",
    "Entre paréntesis están los *argumentos* (`m, n`) para la función.\n",
    "Dentro de la función, creas tu serie de instrucciones y usas `return` para devolver el valor final que deseas de dicha función."
   ]
  },
  {
   "cell_type": "code",
   "execution_count": 15,
   "metadata": {},
   "outputs": [],
   "source": [
    "def saludo(nombre):\n",
    "    print(\"Hola, \" + nombre  + \"!\")"
   ]
  },
  {
   "cell_type": "code",
   "execution_count": 16,
   "metadata": {},
   "outputs": [
    {
     "name": "stdout",
     "output_type": "stream",
     "text": [
      "Hola, Mariana!\n"
     ]
    }
   ],
   "source": [
    "saludo(\"Mariana\")"
   ]
  },
  {
   "cell_type": "markdown",
   "metadata": {},
   "source": [
    "Functions don't necessarily have to return a value. \n",
    "If they don't, they return a `None `variable (which means no value).\n",
    "\n",
    "---\n",
    "\n",
    "Las funciones no necesariamente tienen que devolver un valor.\n",
    "Si no lo hacen, devuelven una variable `None` (lo que significa que no hay valor)."
   ]
  },
  {
   "cell_type": "code",
   "execution_count": 17,
   "metadata": {},
   "outputs": [
    {
     "name": "stdout",
     "output_type": "stream",
     "text": [
      "Hola, Santi!\n"
     ]
    }
   ],
   "source": [
    "resultado = saludo(\"Santi\")"
   ]
  },
  {
   "cell_type": "code",
   "execution_count": 18,
   "metadata": {},
   "outputs": [
    {
     "name": "stdout",
     "output_type": "stream",
     "text": [
      "None\n"
     ]
    }
   ],
   "source": [
    "print(resultado)"
   ]
  },
  {
   "cell_type": "code",
   "execution_count": 19,
   "metadata": {},
   "outputs": [],
   "source": [
    "def power(x):\n",
    "    power_2 = x ** 2\n",
    "    power_3 = x ** 3\n",
    "    return power_2, power_3"
   ]
  },
  {
   "cell_type": "code",
   "execution_count": 20,
   "metadata": {},
   "outputs": [
    {
     "data": {
      "text/plain": [
       "(4, 8)"
      ]
     },
     "execution_count": 20,
     "metadata": {},
     "output_type": "execute_result"
    }
   ],
   "source": [
    "power(2)"
   ]
  },
  {
   "cell_type": "markdown",
   "metadata": {},
   "source": [
    "When returning multiple values, the functions group them into `tuples`.\n",
    "\n",
    "---\n",
    "\n",
    "Cuando se devuelven varios valores, las funciones los agrupan en `tuplas`."
   ]
  },
  {
   "cell_type": "markdown",
   "metadata": {},
   "source": [
    "### Formative assessment 2\n",
    "\n",
    "Why will this code seal give us an error? / ¿Porqué esta celda de código nos dará un error?\n",
    "\n",
    "```\n",
    "def another_function\n",
    "  print(\"Syntax errors are annoying.\")\n",
    "   print(\"But at least python tells us about them!\")\n",
    "  print(\"So they are usually not too hard to fix.\")\n",
    "```\n"
   ]
  },
  {
   "cell_type": "markdown",
   "metadata": {
    "id": "944uwwPso3qC"
   },
   "source": [
    "### Formative assessment 3\n",
    "\n",
    "Create a function that meets this following criteria:\n",
    "\n",
    "* Name the function `operation` that takes two arguments.\n",
    "* Multiply the two arguments.\n",
    "* Takes the multiplied value and divides it by 2.\n",
    "* Takes the final value and add 5. \n",
    "* Return the final value.\n",
    "\n",
    "---\n",
    "\n",
    "Cree una función que cumpla con los siguientes criterios:\n",
    "\n",
    "* Que la funcion se llame \"operation\" que tenga dos argumentos.\n",
    "* Que multiplique los dos argumentos.\n",
    "* Que tome el valor multiplicado y lo divida por 2.\n",
    "* Que toma el valor final y le sume 5.\n",
    "* Que devuelva el valor final. "
   ]
  },
  {
   "cell_type": "code",
   "execution_count": 21,
   "metadata": {
    "collapsed": true,
    "id": "45ecxcQ3o3qE",
    "jupyter": {
     "outputs_hidden": true,
     "source_hidden": true
    },
    "tags": []
   },
   "outputs": [
    {
     "data": {
      "text/plain": [
       "17.5"
      ]
     },
     "execution_count": 21,
     "metadata": {},
     "output_type": "execute_result"
    }
   ],
   "source": [
    "# Solution\n",
    "def operation(m, n):\n",
    "    first_value = m * n\n",
    "    second_value = first_value / 2\n",
    "    third_value = second_value + 5\n",
    "    return third_value\n",
    "\n",
    "operation(5,5)"
   ]
  },
  {
   "cell_type": "markdown",
   "metadata": {
    "id": "AAlxXzd-o3qF"
   },
   "source": [
    "We can also use this return value within a print statement, for example:"
   ]
  },
  {
   "cell_type": "code",
   "execution_count": 22,
   "metadata": {
    "id": "1sX-ZmGlo3qG",
    "tags": []
   },
   "outputs": [
    {
     "name": "stdout",
     "output_type": "stream",
     "text": [
      "The value this function returns, is 15.0\n"
     ]
    }
   ],
   "source": [
    "print('The value this function returns, is', operation(10,2))"
   ]
  },
  {
   "cell_type": "markdown",
   "metadata": {},
   "source": [
    "### Good Practices: Documentation / Buenas Prácticas: Documentación\n",
    "\n",
    "Many times we write functions with the intention of reusing them in the future. \n",
    "That is why it is important to add a documentation detailing what performs the function, if you have to take special care, etc.\n",
    "\n",
    "---\n",
    "\n",
    "Muchas veces escribimos funciones con la intención de reutilizarlas en el futuro. Es por eso que es importante agregarles una documentación detallando qué realiza la función, si hay que tener cuidados especiales, etc."
   ]
  },
  {
   "cell_type": "code",
   "execution_count": 23,
   "metadata": {},
   "outputs": [],
   "source": [
    "def addition(x, y):\n",
    "    \"\"\"\n",
    "    It adds two arguments.\n",
    "    \n",
    "    Parameters\n",
    "    ----------\n",
    "    x: float or array\n",
    "        First adding.\n",
    "    y: foat or array\n",
    "       Second adding. \n",
    "    \n",
    "    Returns\n",
    "    -------\n",
    "    value: float or array\n",
    "        addition result.\n",
    "    \"\"\"\n",
    "    value = x + y\n",
    "    return value\n",
    "    "
   ]
  },
  {
   "cell_type": "code",
   "execution_count": 24,
   "metadata": {},
   "outputs": [
    {
     "data": {
      "text/plain": [
       "\u001b[0;31mSignature:\u001b[0m \u001b[0maddition\u001b[0m\u001b[0;34m(\u001b[0m\u001b[0mx\u001b[0m\u001b[0;34m,\u001b[0m \u001b[0my\u001b[0m\u001b[0;34m)\u001b[0m\u001b[0;34m\u001b[0m\u001b[0;34m\u001b[0m\u001b[0m\n",
       "\u001b[0;31mDocstring:\u001b[0m\n",
       "It adds two arguments.\n",
       "\n",
       "Parameters\n",
       "----------\n",
       "x: float or array\n",
       "    First adding.\n",
       "y: foat or array\n",
       "   Second adding. \n",
       "\n",
       "Returns\n",
       "-------\n",
       "value: float or array\n",
       "    addition result.\n",
       "\u001b[0;31mFile:\u001b[0m      /tmp/ipykernel_16114/969179932.py\n",
       "\u001b[0;31mType:\u001b[0m      function\n"
      ]
     },
     "metadata": {},
     "output_type": "display_data"
    }
   ],
   "source": [
    "addition?"
   ]
  },
  {
   "cell_type": "markdown",
   "metadata": {},
   "source": [
    "### Type of Arguments / Tipo de Argumentos\n",
    "\n",
    "Arguments are those values that the function takes as input to carry out its tasks. \n",
    "\n",
    "There are different types of arguments for a function.\n",
    "The ones we've seen so far are **positional arguments**, which are required and their values are assigned by their position. \n",
    "That is, the function expects us to pass values for those arguments every time we call it and assigns the values to internal variables based on the position in which we pass them.\n",
    "\n",
    "----\n",
    "\n",
    "Los argumentos son aquellos valores que la función toma como entrada para llevar a cabo sus tareas.\n",
    "\n",
    "Existen diferentes tipos de argumentos para una función.\n",
    "Los que vimos hasta ahora son **argumentos posicionales**, que son obligatorios y sus valores son asignados por su posición.\n",
    "Es decir, la función espera que le pasemos valores para esos argumentos cada vez que la llamamos y asigna los valores a variables internas en función de la posición en la que los pasamos."
   ]
  },
  {
   "cell_type": "code",
   "execution_count": 25,
   "metadata": {},
   "outputs": [],
   "source": [
    "def division(y, x):\n",
    "    return y / x"
   ]
  },
  {
   "cell_type": "code",
   "execution_count": null,
   "metadata": {},
   "outputs": [],
   "source": [
    "division()"
   ]
  },
  {
   "cell_type": "code",
   "execution_count": 27,
   "metadata": {},
   "outputs": [
    {
     "name": "stdout",
     "output_type": "stream",
     "text": [
      "0.3333333333333333\n",
      "3.0\n"
     ]
    }
   ],
   "source": [
    "print(division(4, 12))\n",
    "print(division(12, 4))"
   ]
  },
  {
   "cell_type": "markdown",
   "metadata": {},
   "source": [
    "However, there are other types of arguments, the **default arguments**.\n",
    "These are optional, but by not specifying them they assume a default value. \n",
    "We can identify them since in the definition of the functions they are accompanied by a `=` and a default value.\n",
    "\n",
    "----\n",
    "\n",
    "Sin embargo existen otro tipo de argumentos, los **argumentos default**.\n",
    "Estos son opcionales, pero al no especificarlos asumen un valor por default. \n",
    "Podemos identificarlos ya que en la definición de las funciones están acompañados de un `=` y un valor por defecto."
   ]
  },
  {
   "cell_type": "code",
   "execution_count": 28,
   "metadata": {},
   "outputs": [],
   "source": [
    "def power(x, power=2):\n",
    "    return x**power"
   ]
  },
  {
   "cell_type": "code",
   "execution_count": 29,
   "metadata": {},
   "outputs": [
    {
     "data": {
      "text/plain": [
       "9"
      ]
     },
     "execution_count": 29,
     "metadata": {},
     "output_type": "execute_result"
    }
   ],
   "source": [
    "power(3)"
   ]
  },
  {
   "cell_type": "code",
   "execution_count": 30,
   "metadata": {
    "tags": []
   },
   "outputs": [
    {
     "name": "stdout",
     "output_type": "stream",
     "text": [
      "8\n",
      "8\n"
     ]
    }
   ],
   "source": [
    "print(power(2, 3))\n",
    "print(power(2, power=3))"
   ]
  },
  {
   "cell_type": "markdown",
   "metadata": {},
   "source": [
    "## Homework"
   ]
  },
  {
   "cell_type": "markdown",
   "metadata": {},
   "source": [
    "### 1° Task\n",
    "\n",
    "Convert the following list of temperatures in Fahrenheit to Celsius with a for loop.\n",
    "\n",
    "`temperatures_f = [30.2, 41, 115.7, 77, 130.46, 59, 86, 63.5, 23]`\n",
    "\n",
    "Help: It may be useful to create an empty list where we store the temperature data in Celsius and add values to it with the append method.\n",
    "\n",
    "2. Use for loops and conditionals to generate a temperature alert for low temperatures (less than 0°C), very high temperatures (greater than 35°C) and otherwise they will be normal temperatures.\n",
    "\n",
    "3. Generate a function that does steps 1 and 2 all together.\n",
    "\n",
    "---\n",
    "\n",
    "1. Convierta la siguiente lista de temperaturas en Fahrenheit a grados Centígrados unado un for loop.\n",
    "\n",
    "`temperaturas_f = [30.2, 41, 115.7, 77, 130.46, 59, 86, 63.5, 23]`\n",
    "\n",
    "Ayuda: Quizás sea útil crear una lista vacía donde guardemos los datos de temperatura en Celsius e ir agregándole valores con el método append\n",
    "\n",
    "2. Utilice for loops y condicionales para genera una alerta para temperaturas bajas (menores a 0° C), temperaturas muy altas (mayores a 35°C) y sino seran temperaturas normales.\n",
    "\n",
    "3. Genere una funcion que haga los pasos 1 y 2 todos juntos."
   ]
  },
  {
   "cell_type": "markdown",
   "metadata": {},
   "source": [
    "### 2° Task\n",
    "\n",
    "Create a function that does the following:\n",
    "* Name of the function is `multiplication``.\n",
    "* Has 3 arguments (x,y,z).\n",
    "* Multiplies the three arguments.\n",
    "* Returns the result.\n",
    "\n",
    "Using this function, create a triple nested forloop that multiples these three lists:\n",
    "* a = [1, 2, 3, 4, 5]\n",
    "* b = [2, 3, 4, 5, 6]\n",
    "* c = [6, 7, 8, 9, 10]\n",
    "\n",
    "Print the results and explain what the nested forloop is doing. \n",
    "\n",
    "---\n",
    "\n",
    "Cree una función que haga lo siguiente:\n",
    "* El nombre de la función es multiplicación.\n",
    "* Tiene 3 argumentos `(x, y, z).`\n",
    "* Multiplica los tres argumentos.\n",
    "* Devuelve el resultado.\n",
    "\n",
    "Con esta función, cree un `forloop` anidado que multiplique estas tres listas:\n",
    "* a = [1, 2, 3, 4, 5]\n",
    "* b = [2, 3, 4, 5, 6]\n",
    "* c = [6, 7, 8, 9, 10]\n",
    "\n",
    "Imprima los resultados y explique qué está haciendo el forloop anidado."
   ]
  },
  {
   "cell_type": "markdown",
   "metadata": {},
   "source": [
    "### 3° Task\n",
    "\n",
    "In the previous notebook we repeatedly graphed a zero-centered Gaussian function by modifying the sigma parameter:\n",
    "\n",
    "$$ g(x) = \\frac{1}{\\sigma\\sqrt{2\\pi}} e^{ -\\frac{1}{2}\\left(\\frac{x}{\\sigma}\\right)^2}$$\n",
    "\n",
    "This task could have been easier if we had encapsulated the Gaussian function within a Python function.\n",
    "In addition, defining functions to perform calculations helps us prevent mistake.\n",
    "Especially, if we create a function with good documentation that we can use in the future.\n",
    "These habits (among others) are part of what is known as good practices for software development.\n",
    "\n",
    "1. Write a function that evaluates the Gaussian function and returns its value.\n",
    "2. This function must be able to accept a value of $\\sigma$ as an argument, assuming it by default equal to 1.\n",
    "3. Add a detailed documentation of the Gaussian function. What does the function do? What arguments does it support? What values does it return?\n",
    "4. Select at least three different values of $\\sigma$ and plot the Gaussians using a for loop.\n",
    "\n",
    "**Bonus track**\n",
    "\n",
    "The generalized expression of the Gaussian function is:\n",
    "\n",
    "$$ g(x) = \\frac{1}{\\sigma\\sqrt{2\\pi}} e^{ -\\frac{1}{2}\\left(\\frac{x-\\mu}{\\sigma}\\right)^2}$$\n",
    "\n",
    "Where $ \\ mu $ indicates the abscissa corresponding to the peak of the function.\n",
    "\n",
    "1. Generalize the above function to allow an additional argument mu, with a default value equal to 0.\n",
    "2. Update the function documentation for the new value.\n",
    "3. Select at least three different values of $ \\ mu $ and plot the Gaussians for the same value of $ \\ sigma $.\n",
    "\n",
    "---\n",
    "\n",
    "En el notebook anterior graficamos repetidas veces una función gaussiana centrada en cero modificando el parámetro sigma:\n",
    "\n",
    "$$ g(x) = \\frac{1}{\\sigma\\sqrt{2\\pi}} e^{ -\\frac{1}{2}\\left(\\frac{x}{\\sigma}\\right)^2}$$\n",
    "\n",
    "Esta tarea podría haber sido más fácil si hubieramos encapsulado la función gaussiana dentro de una función de Python.\n",
    "Además, definir funciones para realizar cálculos nos ayuda a prevenir errores.\n",
    "Especialmente si creamos una función con buena documentación que podemos usar en el futuro.\n",
    "Estos hábitos (entre otros) forman parte de lo que se conoce como buenas prácticas para el desarrollo de software.\n",
    "\n",
    "1. Escribir una función que evalúe la función Gaussiana y devuelva su valor.\n",
    "2. Dicha función debe poder admitir un valor de $\\sigma$ como argumento, asumiéndolo por defecto igual a 1.\n",
    "3. Añadir una documentación detallada de la función gaussiana. ¿Qué hace la función? ¿Qué argumentos admite? ¿Qué valores devuelve?\n",
    "4. Seleccionar al menos tres valores diferentes de $\\sigma$ y graficar las gaussianas usando un for loop.\n",
    "\n",
    "**Bonus track**\n",
    "\n",
    "La expresión generalizada de la función gaussiana es:\n",
    "\n",
    "$$ g(x) = \\frac{1}{\\sigma\\sqrt{2\\pi}} e^{ -\\frac{1}{2}\\left(\\frac{x-\\mu}{\\sigma}\\right)^2}$$\n",
    "\n",
    "Donde $\\mu$ indica la abscisa correpondiente al pico de la función.\n",
    "\n",
    "1. Generalice la función anterior para que admita un argumento adicional mu, con valor por defecto igual a 0.\n",
    "2. Actualice la documentación de la función para el nuevo valor.\n",
    "3. Seleccione al menos tres valores diferentes de $\\mu$ y grafique las gaussianas para un mismo valor de $\\sigma$.\n"
   ]
  },
  {
   "cell_type": "markdown",
   "metadata": {},
   "source": [
    "## Extra material to keep learning / Material extra para seguir aprendiendo\n",
    "\n",
    "* From Programming with Pythonb by Software carpentry: \n",
    "    * [Repeating Actions with Loops](https://swcarpentry.github.io/python-novice-inflammation/05-loop/index.html)\n",
    "    * [Making Choices](https://swcarpentry.github.io/python-novice-inflammation/07-cond/index.html)\n",
    "    * [Creating Functions](https://swcarpentry.github.io/python-novice-inflammation/08-func/index.html#programming-with-python)\n",
    "\n",
    "* [Plotting and Programming in Python](https://swcarpentry.github.io/python-novice-gapminder/) by Software Carpentry\n",
    "* [Introduction to python](https://johnfoster.pge.utexas.edu/numerical-methods-book/PythonIntro.html)\n",
    "* [Geo-Python](https://geo-python-site.readthedocs.io/en/latest/index.html)"
   ]
  },
  {
   "cell_type": "code",
   "execution_count": null,
   "metadata": {},
   "outputs": [],
   "source": []
  }
 ],
 "metadata": {
  "kernelspec": {
   "display_name": "Python 3 (ipykernel)",
   "language": "python",
   "name": "python3"
  },
  "language_info": {
   "codemirror_mode": {
    "name": "ipython",
    "version": 3
   },
   "file_extension": ".py",
   "mimetype": "text/x-python",
   "name": "python",
   "nbconvert_exporter": "python",
   "pygments_lexer": "ipython3",
   "version": "3.9.7"
  },
  "toc-showcode": false
 },
 "nbformat": 4,
 "nbformat_minor": 4
}
